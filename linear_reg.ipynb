{
 "cells": [
  {
   "cell_type": "markdown",
   "metadata": {},
   "source": [
    "# <center>Multivariate Linear Regression on House Pricing Data</center>"
   ]
  },
  {
   "cell_type": "markdown",
   "metadata": {},
   "source": [
    "\n",
    "### <center>Source: Kaggle - House Prices: Advanced Regression Techniques\n",
    "<center> https://www.kaggle.com/c/house-prices-advanced-regression-techniques/overview\n"
   ]
  },
  {
   "cell_type": "code",
   "execution_count": 1,
   "metadata": {},
   "outputs": [],
   "source": [
    "import pandas as pd\n",
    "import numpy as np\n",
    "import seaborn as sns\n",
    "import pickle\n",
    "import matplotlib.pyplot as plt\n",
    "\n",
    "from sklearn.preprocessing import LabelBinarizer\n",
    "from sklearn.linear_model import LinearRegression\n",
    "\n",
    "\n",
    "%load_ext autoreload\n",
    "%autoreload 2"
   ]
  },
  {
   "cell_type": "markdown",
   "metadata": {},
   "source": [
    "## Data Engineering"
   ]
  },
  {
   "cell_type": "code",
   "execution_count": 2,
   "metadata": {},
   "outputs": [],
   "source": [
    "traindf = pd.read_csv('train.csv')"
   ]
  },
  {
   "cell_type": "code",
   "execution_count": 3,
   "metadata": {},
   "outputs": [],
   "source": [
    "drop_list = ['Exterior2nd', 'YearRemodAdd', 'LotShape', 'MSSubClass', 'TotalBsmtSF', 'Alley', 'GarageYrBlt', 'PoolQC', 'FireplaceQu', 'MiscFeature', 'MiscFeature']"
   ]
  },
  {
   "cell_type": "markdown",
   "metadata": {},
   "source": [
    "#### Moving Sale Price over to targetdf"
   ]
  },
  {
   "cell_type": "code",
   "execution_count": 4,
   "metadata": {},
   "outputs": [],
   "source": [
    "targetdf = traindf[['Id', 'SalePrice']]\n",
    "traindf.drop('SalePrice', axis=1, inplace=True)"
   ]
  },
  {
   "cell_type": "markdown",
   "metadata": {},
   "source": [
    "#### Removing problematic columns"
   ]
  },
  {
   "cell_type": "code",
   "execution_count": 5,
   "metadata": {},
   "outputs": [],
   "source": [
    "traindf = traindf.drop(drop_list, axis=1)"
   ]
  },
  {
   "cell_type": "markdown",
   "metadata": {},
   "source": [
    "#### Seperating the catagorical and numerical data"
   ]
  },
  {
   "cell_type": "code",
   "execution_count": 6,
   "metadata": {},
   "outputs": [],
   "source": [
    "traindf_cat = traindf[['Id', 'MSZoning']].copy()\n",
    "traindf.drop('MSZoning', axis=1, inplace=True)"
   ]
  },
  {
   "cell_type": "code",
   "execution_count": 7,
   "metadata": {},
   "outputs": [],
   "source": [
    "lotfront = traindf.LotFrontage.mean()"
   ]
  },
  {
   "cell_type": "markdown",
   "metadata": {},
   "source": [
    "Replacing NA values with the mean value for the column"
   ]
  },
  {
   "cell_type": "code",
   "execution_count": 8,
   "metadata": {},
   "outputs": [],
   "source": [
    "traindf.LotFrontage.fillna(value=lotfront, inplace=True)"
   ]
  },
  {
   "cell_type": "code",
   "execution_count": 9,
   "metadata": {},
   "outputs": [],
   "source": [
    "traindf_cat['Street'] = traindf.Street\n",
    "traindf.drop('Street', axis=1, inplace=True)"
   ]
  },
  {
   "cell_type": "code",
   "execution_count": 10,
   "metadata": {},
   "outputs": [],
   "source": [
    "traindf_cat['LandContour'] = traindf.LandContour\n",
    "traindf.drop('LandContour', axis=1, inplace=True)"
   ]
  },
  {
   "cell_type": "code",
   "execution_count": 11,
   "metadata": {},
   "outputs": [],
   "source": [
    "traindf_cat['Utilities'] = traindf.Utilities\n",
    "traindf.drop('Utilities', axis=1, inplace=True)"
   ]
  },
  {
   "cell_type": "code",
   "execution_count": 12,
   "metadata": {},
   "outputs": [],
   "source": [
    "traindf_cat['LotConfig'] = traindf.LotConfig\n",
    "traindf.drop('LotConfig', axis=1, inplace=True)"
   ]
  },
  {
   "cell_type": "code",
   "execution_count": 13,
   "metadata": {},
   "outputs": [],
   "source": [
    "traindf_cat['LandSlope'] = traindf.LandSlope\n",
    "traindf.drop('LandSlope', axis=1, inplace=True)"
   ]
  },
  {
   "cell_type": "code",
   "execution_count": 14,
   "metadata": {},
   "outputs": [],
   "source": [
    "traindf_cat['Neighborhood'] = traindf.Neighborhood\n",
    "traindf.drop('Neighborhood', axis=1, inplace=True)"
   ]
  },
  {
   "cell_type": "code",
   "execution_count": 15,
   "metadata": {},
   "outputs": [],
   "source": [
    "traindf_cat['Condition1'] = traindf.Condition1\n",
    "traindf.drop('Condition1', axis=1, inplace=True)\n",
    "\n",
    "traindf_cat['Condition2'] = traindf.Condition2\n",
    "traindf.drop('Condition2', axis=1, inplace=True)"
   ]
  },
  {
   "cell_type": "code",
   "execution_count": 16,
   "metadata": {},
   "outputs": [],
   "source": [
    "traindf_cat['BldgType'] = traindf.BldgType\n",
    "traindf.drop('BldgType', axis=1, inplace=True)"
   ]
  },
  {
   "cell_type": "code",
   "execution_count": 17,
   "metadata": {},
   "outputs": [],
   "source": [
    "traindf_cat['HouseStyle'] = traindf.HouseStyle\n",
    "traindf.drop('HouseStyle', axis=1, inplace=True)"
   ]
  },
  {
   "cell_type": "code",
   "execution_count": 18,
   "metadata": {},
   "outputs": [],
   "source": [
    "traindf_cat['RoofStyle'] = traindf.RoofStyle\n",
    "traindf.drop('RoofStyle', axis=1, inplace=True)"
   ]
  },
  {
   "cell_type": "code",
   "execution_count": 19,
   "metadata": {},
   "outputs": [],
   "source": [
    "traindf_cat['RoofMatl'] = traindf.RoofMatl\n",
    "traindf.drop('RoofMatl', axis=1, inplace=True)"
   ]
  },
  {
   "cell_type": "code",
   "execution_count": 20,
   "metadata": {},
   "outputs": [],
   "source": [
    "traindf_cat['Exterior1st'] = traindf.Exterior1st\n",
    "traindf.drop('Exterior1st', axis=1, inplace=True)\n",
    "\n",
    "#traindf_cat['Exterior2nd'] = traindf.Exterior2nd\n",
    "#traindf.drop('Exterior2nd', axis=1, inplace=True)"
   ]
  },
  {
   "cell_type": "code",
   "execution_count": 21,
   "metadata": {},
   "outputs": [],
   "source": [
    "traindf.MasVnrType.fillna(value='None', inplace=True)\n",
    "traindf_cat['MasVnrType'] = traindf.MasVnrType\n",
    "traindf.drop('MasVnrType', axis=1, inplace=True)"
   ]
  },
  {
   "cell_type": "code",
   "execution_count": 22,
   "metadata": {},
   "outputs": [],
   "source": [
    "traindf.ExterQual = traindf.ExterQual.replace({'Ex': 10., 'Gd':7., 'TA':4., 'Fa':2, 'Po':1.}, value=None)"
   ]
  },
  {
   "cell_type": "code",
   "execution_count": 23,
   "metadata": {},
   "outputs": [],
   "source": [
    "traindf.ExterCond = traindf.ExterCond.replace({'Ex': 10., 'Gd':7., 'TA':4., 'Fa':2, 'Po':1.}, value=None)"
   ]
  },
  {
   "cell_type": "code",
   "execution_count": 24,
   "metadata": {},
   "outputs": [],
   "source": [
    "traindf_cat['Foundation'] = traindf.Foundation\n",
    "traindf.drop('Foundation', axis=1, inplace=True)"
   ]
  },
  {
   "cell_type": "code",
   "execution_count": 25,
   "metadata": {},
   "outputs": [],
   "source": [
    "traindf.MasVnrArea.fillna(value=0.00, inplace=True) "
   ]
  },
  {
   "cell_type": "code",
   "execution_count": 26,
   "metadata": {},
   "outputs": [],
   "source": [
    "traindf.BsmtCond = traindf.BsmtCond.replace({'Ex': 10, 'Gd':7, 'TA':4, 'Fa':2, 'Po':1}, value=None)\n",
    "traindf.BsmtCond.fillna(value=0, inplace=True)"
   ]
  },
  {
   "cell_type": "code",
   "execution_count": 27,
   "metadata": {},
   "outputs": [],
   "source": [
    "traindf.BsmtFinType1 = traindf.BsmtFinType1.replace({'GLQ': 10, 'ALQ':7, 'BLQ':5, 'Rec':4, 'LwQ':2, 'Unf':1}, value=None)\n",
    "traindf.BsmtFinType1.fillna(value=0, inplace=True)"
   ]
  },
  {
   "cell_type": "code",
   "execution_count": 28,
   "metadata": {},
   "outputs": [],
   "source": [
    "traindf.BsmtExposure = traindf.BsmtExposure.replace({'Gd':10, 'Av': 7, 'Mn':2, 'No':1}, value=None)\n",
    "traindf.BsmtExposure.fillna(value=0, inplace=True)"
   ]
  },
  {
   "cell_type": "code",
   "execution_count": 29,
   "metadata": {},
   "outputs": [],
   "source": [
    "traindf.BsmtQual = traindf.BsmtQual.replace({'Ex':10, 'Gd':7, 'TA': 4, 'Fa':2, 'Po':1}, value=None)\n",
    "traindf.BsmtQual.fillna(value=0, inplace=True)"
   ]
  },
  {
   "cell_type": "code",
   "execution_count": 30,
   "metadata": {},
   "outputs": [],
   "source": [
    "traindf.BsmtFinType2 = traindf.BsmtFinType2.replace({'GLQ': 10, 'ALQ':7, 'BLQ':5, 'Rec':5, 'LwQ':2, 'Unf':1}, value=None)\n",
    "traindf.BsmtFinType2.fillna(value=0, inplace=True)"
   ]
  },
  {
   "cell_type": "code",
   "execution_count": 31,
   "metadata": {},
   "outputs": [],
   "source": [
    "traindf_cat['Heating'] = traindf.Heating\n",
    "traindf.drop('Heating', axis=1, inplace=True)"
   ]
  },
  {
   "cell_type": "code",
   "execution_count": 32,
   "metadata": {},
   "outputs": [],
   "source": [
    "traindf.HeatingQC = traindf.HeatingQC.replace({'Ex': 10, 'Gd':7, 'TA':4, 'Fa':2, 'Po':1}, value=None)\n",
    "traindf.HeatingQC.fillna(value=0, inplace=True)"
   ]
  },
  {
   "cell_type": "code",
   "execution_count": 33,
   "metadata": {},
   "outputs": [],
   "source": [
    "traindf_cat['CentralAir'] = traindf.CentralAir\n",
    "traindf.drop('CentralAir', axis=1, inplace=True)"
   ]
  },
  {
   "cell_type": "code",
   "execution_count": 34,
   "metadata": {},
   "outputs": [],
   "source": [
    "traindf_cat['Electrical'] = traindf.Electrical\n",
    "traindf.drop('Electrical', axis=1, inplace=True)\n",
    "traindf_cat.Electrical.fillna(value='SBrkr', inplace=True)"
   ]
  },
  {
   "cell_type": "code",
   "execution_count": 35,
   "metadata": {},
   "outputs": [],
   "source": [
    "traindf.KitchenQual = traindf.KitchenQual.replace({'Ex': 10, 'Gd':7, 'TA':5, 'Fa':3, 'Po':1}, value=None)\n",
    "traindf.KitchenQual.fillna(value=1, inplace=True)"
   ]
  },
  {
   "cell_type": "code",
   "execution_count": 36,
   "metadata": {},
   "outputs": [],
   "source": [
    "traindf_cat['Functional'] = traindf.Functional\n",
    "traindf.drop('Functional', axis=1, inplace=True)"
   ]
  },
  {
   "cell_type": "code",
   "execution_count": 37,
   "metadata": {},
   "outputs": [],
   "source": [
    "traindf_cat['GarageType'] = traindf.GarageType\n",
    "traindf.drop('GarageType', axis=1, inplace=True)\n",
    "traindf_cat.GarageType.fillna(value='NoGarage', inplace=True)"
   ]
  },
  {
   "cell_type": "code",
   "execution_count": 38,
   "metadata": {},
   "outputs": [],
   "source": [
    "traindf.GarageFinish = traindf.GarageFinish.replace({'Fin': 7, 'RFn':4, 'Unf':1}, value=None)\n",
    "traindf.GarageFinish.fillna(value=0., inplace=True)"
   ]
  },
  {
   "cell_type": "code",
   "execution_count": 39,
   "metadata": {},
   "outputs": [],
   "source": [
    "traindf.GarageQual = traindf.GarageQual.replace({'Ex': 10, 'Gd':7, 'TA':4, 'Fa':2, 'Po':1}, value=None)\n",
    "traindf.GarageQual.fillna(value=0, inplace=True)"
   ]
  },
  {
   "cell_type": "code",
   "execution_count": 40,
   "metadata": {},
   "outputs": [],
   "source": [
    "traindf.GarageCond = traindf.GarageCond.replace({'Ex': 10, 'Gd':7, 'TA':4, 'Fa':2, 'Po':1}, value=None)\n",
    "traindf.GarageCond.fillna(value=0, inplace=True)"
   ]
  },
  {
   "cell_type": "code",
   "execution_count": 41,
   "metadata": {},
   "outputs": [],
   "source": [
    "traindf_cat['PavedDrive'] = traindf.PavedDrive\n",
    "traindf.drop('PavedDrive', axis=1, inplace=True)"
   ]
  },
  {
   "cell_type": "code",
   "execution_count": 42,
   "metadata": {},
   "outputs": [],
   "source": [
    "traindf_cat['Fence'] = traindf.Fence\n",
    "traindf.drop('Fence', axis=1, inplace=True)\n",
    "traindf_cat.fillna(value='NoFence', inplace=True)"
   ]
  },
  {
   "cell_type": "code",
   "execution_count": 43,
   "metadata": {},
   "outputs": [],
   "source": [
    "traindf_cat['MoSold'] = traindf.MoSold\n",
    "traindf.drop('MoSold', axis=1, inplace=True)"
   ]
  },
  {
   "cell_type": "code",
   "execution_count": 44,
   "metadata": {},
   "outputs": [],
   "source": [
    "traindf_cat['SaleType'] = traindf.SaleType\n",
    "traindf.drop('SaleType', axis=1, inplace=True)"
   ]
  },
  {
   "cell_type": "code",
   "execution_count": 45,
   "metadata": {},
   "outputs": [],
   "source": [
    "traindf_cat['SaleCondition'] = traindf.SaleCondition\n",
    "traindf.drop('SaleCondition', axis=1, inplace=True)"
   ]
  },
  {
   "cell_type": "code",
   "execution_count": 46,
   "metadata": {},
   "outputs": [],
   "source": [
    "traindf['ExterQual'] = traindf.ExterQual.astype(int)\n",
    "traindf['ExterCond'] = traindf.ExterCond.astype(int)"
   ]
  },
  {
   "cell_type": "code",
   "execution_count": 47,
   "metadata": {},
   "outputs": [],
   "source": [
    "## Add below to catagorical -- and add to .py module"
   ]
  },
  {
   "cell_type": "code",
   "execution_count": 48,
   "metadata": {},
   "outputs": [],
   "source": [
    "traindf_cat['BsmtFullBath'] = traindf.BsmtFullBath\n",
    "traindf.drop('BsmtFullBath', axis=1, inplace=True)"
   ]
  },
  {
   "cell_type": "code",
   "execution_count": 49,
   "metadata": {},
   "outputs": [],
   "source": [
    "traindf_cat['BsmtHalfBath'] = traindf.BsmtHalfBath\n",
    "traindf.drop('BsmtHalfBath', axis=1, inplace=True)"
   ]
  },
  {
   "cell_type": "code",
   "execution_count": 50,
   "metadata": {},
   "outputs": [],
   "source": [
    "traindf_cat['FullBath'] = traindf.FullBath\n",
    "traindf.drop('FullBath', axis=1, inplace=True)"
   ]
  },
  {
   "cell_type": "code",
   "execution_count": 51,
   "metadata": {},
   "outputs": [],
   "source": [
    "traindf_cat['HalfBath'] = traindf.HalfBath\n",
    "traindf.drop('HalfBath', axis=1, inplace=True)"
   ]
  },
  {
   "cell_type": "code",
   "execution_count": 52,
   "metadata": {},
   "outputs": [],
   "source": [
    "traindf_cat['BedroomAbvGr'] = traindf.BedroomAbvGr\n",
    "traindf.drop('BedroomAbvGr', axis=1, inplace=True)"
   ]
  },
  {
   "cell_type": "code",
   "execution_count": 53,
   "metadata": {},
   "outputs": [],
   "source": [
    "traindf_cat['KitchenAbvGr'] = traindf.KitchenAbvGr\n",
    "traindf.drop('KitchenAbvGr', axis=1, inplace=True)"
   ]
  },
  {
   "cell_type": "code",
   "execution_count": 54,
   "metadata": {},
   "outputs": [],
   "source": [
    "traindf_cat['TotRmsAbvGrd'] = traindf.TotRmsAbvGrd\n",
    "traindf.drop('TotRmsAbvGrd', axis=1, inplace=True)"
   ]
  },
  {
   "cell_type": "code",
   "execution_count": 55,
   "metadata": {},
   "outputs": [],
   "source": [
    "traindf_cat['Fireplaces'] = traindf.Fireplaces\n",
    "traindf.drop('Fireplaces', axis=1, inplace=True)"
   ]
  },
  {
   "cell_type": "code",
   "execution_count": 56,
   "metadata": {},
   "outputs": [],
   "source": [
    "traindf_cat['GarageCars'] = traindf.GarageCars\n",
    "traindf.drop('GarageCars', axis=1, inplace=True)"
   ]
  },
  {
   "cell_type": "code",
   "execution_count": 57,
   "metadata": {},
   "outputs": [],
   "source": [
    "traindf['ThreeSsnPorch'] = traindf['3SsnPorch']\n",
    "traindf.drop('3SsnPorch', axis=1, inplace=True)"
   ]
  },
  {
   "cell_type": "code",
   "execution_count": 58,
   "metadata": {},
   "outputs": [],
   "source": [
    "traindf['FirstFlrSF'] = traindf['1stFlrSF']\n",
    "traindf.drop('1stFlrSF', axis=1, inplace=True)"
   ]
  },
  {
   "cell_type": "code",
   "execution_count": 59,
   "metadata": {},
   "outputs": [],
   "source": [
    "traindf['SecondFlrSF'] = traindf['2ndFlrSF']\n",
    "traindf.drop('2ndFlrSF', axis=1, inplace=True)"
   ]
  },
  {
   "cell_type": "markdown",
   "metadata": {},
   "source": [
    "## Feature Scaling"
   ]
  },
  {
   "cell_type": "code",
   "execution_count": 60,
   "metadata": {},
   "outputs": [],
   "source": [
    "traindf_columns = traindf.columns"
   ]
  },
  {
   "cell_type": "code",
   "execution_count": 61,
   "metadata": {},
   "outputs": [],
   "source": [
    "from sklearn.preprocessing import StandardScaler\n",
    "from scipy import stats\n",
    "\n",
    "ss = StandardScaler()\n",
    "\n",
    "traindfss = pd.DataFrame(ss.fit_transform(traindf))\n",
    "traindfss.set_index(traindf.Id, inplace=True)\n",
    "traindfss.columns = traindf_columns \n",
    "# Remove outliers, i.e. data points outside of 2.5 standard deviations of the mean\n",
    "traindfss = traindfss[(np.abs(stats.zscore(traindfss)) < 2.5).all(axis=1)]\n",
    "#X_train_numeric.head()"
   ]
  },
  {
   "cell_type": "code",
   "execution_count": 62,
   "metadata": {},
   "outputs": [],
   "source": [
    "traindfss.drop('Id', axis=1, inplace=True)"
   ]
  },
  {
   "cell_type": "code",
   "execution_count": 63,
   "metadata": {},
   "outputs": [
    {
     "data": {
      "text/plain": [
       "Index(['LotFrontage', 'LotArea', 'OverallQual', 'OverallCond', 'YearBuilt',\n",
       "       'MasVnrArea', 'ExterQual', 'ExterCond', 'BsmtQual', 'BsmtCond',\n",
       "       'BsmtExposure', 'BsmtFinType1', 'BsmtFinSF1', 'BsmtFinType2',\n",
       "       'BsmtFinSF2', 'BsmtUnfSF', 'HeatingQC', 'LowQualFinSF', 'GrLivArea',\n",
       "       'KitchenQual', 'GarageFinish', 'GarageArea', 'GarageQual', 'GarageCond',\n",
       "       'WoodDeckSF', 'OpenPorchSF', 'EnclosedPorch', 'ScreenPorch', 'PoolArea',\n",
       "       'MiscVal', 'YrSold', 'ThreeSsnPorch', 'FirstFlrSF', 'SecondFlrSF'],\n",
       "      dtype='object')"
      ]
     },
     "execution_count": 63,
     "metadata": {},
     "output_type": "execute_result"
    }
   ],
   "source": [
    "traindfss.columns"
   ]
  },
  {
   "cell_type": "markdown",
   "metadata": {},
   "source": [
    "## Getting dummies"
   ]
  },
  {
   "cell_type": "code",
   "execution_count": 64,
   "metadata": {},
   "outputs": [
    {
     "data": {
      "text/plain": [
       "array(['VinylSd', 'MetalSd', 'Wd Sdng', 'HdBoard', 'BrkFace', 'WdShing',\n",
       "       'CemntBd', 'Plywood', 'AsbShng', 'Stucco', 'BrkComm', 'AsphShn',\n",
       "       'Stone', 'ImStucc', 'CBlock'], dtype=object)"
      ]
     },
     "execution_count": 64,
     "metadata": {},
     "output_type": "execute_result"
    }
   ],
   "source": [
    "traindf_cat.Exterior1st.unique()"
   ]
  },
  {
   "cell_type": "code",
   "execution_count": 65,
   "metadata": {},
   "outputs": [],
   "source": [
    "traindf_cat.HouseStyle= traindf_cat.HouseStyle.replace({'1.5Fin': '1.5_Fin', '1.5Unf': '1_5Unf', '2.5Unf':'2_5Unf', '2.5Fin':'2_5Fin'}, value=None)"
   ]
  },
  {
   "cell_type": "code",
   "execution_count": 66,
   "metadata": {},
   "outputs": [],
   "source": [
    "traindf_cat.Exterior1st= traindf_cat.Exterior1st.replace({'Wd Sdng': 'Wd_Sdng'}, value=None)"
   ]
  },
  {
   "cell_type": "code",
   "execution_count": 67,
   "metadata": {},
   "outputs": [],
   "source": [
    "traindf_cat.RoofMatl= traindf_cat.RoofMatl.replace({'Tar&Grv': 'TarGrv'}, value=None)"
   ]
  },
  {
   "cell_type": "code",
   "execution_count": 68,
   "metadata": {},
   "outputs": [],
   "source": [
    "cat_list = list(traindf_cat.columns)[1:]"
   ]
  },
  {
   "cell_type": "code",
   "execution_count": 69,
   "metadata": {},
   "outputs": [],
   "source": [
    "traindf_cat_bined= pd.get_dummies(traindf_cat, columns=cat_list, drop_first=True)"
   ]
  },
  {
   "cell_type": "code",
   "execution_count": 70,
   "metadata": {},
   "outputs": [
    {
     "data": {
      "text/plain": [
       "['Id',\n",
       " 'MSZoning_FV',\n",
       " 'MSZoning_RH',\n",
       " 'MSZoning_RL',\n",
       " 'MSZoning_RM',\n",
       " 'Street_Pave',\n",
       " 'LandContour_HLS',\n",
       " 'LandContour_Low',\n",
       " 'LandContour_Lvl',\n",
       " 'Utilities_NoSeWa',\n",
       " 'LotConfig_CulDSac',\n",
       " 'LotConfig_FR2',\n",
       " 'LotConfig_FR3',\n",
       " 'LotConfig_Inside',\n",
       " 'LandSlope_Mod',\n",
       " 'LandSlope_Sev',\n",
       " 'Neighborhood_Blueste',\n",
       " 'Neighborhood_BrDale',\n",
       " 'Neighborhood_BrkSide',\n",
       " 'Neighborhood_ClearCr',\n",
       " 'Neighborhood_CollgCr',\n",
       " 'Neighborhood_Crawfor',\n",
       " 'Neighborhood_Edwards',\n",
       " 'Neighborhood_Gilbert',\n",
       " 'Neighborhood_IDOTRR',\n",
       " 'Neighborhood_MeadowV',\n",
       " 'Neighborhood_Mitchel',\n",
       " 'Neighborhood_NAmes',\n",
       " 'Neighborhood_NPkVill',\n",
       " 'Neighborhood_NWAmes',\n",
       " 'Neighborhood_NoRidge',\n",
       " 'Neighborhood_NridgHt',\n",
       " 'Neighborhood_OldTown',\n",
       " 'Neighborhood_SWISU',\n",
       " 'Neighborhood_Sawyer',\n",
       " 'Neighborhood_SawyerW',\n",
       " 'Neighborhood_Somerst',\n",
       " 'Neighborhood_StoneBr',\n",
       " 'Neighborhood_Timber',\n",
       " 'Neighborhood_Veenker',\n",
       " 'Condition1_Feedr',\n",
       " 'Condition1_Norm',\n",
       " 'Condition1_PosA',\n",
       " 'Condition1_PosN',\n",
       " 'Condition1_RRAe',\n",
       " 'Condition1_RRAn',\n",
       " 'Condition1_RRNe',\n",
       " 'Condition1_RRNn',\n",
       " 'Condition2_Feedr',\n",
       " 'Condition2_Norm',\n",
       " 'Condition2_PosA',\n",
       " 'Condition2_PosN',\n",
       " 'Condition2_RRAe',\n",
       " 'Condition2_RRAn',\n",
       " 'Condition2_RRNn',\n",
       " 'BldgType_2fmCon',\n",
       " 'BldgType_Duplex',\n",
       " 'BldgType_Twnhs',\n",
       " 'BldgType_TwnhsE',\n",
       " 'HouseStyle_1Story',\n",
       " 'HouseStyle_1_5Unf',\n",
       " 'HouseStyle_2Story',\n",
       " 'HouseStyle_2_5Fin',\n",
       " 'HouseStyle_2_5Unf',\n",
       " 'HouseStyle_SFoyer',\n",
       " 'HouseStyle_SLvl',\n",
       " 'RoofStyle_Gable',\n",
       " 'RoofStyle_Gambrel',\n",
       " 'RoofStyle_Hip',\n",
       " 'RoofStyle_Mansard',\n",
       " 'RoofStyle_Shed',\n",
       " 'RoofMatl_CompShg',\n",
       " 'RoofMatl_Membran',\n",
       " 'RoofMatl_Metal',\n",
       " 'RoofMatl_Roll',\n",
       " 'RoofMatl_TarGrv',\n",
       " 'RoofMatl_WdShake',\n",
       " 'RoofMatl_WdShngl',\n",
       " 'Exterior1st_AsphShn',\n",
       " 'Exterior1st_BrkComm',\n",
       " 'Exterior1st_BrkFace',\n",
       " 'Exterior1st_CBlock',\n",
       " 'Exterior1st_CemntBd',\n",
       " 'Exterior1st_HdBoard',\n",
       " 'Exterior1st_ImStucc',\n",
       " 'Exterior1st_MetalSd',\n",
       " 'Exterior1st_Plywood',\n",
       " 'Exterior1st_Stone',\n",
       " 'Exterior1st_Stucco',\n",
       " 'Exterior1st_VinylSd',\n",
       " 'Exterior1st_WdShing',\n",
       " 'Exterior1st_Wd_Sdng',\n",
       " 'MasVnrType_BrkFace',\n",
       " 'MasVnrType_None',\n",
       " 'MasVnrType_Stone',\n",
       " 'Foundation_CBlock',\n",
       " 'Foundation_PConc',\n",
       " 'Foundation_Slab',\n",
       " 'Foundation_Stone',\n",
       " 'Foundation_Wood',\n",
       " 'Heating_GasA',\n",
       " 'Heating_GasW',\n",
       " 'Heating_Grav',\n",
       " 'Heating_OthW',\n",
       " 'Heating_Wall',\n",
       " 'CentralAir_Y',\n",
       " 'Electrical_FuseF',\n",
       " 'Electrical_FuseP',\n",
       " 'Electrical_Mix',\n",
       " 'Electrical_SBrkr',\n",
       " 'Functional_Maj2',\n",
       " 'Functional_Min1',\n",
       " 'Functional_Min2',\n",
       " 'Functional_Mod',\n",
       " 'Functional_Sev',\n",
       " 'Functional_Typ',\n",
       " 'GarageType_Attchd',\n",
       " 'GarageType_Basment',\n",
       " 'GarageType_BuiltIn',\n",
       " 'GarageType_CarPort',\n",
       " 'GarageType_Detchd',\n",
       " 'GarageType_NoGarage',\n",
       " 'PavedDrive_P',\n",
       " 'PavedDrive_Y',\n",
       " 'Fence_GdWo',\n",
       " 'Fence_MnPrv',\n",
       " 'Fence_MnWw',\n",
       " 'Fence_NoFence',\n",
       " 'MoSold_2',\n",
       " 'MoSold_3',\n",
       " 'MoSold_4',\n",
       " 'MoSold_5',\n",
       " 'MoSold_6',\n",
       " 'MoSold_7',\n",
       " 'MoSold_8',\n",
       " 'MoSold_9',\n",
       " 'MoSold_10',\n",
       " 'MoSold_11',\n",
       " 'MoSold_12',\n",
       " 'SaleType_CWD',\n",
       " 'SaleType_Con',\n",
       " 'SaleType_ConLD',\n",
       " 'SaleType_ConLI',\n",
       " 'SaleType_ConLw',\n",
       " 'SaleType_New',\n",
       " 'SaleType_Oth',\n",
       " 'SaleType_WD',\n",
       " 'SaleCondition_AdjLand',\n",
       " 'SaleCondition_Alloca',\n",
       " 'SaleCondition_Family',\n",
       " 'SaleCondition_Normal',\n",
       " 'SaleCondition_Partial',\n",
       " 'BsmtFullBath_1',\n",
       " 'BsmtFullBath_2',\n",
       " 'BsmtFullBath_3',\n",
       " 'BsmtHalfBath_1',\n",
       " 'BsmtHalfBath_2',\n",
       " 'FullBath_1',\n",
       " 'FullBath_2',\n",
       " 'FullBath_3',\n",
       " 'HalfBath_1',\n",
       " 'HalfBath_2',\n",
       " 'BedroomAbvGr_1',\n",
       " 'BedroomAbvGr_2',\n",
       " 'BedroomAbvGr_3',\n",
       " 'BedroomAbvGr_4',\n",
       " 'BedroomAbvGr_5',\n",
       " 'BedroomAbvGr_6',\n",
       " 'BedroomAbvGr_8',\n",
       " 'KitchenAbvGr_1',\n",
       " 'KitchenAbvGr_2',\n",
       " 'KitchenAbvGr_3',\n",
       " 'TotRmsAbvGrd_3',\n",
       " 'TotRmsAbvGrd_4',\n",
       " 'TotRmsAbvGrd_5',\n",
       " 'TotRmsAbvGrd_6',\n",
       " 'TotRmsAbvGrd_7',\n",
       " 'TotRmsAbvGrd_8',\n",
       " 'TotRmsAbvGrd_9',\n",
       " 'TotRmsAbvGrd_10',\n",
       " 'TotRmsAbvGrd_11',\n",
       " 'TotRmsAbvGrd_12',\n",
       " 'TotRmsAbvGrd_14',\n",
       " 'Fireplaces_1',\n",
       " 'Fireplaces_2',\n",
       " 'Fireplaces_3',\n",
       " 'GarageCars_1',\n",
       " 'GarageCars_2',\n",
       " 'GarageCars_3',\n",
       " 'GarageCars_4']"
      ]
     },
     "execution_count": 70,
     "metadata": {},
     "output_type": "execute_result"
    }
   ],
   "source": [
    "columnfixlist = [traindf_cat_bined.columns[i] for i in range(len(traindf_cat_bined.columns))]\n",
    "columnfixlist"
   ]
  },
  {
   "cell_type": "code",
   "execution_count": 71,
   "metadata": {},
   "outputs": [],
   "source": [
    "train_combined = pd.merge(traindf_cat_bined, traindfss, on='Id', left_index=True, right_index=True)"
   ]
  },
  {
   "cell_type": "code",
   "execution_count": 72,
   "metadata": {},
   "outputs": [],
   "source": [
    "targetdf = targetdf.loc[train_combined.index]"
   ]
  },
  {
   "cell_type": "code",
   "execution_count": 73,
   "metadata": {},
   "outputs": [],
   "source": [
    "train_combined.drop('Id', axis=1, inplace=True)"
   ]
  },
  {
   "cell_type": "code",
   "execution_count": 74,
   "metadata": {},
   "outputs": [],
   "source": [
    "targetdf.set_index('Id', inplace=True)"
   ]
  },
  {
   "cell_type": "code",
   "execution_count": 75,
   "metadata": {},
   "outputs": [
    {
     "data": {
      "text/html": [
       "<div>\n",
       "<style scoped>\n",
       "    .dataframe tbody tr th:only-of-type {\n",
       "        vertical-align: middle;\n",
       "    }\n",
       "\n",
       "    .dataframe tbody tr th {\n",
       "        vertical-align: top;\n",
       "    }\n",
       "\n",
       "    .dataframe thead th {\n",
       "        text-align: right;\n",
       "    }\n",
       "</style>\n",
       "<table border=\"1\" class=\"dataframe\">\n",
       "  <thead>\n",
       "    <tr style=\"text-align: right;\">\n",
       "      <th></th>\n",
       "      <th>SalePrice</th>\n",
       "    </tr>\n",
       "    <tr>\n",
       "      <th>Id</th>\n",
       "      <th></th>\n",
       "    </tr>\n",
       "  </thead>\n",
       "  <tbody>\n",
       "    <tr>\n",
       "      <td>1</td>\n",
       "      <td>208500</td>\n",
       "    </tr>\n",
       "    <tr>\n",
       "      <td>2</td>\n",
       "      <td>181500</td>\n",
       "    </tr>\n",
       "    <tr>\n",
       "      <td>3</td>\n",
       "      <td>223500</td>\n",
       "    </tr>\n",
       "    <tr>\n",
       "      <td>4</td>\n",
       "      <td>140000</td>\n",
       "    </tr>\n",
       "    <tr>\n",
       "      <td>5</td>\n",
       "      <td>250000</td>\n",
       "    </tr>\n",
       "  </tbody>\n",
       "</table>\n",
       "</div>"
      ],
      "text/plain": [
       "    SalePrice\n",
       "Id           \n",
       "1      208500\n",
       "2      181500\n",
       "3      223500\n",
       "4      140000\n",
       "5      250000"
      ]
     },
     "execution_count": 75,
     "metadata": {},
     "output_type": "execute_result"
    }
   ],
   "source": [
    "targetdf.head()"
   ]
  },
  {
   "cell_type": "markdown",
   "metadata": {},
   "source": [
    "## Testing for colinearity amonst columns"
   ]
  },
  {
   "cell_type": "markdown",
   "metadata": {},
   "source": [
    "### Testing for intercorrelation"
   ]
  },
  {
   "cell_type": "code",
   "execution_count": 76,
   "metadata": {},
   "outputs": [],
   "source": [
    "col_names = list(train_combined.columns)"
   ]
  },
  {
   "cell_type": "code",
   "execution_count": 77,
   "metadata": {},
   "outputs": [],
   "source": [
    "colinear = []\n",
    "for ax1 in col_names:\n",
    "    for ax2 in col_names:\n",
    "        if ax1 == ax2:\n",
    "            break\n",
    "        else:\n",
    "            if train_combined[f'{ax1}'].corr(train_combined[f'{ax2}']) >= .75:\n",
    "                colinear.append((ax1,ax2))"
   ]
  },
  {
   "cell_type": "code",
   "execution_count": 78,
   "metadata": {},
   "outputs": [
    {
     "data": {
      "text/plain": [
       "[('Neighborhood_Somerst', 'MSZoning_FV'),\n",
       " ('SaleCondition_Partial', 'SaleType_New'),\n",
       " ('TotRmsAbvGrd_14', 'BedroomAbvGr_8'),\n",
       " ('BsmtQual', 'YearBuilt'),\n",
       " ('BsmtFinSF2', 'BsmtFinType2')]"
      ]
     },
     "execution_count": 78,
     "metadata": {},
     "output_type": "execute_result"
    }
   ],
   "source": [
    "colinear"
   ]
  },
  {
   "cell_type": "markdown",
   "metadata": {},
   "source": [
    "### Testing for correlation with Target - SalePrice"
   ]
  },
  {
   "cell_type": "code",
   "execution_count": 100,
   "metadata": {},
   "outputs": [],
   "source": [
    "corr_saleprice = {}\n",
    "for i in col_names:\n",
    "    corr_saleprice[i] = train_combined[f'{i}'].corr(targetdf['SalePrice'])"
   ]
  },
  {
   "cell_type": "code",
   "execution_count": 130,
   "metadata": {},
   "outputs": [
    {
     "data": {
      "text/html": [
       "<div>\n",
       "<style scoped>\n",
       "    .dataframe tbody tr th:only-of-type {\n",
       "        vertical-align: middle;\n",
       "    }\n",
       "\n",
       "    .dataframe tbody tr th {\n",
       "        vertical-align: top;\n",
       "    }\n",
       "\n",
       "    .dataframe thead th {\n",
       "        text-align: right;\n",
       "    }\n",
       "</style>\n",
       "<table border=\"1\" class=\"dataframe\">\n",
       "  <thead>\n",
       "    <tr style=\"text-align: right;\">\n",
       "      <th></th>\n",
       "      <th>0</th>\n",
       "    </tr>\n",
       "  </thead>\n",
       "  <tbody>\n",
       "    <tr>\n",
       "      <td>count</td>\n",
       "      <td>211.000000</td>\n",
       "    </tr>\n",
       "    <tr>\n",
       "      <td>mean</td>\n",
       "      <td>-0.001347</td>\n",
       "    </tr>\n",
       "    <tr>\n",
       "      <td>std</td>\n",
       "      <td>0.033583</td>\n",
       "    </tr>\n",
       "    <tr>\n",
       "      <td>min</td>\n",
       "      <td>-0.071093</td>\n",
       "    </tr>\n",
       "    <tr>\n",
       "      <td>25%</td>\n",
       "      <td>-0.024287</td>\n",
       "    </tr>\n",
       "    <tr>\n",
       "      <td>50%</td>\n",
       "      <td>-0.005155</td>\n",
       "    </tr>\n",
       "    <tr>\n",
       "      <td>75%</td>\n",
       "      <td>0.019415</td>\n",
       "    </tr>\n",
       "    <tr>\n",
       "      <td>max</td>\n",
       "      <td>0.114786</td>\n",
       "    </tr>\n",
       "  </tbody>\n",
       "</table>\n",
       "</div>"
      ],
      "text/plain": [
       "                0\n",
       "count  211.000000\n",
       "mean    -0.001347\n",
       "std      0.033583\n",
       "min     -0.071093\n",
       "25%     -0.024287\n",
       "50%     -0.005155\n",
       "75%      0.019415\n",
       "max      0.114786"
      ]
     },
     "execution_count": 130,
     "metadata": {},
     "output_type": "execute_result"
    }
   ],
   "source": [
    "corr_table = pd.DataFrame( corr_saleprice.values(), index = corr_saleprice.keys())\n",
    "corr_table.describe()"
   ]
  },
  {
   "cell_type": "markdown",
   "metadata": {},
   "source": [
    "### Optimizing parameters - How can I test all the combinations of assigned values for each column to yield the best parameters for each column"
   ]
  },
  {
   "cell_type": "code",
   "execution_count": 80,
   "metadata": {},
   "outputs": [],
   "source": [
    "#traindf.BsmtCond = traindf.BsmtCond.replace({'Ex': 10, 'Gd':7, 'TA':4, 'Fa':2, 'Po':1}, value=None)\n",
    "##traindf.BsmtCond = traindf.BsmtCond.replace({10: a, 7:b, 4:c, 2:d, 1:e}, value=None)"
   ]
  },
  {
   "cell_type": "markdown",
   "metadata": {},
   "source": [
    "### Optimizing the degree of variables"
   ]
  },
  {
   "cell_type": "code",
   "execution_count": 90,
   "metadata": {},
   "outputs": [],
   "source": [
    "#for y in col_names:\n",
    " #   plt.figure()\n",
    "  #  plt.scatter(x=targetdf['SalePrice'], y=train_combined[f'{y}'])\n",
    "   # plt.xlabel('SalePrice')\n",
    "    #plt.ylabel(f'{y}')"
   ]
  },
  {
   "cell_type": "markdown",
   "metadata": {},
   "source": [
    "### Testing the linerar regression"
   ]
  },
  {
   "cell_type": "code",
   "execution_count": 82,
   "metadata": {},
   "outputs": [
    {
     "name": "stdout",
     "output_type": "stream",
     "text": [
      "[[ 3.03315933e+04  5.52940381e+04  5.10232380e+04  4.37758300e+04\n",
      "   1.69562232e+04  5.10254496e+03  7.73188132e+03 -4.02041869e+03\n",
      "   3.36248473e+16  1.44682500e+04 -1.24206250e+04 -2.71079141e+04\n",
      "   2.13000000e+02  7.00112500e+03  7.71562500e+03  1.01752500e+04\n",
      "   1.78100000e+04 -1.17228750e+04 -1.87755625e+04 -7.83400000e+03\n",
      "  -6.04632812e+02 -2.78792500e+04 -2.42642500e+04 -4.56900000e+03\n",
      "  -2.17918750e+04 -1.13787109e+04 -2.25595000e+04  2.70437500e+02\n",
      "  -2.21443125e+04  3.54690000e+04  4.48695000e+04 -1.06425000e+04\n",
      "  -1.45097500e+04 -2.01636250e+04  4.40062500e+03  3.44411875e+04\n",
      "   5.67936250e+04 -4.62075000e+03 -5.71657227e+03  2.39375000e+02\n",
      "   1.59220000e+04  2.27885664e+04  2.63968750e+04 -7.92152246e+03\n",
      "   2.21890781e+04  1.43186875e+04  2.79514922e+04 -4.19263281e+03\n",
      "  -7.11637500e+03  5.51620312e+04 -2.03906836e+05  2.38944101e+15\n",
      "  -4.49773567e+14 -3.14140801e+04 -2.40000000e+03  5.14016406e+03\n",
      "  -3.90792500e+04 -3.01104375e+04  7.32000000e+02 -6.42278906e+03\n",
      "  -1.11180000e+04 -2.70183125e+04  1.06555000e+04 -1.14275938e+04\n",
      "  -5.59150000e+03 -1.76992500e+04 -1.13150000e+03 -3.80412500e+03\n",
      "  -5.30803125e+03  8.70530866e+14 -6.16946637e+15 -6.16946637e+15\n",
      "  -6.16946637e+15  8.49280564e+14 -6.16946637e+15 -6.16946637e+15\n",
      "  -6.16946637e+15  2.14519160e+14  1.00587812e+04  4.05712188e+04\n",
      "  -4.36841555e+14  3.24816250e+04  7.07025000e+03 -3.96608330e+14\n",
      "   2.03750000e+04  1.32990000e+04  4.95147707e+13  1.57960781e+04\n",
      "   1.68612500e+04  4.91800000e+03  1.47977500e+04  1.13510000e+04\n",
      "   3.54050000e+03  1.79525000e+04  2.46650000e+03  1.32367500e+04\n",
      "  -6.58140820e+03  3.23992500e+04 -5.34326406e+04  3.80482830e+15\n",
      "   3.80482830e+15  3.80482830e+15  1.36217776e+14  3.80482830e+15\n",
      "   1.59945000e+04 -8.64601562e+03  2.03197188e+04  9.97303125e+03\n",
      "   1.67237500e+03 -2.01679688e+04  7.23856250e+03  1.54436250e+04\n",
      "   5.20677441e+03  6.03428125e+03  2.04925000e+04  2.20600000e+04\n",
      "   4.23629062e+04  2.23467500e+04  3.11437500e+03  1.88828750e+04\n",
      "  -2.07895863e+15 -5.46843750e+03  1.43959531e+04  3.24350000e+03\n",
      "   9.82939453e+03  8.85506250e+03  4.46550000e+03 -6.52481250e+03\n",
      "  -5.77382422e+03 -5.89981250e+03 -7.68923242e+03 -1.00866562e+04\n",
      "  -9.89882812e+03 -9.82937500e+03 -1.08262500e+04 -1.13300000e+04\n",
      "  -1.88278438e+04 -1.77013750e+04 -5.48310938e+03  2.91184062e+04\n",
      "   1.87890625e+04  3.29347500e+04 -1.68016562e+04  8.82577812e+04\n",
      "  -1.28378266e+12  1.10765000e+04  1.62777109e+04 -2.69128750e+04\n",
      "  -1.74048125e+04  1.00305625e+04 -5.43748125e+04  1.88983125e+04\n",
      "   5.61353125e+04  5.16168438e+04  2.76737500e+04  1.84583594e+04\n",
      "   4.19305000e+04  6.91585000e+04  1.17969352e+05  1.30630000e+04\n",
      "   1.34338750e+04 -2.08108594e+04 -5.06160000e+04 -5.71945000e+04\n",
      "  -5.54570000e+04 -8.61358750e+04 -1.06283555e+05 -1.06312475e+15\n",
      "   5.41241902e+14  5.41241902e+14  5.41241902e+14  4.42740000e+04\n",
      "   7.32718750e+04  7.83815000e+04  8.79070000e+04  9.64505000e+04\n",
      "   1.14753000e+05  1.22345000e+05  1.68829500e+05  1.32705782e+05\n",
      "   2.53288438e+05  1.06312475e+15  9.93150000e+03  2.78137500e+04\n",
      "   7.79073438e+04 -2.07895863e+15 -2.07895863e+15 -2.07895863e+15\n",
      "  -2.07895863e+15 -2.31400000e+03  4.89700000e+03  1.21387500e+03\n",
      "  -1.87700000e+03  2.64000000e+02 -4.07400000e+03 -1.23500000e+02\n",
      "  -2.61137500e+03 -5.12759375e+03 -3.22968750e+03  4.78500000e+02\n",
      "   1.50100000e+03 -1.57650000e+03  2.33400000e+03 -3.09250000e+03\n",
      "  -7.84000000e+02  9.62750000e+02  1.92558836e+15 -2.08102588e+16\n",
      "  -5.23539062e+02  3.13037500e+03 -1.63675000e+03 -1.53437500e+03\n",
      "  -6.57700000e+03  1.32000000e+02 -3.20275000e+03 -2.85450000e+03\n",
      "  -4.30125000e+03 -1.56876517e+00  6.02312500e+03  8.72000000e+02\n",
      "   1.37497219e+05  1.53097835e+16  1.72875525e+16]] Index(['MSZoning_FV', 'MSZoning_RH', 'MSZoning_RL', 'MSZoning_RM',\n",
      "       'Street_Pave', 'LandContour_HLS', 'LandContour_Low', 'LandContour_Lvl',\n",
      "       'Utilities_NoSeWa', 'LotConfig_CulDSac',\n",
      "       ...\n",
      "       'WoodDeckSF', 'OpenPorchSF', 'EnclosedPorch', 'ScreenPorch', 'PoolArea',\n",
      "       'MiscVal', 'YrSold', 'ThreeSsnPorch', 'FirstFlrSF', 'SecondFlrSF'],\n",
      "      dtype='object', length=223)\n"
     ]
    }
   ],
   "source": [
    "lr = LinearRegression()\n",
    "lr.fit(train_combined, targetdf)\n",
    "y_hat_train = lr.predict(train_combined)\n",
    "print(lr.coef_, train_combined.columns)\n",
    "#print(train_combined.columns)"
   ]
  },
  {
   "cell_type": "code",
   "execution_count": 83,
   "metadata": {},
   "outputs": [
    {
     "name": "stdout",
     "output_type": "stream",
     "text": [
      "r^2: 0.8985402777292189\n",
      "rmse: 25772.688532876182\n"
     ]
    }
   ],
   "source": [
    "from sklearn.metrics import r2_score, mean_squared_error\n",
    "\n",
    "print(f\"r^2: {r2_score(targetdf, y_hat_train)}\")\n",
    "print(f\"rmse: {np.sqrt(mean_squared_error(targetdf, y_hat_train))}\")"
   ]
  },
  {
   "cell_type": "code",
   "execution_count": 84,
   "metadata": {},
   "outputs": [],
   "source": [
    "### Previous R^2 values ###\n",
    "\n",
    "\n",
    "### Added Rooms, Car garage, fireplaces and some other discrete values to the catagorical side of the table... increased features\n",
    "### by approx 30 --- need to check R^2 adj \n",
    "# r^2: 0.898540213574302\n",
    "# rmse: 25772.696681156067\n",
    "\n",
    "### Replaced lot frontage with mean value instead of '0'\n",
    "# r^2: 0.8175929129184736\n",
    "# rmse: 34972.641412123485\n",
    "\n",
    "\n",
    "### Initial R^2 to beat\n",
    "# r^2: 0.6589675323\n",
    "# rmse: 36779.91592177666"
   ]
  },
  {
   "cell_type": "code",
   "execution_count": 85,
   "metadata": {},
   "outputs": [],
   "source": [
    "import statsmodels.formula.api as sm\n",
    "train_combined_string = ''\n",
    "for i in [train_combined.columns[i] for i in range(len(train_combined.columns))]:\n",
    "    train_combined_string += i + ' + ' \n",
    "train_combined_string = train_combined_string[0:-3]\n",
    "\n",
    "sm_formula = (\"SalePrice ~ \" + train_combined_string ) \n",
    "ols_data = pd.merge(targetdf, train_combined, left_index=True, right_index=True)\n",
    "\n",
    "results = sm.ols(formula = sm_formula, data = ols_data).fit()"
   ]
  },
  {
   "cell_type": "code",
   "execution_count": 86,
   "metadata": {},
   "outputs": [
    {
     "data": {
      "text/html": [
       "<table class=\"simpletable\">\n",
       "<caption>OLS Regression Results</caption>\n",
       "<tr>\n",
       "  <th>Dep. Variable:</th>        <td>SalePrice</td>    <th>  R-squared:         </th> <td>   0.245</td> \n",
       "</tr>\n",
       "<tr>\n",
       "  <th>Model:</th>                   <td>OLS</td>       <th>  Adj. R-squared:    </th> <td>  -0.034</td> \n",
       "</tr>\n",
       "<tr>\n",
       "  <th>Method:</th>             <td>Least Squares</td>  <th>  F-statistic:       </th> <td>  0.8783</td> \n",
       "</tr>\n",
       "<tr>\n",
       "  <th>Date:</th>             <td>Mon, 06 Jan 2020</td> <th>  Prob (F-statistic):</th>  <td> 0.863</td>  \n",
       "</tr>\n",
       "<tr>\n",
       "  <th>Time:</th>                 <td>16:19:07</td>     <th>  Log-Likelihood:    </th> <td> -9586.2</td> \n",
       "</tr>\n",
       "<tr>\n",
       "  <th>No. Observations:</th>      <td>   762</td>      <th>  AIC:               </th> <td>1.958e+04</td>\n",
       "</tr>\n",
       "<tr>\n",
       "  <th>Df Residuals:</th>          <td>   556</td>      <th>  BIC:               </th> <td>2.054e+04</td>\n",
       "</tr>\n",
       "<tr>\n",
       "  <th>Df Model:</th>              <td>   205</td>      <th>                     </th>     <td> </td>    \n",
       "</tr>\n",
       "<tr>\n",
       "  <th>Covariance Type:</th>      <td>nonrobust</td>    <th>                     </th>     <td> </td>    \n",
       "</tr>\n",
       "</table>\n",
       "<table class=\"simpletable\">\n",
       "<tr>\n",
       "            <td></td>               <th>coef</th>     <th>std err</th>      <th>t</th>      <th>P>|t|</th>  <th>[0.025</th>    <th>0.975]</th>  \n",
       "</tr>\n",
       "<tr>\n",
       "  <th>Intercept</th>             <td>-2.207e+04</td> <td> 1.18e+05</td> <td>   -0.187</td> <td> 0.852</td> <td>-2.54e+05</td> <td>  2.1e+05</td>\n",
       "</tr>\n",
       "<tr>\n",
       "  <th>MSZoning_FV</th>           <td> 9.728e+04</td> <td> 6.85e+04</td> <td>    1.420</td> <td> 0.156</td> <td>-3.73e+04</td> <td> 2.32e+05</td>\n",
       "</tr>\n",
       "<tr>\n",
       "  <th>MSZoning_RH</th>           <td>  9.53e+04</td> <td> 6.68e+04</td> <td>    1.426</td> <td> 0.154</td> <td> -3.6e+04</td> <td> 2.27e+05</td>\n",
       "</tr>\n",
       "<tr>\n",
       "  <th>MSZoning_RL</th>           <td> 7.297e+04</td> <td>  5.3e+04</td> <td>    1.377</td> <td> 0.169</td> <td>-3.11e+04</td> <td> 1.77e+05</td>\n",
       "</tr>\n",
       "<tr>\n",
       "  <th>MSZoning_RM</th>           <td> 6.568e+04</td> <td> 4.89e+04</td> <td>    1.344</td> <td> 0.180</td> <td>-3.03e+04</td> <td> 1.62e+05</td>\n",
       "</tr>\n",
       "<tr>\n",
       "  <th>Street_Pave</th>           <td>-6.512e+04</td> <td> 7.17e+04</td> <td>   -0.908</td> <td> 0.364</td> <td>-2.06e+05</td> <td> 7.58e+04</td>\n",
       "</tr>\n",
       "<tr>\n",
       "  <th>LandContour_HLS</th>       <td>-5.009e+04</td> <td> 2.79e+04</td> <td>   -1.796</td> <td> 0.073</td> <td>-1.05e+05</td> <td> 4690.521</td>\n",
       "</tr>\n",
       "<tr>\n",
       "  <th>LandContour_Low</th>       <td>-6.013e+04</td> <td> 3.77e+04</td> <td>   -1.596</td> <td> 0.111</td> <td>-1.34e+05</td> <td> 1.39e+04</td>\n",
       "</tr>\n",
       "<tr>\n",
       "  <th>LandContour_Lvl</th>       <td>-1.769e+04</td> <td> 2.02e+04</td> <td>   -0.874</td> <td> 0.383</td> <td>-5.75e+04</td> <td> 2.21e+04</td>\n",
       "</tr>\n",
       "<tr>\n",
       "  <th>Utilities_NoSeWa</th>      <td>-1.635e-09</td> <td> 1.61e-09</td> <td>   -1.018</td> <td> 0.309</td> <td>-4.79e-09</td> <td> 1.52e-09</td>\n",
       "</tr>\n",
       "<tr>\n",
       "  <th>LotConfig_CulDSac</th>     <td>-8677.8203</td> <td> 1.64e+04</td> <td>   -0.530</td> <td> 0.596</td> <td>-4.08e+04</td> <td> 2.35e+04</td>\n",
       "</tr>\n",
       "<tr>\n",
       "  <th>LotConfig_FR2</th>         <td>-3.616e+04</td> <td> 2.13e+04</td> <td>   -1.700</td> <td> 0.090</td> <td>-7.79e+04</td> <td> 5612.018</td>\n",
       "</tr>\n",
       "<tr>\n",
       "  <th>LotConfig_FR3</th>         <td> 9.171e+04</td> <td> 7.86e+04</td> <td>    1.166</td> <td> 0.244</td> <td>-6.28e+04</td> <td> 2.46e+05</td>\n",
       "</tr>\n",
       "<tr>\n",
       "  <th>LotConfig_Inside</th>      <td>-3608.9423</td> <td> 9013.568</td> <td>   -0.400</td> <td> 0.689</td> <td>-2.13e+04</td> <td> 1.41e+04</td>\n",
       "</tr>\n",
       "<tr>\n",
       "  <th>LandSlope_Mod</th>         <td>  3.66e+04</td> <td> 2.51e+04</td> <td>    1.458</td> <td> 0.145</td> <td>-1.27e+04</td> <td> 8.59e+04</td>\n",
       "</tr>\n",
       "<tr>\n",
       "  <th>LandSlope_Sev</th>         <td> 1.224e+04</td> <td> 4.58e+04</td> <td>    0.267</td> <td> 0.789</td> <td>-7.77e+04</td> <td> 1.02e+05</td>\n",
       "</tr>\n",
       "<tr>\n",
       "  <th>Neighborhood_Blueste</th>  <td> 3.003e+04</td> <td> 1.06e+05</td> <td>    0.285</td> <td> 0.776</td> <td>-1.77e+05</td> <td> 2.37e+05</td>\n",
       "</tr>\n",
       "<tr>\n",
       "  <th>Neighborhood_BrDale</th>   <td> 4.254e+04</td> <td>  5.7e+04</td> <td>    0.746</td> <td> 0.456</td> <td>-6.95e+04</td> <td> 1.55e+05</td>\n",
       "</tr>\n",
       "<tr>\n",
       "  <th>Neighborhood_BrkSide</th>  <td>  696.5968</td> <td> 4.93e+04</td> <td>    0.014</td> <td> 0.989</td> <td>-9.62e+04</td> <td> 9.76e+04</td>\n",
       "</tr>\n",
       "<tr>\n",
       "  <th>Neighborhood_ClearCr</th>  <td>-3.754e+04</td> <td> 4.98e+04</td> <td>   -0.753</td> <td> 0.452</td> <td>-1.35e+05</td> <td> 6.04e+04</td>\n",
       "</tr>\n",
       "<tr>\n",
       "  <th>Neighborhood_CollgCr</th>  <td>-1.975e+04</td> <td> 4.01e+04</td> <td>   -0.493</td> <td> 0.623</td> <td>-9.85e+04</td> <td>  5.9e+04</td>\n",
       "</tr>\n",
       "<tr>\n",
       "  <th>Neighborhood_Crawfor</th>  <td>-5.078e+04</td> <td> 4.64e+04</td> <td>   -1.095</td> <td> 0.274</td> <td>-1.42e+05</td> <td> 4.03e+04</td>\n",
       "</tr>\n",
       "<tr>\n",
       "  <th>Neighborhood_Edwards</th>  <td>-2.185e+04</td> <td> 4.27e+04</td> <td>   -0.512</td> <td> 0.609</td> <td>-1.06e+05</td> <td>  6.2e+04</td>\n",
       "</tr>\n",
       "<tr>\n",
       "  <th>Neighborhood_Gilbert</th>  <td>-1.288e+04</td> <td> 4.26e+04</td> <td>   -0.302</td> <td> 0.763</td> <td>-9.66e+04</td> <td> 7.08e+04</td>\n",
       "</tr>\n",
       "<tr>\n",
       "  <th>Neighborhood_IDOTRR</th>   <td> -1.14e+04</td> <td> 5.57e+04</td> <td>   -0.205</td> <td> 0.838</td> <td>-1.21e+05</td> <td>  9.8e+04</td>\n",
       "</tr>\n",
       "<tr>\n",
       "  <th>Neighborhood_MeadowV</th>  <td>-9764.1687</td> <td> 5.99e+04</td> <td>   -0.163</td> <td> 0.871</td> <td>-1.27e+05</td> <td> 1.08e+05</td>\n",
       "</tr>\n",
       "<tr>\n",
       "  <th>Neighborhood_Mitchel</th>  <td> 2.232e+04</td> <td> 4.47e+04</td> <td>    0.500</td> <td> 0.618</td> <td>-6.54e+04</td> <td>  1.1e+05</td>\n",
       "</tr>\n",
       "<tr>\n",
       "  <th>Neighborhood_NAmes</th>    <td> -2.44e+04</td> <td> 4.29e+04</td> <td>   -0.568</td> <td> 0.570</td> <td>-1.09e+05</td> <td> 5.99e+04</td>\n",
       "</tr>\n",
       "<tr>\n",
       "  <th>Neighborhood_NPkVill</th>  <td>-7552.8421</td> <td> 5.64e+04</td> <td>   -0.134</td> <td> 0.893</td> <td>-1.18e+05</td> <td> 1.03e+05</td>\n",
       "</tr>\n",
       "<tr>\n",
       "  <th>Neighborhood_NWAmes</th>   <td>-7131.2818</td> <td> 4.41e+04</td> <td>   -0.162</td> <td> 0.872</td> <td>-9.38e+04</td> <td> 7.95e+04</td>\n",
       "</tr>\n",
       "<tr>\n",
       "  <th>Neighborhood_NoRidge</th>  <td>-4.393e+04</td> <td> 4.44e+04</td> <td>   -0.990</td> <td> 0.322</td> <td>-1.31e+05</td> <td> 4.32e+04</td>\n",
       "</tr>\n",
       "<tr>\n",
       "  <th>Neighborhood_NridgHt</th>  <td>  -93.0476</td> <td> 3.84e+04</td> <td>   -0.002</td> <td> 0.998</td> <td>-7.56e+04</td> <td> 7.54e+04</td>\n",
       "</tr>\n",
       "<tr>\n",
       "  <th>Neighborhood_OldTown</th>  <td>-2550.3202</td> <td> 4.94e+04</td> <td>   -0.052</td> <td> 0.959</td> <td>-9.96e+04</td> <td> 9.45e+04</td>\n",
       "</tr>\n",
       "<tr>\n",
       "  <th>Neighborhood_SWISU</th>    <td> -3.94e+04</td> <td> 5.51e+04</td> <td>   -0.715</td> <td> 0.475</td> <td>-1.48e+05</td> <td> 6.88e+04</td>\n",
       "</tr>\n",
       "<tr>\n",
       "  <th>Neighborhood_Sawyer</th>   <td> -2.68e+04</td> <td> 4.45e+04</td> <td>   -0.602</td> <td> 0.547</td> <td>-1.14e+05</td> <td> 6.06e+04</td>\n",
       "</tr>\n",
       "<tr>\n",
       "  <th>Neighborhood_SawyerW</th>  <td>-3.921e+04</td> <td> 4.28e+04</td> <td>   -0.917</td> <td> 0.360</td> <td>-1.23e+05</td> <td> 4.48e+04</td>\n",
       "</tr>\n",
       "<tr>\n",
       "  <th>Neighborhood_Somerst</th>  <td>-4.132e+04</td> <td> 5.56e+04</td> <td>   -0.743</td> <td> 0.458</td> <td>-1.51e+05</td> <td> 6.79e+04</td>\n",
       "</tr>\n",
       "<tr>\n",
       "  <th>Neighborhood_StoneBr</th>  <td> 4122.5022</td> <td> 4.18e+04</td> <td>    0.099</td> <td> 0.922</td> <td> -7.8e+04</td> <td> 8.63e+04</td>\n",
       "</tr>\n",
       "<tr>\n",
       "  <th>Neighborhood_Timber</th>   <td> 6346.1875</td> <td> 4.44e+04</td> <td>    0.143</td> <td> 0.886</td> <td>-8.08e+04</td> <td> 9.35e+04</td>\n",
       "</tr>\n",
       "<tr>\n",
       "  <th>Neighborhood_Veenker</th>  <td> 1.176e+04</td> <td> 5.67e+04</td> <td>    0.208</td> <td> 0.836</td> <td>-9.96e+04</td> <td> 1.23e+05</td>\n",
       "</tr>\n",
       "<tr>\n",
       "  <th>Condition1_Feedr</th>      <td> 1.329e+04</td> <td> 2.64e+04</td> <td>    0.503</td> <td> 0.615</td> <td>-3.86e+04</td> <td> 6.51e+04</td>\n",
       "</tr>\n",
       "<tr>\n",
       "  <th>Condition1_Norm</th>       <td> 8899.0460</td> <td>  2.1e+04</td> <td>    0.424</td> <td> 0.672</td> <td>-3.24e+04</td> <td> 5.02e+04</td>\n",
       "</tr>\n",
       "<tr>\n",
       "  <th>Condition1_PosA</th>       <td> 1.288e+04</td> <td> 5.29e+04</td> <td>    0.244</td> <td> 0.808</td> <td> -9.1e+04</td> <td> 1.17e+05</td>\n",
       "</tr>\n",
       "<tr>\n",
       "  <th>Condition1_PosN</th>       <td>-6.584e+04</td> <td> 4.07e+04</td> <td>   -1.617</td> <td> 0.106</td> <td>-1.46e+05</td> <td> 1.41e+04</td>\n",
       "</tr>\n",
       "<tr>\n",
       "  <th>Condition1_RRAe</th>       <td>-3.131e+04</td> <td> 4.28e+04</td> <td>   -0.731</td> <td> 0.465</td> <td>-1.15e+05</td> <td> 5.28e+04</td>\n",
       "</tr>\n",
       "<tr>\n",
       "  <th>Condition1_RRAn</th>       <td> 2.242e+04</td> <td> 3.61e+04</td> <td>    0.621</td> <td> 0.535</td> <td>-4.85e+04</td> <td> 9.33e+04</td>\n",
       "</tr>\n",
       "<tr>\n",
       "  <th>Condition1_RRNe</th>       <td> 4.948e+04</td> <td> 6.97e+04</td> <td>    0.710</td> <td> 0.478</td> <td>-8.74e+04</td> <td> 1.86e+05</td>\n",
       "</tr>\n",
       "<tr>\n",
       "  <th>Condition1_RRNn</th>       <td>-1.562e+05</td> <td>  9.7e+04</td> <td>   -1.610</td> <td> 0.108</td> <td>-3.47e+05</td> <td> 3.44e+04</td>\n",
       "</tr>\n",
       "<tr>\n",
       "  <th>Condition2_Feedr</th>      <td> 1.036e+05</td> <td> 1.19e+05</td> <td>    0.872</td> <td> 0.384</td> <td> -1.3e+05</td> <td> 3.37e+05</td>\n",
       "</tr>\n",
       "<tr>\n",
       "  <th>Condition2_Norm</th>       <td> 6.105e+04</td> <td> 1.05e+05</td> <td>    0.584</td> <td> 0.559</td> <td>-1.44e+05</td> <td> 2.66e+05</td>\n",
       "</tr>\n",
       "<tr>\n",
       "  <th>Condition2_PosA</th>       <td>-1.524e+04</td> <td> 1.54e+05</td> <td>   -0.099</td> <td> 0.921</td> <td>-3.18e+05</td> <td> 2.88e+05</td>\n",
       "</tr>\n",
       "<tr>\n",
       "  <th>Condition2_PosN</th>       <td> 2.014e+05</td> <td> 1.51e+05</td> <td>    1.338</td> <td> 0.181</td> <td>-9.43e+04</td> <td> 4.97e+05</td>\n",
       "</tr>\n",
       "<tr>\n",
       "  <th>Condition2_RRAe</th>       <td>-1.081e-09</td> <td> 6.99e-10</td> <td>   -1.546</td> <td> 0.123</td> <td>-2.46e-09</td> <td> 2.92e-10</td>\n",
       "</tr>\n",
       "<tr>\n",
       "  <th>Condition2_RRAn</th>       <td> 3.319e-10</td> <td> 8.79e-10</td> <td>    0.378</td> <td> 0.706</td> <td>-1.39e-09</td> <td> 2.06e-09</td>\n",
       "</tr>\n",
       "<tr>\n",
       "  <th>Condition2_RRNn</th>       <td> 1.196e+04</td> <td> 1.25e+05</td> <td>    0.096</td> <td> 0.923</td> <td>-2.33e+05</td> <td> 2.57e+05</td>\n",
       "</tr>\n",
       "<tr>\n",
       "  <th>BldgType_2fmCon</th>       <td> 2.778e+04</td> <td> 3.27e+04</td> <td>    0.851</td> <td> 0.395</td> <td>-3.64e+04</td> <td> 9.19e+04</td>\n",
       "</tr>\n",
       "<tr>\n",
       "  <th>BldgType_Duplex</th>       <td> 8637.3434</td> <td> 4.31e+04</td> <td>    0.200</td> <td> 0.841</td> <td>-7.61e+04</td> <td> 9.34e+04</td>\n",
       "</tr>\n",
       "<tr>\n",
       "  <th>BldgType_Twnhs</th>        <td>-2.708e+04</td> <td> 2.87e+04</td> <td>   -0.943</td> <td> 0.346</td> <td>-8.35e+04</td> <td> 2.93e+04</td>\n",
       "</tr>\n",
       "<tr>\n",
       "  <th>BldgType_TwnhsE</th>       <td>-4411.9115</td> <td> 1.99e+04</td> <td>   -0.221</td> <td> 0.825</td> <td>-4.36e+04</td> <td> 3.48e+04</td>\n",
       "</tr>\n",
       "<tr>\n",
       "  <th>HouseStyle_1Story</th>     <td> 1.941e+04</td> <td> 1.67e+04</td> <td>    1.160</td> <td> 0.246</td> <td>-1.34e+04</td> <td> 5.23e+04</td>\n",
       "</tr>\n",
       "<tr>\n",
       "  <th>HouseStyle_1_5Unf</th>     <td> 3.764e+04</td> <td> 3.32e+04</td> <td>    1.133</td> <td> 0.258</td> <td>-2.76e+04</td> <td> 1.03e+05</td>\n",
       "</tr>\n",
       "<tr>\n",
       "  <th>HouseStyle_2Story</th>     <td> 2.605e+04</td> <td> 1.66e+04</td> <td>    1.572</td> <td> 0.117</td> <td>-6500.040</td> <td> 5.86e+04</td>\n",
       "</tr>\n",
       "<tr>\n",
       "  <th>HouseStyle_2_5Fin</th>     <td> 6171.9435</td> <td> 5.73e+04</td> <td>    0.108</td> <td> 0.914</td> <td>-1.06e+05</td> <td> 1.19e+05</td>\n",
       "</tr>\n",
       "<tr>\n",
       "  <th>HouseStyle_2_5Unf</th>     <td>-1185.3279</td> <td>  5.4e+04</td> <td>   -0.022</td> <td> 0.983</td> <td>-1.07e+05</td> <td> 1.05e+05</td>\n",
       "</tr>\n",
       "<tr>\n",
       "  <th>HouseStyle_SFoyer</th>     <td>-1614.2666</td> <td> 3.15e+04</td> <td>   -0.051</td> <td> 0.959</td> <td>-6.34e+04</td> <td> 6.02e+04</td>\n",
       "</tr>\n",
       "<tr>\n",
       "  <th>HouseStyle_SLvl</th>       <td> 4.412e+04</td> <td> 2.52e+04</td> <td>    1.749</td> <td> 0.081</td> <td>-5436.770</td> <td> 9.37e+04</td>\n",
       "</tr>\n",
       "<tr>\n",
       "  <th>RoofStyle_Gable</th>       <td>-3.008e+04</td> <td> 7.53e+04</td> <td>   -0.400</td> <td> 0.689</td> <td>-1.78e+05</td> <td> 1.18e+05</td>\n",
       "</tr>\n",
       "<tr>\n",
       "  <th>RoofStyle_Gambrel</th>     <td>-2.768e+04</td> <td> 8.37e+04</td> <td>   -0.331</td> <td> 0.741</td> <td>-1.92e+05</td> <td> 1.37e+05</td>\n",
       "</tr>\n",
       "<tr>\n",
       "  <th>RoofStyle_Hip</th>         <td>-2.908e+04</td> <td> 7.52e+04</td> <td>   -0.387</td> <td> 0.699</td> <td>-1.77e+05</td> <td> 1.19e+05</td>\n",
       "</tr>\n",
       "<tr>\n",
       "  <th>RoofStyle_Mansard</th>     <td> 3.145e+04</td> <td> 8.99e+04</td> <td>    0.350</td> <td> 0.727</td> <td>-1.45e+05</td> <td> 2.08e+05</td>\n",
       "</tr>\n",
       "<tr>\n",
       "  <th>RoofStyle_Shed</th>        <td>  1.66e-10</td> <td> 5.17e-10</td> <td>    0.321</td> <td> 0.748</td> <td> -8.5e-10</td> <td> 1.18e-09</td>\n",
       "</tr>\n",
       "<tr>\n",
       "  <th>RoofMatl_CompShg</th>      <td> 7790.7582</td> <td> 5.08e+04</td> <td>    0.153</td> <td> 0.878</td> <td>-9.19e+04</td> <td> 1.08e+05</td>\n",
       "</tr>\n",
       "<tr>\n",
       "  <th>RoofMatl_Membran</th>      <td> 3.707e+04</td> <td> 1.01e+05</td> <td>    0.368</td> <td> 0.713</td> <td>-1.61e+05</td> <td> 2.35e+05</td>\n",
       "</tr>\n",
       "<tr>\n",
       "  <th>RoofMatl_Metal</th>        <td>-4292.7594</td> <td> 9.19e+04</td> <td>   -0.047</td> <td> 0.963</td> <td>-1.85e+05</td> <td> 1.76e+05</td>\n",
       "</tr>\n",
       "<tr>\n",
       "  <th>RoofMatl_Roll</th>         <td>-8.704e-11</td> <td> 3.18e-10</td> <td>   -0.274</td> <td> 0.784</td> <td>-7.12e-10</td> <td> 5.38e-10</td>\n",
       "</tr>\n",
       "<tr>\n",
       "  <th>RoofMatl_TarGrv</th>       <td>-3.281e+04</td> <td> 5.63e+04</td> <td>   -0.583</td> <td> 0.560</td> <td>-1.43e+05</td> <td> 7.78e+04</td>\n",
       "</tr>\n",
       "<tr>\n",
       "  <th>RoofMatl_WdShake</th>      <td>-4517.6989</td> <td>  7.4e+04</td> <td>   -0.061</td> <td> 0.951</td> <td> -1.5e+05</td> <td> 1.41e+05</td>\n",
       "</tr>\n",
       "<tr>\n",
       "  <th>RoofMatl_WdShngl</th>      <td>-2.532e+04</td> <td> 6.39e+04</td> <td>   -0.396</td> <td> 0.692</td> <td>-1.51e+05</td> <td>    1e+05</td>\n",
       "</tr>\n",
       "<tr>\n",
       "  <th>Exterior1st_AsphShn</th>   <td> 6.262e-10</td> <td> 5.16e-10</td> <td>    1.214</td> <td> 0.225</td> <td>-3.87e-10</td> <td> 1.64e-09</td>\n",
       "</tr>\n",
       "<tr>\n",
       "  <th>Exterior1st_BrkComm</th>   <td> 1.422e+05</td> <td> 1.05e+05</td> <td>    1.350</td> <td> 0.178</td> <td>-6.47e+04</td> <td> 3.49e+05</td>\n",
       "</tr>\n",
       "<tr>\n",
       "  <th>Exterior1st_BrkFace</th>   <td>-4.349e+04</td> <td> 4.06e+04</td> <td>   -1.071</td> <td> 0.285</td> <td>-1.23e+05</td> <td> 3.63e+04</td>\n",
       "</tr>\n",
       "<tr>\n",
       "  <th>Exterior1st_CBlock</th>    <td> 7.694e-11</td> <td> 3.09e-10</td> <td>    0.249</td> <td> 0.804</td> <td>-5.31e-10</td> <td> 6.84e-10</td>\n",
       "</tr>\n",
       "<tr>\n",
       "  <th>Exterior1st_CemntBd</th>   <td>-4.028e+04</td> <td> 4.09e+04</td> <td>   -0.985</td> <td> 0.325</td> <td>-1.21e+05</td> <td> 4.01e+04</td>\n",
       "</tr>\n",
       "<tr>\n",
       "  <th>Exterior1st_HdBoard</th>   <td>-1.813e+04</td> <td> 3.69e+04</td> <td>   -0.492</td> <td> 0.623</td> <td>-9.05e+04</td> <td> 5.43e+04</td>\n",
       "</tr>\n",
       "<tr>\n",
       "  <th>Exterior1st_ImStucc</th>   <td>-6.467e-10</td> <td> 3.99e-10</td> <td>   -1.619</td> <td> 0.106</td> <td>-1.43e-09</td> <td> 1.38e-10</td>\n",
       "</tr>\n",
       "<tr>\n",
       "  <th>Exterior1st_MetalSd</th>   <td>-2.537e+04</td> <td> 3.62e+04</td> <td>   -0.701</td> <td> 0.484</td> <td>-9.65e+04</td> <td> 4.57e+04</td>\n",
       "</tr>\n",
       "<tr>\n",
       "  <th>Exterior1st_Plywood</th>   <td>-2.283e+04</td> <td> 3.84e+04</td> <td>   -0.595</td> <td> 0.552</td> <td>-9.82e+04</td> <td> 5.25e+04</td>\n",
       "</tr>\n",
       "<tr>\n",
       "  <th>Exterior1st_Stone</th>     <td> 2.628e-10</td> <td> 2.58e-10</td> <td>    1.019</td> <td> 0.309</td> <td>-2.44e-10</td> <td> 7.69e-10</td>\n",
       "</tr>\n",
       "<tr>\n",
       "  <th>Exterior1st_Stucco</th>    <td>-4676.3459</td> <td> 4.18e+04</td> <td>   -0.112</td> <td> 0.911</td> <td>-8.68e+04</td> <td> 7.74e+04</td>\n",
       "</tr>\n",
       "<tr>\n",
       "  <th>Exterior1st_VinylSd</th>   <td>-2.957e+04</td> <td> 3.59e+04</td> <td>   -0.824</td> <td> 0.410</td> <td>   -1e+05</td> <td> 4.09e+04</td>\n",
       "</tr>\n",
       "<tr>\n",
       "  <th>Exterior1st_WdShing</th>   <td> -4.43e+04</td> <td> 4.37e+04</td> <td>   -1.013</td> <td> 0.311</td> <td> -1.3e+05</td> <td> 4.16e+04</td>\n",
       "</tr>\n",
       "<tr>\n",
       "  <th>Exterior1st_Wd_Sdng</th>   <td>-1.982e+04</td> <td> 3.55e+04</td> <td>   -0.559</td> <td> 0.577</td> <td>-8.95e+04</td> <td> 4.99e+04</td>\n",
       "</tr>\n",
       "<tr>\n",
       "  <th>MasVnrType_BrkFace</th>    <td>-9410.6896</td> <td> 2.99e+04</td> <td>   -0.315</td> <td> 0.753</td> <td>-6.81e+04</td> <td> 4.93e+04</td>\n",
       "</tr>\n",
       "<tr>\n",
       "  <th>MasVnrType_None</th>       <td>-2.371e+04</td> <td> 2.93e+04</td> <td>   -0.809</td> <td> 0.419</td> <td>-8.13e+04</td> <td> 3.39e+04</td>\n",
       "</tr>\n",
       "<tr>\n",
       "  <th>MasVnrType_Stone</th>      <td>-2654.2632</td> <td> 3.21e+04</td> <td>   -0.083</td> <td> 0.934</td> <td>-6.58e+04</td> <td> 6.05e+04</td>\n",
       "</tr>\n",
       "<tr>\n",
       "  <th>Foundation_CBlock</th>     <td> 6884.6640</td> <td> 1.62e+04</td> <td>    0.425</td> <td> 0.671</td> <td>-2.49e+04</td> <td> 3.87e+04</td>\n",
       "</tr>\n",
       "<tr>\n",
       "  <th>Foundation_PConc</th>      <td> 6503.4442</td> <td> 1.78e+04</td> <td>    0.366</td> <td> 0.715</td> <td>-2.84e+04</td> <td> 4.14e+04</td>\n",
       "</tr>\n",
       "<tr>\n",
       "  <th>Foundation_Slab</th>       <td> 5859.3399</td> <td> 4.29e+04</td> <td>    0.136</td> <td> 0.892</td> <td>-7.85e+04</td> <td> 9.02e+04</td>\n",
       "</tr>\n",
       "<tr>\n",
       "  <th>Foundation_Stone</th>      <td> 2294.9224</td> <td>  7.1e+04</td> <td>    0.032</td> <td> 0.974</td> <td>-1.37e+05</td> <td> 1.42e+05</td>\n",
       "</tr>\n",
       "<tr>\n",
       "  <th>Foundation_Wood</th>       <td> 1.912e+04</td> <td> 9.48e+04</td> <td>    0.202</td> <td> 0.840</td> <td>-1.67e+05</td> <td> 2.05e+05</td>\n",
       "</tr>\n",
       "<tr>\n",
       "  <th>Heating_GasA</th>          <td> 2.586e+04</td> <td> 3.82e+04</td> <td>    0.677</td> <td> 0.499</td> <td>-4.91e+04</td> <td> 1.01e+05</td>\n",
       "</tr>\n",
       "<tr>\n",
       "  <th>Heating_GasW</th>          <td>-1.064e+04</td> <td>  4.5e+04</td> <td>   -0.236</td> <td> 0.813</td> <td>-9.91e+04</td> <td> 7.78e+04</td>\n",
       "</tr>\n",
       "<tr>\n",
       "  <th>Heating_Grav</th>          <td> -2.05e+04</td> <td> 5.69e+04</td> <td>   -0.360</td> <td> 0.719</td> <td>-1.32e+05</td> <td> 9.12e+04</td>\n",
       "</tr>\n",
       "<tr>\n",
       "  <th>Heating_OthW</th>          <td> 5.307e-11</td> <td> 2.03e-10</td> <td>    0.261</td> <td> 0.794</td> <td>-3.47e-10</td> <td> 4.53e-10</td>\n",
       "</tr>\n",
       "<tr>\n",
       "  <th>Heating_Wall</th>          <td> -1.68e+04</td> <td> 6.88e+04</td> <td>   -0.244</td> <td> 0.807</td> <td>-1.52e+05</td> <td> 1.18e+05</td>\n",
       "</tr>\n",
       "<tr>\n",
       "  <th>CentralAir_Y</th>          <td> 6669.8279</td> <td> 2.07e+04</td> <td>    0.322</td> <td> 0.748</td> <td>-3.41e+04</td> <td> 4.74e+04</td>\n",
       "</tr>\n",
       "<tr>\n",
       "  <th>Electrical_FuseF</th>      <td> 6.786e+04</td> <td> 2.92e+04</td> <td>    2.324</td> <td> 0.020</td> <td> 1.05e+04</td> <td> 1.25e+05</td>\n",
       "</tr>\n",
       "<tr>\n",
       "  <th>Electrical_FuseP</th>      <td>-3.804e+04</td> <td> 6.95e+04</td> <td>   -0.547</td> <td> 0.584</td> <td>-1.75e+05</td> <td> 9.85e+04</td>\n",
       "</tr>\n",
       "<tr>\n",
       "  <th>Electrical_Mix</th>        <td>-6.672e+04</td> <td> 1.06e+05</td> <td>   -0.627</td> <td> 0.531</td> <td>-2.76e+05</td> <td> 1.42e+05</td>\n",
       "</tr>\n",
       "<tr>\n",
       "  <th>Electrical_SBrkr</th>      <td> 1.891e+04</td> <td> 1.52e+04</td> <td>    1.248</td> <td> 0.212</td> <td>-1.08e+04</td> <td> 4.87e+04</td>\n",
       "</tr>\n",
       "<tr>\n",
       "  <th>Functional_Maj2</th>       <td> 4.707e+04</td> <td> 6.77e+04</td> <td>    0.695</td> <td> 0.487</td> <td>-8.59e+04</td> <td>  1.8e+05</td>\n",
       "</tr>\n",
       "<tr>\n",
       "  <th>Functional_Min1</th>       <td>-4606.7973</td> <td> 4.78e+04</td> <td>   -0.096</td> <td> 0.923</td> <td>-9.86e+04</td> <td> 8.94e+04</td>\n",
       "</tr>\n",
       "<tr>\n",
       "  <th>Functional_Min2</th>       <td>-8305.3329</td> <td> 5.03e+04</td> <td>   -0.165</td> <td> 0.869</td> <td>-1.07e+05</td> <td> 9.04e+04</td>\n",
       "</tr>\n",
       "<tr>\n",
       "  <th>Functional_Mod</th>        <td> 5287.7749</td> <td>  5.6e+04</td> <td>    0.094</td> <td> 0.925</td> <td>-1.05e+05</td> <td> 1.15e+05</td>\n",
       "</tr>\n",
       "<tr>\n",
       "  <th>Functional_Sev</th>        <td> 9.055e+04</td> <td> 1.27e+05</td> <td>    0.715</td> <td> 0.475</td> <td>-1.58e+05</td> <td> 3.39e+05</td>\n",
       "</tr>\n",
       "<tr>\n",
       "  <th>Functional_Typ</th>        <td>-2259.4542</td> <td> 4.19e+04</td> <td>   -0.054</td> <td> 0.957</td> <td>-8.45e+04</td> <td>    8e+04</td>\n",
       "</tr>\n",
       "<tr>\n",
       "  <th>GarageType_Attchd</th>     <td> 4.683e+04</td> <td> 6.31e+04</td> <td>    0.742</td> <td> 0.458</td> <td>-7.71e+04</td> <td> 1.71e+05</td>\n",
       "</tr>\n",
       "<tr>\n",
       "  <th>GarageType_Basment</th>    <td> 3.979e+04</td> <td> 7.64e+04</td> <td>    0.521</td> <td> 0.603</td> <td> -1.1e+05</td> <td>  1.9e+05</td>\n",
       "</tr>\n",
       "<tr>\n",
       "  <th>GarageType_BuiltIn</th>    <td> 1.561e+04</td> <td> 6.47e+04</td> <td>    0.241</td> <td> 0.810</td> <td>-1.12e+05</td> <td> 1.43e+05</td>\n",
       "</tr>\n",
       "<tr>\n",
       "  <th>GarageType_CarPort</th>    <td> 1.868e+04</td> <td> 8.18e+04</td> <td>    0.228</td> <td> 0.819</td> <td>-1.42e+05</td> <td> 1.79e+05</td>\n",
       "</tr>\n",
       "<tr>\n",
       "  <th>GarageType_Detchd</th>     <td> 6.349e+04</td> <td>  6.3e+04</td> <td>    1.008</td> <td> 0.314</td> <td>-6.02e+04</td> <td> 1.87e+05</td>\n",
       "</tr>\n",
       "<tr>\n",
       "  <th>GarageType_NoGarage</th>   <td> 5.197e+04</td> <td> 5.51e+04</td> <td>    0.943</td> <td> 0.346</td> <td>-5.63e+04</td> <td>  1.6e+05</td>\n",
       "</tr>\n",
       "<tr>\n",
       "  <th>PavedDrive_P</th>          <td>-5.842e+04</td> <td> 3.02e+04</td> <td>   -1.935</td> <td> 0.054</td> <td>-1.18e+05</td> <td>  897.560</td>\n",
       "</tr>\n",
       "<tr>\n",
       "  <th>PavedDrive_Y</th>          <td>-2.951e+04</td> <td> 1.79e+04</td> <td>   -1.644</td> <td> 0.101</td> <td>-6.48e+04</td> <td> 5738.529</td>\n",
       "</tr>\n",
       "<tr>\n",
       "  <th>Fence_GdWo</th>            <td> 4759.6539</td> <td> 2.63e+04</td> <td>    0.181</td> <td> 0.856</td> <td>-4.68e+04</td> <td> 5.63e+04</td>\n",
       "</tr>\n",
       "<tr>\n",
       "  <th>Fence_MnPrv</th>           <td> 1.848e+04</td> <td>  2.1e+04</td> <td>    0.878</td> <td> 0.380</td> <td>-2.28e+04</td> <td> 5.98e+04</td>\n",
       "</tr>\n",
       "<tr>\n",
       "  <th>Fence_MnWw</th>            <td> 1.987e+04</td> <td> 4.32e+04</td> <td>    0.460</td> <td> 0.646</td> <td> -6.5e+04</td> <td> 1.05e+05</td>\n",
       "</tr>\n",
       "<tr>\n",
       "  <th>Fence_NoFence</th>         <td> 1.038e+04</td> <td> 1.95e+04</td> <td>    0.532</td> <td> 0.595</td> <td>-2.79e+04</td> <td> 4.87e+04</td>\n",
       "</tr>\n",
       "<tr>\n",
       "  <th>MoSold_2</th>              <td> 2402.1736</td> <td> 2.53e+04</td> <td>    0.095</td> <td> 0.924</td> <td>-4.73e+04</td> <td> 5.21e+04</td>\n",
       "</tr>\n",
       "<tr>\n",
       "  <th>MoSold_3</th>              <td> 4.682e+04</td> <td> 2.24e+04</td> <td>    2.094</td> <td> 0.037</td> <td> 2904.942</td> <td> 9.07e+04</td>\n",
       "</tr>\n",
       "<tr>\n",
       "  <th>MoSold_4</th>              <td>  4.06e+04</td> <td> 2.17e+04</td> <td>    1.875</td> <td> 0.061</td> <td>-1932.256</td> <td> 8.31e+04</td>\n",
       "</tr>\n",
       "<tr>\n",
       "  <th>MoSold_5</th>              <td> 2.169e+04</td> <td> 2.07e+04</td> <td>    1.047</td> <td> 0.296</td> <td> -1.9e+04</td> <td> 6.24e+04</td>\n",
       "</tr>\n",
       "<tr>\n",
       "  <th>MoSold_6</th>              <td> 2.745e+04</td> <td> 2.04e+04</td> <td>    1.347</td> <td> 0.178</td> <td>-1.26e+04</td> <td> 6.75e+04</td>\n",
       "</tr>\n",
       "<tr>\n",
       "  <th>MoSold_7</th>              <td> 2.807e+04</td> <td> 2.03e+04</td> <td>    1.381</td> <td> 0.168</td> <td>-1.18e+04</td> <td>  6.8e+04</td>\n",
       "</tr>\n",
       "<tr>\n",
       "  <th>MoSold_8</th>              <td> 2.847e+04</td> <td> 2.15e+04</td> <td>    1.321</td> <td> 0.187</td> <td>-1.38e+04</td> <td> 7.08e+04</td>\n",
       "</tr>\n",
       "<tr>\n",
       "  <th>MoSold_9</th>              <td>  4.25e+04</td> <td> 2.41e+04</td> <td>    1.766</td> <td> 0.078</td> <td>-4757.029</td> <td> 8.97e+04</td>\n",
       "</tr>\n",
       "<tr>\n",
       "  <th>MoSold_10</th>             <td> 2.724e+04</td> <td> 2.37e+04</td> <td>    1.149</td> <td> 0.251</td> <td>-1.93e+04</td> <td> 7.38e+04</td>\n",
       "</tr>\n",
       "<tr>\n",
       "  <th>MoSold_11</th>             <td> 3.669e+04</td> <td> 2.54e+04</td> <td>    1.446</td> <td> 0.149</td> <td>-1.31e+04</td> <td> 8.65e+04</td>\n",
       "</tr>\n",
       "<tr>\n",
       "  <th>MoSold_12</th>             <td>  6.16e+04</td> <td> 2.37e+04</td> <td>    2.599</td> <td> 0.010</td> <td>  1.5e+04</td> <td> 1.08e+05</td>\n",
       "</tr>\n",
       "<tr>\n",
       "  <th>SaleType_CWD</th>          <td>-8.393e+04</td> <td> 9.85e+04</td> <td>   -0.852</td> <td> 0.395</td> <td>-2.77e+05</td> <td>  1.1e+05</td>\n",
       "</tr>\n",
       "<tr>\n",
       "  <th>SaleType_Con</th>          <td>-9.967e+04</td> <td>  7.3e+04</td> <td>   -1.365</td> <td> 0.173</td> <td>-2.43e+05</td> <td> 4.38e+04</td>\n",
       "</tr>\n",
       "<tr>\n",
       "  <th>SaleType_ConLD</th>        <td>-7.913e+04</td> <td> 5.56e+04</td> <td>   -1.423</td> <td> 0.155</td> <td>-1.88e+05</td> <td> 3.01e+04</td>\n",
       "</tr>\n",
       "<tr>\n",
       "  <th>SaleType_ConLI</th>        <td>-1.182e+04</td> <td> 4.74e+04</td> <td>   -0.249</td> <td> 0.803</td> <td>-1.05e+05</td> <td> 8.13e+04</td>\n",
       "</tr>\n",
       "<tr>\n",
       "  <th>SaleType_ConLw</th>        <td>-3.293e+04</td> <td> 5.56e+04</td> <td>   -0.592</td> <td> 0.554</td> <td>-1.42e+05</td> <td> 7.63e+04</td>\n",
       "</tr>\n",
       "<tr>\n",
       "  <th>SaleType_New</th>          <td>  -75.7452</td> <td> 7.74e+04</td> <td>   -0.001</td> <td> 0.999</td> <td>-1.52e+05</td> <td> 1.52e+05</td>\n",
       "</tr>\n",
       "<tr>\n",
       "  <th>SaleType_Oth</th>          <td>-1.161e-10</td> <td> 1.59e-10</td> <td>   -0.729</td> <td> 0.466</td> <td>-4.29e-10</td> <td> 1.97e-10</td>\n",
       "</tr>\n",
       "<tr>\n",
       "  <th>SaleType_WD</th>           <td>-3.878e+04</td> <td>  2.3e+04</td> <td>   -1.683</td> <td> 0.093</td> <td> -8.4e+04</td> <td> 6490.177</td>\n",
       "</tr>\n",
       "<tr>\n",
       "  <th>SaleCondition_AdjLand</th> <td> 7285.0675</td> <td>  6.5e+04</td> <td>    0.112</td> <td> 0.911</td> <td> -1.2e+05</td> <td> 1.35e+05</td>\n",
       "</tr>\n",
       "<tr>\n",
       "  <th>SaleCondition_Alloca</th>  <td> 1.663e+04</td> <td> 5.09e+04</td> <td>    0.327</td> <td> 0.744</td> <td>-8.33e+04</td> <td> 1.17e+05</td>\n",
       "</tr>\n",
       "<tr>\n",
       "  <th>SaleCondition_Family</th>  <td> 3185.6818</td> <td> 3.53e+04</td> <td>    0.090</td> <td> 0.928</td> <td>-6.62e+04</td> <td> 7.26e+04</td>\n",
       "</tr>\n",
       "<tr>\n",
       "  <th>SaleCondition_Normal</th>  <td> 6428.6839</td> <td> 1.55e+04</td> <td>    0.415</td> <td> 0.678</td> <td> -2.4e+04</td> <td> 3.68e+04</td>\n",
       "</tr>\n",
       "<tr>\n",
       "  <th>SaleCondition_Partial</th> <td>-3.661e+04</td> <td> 7.47e+04</td> <td>   -0.490</td> <td> 0.624</td> <td>-1.83e+05</td> <td>  1.1e+05</td>\n",
       "</tr>\n",
       "<tr>\n",
       "  <th>BsmtFullBath_1</th>        <td> 1.357e+04</td> <td> 7935.009</td> <td>    1.711</td> <td> 0.088</td> <td>-2011.450</td> <td> 2.92e+04</td>\n",
       "</tr>\n",
       "<tr>\n",
       "  <th>BsmtFullBath_2</th>        <td> 1599.1417</td> <td> 4.97e+04</td> <td>    0.032</td> <td> 0.974</td> <td>-9.59e+04</td> <td> 9.91e+04</td>\n",
       "</tr>\n",
       "<tr>\n",
       "  <th>BsmtFullBath_3</th>        <td> 7.392e+04</td> <td> 1.17e+05</td> <td>    0.634</td> <td> 0.527</td> <td>-1.55e+05</td> <td> 3.03e+05</td>\n",
       "</tr>\n",
       "<tr>\n",
       "  <th>BsmtHalfBath_1</th>        <td> 6622.0805</td> <td> 1.57e+04</td> <td>    0.421</td> <td> 0.674</td> <td>-2.43e+04</td> <td> 3.75e+04</td>\n",
       "</tr>\n",
       "<tr>\n",
       "  <th>BsmtHalfBath_2</th>        <td>-1.449e+04</td> <td> 1.23e+05</td> <td>   -0.118</td> <td> 0.906</td> <td>-2.57e+05</td> <td> 2.28e+05</td>\n",
       "</tr>\n",
       "<tr>\n",
       "  <th>FullBath_1</th>            <td>-3.641e+04</td> <td> 7.16e+04</td> <td>   -0.508</td> <td> 0.612</td> <td>-1.77e+05</td> <td> 1.04e+05</td>\n",
       "</tr>\n",
       "<tr>\n",
       "  <th>FullBath_2</th>            <td>-3.833e+04</td> <td> 7.32e+04</td> <td>   -0.523</td> <td> 0.601</td> <td>-1.82e+05</td> <td> 1.05e+05</td>\n",
       "</tr>\n",
       "<tr>\n",
       "  <th>FullBath_3</th>            <td>-5.908e+04</td> <td> 7.86e+04</td> <td>   -0.751</td> <td> 0.453</td> <td>-2.14e+05</td> <td> 9.54e+04</td>\n",
       "</tr>\n",
       "<tr>\n",
       "  <th>HalfBath_1</th>            <td> 1.219e+04</td> <td> 1.14e+04</td> <td>    1.071</td> <td> 0.285</td> <td>-1.02e+04</td> <td> 3.45e+04</td>\n",
       "</tr>\n",
       "<tr>\n",
       "  <th>HalfBath_2</th>            <td>-5.496e+04</td> <td> 5.72e+04</td> <td>   -0.960</td> <td> 0.337</td> <td>-1.67e+05</td> <td> 5.75e+04</td>\n",
       "</tr>\n",
       "<tr>\n",
       "  <th>BedroomAbvGr_1</th>        <td> 5.927e+04</td> <td> 7.15e+04</td> <td>    0.829</td> <td> 0.408</td> <td>-8.12e+04</td> <td>    2e+05</td>\n",
       "</tr>\n",
       "<tr>\n",
       "  <th>BedroomAbvGr_2</th>        <td> 4.349e+04</td> <td> 7.13e+04</td> <td>    0.610</td> <td> 0.542</td> <td>-9.65e+04</td> <td> 1.83e+05</td>\n",
       "</tr>\n",
       "<tr>\n",
       "  <th>BedroomAbvGr_3</th>        <td> 4.497e+04</td> <td> 7.23e+04</td> <td>    0.622</td> <td> 0.534</td> <td> -9.7e+04</td> <td> 1.87e+05</td>\n",
       "</tr>\n",
       "<tr>\n",
       "  <th>BedroomAbvGr_4</th>        <td> 9.229e+04</td> <td>  7.4e+04</td> <td>    1.248</td> <td> 0.213</td> <td> -5.3e+04</td> <td> 2.38e+05</td>\n",
       "</tr>\n",
       "<tr>\n",
       "  <th>BedroomAbvGr_5</th>        <td> 1.074e+05</td> <td> 9.12e+04</td> <td>    1.177</td> <td> 0.240</td> <td>-7.18e+04</td> <td> 2.87e+05</td>\n",
       "</tr>\n",
       "<tr>\n",
       "  <th>BedroomAbvGr_6</th>        <td> 3.532e+04</td> <td> 9.34e+04</td> <td>    0.378</td> <td> 0.706</td> <td>-1.48e+05</td> <td> 2.19e+05</td>\n",
       "</tr>\n",
       "<tr>\n",
       "  <th>BedroomAbvGr_8</th>        <td> 3.832e+04</td> <td> 9.01e+04</td> <td>    0.425</td> <td> 0.671</td> <td>-1.39e+05</td> <td> 2.15e+05</td>\n",
       "</tr>\n",
       "<tr>\n",
       "  <th>KitchenAbvGr_1</th>        <td> -1.43e+04</td> <td> 4.92e+04</td> <td>   -0.291</td> <td> 0.771</td> <td>-1.11e+05</td> <td> 8.23e+04</td>\n",
       "</tr>\n",
       "<tr>\n",
       "  <th>KitchenAbvGr_2</th>        <td>-3.172e+04</td> <td> 4.99e+04</td> <td>   -0.636</td> <td> 0.525</td> <td> -1.3e+05</td> <td> 6.63e+04</td>\n",
       "</tr>\n",
       "<tr>\n",
       "  <th>KitchenAbvGr_3</th>        <td> 2.395e+04</td> <td> 7.88e+04</td> <td>    0.304</td> <td> 0.761</td> <td>-1.31e+05</td> <td> 1.79e+05</td>\n",
       "</tr>\n",
       "<tr>\n",
       "  <th>TotRmsAbvGrd_3</th>        <td> 1.453e+05</td> <td>  1.2e+05</td> <td>    1.213</td> <td> 0.226</td> <td>-8.99e+04</td> <td>  3.8e+05</td>\n",
       "</tr>\n",
       "<tr>\n",
       "  <th>TotRmsAbvGrd_4</th>        <td> 1.392e+05</td> <td> 1.13e+05</td> <td>    1.232</td> <td> 0.219</td> <td>-8.28e+04</td> <td> 3.61e+05</td>\n",
       "</tr>\n",
       "<tr>\n",
       "  <th>TotRmsAbvGrd_5</th>        <td> 1.164e+05</td> <td> 1.13e+05</td> <td>    1.032</td> <td> 0.303</td> <td>-1.05e+05</td> <td> 3.38e+05</td>\n",
       "</tr>\n",
       "<tr>\n",
       "  <th>TotRmsAbvGrd_6</th>        <td> 1.173e+05</td> <td> 1.13e+05</td> <td>    1.036</td> <td> 0.301</td> <td>-1.05e+05</td> <td>  3.4e+05</td>\n",
       "</tr>\n",
       "<tr>\n",
       "  <th>TotRmsAbvGrd_7</th>        <td> 1.189e+05</td> <td> 1.13e+05</td> <td>    1.048</td> <td> 0.295</td> <td>-1.04e+05</td> <td> 3.42e+05</td>\n",
       "</tr>\n",
       "<tr>\n",
       "  <th>TotRmsAbvGrd_8</th>        <td> 1.178e+05</td> <td> 1.14e+05</td> <td>    1.036</td> <td> 0.300</td> <td>-1.05e+05</td> <td> 3.41e+05</td>\n",
       "</tr>\n",
       "<tr>\n",
       "  <th>TotRmsAbvGrd_9</th>        <td>  9.17e+04</td> <td> 1.15e+05</td> <td>    0.798</td> <td> 0.425</td> <td>-1.34e+05</td> <td> 3.17e+05</td>\n",
       "</tr>\n",
       "<tr>\n",
       "  <th>TotRmsAbvGrd_10</th>       <td> 9.538e+04</td> <td> 1.17e+05</td> <td>    0.814</td> <td> 0.416</td> <td>-1.35e+05</td> <td> 3.26e+05</td>\n",
       "</tr>\n",
       "<tr>\n",
       "  <th>TotRmsAbvGrd_11</th>       <td> 6.119e+04</td> <td> 1.24e+05</td> <td>    0.494</td> <td> 0.622</td> <td>-1.82e+05</td> <td> 3.05e+05</td>\n",
       "</tr>\n",
       "<tr>\n",
       "  <th>TotRmsAbvGrd_12</th>       <td> 7.805e+04</td> <td> 1.68e+05</td> <td>    0.464</td> <td> 0.643</td> <td>-2.53e+05</td> <td> 4.09e+05</td>\n",
       "</tr>\n",
       "<tr>\n",
       "  <th>TotRmsAbvGrd_14</th>       <td> 3.832e+04</td> <td> 9.01e+04</td> <td>    0.425</td> <td> 0.671</td> <td>-1.39e+05</td> <td> 2.15e+05</td>\n",
       "</tr>\n",
       "<tr>\n",
       "  <th>Fireplaces_1</th>          <td> 7581.8002</td> <td> 8829.613</td> <td>    0.859</td> <td> 0.391</td> <td>-9761.677</td> <td> 2.49e+04</td>\n",
       "</tr>\n",
       "<tr>\n",
       "  <th>Fireplaces_2</th>          <td> 5426.6606</td> <td> 1.49e+04</td> <td>    0.365</td> <td> 0.715</td> <td>-2.38e+04</td> <td> 3.46e+04</td>\n",
       "</tr>\n",
       "<tr>\n",
       "  <th>Fireplaces_3</th>          <td>-3.678e+04</td> <td> 4.65e+04</td> <td>   -0.790</td> <td> 0.430</td> <td>-1.28e+05</td> <td> 5.46e+04</td>\n",
       "</tr>\n",
       "<tr>\n",
       "  <th>GarageCars_1</th>          <td>-3291.1331</td> <td> 3.26e+04</td> <td>   -0.101</td> <td> 0.920</td> <td>-6.73e+04</td> <td> 6.07e+04</td>\n",
       "</tr>\n",
       "<tr>\n",
       "  <th>GarageCars_2</th>          <td> 2207.5496</td> <td> 3.14e+04</td> <td>    0.070</td> <td> 0.944</td> <td>-5.95e+04</td> <td> 6.39e+04</td>\n",
       "</tr>\n",
       "<tr>\n",
       "  <th>GarageCars_3</th>          <td>-7036.5072</td> <td> 3.18e+04</td> <td>   -0.221</td> <td> 0.825</td> <td>-6.96e+04</td> <td> 5.55e+04</td>\n",
       "</tr>\n",
       "<tr>\n",
       "  <th>GarageCars_4</th>          <td>-6.593e+04</td> <td> 7.89e+04</td> <td>   -0.836</td> <td> 0.404</td> <td>-2.21e+05</td> <td>  8.9e+04</td>\n",
       "</tr>\n",
       "<tr>\n",
       "  <th>LotFrontage</th>           <td> 2095.9540</td> <td> 5495.214</td> <td>    0.381</td> <td> 0.703</td> <td>-8697.964</td> <td> 1.29e+04</td>\n",
       "</tr>\n",
       "<tr>\n",
       "  <th>LotArea</th>               <td> 1.331e+04</td> <td> 1.16e+04</td> <td>    1.152</td> <td> 0.250</td> <td>-9389.360</td> <td>  3.6e+04</td>\n",
       "</tr>\n",
       "<tr>\n",
       "  <th>OverallQual</th>           <td>-6929.3968</td> <td> 7540.623</td> <td>   -0.919</td> <td> 0.359</td> <td>-2.17e+04</td> <td> 7882.194</td>\n",
       "</tr>\n",
       "<tr>\n",
       "  <th>OverallCond</th>           <td> 1.131e+04</td> <td> 5380.976</td> <td>    2.102</td> <td> 0.036</td> <td>  740.871</td> <td> 2.19e+04</td>\n",
       "</tr>\n",
       "<tr>\n",
       "  <th>YearBuilt</th>             <td> 2.148e+04</td> <td> 9051.661</td> <td>    2.374</td> <td> 0.018</td> <td> 3704.515</td> <td> 3.93e+04</td>\n",
       "</tr>\n",
       "<tr>\n",
       "  <th>MasVnrArea</th>            <td> 1505.4094</td> <td> 5455.365</td> <td>    0.276</td> <td> 0.783</td> <td>-9210.236</td> <td> 1.22e+04</td>\n",
       "</tr>\n",
       "<tr>\n",
       "  <th>ExterQual</th>             <td> 4833.2513</td> <td> 7460.413</td> <td>    0.648</td> <td> 0.517</td> <td>-9820.789</td> <td> 1.95e+04</td>\n",
       "</tr>\n",
       "<tr>\n",
       "  <th>ExterCond</th>             <td>  537.6713</td> <td> 1.47e+04</td> <td>    0.037</td> <td> 0.971</td> <td>-2.84e+04</td> <td> 2.94e+04</td>\n",
       "</tr>\n",
       "<tr>\n",
       "  <th>BsmtQual</th>              <td>-3903.3663</td> <td> 7437.071</td> <td>   -0.525</td> <td> 0.600</td> <td>-1.85e+04</td> <td> 1.07e+04</td>\n",
       "</tr>\n",
       "<tr>\n",
       "  <th>BsmtCond</th>              <td> -1.17e+04</td> <td> 1.14e+04</td> <td>   -1.027</td> <td> 0.305</td> <td>-3.41e+04</td> <td> 1.07e+04</td>\n",
       "</tr>\n",
       "<tr>\n",
       "  <th>BsmtExposure</th>          <td>-2178.0577</td> <td> 4239.292</td> <td>   -0.514</td> <td> 0.608</td> <td>-1.05e+04</td> <td> 6148.929</td>\n",
       "</tr>\n",
       "<tr>\n",
       "  <th>BsmtFinType1</th>          <td>-6028.3121</td> <td> 5178.075</td> <td>   -1.164</td> <td> 0.245</td> <td>-1.62e+04</td> <td> 4142.668</td>\n",
       "</tr>\n",
       "<tr>\n",
       "  <th>BsmtFinSF1</th>            <td> 1.629e+04</td> <td> 1.31e+04</td> <td>    1.242</td> <td> 0.215</td> <td>-9476.632</td> <td>  4.2e+04</td>\n",
       "</tr>\n",
       "<tr>\n",
       "  <th>BsmtFinType2</th>          <td> 4089.1838</td> <td> 1.11e+04</td> <td>    0.369</td> <td> 0.713</td> <td>-1.77e+04</td> <td> 2.59e+04</td>\n",
       "</tr>\n",
       "<tr>\n",
       "  <th>BsmtFinSF2</th>            <td>-7482.2604</td> <td> 1.51e+04</td> <td>   -0.495</td> <td> 0.621</td> <td>-3.72e+04</td> <td> 2.22e+04</td>\n",
       "</tr>\n",
       "<tr>\n",
       "  <th>BsmtUnfSF</th>             <td> 4873.8089</td> <td> 1.21e+04</td> <td>    0.404</td> <td> 0.686</td> <td>-1.88e+04</td> <td> 2.85e+04</td>\n",
       "</tr>\n",
       "<tr>\n",
       "  <th>HeatingQC</th>             <td> 4753.5515</td> <td> 4815.067</td> <td>    0.987</td> <td> 0.324</td> <td>-4704.395</td> <td> 1.42e+04</td>\n",
       "</tr>\n",
       "<tr>\n",
       "  <th>LowQualFinSF</th>          <td>-1.674e+04</td> <td> 3.57e+04</td> <td>   -0.469</td> <td> 0.639</td> <td>-8.68e+04</td> <td> 5.34e+04</td>\n",
       "</tr>\n",
       "<tr>\n",
       "  <th>GrLivArea</th>             <td> -446.5788</td> <td> 4693.589</td> <td>   -0.095</td> <td> 0.924</td> <td>-9665.914</td> <td> 8772.756</td>\n",
       "</tr>\n",
       "<tr>\n",
       "  <th>KitchenQual</th>           <td>-1.167e+04</td> <td> 8244.974</td> <td>   -1.415</td> <td> 0.158</td> <td>-2.79e+04</td> <td> 4527.007</td>\n",
       "</tr>\n",
       "<tr>\n",
       "  <th>GarageFinish</th>          <td>-1449.2676</td> <td> 5008.381</td> <td>   -0.289</td> <td> 0.772</td> <td>-1.13e+04</td> <td> 8388.394</td>\n",
       "</tr>\n",
       "<tr>\n",
       "  <th>GarageArea</th>            <td> 4988.6911</td> <td> 6128.379</td> <td>    0.814</td> <td> 0.416</td> <td>-7048.915</td> <td>  1.7e+04</td>\n",
       "</tr>\n",
       "<tr>\n",
       "  <th>GarageQual</th>            <td>-1.848e+04</td> <td> 1.29e+04</td> <td>   -1.430</td> <td> 0.153</td> <td>-4.39e+04</td> <td> 6906.762</td>\n",
       "</tr>\n",
       "<tr>\n",
       "  <th>GarageCond</th>            <td>-1.409e+04</td> <td> 1.47e+04</td> <td>   -0.961</td> <td> 0.337</td> <td>-4.29e+04</td> <td> 1.47e+04</td>\n",
       "</tr>\n",
       "<tr>\n",
       "  <th>WoodDeckSF</th>            <td>-5495.4615</td> <td> 4626.814</td> <td>   -1.188</td> <td> 0.235</td> <td>-1.46e+04</td> <td> 3592.712</td>\n",
       "</tr>\n",
       "<tr>\n",
       "  <th>OpenPorchSF</th>           <td>-3128.2970</td> <td> 5481.176</td> <td>   -0.571</td> <td> 0.568</td> <td>-1.39e+04</td> <td> 7638.048</td>\n",
       "</tr>\n",
       "<tr>\n",
       "  <th>EnclosedPorch</th>         <td> 1.246e+04</td> <td> 7632.145</td> <td>    1.633</td> <td> 0.103</td> <td>-2529.117</td> <td> 2.75e+04</td>\n",
       "</tr>\n",
       "<tr>\n",
       "  <th>ScreenPorch</th>           <td> 7515.8737</td> <td> 8684.573</td> <td>    0.865</td> <td> 0.387</td> <td>-9542.710</td> <td> 2.46e+04</td>\n",
       "</tr>\n",
       "<tr>\n",
       "  <th>PoolArea</th>              <td> 1516.2368</td> <td> 8121.707</td> <td>    0.187</td> <td> 0.852</td> <td>-1.44e+04</td> <td> 1.75e+04</td>\n",
       "</tr>\n",
       "<tr>\n",
       "  <th>MiscVal</th>               <td> 2857.7859</td> <td> 2.11e+04</td> <td>    0.135</td> <td> 0.892</td> <td>-3.86e+04</td> <td> 4.43e+04</td>\n",
       "</tr>\n",
       "<tr>\n",
       "  <th>YrSold</th>                <td> 2500.0678</td> <td> 3470.810</td> <td>    0.720</td> <td> 0.472</td> <td>-4317.434</td> <td> 9317.570</td>\n",
       "</tr>\n",
       "<tr>\n",
       "  <th>ThreeSsnPorch</th>         <td>-3.191e+04</td> <td> 1.12e+05</td> <td>   -0.285</td> <td> 0.776</td> <td>-2.52e+05</td> <td> 1.88e+05</td>\n",
       "</tr>\n",
       "<tr>\n",
       "  <th>FirstFlrSF</th>            <td>-5860.7194</td> <td> 7870.804</td> <td>   -0.745</td> <td> 0.457</td> <td>-2.13e+04</td> <td> 9599.427</td>\n",
       "</tr>\n",
       "<tr>\n",
       "  <th>SecondFlrSF</th>           <td> 6517.2882</td> <td> 4357.571</td> <td>    1.496</td> <td> 0.135</td> <td>-2042.027</td> <td> 1.51e+04</td>\n",
       "</tr>\n",
       "</table>\n",
       "<table class=\"simpletable\">\n",
       "<tr>\n",
       "  <th>Omnibus:</th>       <td>150.799</td> <th>  Durbin-Watson:     </th> <td>   2.052</td>\n",
       "</tr>\n",
       "<tr>\n",
       "  <th>Prob(Omnibus):</th> <td> 0.000</td>  <th>  Jarque-Bera (JB):  </th> <td> 340.254</td>\n",
       "</tr>\n",
       "<tr>\n",
       "  <th>Skew:</th>          <td> 1.068</td>  <th>  Prob(JB):          </th> <td>1.30e-74</td>\n",
       "</tr>\n",
       "<tr>\n",
       "  <th>Kurtosis:</th>      <td> 5.481</td>  <th>  Cond. No.          </th> <td>1.03e+16</td>\n",
       "</tr>\n",
       "</table><br/><br/>Warnings:<br/>[1] Standard Errors assume that the covariance matrix of the errors is correctly specified.<br/>[2] The smallest eigenvalue is 1.38e-28. This might indicate that there are<br/>strong multicollinearity problems or that the design matrix is singular."
      ],
      "text/plain": [
       "<class 'statsmodels.iolib.summary.Summary'>\n",
       "\"\"\"\n",
       "                            OLS Regression Results                            \n",
       "==============================================================================\n",
       "Dep. Variable:              SalePrice   R-squared:                       0.245\n",
       "Model:                            OLS   Adj. R-squared:                 -0.034\n",
       "Method:                 Least Squares   F-statistic:                    0.8783\n",
       "Date:                Mon, 06 Jan 2020   Prob (F-statistic):              0.863\n",
       "Time:                        16:19:07   Log-Likelihood:                -9586.2\n",
       "No. Observations:                 762   AIC:                         1.958e+04\n",
       "Df Residuals:                     556   BIC:                         2.054e+04\n",
       "Df Model:                         205                                         \n",
       "Covariance Type:            nonrobust                                         \n",
       "=========================================================================================\n",
       "                            coef    std err          t      P>|t|      [0.025      0.975]\n",
       "-----------------------------------------------------------------------------------------\n",
       "Intercept             -2.207e+04   1.18e+05     -0.187      0.852   -2.54e+05     2.1e+05\n",
       "MSZoning_FV            9.728e+04   6.85e+04      1.420      0.156   -3.73e+04    2.32e+05\n",
       "MSZoning_RH             9.53e+04   6.68e+04      1.426      0.154    -3.6e+04    2.27e+05\n",
       "MSZoning_RL            7.297e+04    5.3e+04      1.377      0.169   -3.11e+04    1.77e+05\n",
       "MSZoning_RM            6.568e+04   4.89e+04      1.344      0.180   -3.03e+04    1.62e+05\n",
       "Street_Pave           -6.512e+04   7.17e+04     -0.908      0.364   -2.06e+05    7.58e+04\n",
       "LandContour_HLS       -5.009e+04   2.79e+04     -1.796      0.073   -1.05e+05    4690.521\n",
       "LandContour_Low       -6.013e+04   3.77e+04     -1.596      0.111   -1.34e+05    1.39e+04\n",
       "LandContour_Lvl       -1.769e+04   2.02e+04     -0.874      0.383   -5.75e+04    2.21e+04\n",
       "Utilities_NoSeWa      -1.635e-09   1.61e-09     -1.018      0.309   -4.79e-09    1.52e-09\n",
       "LotConfig_CulDSac     -8677.8203   1.64e+04     -0.530      0.596   -4.08e+04    2.35e+04\n",
       "LotConfig_FR2         -3.616e+04   2.13e+04     -1.700      0.090   -7.79e+04    5612.018\n",
       "LotConfig_FR3          9.171e+04   7.86e+04      1.166      0.244   -6.28e+04    2.46e+05\n",
       "LotConfig_Inside      -3608.9423   9013.568     -0.400      0.689   -2.13e+04    1.41e+04\n",
       "LandSlope_Mod           3.66e+04   2.51e+04      1.458      0.145   -1.27e+04    8.59e+04\n",
       "LandSlope_Sev          1.224e+04   4.58e+04      0.267      0.789   -7.77e+04    1.02e+05\n",
       "Neighborhood_Blueste   3.003e+04   1.06e+05      0.285      0.776   -1.77e+05    2.37e+05\n",
       "Neighborhood_BrDale    4.254e+04    5.7e+04      0.746      0.456   -6.95e+04    1.55e+05\n",
       "Neighborhood_BrkSide    696.5968   4.93e+04      0.014      0.989   -9.62e+04    9.76e+04\n",
       "Neighborhood_ClearCr  -3.754e+04   4.98e+04     -0.753      0.452   -1.35e+05    6.04e+04\n",
       "Neighborhood_CollgCr  -1.975e+04   4.01e+04     -0.493      0.623   -9.85e+04     5.9e+04\n",
       "Neighborhood_Crawfor  -5.078e+04   4.64e+04     -1.095      0.274   -1.42e+05    4.03e+04\n",
       "Neighborhood_Edwards  -2.185e+04   4.27e+04     -0.512      0.609   -1.06e+05     6.2e+04\n",
       "Neighborhood_Gilbert  -1.288e+04   4.26e+04     -0.302      0.763   -9.66e+04    7.08e+04\n",
       "Neighborhood_IDOTRR    -1.14e+04   5.57e+04     -0.205      0.838   -1.21e+05     9.8e+04\n",
       "Neighborhood_MeadowV  -9764.1687   5.99e+04     -0.163      0.871   -1.27e+05    1.08e+05\n",
       "Neighborhood_Mitchel   2.232e+04   4.47e+04      0.500      0.618   -6.54e+04     1.1e+05\n",
       "Neighborhood_NAmes     -2.44e+04   4.29e+04     -0.568      0.570   -1.09e+05    5.99e+04\n",
       "Neighborhood_NPkVill  -7552.8421   5.64e+04     -0.134      0.893   -1.18e+05    1.03e+05\n",
       "Neighborhood_NWAmes   -7131.2818   4.41e+04     -0.162      0.872   -9.38e+04    7.95e+04\n",
       "Neighborhood_NoRidge  -4.393e+04   4.44e+04     -0.990      0.322   -1.31e+05    4.32e+04\n",
       "Neighborhood_NridgHt    -93.0476   3.84e+04     -0.002      0.998   -7.56e+04    7.54e+04\n",
       "Neighborhood_OldTown  -2550.3202   4.94e+04     -0.052      0.959   -9.96e+04    9.45e+04\n",
       "Neighborhood_SWISU     -3.94e+04   5.51e+04     -0.715      0.475   -1.48e+05    6.88e+04\n",
       "Neighborhood_Sawyer    -2.68e+04   4.45e+04     -0.602      0.547   -1.14e+05    6.06e+04\n",
       "Neighborhood_SawyerW  -3.921e+04   4.28e+04     -0.917      0.360   -1.23e+05    4.48e+04\n",
       "Neighborhood_Somerst  -4.132e+04   5.56e+04     -0.743      0.458   -1.51e+05    6.79e+04\n",
       "Neighborhood_StoneBr   4122.5022   4.18e+04      0.099      0.922    -7.8e+04    8.63e+04\n",
       "Neighborhood_Timber    6346.1875   4.44e+04      0.143      0.886   -8.08e+04    9.35e+04\n",
       "Neighborhood_Veenker   1.176e+04   5.67e+04      0.208      0.836   -9.96e+04    1.23e+05\n",
       "Condition1_Feedr       1.329e+04   2.64e+04      0.503      0.615   -3.86e+04    6.51e+04\n",
       "Condition1_Norm        8899.0460    2.1e+04      0.424      0.672   -3.24e+04    5.02e+04\n",
       "Condition1_PosA        1.288e+04   5.29e+04      0.244      0.808    -9.1e+04    1.17e+05\n",
       "Condition1_PosN       -6.584e+04   4.07e+04     -1.617      0.106   -1.46e+05    1.41e+04\n",
       "Condition1_RRAe       -3.131e+04   4.28e+04     -0.731      0.465   -1.15e+05    5.28e+04\n",
       "Condition1_RRAn        2.242e+04   3.61e+04      0.621      0.535   -4.85e+04    9.33e+04\n",
       "Condition1_RRNe        4.948e+04   6.97e+04      0.710      0.478   -8.74e+04    1.86e+05\n",
       "Condition1_RRNn       -1.562e+05    9.7e+04     -1.610      0.108   -3.47e+05    3.44e+04\n",
       "Condition2_Feedr       1.036e+05   1.19e+05      0.872      0.384    -1.3e+05    3.37e+05\n",
       "Condition2_Norm        6.105e+04   1.05e+05      0.584      0.559   -1.44e+05    2.66e+05\n",
       "Condition2_PosA       -1.524e+04   1.54e+05     -0.099      0.921   -3.18e+05    2.88e+05\n",
       "Condition2_PosN        2.014e+05   1.51e+05      1.338      0.181   -9.43e+04    4.97e+05\n",
       "Condition2_RRAe       -1.081e-09   6.99e-10     -1.546      0.123   -2.46e-09    2.92e-10\n",
       "Condition2_RRAn        3.319e-10   8.79e-10      0.378      0.706   -1.39e-09    2.06e-09\n",
       "Condition2_RRNn        1.196e+04   1.25e+05      0.096      0.923   -2.33e+05    2.57e+05\n",
       "BldgType_2fmCon        2.778e+04   3.27e+04      0.851      0.395   -3.64e+04    9.19e+04\n",
       "BldgType_Duplex        8637.3434   4.31e+04      0.200      0.841   -7.61e+04    9.34e+04\n",
       "BldgType_Twnhs        -2.708e+04   2.87e+04     -0.943      0.346   -8.35e+04    2.93e+04\n",
       "BldgType_TwnhsE       -4411.9115   1.99e+04     -0.221      0.825   -4.36e+04    3.48e+04\n",
       "HouseStyle_1Story      1.941e+04   1.67e+04      1.160      0.246   -1.34e+04    5.23e+04\n",
       "HouseStyle_1_5Unf      3.764e+04   3.32e+04      1.133      0.258   -2.76e+04    1.03e+05\n",
       "HouseStyle_2Story      2.605e+04   1.66e+04      1.572      0.117   -6500.040    5.86e+04\n",
       "HouseStyle_2_5Fin      6171.9435   5.73e+04      0.108      0.914   -1.06e+05    1.19e+05\n",
       "HouseStyle_2_5Unf     -1185.3279    5.4e+04     -0.022      0.983   -1.07e+05    1.05e+05\n",
       "HouseStyle_SFoyer     -1614.2666   3.15e+04     -0.051      0.959   -6.34e+04    6.02e+04\n",
       "HouseStyle_SLvl        4.412e+04   2.52e+04      1.749      0.081   -5436.770    9.37e+04\n",
       "RoofStyle_Gable       -3.008e+04   7.53e+04     -0.400      0.689   -1.78e+05    1.18e+05\n",
       "RoofStyle_Gambrel     -2.768e+04   8.37e+04     -0.331      0.741   -1.92e+05    1.37e+05\n",
       "RoofStyle_Hip         -2.908e+04   7.52e+04     -0.387      0.699   -1.77e+05    1.19e+05\n",
       "RoofStyle_Mansard      3.145e+04   8.99e+04      0.350      0.727   -1.45e+05    2.08e+05\n",
       "RoofStyle_Shed          1.66e-10   5.17e-10      0.321      0.748    -8.5e-10    1.18e-09\n",
       "RoofMatl_CompShg       7790.7582   5.08e+04      0.153      0.878   -9.19e+04    1.08e+05\n",
       "RoofMatl_Membran       3.707e+04   1.01e+05      0.368      0.713   -1.61e+05    2.35e+05\n",
       "RoofMatl_Metal        -4292.7594   9.19e+04     -0.047      0.963   -1.85e+05    1.76e+05\n",
       "RoofMatl_Roll         -8.704e-11   3.18e-10     -0.274      0.784   -7.12e-10    5.38e-10\n",
       "RoofMatl_TarGrv       -3.281e+04   5.63e+04     -0.583      0.560   -1.43e+05    7.78e+04\n",
       "RoofMatl_WdShake      -4517.6989    7.4e+04     -0.061      0.951    -1.5e+05    1.41e+05\n",
       "RoofMatl_WdShngl      -2.532e+04   6.39e+04     -0.396      0.692   -1.51e+05       1e+05\n",
       "Exterior1st_AsphShn    6.262e-10   5.16e-10      1.214      0.225   -3.87e-10    1.64e-09\n",
       "Exterior1st_BrkComm    1.422e+05   1.05e+05      1.350      0.178   -6.47e+04    3.49e+05\n",
       "Exterior1st_BrkFace   -4.349e+04   4.06e+04     -1.071      0.285   -1.23e+05    3.63e+04\n",
       "Exterior1st_CBlock     7.694e-11   3.09e-10      0.249      0.804   -5.31e-10    6.84e-10\n",
       "Exterior1st_CemntBd   -4.028e+04   4.09e+04     -0.985      0.325   -1.21e+05    4.01e+04\n",
       "Exterior1st_HdBoard   -1.813e+04   3.69e+04     -0.492      0.623   -9.05e+04    5.43e+04\n",
       "Exterior1st_ImStucc   -6.467e-10   3.99e-10     -1.619      0.106   -1.43e-09    1.38e-10\n",
       "Exterior1st_MetalSd   -2.537e+04   3.62e+04     -0.701      0.484   -9.65e+04    4.57e+04\n",
       "Exterior1st_Plywood   -2.283e+04   3.84e+04     -0.595      0.552   -9.82e+04    5.25e+04\n",
       "Exterior1st_Stone      2.628e-10   2.58e-10      1.019      0.309   -2.44e-10    7.69e-10\n",
       "Exterior1st_Stucco    -4676.3459   4.18e+04     -0.112      0.911   -8.68e+04    7.74e+04\n",
       "Exterior1st_VinylSd   -2.957e+04   3.59e+04     -0.824      0.410      -1e+05    4.09e+04\n",
       "Exterior1st_WdShing    -4.43e+04   4.37e+04     -1.013      0.311    -1.3e+05    4.16e+04\n",
       "Exterior1st_Wd_Sdng   -1.982e+04   3.55e+04     -0.559      0.577   -8.95e+04    4.99e+04\n",
       "MasVnrType_BrkFace    -9410.6896   2.99e+04     -0.315      0.753   -6.81e+04    4.93e+04\n",
       "MasVnrType_None       -2.371e+04   2.93e+04     -0.809      0.419   -8.13e+04    3.39e+04\n",
       "MasVnrType_Stone      -2654.2632   3.21e+04     -0.083      0.934   -6.58e+04    6.05e+04\n",
       "Foundation_CBlock      6884.6640   1.62e+04      0.425      0.671   -2.49e+04    3.87e+04\n",
       "Foundation_PConc       6503.4442   1.78e+04      0.366      0.715   -2.84e+04    4.14e+04\n",
       "Foundation_Slab        5859.3399   4.29e+04      0.136      0.892   -7.85e+04    9.02e+04\n",
       "Foundation_Stone       2294.9224    7.1e+04      0.032      0.974   -1.37e+05    1.42e+05\n",
       "Foundation_Wood        1.912e+04   9.48e+04      0.202      0.840   -1.67e+05    2.05e+05\n",
       "Heating_GasA           2.586e+04   3.82e+04      0.677      0.499   -4.91e+04    1.01e+05\n",
       "Heating_GasW          -1.064e+04    4.5e+04     -0.236      0.813   -9.91e+04    7.78e+04\n",
       "Heating_Grav           -2.05e+04   5.69e+04     -0.360      0.719   -1.32e+05    9.12e+04\n",
       "Heating_OthW           5.307e-11   2.03e-10      0.261      0.794   -3.47e-10    4.53e-10\n",
       "Heating_Wall           -1.68e+04   6.88e+04     -0.244      0.807   -1.52e+05    1.18e+05\n",
       "CentralAir_Y           6669.8279   2.07e+04      0.322      0.748   -3.41e+04    4.74e+04\n",
       "Electrical_FuseF       6.786e+04   2.92e+04      2.324      0.020    1.05e+04    1.25e+05\n",
       "Electrical_FuseP      -3.804e+04   6.95e+04     -0.547      0.584   -1.75e+05    9.85e+04\n",
       "Electrical_Mix        -6.672e+04   1.06e+05     -0.627      0.531   -2.76e+05    1.42e+05\n",
       "Electrical_SBrkr       1.891e+04   1.52e+04      1.248      0.212   -1.08e+04    4.87e+04\n",
       "Functional_Maj2        4.707e+04   6.77e+04      0.695      0.487   -8.59e+04     1.8e+05\n",
       "Functional_Min1       -4606.7973   4.78e+04     -0.096      0.923   -9.86e+04    8.94e+04\n",
       "Functional_Min2       -8305.3329   5.03e+04     -0.165      0.869   -1.07e+05    9.04e+04\n",
       "Functional_Mod         5287.7749    5.6e+04      0.094      0.925   -1.05e+05    1.15e+05\n",
       "Functional_Sev         9.055e+04   1.27e+05      0.715      0.475   -1.58e+05    3.39e+05\n",
       "Functional_Typ        -2259.4542   4.19e+04     -0.054      0.957   -8.45e+04       8e+04\n",
       "GarageType_Attchd      4.683e+04   6.31e+04      0.742      0.458   -7.71e+04    1.71e+05\n",
       "GarageType_Basment     3.979e+04   7.64e+04      0.521      0.603    -1.1e+05     1.9e+05\n",
       "GarageType_BuiltIn     1.561e+04   6.47e+04      0.241      0.810   -1.12e+05    1.43e+05\n",
       "GarageType_CarPort     1.868e+04   8.18e+04      0.228      0.819   -1.42e+05    1.79e+05\n",
       "GarageType_Detchd      6.349e+04    6.3e+04      1.008      0.314   -6.02e+04    1.87e+05\n",
       "GarageType_NoGarage    5.197e+04   5.51e+04      0.943      0.346   -5.63e+04     1.6e+05\n",
       "PavedDrive_P          -5.842e+04   3.02e+04     -1.935      0.054   -1.18e+05     897.560\n",
       "PavedDrive_Y          -2.951e+04   1.79e+04     -1.644      0.101   -6.48e+04    5738.529\n",
       "Fence_GdWo             4759.6539   2.63e+04      0.181      0.856   -4.68e+04    5.63e+04\n",
       "Fence_MnPrv            1.848e+04    2.1e+04      0.878      0.380   -2.28e+04    5.98e+04\n",
       "Fence_MnWw             1.987e+04   4.32e+04      0.460      0.646    -6.5e+04    1.05e+05\n",
       "Fence_NoFence          1.038e+04   1.95e+04      0.532      0.595   -2.79e+04    4.87e+04\n",
       "MoSold_2               2402.1736   2.53e+04      0.095      0.924   -4.73e+04    5.21e+04\n",
       "MoSold_3               4.682e+04   2.24e+04      2.094      0.037    2904.942    9.07e+04\n",
       "MoSold_4                4.06e+04   2.17e+04      1.875      0.061   -1932.256    8.31e+04\n",
       "MoSold_5               2.169e+04   2.07e+04      1.047      0.296    -1.9e+04    6.24e+04\n",
       "MoSold_6               2.745e+04   2.04e+04      1.347      0.178   -1.26e+04    6.75e+04\n",
       "MoSold_7               2.807e+04   2.03e+04      1.381      0.168   -1.18e+04     6.8e+04\n",
       "MoSold_8               2.847e+04   2.15e+04      1.321      0.187   -1.38e+04    7.08e+04\n",
       "MoSold_9                4.25e+04   2.41e+04      1.766      0.078   -4757.029    8.97e+04\n",
       "MoSold_10              2.724e+04   2.37e+04      1.149      0.251   -1.93e+04    7.38e+04\n",
       "MoSold_11              3.669e+04   2.54e+04      1.446      0.149   -1.31e+04    8.65e+04\n",
       "MoSold_12               6.16e+04   2.37e+04      2.599      0.010     1.5e+04    1.08e+05\n",
       "SaleType_CWD          -8.393e+04   9.85e+04     -0.852      0.395   -2.77e+05     1.1e+05\n",
       "SaleType_Con          -9.967e+04    7.3e+04     -1.365      0.173   -2.43e+05    4.38e+04\n",
       "SaleType_ConLD        -7.913e+04   5.56e+04     -1.423      0.155   -1.88e+05    3.01e+04\n",
       "SaleType_ConLI        -1.182e+04   4.74e+04     -0.249      0.803   -1.05e+05    8.13e+04\n",
       "SaleType_ConLw        -3.293e+04   5.56e+04     -0.592      0.554   -1.42e+05    7.63e+04\n",
       "SaleType_New            -75.7452   7.74e+04     -0.001      0.999   -1.52e+05    1.52e+05\n",
       "SaleType_Oth          -1.161e-10   1.59e-10     -0.729      0.466   -4.29e-10    1.97e-10\n",
       "SaleType_WD           -3.878e+04    2.3e+04     -1.683      0.093    -8.4e+04    6490.177\n",
       "SaleCondition_AdjLand  7285.0675    6.5e+04      0.112      0.911    -1.2e+05    1.35e+05\n",
       "SaleCondition_Alloca   1.663e+04   5.09e+04      0.327      0.744   -8.33e+04    1.17e+05\n",
       "SaleCondition_Family   3185.6818   3.53e+04      0.090      0.928   -6.62e+04    7.26e+04\n",
       "SaleCondition_Normal   6428.6839   1.55e+04      0.415      0.678    -2.4e+04    3.68e+04\n",
       "SaleCondition_Partial -3.661e+04   7.47e+04     -0.490      0.624   -1.83e+05     1.1e+05\n",
       "BsmtFullBath_1         1.357e+04   7935.009      1.711      0.088   -2011.450    2.92e+04\n",
       "BsmtFullBath_2         1599.1417   4.97e+04      0.032      0.974   -9.59e+04    9.91e+04\n",
       "BsmtFullBath_3         7.392e+04   1.17e+05      0.634      0.527   -1.55e+05    3.03e+05\n",
       "BsmtHalfBath_1         6622.0805   1.57e+04      0.421      0.674   -2.43e+04    3.75e+04\n",
       "BsmtHalfBath_2        -1.449e+04   1.23e+05     -0.118      0.906   -2.57e+05    2.28e+05\n",
       "FullBath_1            -3.641e+04   7.16e+04     -0.508      0.612   -1.77e+05    1.04e+05\n",
       "FullBath_2            -3.833e+04   7.32e+04     -0.523      0.601   -1.82e+05    1.05e+05\n",
       "FullBath_3            -5.908e+04   7.86e+04     -0.751      0.453   -2.14e+05    9.54e+04\n",
       "HalfBath_1             1.219e+04   1.14e+04      1.071      0.285   -1.02e+04    3.45e+04\n",
       "HalfBath_2            -5.496e+04   5.72e+04     -0.960      0.337   -1.67e+05    5.75e+04\n",
       "BedroomAbvGr_1         5.927e+04   7.15e+04      0.829      0.408   -8.12e+04       2e+05\n",
       "BedroomAbvGr_2         4.349e+04   7.13e+04      0.610      0.542   -9.65e+04    1.83e+05\n",
       "BedroomAbvGr_3         4.497e+04   7.23e+04      0.622      0.534    -9.7e+04    1.87e+05\n",
       "BedroomAbvGr_4         9.229e+04    7.4e+04      1.248      0.213    -5.3e+04    2.38e+05\n",
       "BedroomAbvGr_5         1.074e+05   9.12e+04      1.177      0.240   -7.18e+04    2.87e+05\n",
       "BedroomAbvGr_6         3.532e+04   9.34e+04      0.378      0.706   -1.48e+05    2.19e+05\n",
       "BedroomAbvGr_8         3.832e+04   9.01e+04      0.425      0.671   -1.39e+05    2.15e+05\n",
       "KitchenAbvGr_1         -1.43e+04   4.92e+04     -0.291      0.771   -1.11e+05    8.23e+04\n",
       "KitchenAbvGr_2        -3.172e+04   4.99e+04     -0.636      0.525    -1.3e+05    6.63e+04\n",
       "KitchenAbvGr_3         2.395e+04   7.88e+04      0.304      0.761   -1.31e+05    1.79e+05\n",
       "TotRmsAbvGrd_3         1.453e+05    1.2e+05      1.213      0.226   -8.99e+04     3.8e+05\n",
       "TotRmsAbvGrd_4         1.392e+05   1.13e+05      1.232      0.219   -8.28e+04    3.61e+05\n",
       "TotRmsAbvGrd_5         1.164e+05   1.13e+05      1.032      0.303   -1.05e+05    3.38e+05\n",
       "TotRmsAbvGrd_6         1.173e+05   1.13e+05      1.036      0.301   -1.05e+05     3.4e+05\n",
       "TotRmsAbvGrd_7         1.189e+05   1.13e+05      1.048      0.295   -1.04e+05    3.42e+05\n",
       "TotRmsAbvGrd_8         1.178e+05   1.14e+05      1.036      0.300   -1.05e+05    3.41e+05\n",
       "TotRmsAbvGrd_9          9.17e+04   1.15e+05      0.798      0.425   -1.34e+05    3.17e+05\n",
       "TotRmsAbvGrd_10        9.538e+04   1.17e+05      0.814      0.416   -1.35e+05    3.26e+05\n",
       "TotRmsAbvGrd_11        6.119e+04   1.24e+05      0.494      0.622   -1.82e+05    3.05e+05\n",
       "TotRmsAbvGrd_12        7.805e+04   1.68e+05      0.464      0.643   -2.53e+05    4.09e+05\n",
       "TotRmsAbvGrd_14        3.832e+04   9.01e+04      0.425      0.671   -1.39e+05    2.15e+05\n",
       "Fireplaces_1           7581.8002   8829.613      0.859      0.391   -9761.677    2.49e+04\n",
       "Fireplaces_2           5426.6606   1.49e+04      0.365      0.715   -2.38e+04    3.46e+04\n",
       "Fireplaces_3          -3.678e+04   4.65e+04     -0.790      0.430   -1.28e+05    5.46e+04\n",
       "GarageCars_1          -3291.1331   3.26e+04     -0.101      0.920   -6.73e+04    6.07e+04\n",
       "GarageCars_2           2207.5496   3.14e+04      0.070      0.944   -5.95e+04    6.39e+04\n",
       "GarageCars_3          -7036.5072   3.18e+04     -0.221      0.825   -6.96e+04    5.55e+04\n",
       "GarageCars_4          -6.593e+04   7.89e+04     -0.836      0.404   -2.21e+05     8.9e+04\n",
       "LotFrontage            2095.9540   5495.214      0.381      0.703   -8697.964    1.29e+04\n",
       "LotArea                1.331e+04   1.16e+04      1.152      0.250   -9389.360     3.6e+04\n",
       "OverallQual           -6929.3968   7540.623     -0.919      0.359   -2.17e+04    7882.194\n",
       "OverallCond            1.131e+04   5380.976      2.102      0.036     740.871    2.19e+04\n",
       "YearBuilt              2.148e+04   9051.661      2.374      0.018    3704.515    3.93e+04\n",
       "MasVnrArea             1505.4094   5455.365      0.276      0.783   -9210.236    1.22e+04\n",
       "ExterQual              4833.2513   7460.413      0.648      0.517   -9820.789    1.95e+04\n",
       "ExterCond               537.6713   1.47e+04      0.037      0.971   -2.84e+04    2.94e+04\n",
       "BsmtQual              -3903.3663   7437.071     -0.525      0.600   -1.85e+04    1.07e+04\n",
       "BsmtCond               -1.17e+04   1.14e+04     -1.027      0.305   -3.41e+04    1.07e+04\n",
       "BsmtExposure          -2178.0577   4239.292     -0.514      0.608   -1.05e+04    6148.929\n",
       "BsmtFinType1          -6028.3121   5178.075     -1.164      0.245   -1.62e+04    4142.668\n",
       "BsmtFinSF1             1.629e+04   1.31e+04      1.242      0.215   -9476.632     4.2e+04\n",
       "BsmtFinType2           4089.1838   1.11e+04      0.369      0.713   -1.77e+04    2.59e+04\n",
       "BsmtFinSF2            -7482.2604   1.51e+04     -0.495      0.621   -3.72e+04    2.22e+04\n",
       "BsmtUnfSF              4873.8089   1.21e+04      0.404      0.686   -1.88e+04    2.85e+04\n",
       "HeatingQC              4753.5515   4815.067      0.987      0.324   -4704.395    1.42e+04\n",
       "LowQualFinSF          -1.674e+04   3.57e+04     -0.469      0.639   -8.68e+04    5.34e+04\n",
       "GrLivArea              -446.5788   4693.589     -0.095      0.924   -9665.914    8772.756\n",
       "KitchenQual           -1.167e+04   8244.974     -1.415      0.158   -2.79e+04    4527.007\n",
       "GarageFinish          -1449.2676   5008.381     -0.289      0.772   -1.13e+04    8388.394\n",
       "GarageArea             4988.6911   6128.379      0.814      0.416   -7048.915     1.7e+04\n",
       "GarageQual            -1.848e+04   1.29e+04     -1.430      0.153   -4.39e+04    6906.762\n",
       "GarageCond            -1.409e+04   1.47e+04     -0.961      0.337   -4.29e+04    1.47e+04\n",
       "WoodDeckSF            -5495.4615   4626.814     -1.188      0.235   -1.46e+04    3592.712\n",
       "OpenPorchSF           -3128.2970   5481.176     -0.571      0.568   -1.39e+04    7638.048\n",
       "EnclosedPorch          1.246e+04   7632.145      1.633      0.103   -2529.117    2.75e+04\n",
       "ScreenPorch            7515.8737   8684.573      0.865      0.387   -9542.710    2.46e+04\n",
       "PoolArea               1516.2368   8121.707      0.187      0.852   -1.44e+04    1.75e+04\n",
       "MiscVal                2857.7859   2.11e+04      0.135      0.892   -3.86e+04    4.43e+04\n",
       "YrSold                 2500.0678   3470.810      0.720      0.472   -4317.434    9317.570\n",
       "ThreeSsnPorch         -3.191e+04   1.12e+05     -0.285      0.776   -2.52e+05    1.88e+05\n",
       "FirstFlrSF            -5860.7194   7870.804     -0.745      0.457   -2.13e+04    9599.427\n",
       "SecondFlrSF            6517.2882   4357.571      1.496      0.135   -2042.027    1.51e+04\n",
       "==============================================================================\n",
       "Omnibus:                      150.799   Durbin-Watson:                   2.052\n",
       "Prob(Omnibus):                  0.000   Jarque-Bera (JB):              340.254\n",
       "Skew:                           1.068   Prob(JB):                     1.30e-74\n",
       "Kurtosis:                       5.481   Cond. No.                     1.03e+16\n",
       "==============================================================================\n",
       "\n",
       "Warnings:\n",
       "[1] Standard Errors assume that the covariance matrix of the errors is correctly specified.\n",
       "[2] The smallest eigenvalue is 1.38e-28. This might indicate that there are\n",
       "strong multicollinearity problems or that the design matrix is singular.\n",
       "\"\"\""
      ]
     },
     "execution_count": 86,
     "metadata": {},
     "output_type": "execute_result"
    }
   ],
   "source": [
    "results.summary()"
   ]
  },
  {
   "cell_type": "code",
   "execution_count": 87,
   "metadata": {},
   "outputs": [],
   "source": [
    "### Ridge and Lasso "
   ]
  },
  {
   "cell_type": "code",
   "execution_count": 91,
   "metadata": {},
   "outputs": [],
   "source": [
    "#### Lasso"
   ]
  },
  {
   "cell_type": "code",
   "execution_count": null,
   "metadata": {},
   "outputs": [],
   "source": []
  },
  {
   "cell_type": "code",
   "execution_count": 145,
   "metadata": {},
   "outputs": [],
   "source": [
    "#### Elastic Net"
   ]
  },
  {
   "cell_type": "code",
   "execution_count": 176,
   "metadata": {},
   "outputs": [],
   "source": [
    "from sklearn.linear_model import Lasso\n",
    "\n",
    "Lassoreg = Lasso(alpha=2, max_iter = 1000000000 ,normalize = False)\n",
    "Lassoreg.fit(train_combined, targetdf)\n",
    "L_target_prediction = ENreg.predict(train_combined)  #### TOL parameter\n",
    "lassCoef = Lassoreg.coef_"
   ]
  },
  {
   "cell_type": "code",
   "execution_count": 177,
   "metadata": {},
   "outputs": [
    {
     "data": {
      "text/plain": [
       "Id\n",
       "1     -10370.218882\n",
       "2      14887.355844\n",
       "3       4554.844114\n",
       "4     -52273.129136\n",
       "5     -49888.230696\n",
       "           ...     \n",
       "759    -8400.890349\n",
       "760   -10671.223198\n",
       "761     7177.861957\n",
       "762      695.256774\n",
       "763    19850.377224\n",
       "Name: SalePrice, Length: 763, dtype: float64"
      ]
     },
     "execution_count": 177,
     "metadata": {},
     "output_type": "execute_result"
    }
   ],
   "source": [
    "targetdf['SalePrice'] - L_target_prediction"
   ]
  },
  {
   "cell_type": "code",
   "execution_count": 183,
   "metadata": {},
   "outputs": [
    {
     "data": {
      "text/plain": [
       "array([ 2.71433736e+04,  5.25355817e+04,  4.84227013e+04,  4.13757275e+04,\n",
       "        1.58142779e+04,  4.38262801e+03,  4.95343658e+03, -4.20287258e+03,\n",
       "        0.00000000e+00,  1.45222428e+04, -1.21445151e+04, -2.48513242e+04,\n",
       "        1.22314521e+02,  6.42129423e+03,  8.19045711e+03,  8.47965249e+03,\n",
       "        1.82677743e+04, -1.11108847e+04, -1.57077703e+04, -6.10027683e+03,\n",
       "        1.09400409e+03, -2.58750624e+04, -2.25776319e+04, -2.48931248e+03,\n",
       "       -2.02080644e+04, -1.00467252e+04, -2.09716325e+04,  5.05490126e+02,\n",
       "       -2.03452011e+04,  3.69139770e+04,  4.64395232e+04, -9.81810035e+03,\n",
       "       -1.24780309e+04, -1.84319769e+04,  6.04723854e+03,  3.63482682e+04,\n",
       "        5.87371409e+04, -2.70597785e+03, -3.16517911e+03, -1.45793663e+03,\n",
       "        1.44528837e+04,  1.97028396e+04,  2.39861691e+04, -9.01940451e+03,\n",
       "        2.09219766e+04,  1.19512465e+04,  2.43133528e+04,  0.00000000e+00,\n",
       "       -2.30991793e+03,  5.53750411e+04, -1.95981805e+05,  0.00000000e+00,\n",
       "        0.00000000e+00, -2.29382987e+04, -1.33750441e+03,  5.27989446e+03,\n",
       "       -3.86241861e+04, -2.94765497e+04,  1.14827171e+03, -4.49734791e+03,\n",
       "       -1.07972250e+04, -2.48411927e+04,  1.16542770e+04, -1.06834820e+04,\n",
       "       -5.46751631e+03, -1.45553234e+04,  2.01294943e+03, -8.17450601e+02,\n",
       "       -0.00000000e+00,  0.00000000e+00, -5.00038758e+03,  5.22475356e+03,\n",
       "       -6.32202110e+04,  0.00000000e+00, -1.66673014e+03,  7.95395563e+03,\n",
       "        1.33702384e+05,  0.00000000e+00,  1.76028570e+03,  3.77720380e+04,\n",
       "        0.00000000e+00,  2.89369566e+04,  3.77250543e+03,  0.00000000e+00,\n",
       "        1.70729951e+04,  9.97966053e+03,  0.00000000e+00,  1.28938296e+04,\n",
       "        1.33106809e+04,  1.16213649e+03,  1.16241491e+04,  1.06213298e+04,\n",
       "        2.96634856e+03,  1.67352797e+04,  2.18698767e+03,  1.29095640e+04,\n",
       "       -1.08204708e+04,  3.13485590e+04, -5.00517455e+04, -1.01542066e+04,\n",
       "        5.16252617e+03,  2.77556323e+03,  0.00000000e+00, -1.44890916e+04,\n",
       "        1.69290736e+04, -1.00423534e+04,  1.83791191e+04,  5.71126123e+03,\n",
       "        1.57772215e+03, -1.86544939e+04,  6.75726874e+03,  1.55593889e+04,\n",
       "        6.96261562e+03,  1.57232979e+03,  2.02486534e+04,  1.99739652e+04,\n",
       "        3.84932770e+04,  2.04506450e+04,  1.43321242e+03,  1.66799408e+04,\n",
       "       -0.00000000e+00, -4.74965683e+03,  1.49647747e+04,  2.46854676e+03,\n",
       "        9.13947052e+03,  7.45862826e+03,  4.09120838e+03, -4.88852010e+03,\n",
       "       -4.61361965e+03, -4.21394279e+03, -6.39731886e+03, -8.72108009e+03,\n",
       "       -8.34007507e+03, -8.05307304e+03, -8.82884143e+03, -9.55393228e+03,\n",
       "       -1.72171476e+04, -1.63187749e+04, -3.49655980e+03,  2.88051763e+04,\n",
       "        1.85848895e+04,  3.16122029e+04, -1.57453684e+04,  8.49082814e+04,\n",
       "        0.00000000e+00,  1.06827923e+04,  1.63237095e+04, -2.59455224e+04,\n",
       "       -1.67162262e+04,  9.96688479e+03, -5.13813658e+04,  1.89377002e+04,\n",
       "        5.44693637e+04,  4.90510487e+04,  2.73198508e+04,  1.20687432e+04,\n",
       "        3.38078394e+04,  6.09699823e+04,  1.09706254e+05,  1.31768769e+04,\n",
       "        1.07133097e+04, -1.49344997e+04, -4.29959712e+04, -4.96827098e+04,\n",
       "       -4.79253715e+04, -7.81783958e+04, -9.77746129e+04,  3.90708134e+04,\n",
       "        4.49495171e+04, -0.00000000e+00, -7.07875465e+03,  1.24438493e+04,\n",
       "        4.03245871e+04,  4.57382190e+04,  5.50114893e+04,  6.38323474e+04,\n",
       "        8.20781702e+04,  8.95325290e+04,  1.35668270e+05,  9.91202704e+04,\n",
       "        2.13754556e+05,  1.09401909e+05,  1.00006918e+04,  2.79678915e+04,\n",
       "        7.64949780e+04, -1.48978239e+04, -7.02023956e+03,  2.52628034e+04,\n",
       "        5.24363742e+04, -2.24042595e+03,  4.77024123e+03,  1.24980179e+03,\n",
       "       -1.87118287e+03,  1.63983407e+02, -4.18299729e+03,  5.10014844e+01,\n",
       "       -2.48415413e+03, -5.16822006e+03, -3.40082045e+03,  5.72885203e+02,\n",
       "        1.35877227e+03, -1.29966794e+03,  2.44757924e+03, -3.10481252e+03,\n",
       "       -5.32600570e+02,  8.22934068e+02,  7.93244263e+03, -0.00000000e+00,\n",
       "       -5.35948573e+02,  3.26859986e+03, -1.46088029e+03, -1.79223868e+03,\n",
       "       -6.54049961e+03,  8.50993102e+01, -3.36449435e+03, -3.07713338e+03,\n",
       "       -4.18199145e+03,  0.00000000e+00,  5.64262456e+03,  8.64285120e+02,\n",
       "        1.34337259e+05,  1.79846832e+03, -3.22847147e+02])"
      ]
     },
     "execution_count": 183,
     "metadata": {},
     "output_type": "execute_result"
    }
   ],
   "source": [
    "lassCoef = Lassoreg.coef_"
   ]
  },
  {
   "cell_type": "code",
   "execution_count": 179,
   "metadata": {},
   "outputs": [],
   "source": [
    "from sklearn.linear_model import ElasticNet\n",
    "\n",
    "ENreg = ElasticNet(alpha=.1,l1_ratio= .5, normalize = False)\n",
    "ENreg.fit(train_combined, targetdf)\n",
    "target_prediction = ENreg.predict(train_combined)"
   ]
  },
  {
   "cell_type": "code",
   "execution_count": 171,
   "metadata": {},
   "outputs": [
    {
     "data": {
      "text/plain": [
       "Id\n",
       "1     -10370.218882\n",
       "2      14887.355844\n",
       "3       4554.844114\n",
       "4     -52273.129136\n",
       "5     -49888.230696\n",
       "           ...     \n",
       "759    -8400.890349\n",
       "760   -10671.223198\n",
       "761     7177.861957\n",
       "762      695.256774\n",
       "763    19850.377224\n",
       "Name: SalePrice, Length: 763, dtype: float64"
      ]
     },
     "execution_count": 171,
     "metadata": {},
     "output_type": "execute_result"
    }
   ],
   "source": [
    "targetdf['SalePrice'] - target_prediction"
   ]
  },
  {
   "cell_type": "code",
   "execution_count": 180,
   "metadata": {},
   "outputs": [
    {
     "ename": "AttributeError",
     "evalue": "'numpy.ndarray' object has no attribute 'plt'",
     "output_type": "error",
     "traceback": [
      "\u001b[0;31m---------------------------------------------------------------------------\u001b[0m",
      "\u001b[0;31mAttributeError\u001b[0m                            Traceback (most recent call last)",
      "\u001b[0;32m<ipython-input-180-79c5532ac72f>\u001b[0m in \u001b[0;36m<module>\u001b[0;34m\u001b[0m\n\u001b[0;32m----> 1\u001b[0;31m \u001b[0mprediction\u001b[0m\u001b[0;34m.\u001b[0m\u001b[0mplt\u001b[0m\u001b[0;34m(\u001b[0m\u001b[0;34m)\u001b[0m\u001b[0;34m\u001b[0m\u001b[0;34m\u001b[0m\u001b[0m\n\u001b[0m",
      "\u001b[0;31mAttributeError\u001b[0m: 'numpy.ndarray' object has no attribute 'plt'"
     ]
    }
   ],
   "source": [
    "prediction"
   ]
  },
  {
   "cell_type": "code",
   "execution_count": null,
   "metadata": {},
   "outputs": [],
   "source": []
  },
  {
   "cell_type": "code",
   "execution_count": null,
   "metadata": {},
   "outputs": [],
   "source": []
  }
 ],
 "metadata": {
  "kernelspec": {
   "display_name": "Python 3",
   "language": "python",
   "name": "python3"
  },
  "language_info": {
   "codemirror_mode": {
    "name": "ipython",
    "version": 3
   },
   "file_extension": ".py",
   "mimetype": "text/x-python",
   "name": "python",
   "nbconvert_exporter": "python",
   "pygments_lexer": "ipython3",
   "version": "3.7.4"
  }
 },
 "nbformat": 4,
 "nbformat_minor": 4
}
