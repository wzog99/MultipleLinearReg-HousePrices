{
 "cells": [
  {
   "cell_type": "markdown",
   "metadata": {},
   "source": [
    "# <center>Multivariate Linear Regression on House Pricing Data</center>"
   ]
  },
  {
   "cell_type": "markdown",
   "metadata": {},
   "source": [
    "### <center>Source: Kaggle - House Prices: Advanced Regression Techniques\n",
    "## <center>[Kaggle DataSet](https://www.kaggle.com/c/house-prices-advanced-regression-techniques/overview)</center>\n"
   ]
  },
  {
   "cell_type": "code",
   "execution_count": 18,
   "metadata": {},
   "outputs": [],
   "source": [
    "%matplotlib inline\n",
    "import warnings\n",
    "warnings.filterwarnings(action='ignore')\n",
    "import numpy as np\n",
    "import pandas as pd\n",
    "import seaborn as sns\n",
    "import statsmodels.api as sm\n",
    "import statsmodels.formula.api as smf\n",
    "from sklearn.model_selection import train_test_split\n",
    "from sklearn.preprocessing import StandardScaler\n",
    "from scipy import stats\n",
    "from sklearn.preprocessing import LabelBinarizer\n",
    "from sklearn.preprocessing import OneHotEncoder\n",
    "from sklearn.linear_model import LinearRegression\n",
    "from sklearn.metrics import r2_score, mean_squared_error\n",
    "import matplotlib.pyplot as plt\n",
    "from statsmodels.graphics.gofplots import qqplot\n",
    "import seaborn as sns\n",
    "from itertools import combinations\n",
    "from sklearn.preprocessing import PolynomialFeatures\n",
    "from sklearn.linear_model import Ridge\n",
    "from sklearn.linear_model import Lasso\n",
    "from sklearn.linear_model import ElasticNet\n",
    "from sklearn.feature_selection import RFE\n",
    "from numpy.polynomial.polynomial import polyfit\n",
    "from pandas import Series\n",
    "import matplotlib.pylab as plt\n",
    "from statsmodels.compat import lzip"
   ]
  },
  {
   "cell_type": "code",
   "execution_count": 19,
   "metadata": {},
   "outputs": [
    {
     "name": "stdout",
     "output_type": "stream",
     "text": [
      "The autoreload extension is already loaded. To reload it, use:\n",
      "  %reload_ext autoreload\n"
     ]
    }
   ],
   "source": [
    "import pandas as pd\n",
    "import numpy as np\n",
    "import seaborn as sns\n",
    "import pickle\n",
    "import matplotlib.pyplot as plt\n",
    "\n",
    "from sklearn.preprocessing import LabelBinarizer\n",
    "from sklearn.linear_model import LinearRegression\n",
    "\n",
    "\n",
    "%load_ext autoreload\n",
    "%autoreload 2"
   ]
  },
  {
   "cell_type": "markdown",
   "metadata": {},
   "source": [
    "## Data Engineering"
   ]
  },
  {
   "cell_type": "code",
   "execution_count": 20,
   "metadata": {},
   "outputs": [],
   "source": [
    "traindf = pd.read_csv('train.csv')"
   ]
  },
  {
   "cell_type": "code",
   "execution_count": 21,
   "metadata": {},
   "outputs": [
    {
     "data": {
      "text/plain": [
       "1460"
      ]
     },
     "execution_count": 21,
     "metadata": {},
     "output_type": "execute_result"
    }
   ],
   "source": [
    "len(traindf)"
   ]
  },
  {
   "cell_type": "code",
   "execution_count": 22,
   "metadata": {},
   "outputs": [],
   "source": [
    "#traindf.columns"
   ]
  },
  {
   "cell_type": "code",
   "execution_count": 23,
   "metadata": {},
   "outputs": [
    {
     "data": {
      "image/png": "[encoded data removed]",
      "text/plain": [
       "<Figure size 432x288 with 1 Axes>"
      ]
     },
     "metadata": {
      "needs_background": "light"
     },
     "output_type": "display_data"
    }
   ],
   "source": [
    "dates = list(traindf['YrSold'].unique())\n",
    "for i in dates:\n",
    "    data = traindf.loc[traindf['YrSold'] == i]\n",
    "    plt.hist(data['SalePrice'])"
   ]
  },
  {
   "cell_type": "markdown",
   "metadata": {},
   "source": [
    "## Add average mortgage rate data onto the existing data"
   ]
  },
  {
   "cell_type": "code",
   "execution_count": 24,
   "metadata": {},
   "outputs": [],
   "source": [
    "date_dict = {'Jan':'1','Feb':'2','Mar':'3','Apr':'4','May':'5','Jun':'6',\n",
    "                 'Jul':'7','Aug':'8','Sep':'9','Oct':'10','Nov':'11','Dec':'12'}"
   ]
  },
  {
   "cell_type": "code",
   "execution_count": 25,
   "metadata": {},
   "outputs": [],
   "source": [
    "rate_data = open('rate_data.txt', 'r')\n",
    "rate_list = []\n",
    "date_list = []\n",
    "for x in rate_data:\n",
    "    x = x.replace('\\n','')\n",
    "    x = x.replace('\\t',',')\n",
    "    for i in date_dict.keys():\n",
    "        x = x.replace(f'{i}', date_dict[f'{i}'])\n",
    "    x = x.split(',')\n",
    "    rate_list.append(x)\n",
    "rate_list[:5]\n",
    "rate_df = pd.DataFrame(rate_list, columns=['date', 'rate'])"
   ]
  },
  {
   "cell_type": "code",
   "execution_count": 26,
   "metadata": {},
   "outputs": [],
   "source": [
    "date_list = []\n",
    "for i in range(len(traindf)):\n",
    "    date_list.append(str(traindf['MoSold'][i]) +'-' + str(traindf['YrSold'][i]))\n",
    "traindf['date'] = pd.Series(date_list)"
   ]
  },
  {
   "cell_type": "code",
   "execution_count": 27,
   "metadata": {},
   "outputs": [],
   "source": [
    "traindf = pd.merge(traindf, rate_df, how='inner', on='date')"
   ]
  },
  {
   "cell_type": "code",
   "execution_count": 28,
   "metadata": {},
   "outputs": [],
   "source": [
    "traindf['rate'] = traindf['rate'].astype(float)\n",
    "traindf.drop('date', axis=1, inplace=True)"
   ]
  },
  {
   "cell_type": "code",
   "execution_count": 29,
   "metadata": {},
   "outputs": [
    {
     "data": {
      "image/png": "[encoded data removed]",
      "text/plain": [
       "<Figure size 432x288 with 1 Axes>"
      ]
     },
     "metadata": {
      "needs_background": "light"
     },
     "output_type": "display_data"
    }
   ],
   "source": [
    "plt.hist(traindf['SalePrice']);"
   ]
  },
  {
   "cell_type": "code",
   "execution_count": 596,
   "metadata": {},
   "outputs": [
    {
     "data": {
      "image/png": "[encoded data removed]",
      "text/plain": [
       "<Figure size 432x288 with 1 Axes>"
      ]
     },
     "metadata": {
      "needs_background": "light"
     },
     "output_type": "display_data"
    }
   ],
   "source": [
    "traindf = traindf.loc[traindf['SalePrice'] < 500000]\n",
    "plt.hist(traindf['SalePrice']);"
   ]
  },
  {
   "cell_type": "code",
   "execution_count": 31,
   "metadata": {},
   "outputs": [
    {
     "data": {
      "text/html": [
       "<div>\n",
       "<style scoped>\n",
       "    .dataframe tbody tr th:only-of-type {\n",
       "        vertical-align: middle;\n",
       "    }\n",
       "\n",
       "    .dataframe tbody tr th {\n",
       "        vertical-align: top;\n",
       "    }\n",
       "\n",
       "    .dataframe thead th {\n",
       "        text-align: right;\n",
       "    }\n",
       "</style>\n",
       "<table border=\"1\" class=\"dataframe\">\n",
       "  <thead>\n",
       "    <tr style=\"text-align: right;\">\n",
       "      <th></th>\n",
       "      <th>year</th>\n",
       "      <th>new_single_family_homes</th>\n",
       "      <th>new_multi_family buildings</th>\n",
       "      <th>new_multi_family_units;</th>\n",
       "    </tr>\n",
       "  </thead>\n",
       "  <tbody>\n",
       "    <tr>\n",
       "      <td>0</td>\n",
       "      <td>2001</td>\n",
       "      <td>132</td>\n",
       "      <td>10</td>\n",
       "      <td>157;</td>\n",
       "    </tr>\n",
       "    <tr>\n",
       "      <td>1</td>\n",
       "      <td>2002</td>\n",
       "      <td>175</td>\n",
       "      <td>30</td>\n",
       "      <td>573;</td>\n",
       "    </tr>\n",
       "    <tr>\n",
       "      <td>2</td>\n",
       "      <td>2003</td>\n",
       "      <td>264</td>\n",
       "      <td>13</td>\n",
       "      <td>336;</td>\n",
       "    </tr>\n",
       "    <tr>\n",
       "      <td>3</td>\n",
       "      <td>2004</td>\n",
       "      <td>224</td>\n",
       "      <td>21</td>\n",
       "      <td>413;</td>\n",
       "    </tr>\n",
       "    <tr>\n",
       "      <td>4</td>\n",
       "      <td>2005</td>\n",
       "      <td>240</td>\n",
       "      <td>31</td>\n",
       "      <td>561;</td>\n",
       "    </tr>\n",
       "    <tr>\n",
       "      <td>5</td>\n",
       "      <td>2006</td>\n",
       "      <td>161</td>\n",
       "      <td>13</td>\n",
       "      <td>228;</td>\n",
       "    </tr>\n",
       "    <tr>\n",
       "      <td>6</td>\n",
       "      <td>2007</td>\n",
       "      <td>127</td>\n",
       "      <td>6</td>\n",
       "      <td>116;</td>\n",
       "    </tr>\n",
       "    <tr>\n",
       "      <td>7</td>\n",
       "      <td>2008</td>\n",
       "      <td>70</td>\n",
       "      <td>11</td>\n",
       "      <td>201;</td>\n",
       "    </tr>\n",
       "    <tr>\n",
       "      <td>8</td>\n",
       "      <td>2009</td>\n",
       "      <td>61</td>\n",
       "      <td>0</td>\n",
       "      <td>0;</td>\n",
       "    </tr>\n",
       "    <tr>\n",
       "      <td>9</td>\n",
       "      <td>2010</td>\n",
       "      <td>58</td>\n",
       "      <td>3</td>\n",
       "      <td>95;</td>\n",
       "    </tr>\n",
       "    <tr>\n",
       "      <td>10</td>\n",
       "      <td>2011</td>\n",
       "      <td>58</td>\n",
       "      <td>19</td>\n",
       "      <td>356;</td>\n",
       "    </tr>\n",
       "  </tbody>\n",
       "</table>\n",
       "</div>"
      ],
      "text/plain": [
       "    year   new_single_family_homes   new_multi_family buildings  \\\n",
       "0   2001                       132                           10   \n",
       "1   2002                       175                           30   \n",
       "2   2003                       264                           13   \n",
       "3   2004                       224                           21   \n",
       "4   2005                       240                           31   \n",
       "5   2006                       161                           13   \n",
       "6   2007                       127                            6   \n",
       "7   2008                        70                           11   \n",
       "8   2009                        61                            0   \n",
       "9   2010                        58                            3   \n",
       "10  2011                        58                           19   \n",
       "\n",
       "    new_multi_family_units;  \n",
       "0                      157;  \n",
       "1                    573;    \n",
       "2                      336;  \n",
       "3                      413;  \n",
       "4                      561;  \n",
       "5                      228;  \n",
       "6                      116;  \n",
       "7                      201;  \n",
       "8                        0;  \n",
       "9                       95;  \n",
       "10                     356;  "
      ]
     },
     "execution_count": 31,
     "metadata": {},
     "output_type": "execute_result"
    }
   ],
   "source": [
    "pd.read_csv('New_construction.csv')"
   ]
  },
  {
   "cell_type": "markdown",
   "metadata": {},
   "source": [
    "#### Removing data with more than 30% NAN values "
   ]
  },
  {
   "cell_type": "code",
   "execution_count": 597,
   "metadata": {},
   "outputs": [],
   "source": [
    "drop_list = ['Exterior2nd', 'YearRemodAdd', 'LotShape', 'MSSubClass', 'TotalBsmtSF', 'Alley', 'GarageYrBlt', 'PoolQC', 'MiscFeature', 'MiscFeature']"
   ]
  },
  {
   "cell_type": "markdown",
   "metadata": {},
   "source": [
    "#### Moving Sale Price over to targetdf"
   ]
  },
  {
   "cell_type": "code",
   "execution_count": 598,
   "metadata": {},
   "outputs": [],
   "source": [
    "targetdf = traindf[['Id', 'SalePrice']]\n",
    "traindf.drop('SalePrice', axis=1, inplace=True)"
   ]
  },
  {
   "cell_type": "markdown",
   "metadata": {},
   "source": [
    "#### Removing problematic columns"
   ]
  },
  {
   "cell_type": "code",
   "execution_count": 599,
   "metadata": {},
   "outputs": [],
   "source": [
    "traindf = traindf.drop(drop_list, axis=1)"
   ]
  },
  {
   "cell_type": "markdown",
   "metadata": {},
   "source": [
    "#### Seperating the catagorical and numerical data"
   ]
  },
  {
   "cell_type": "code",
   "execution_count": 600,
   "metadata": {},
   "outputs": [],
   "source": [
    "traindf_cat = traindf[['Id', 'MSZoning']].copy()\n",
    "traindf.drop('MSZoning', axis=1, inplace=True)"
   ]
  },
  {
   "cell_type": "code",
   "execution_count": 601,
   "metadata": {},
   "outputs": [],
   "source": [
    "lotfront = traindf.LotFrontage.mean()"
   ]
  },
  {
   "cell_type": "markdown",
   "metadata": {},
   "source": [
    "### Replacing NA values with the mean value for the column"
   ]
  },
  {
   "cell_type": "code",
   "execution_count": 602,
   "metadata": {},
   "outputs": [],
   "source": [
    "traindf.LotFrontage.fillna(value=lotfront, inplace=True)"
   ]
  },
  {
   "cell_type": "code",
   "execution_count": 603,
   "metadata": {},
   "outputs": [],
   "source": [
    "traindf_cat.FireplaceQu = traindf.FireplaceQu\n",
    "traindf_cat.FireplaceQu.fillna(value='None', inplace=True)\n",
    "traindf.drop('FireplaceQu', axis = 1, inplace=True)"
   ]
  },
  {
   "cell_type": "code",
   "execution_count": 604,
   "metadata": {},
   "outputs": [],
   "source": [
    "traindf_cat['Street'] = traindf.Street\n",
    "traindf.drop('Street', axis=1, inplace=True)"
   ]
  },
  {
   "cell_type": "code",
   "execution_count": 605,
   "metadata": {},
   "outputs": [],
   "source": [
    "traindf_cat['LandContour'] = traindf.LandContour\n",
    "traindf.drop('LandContour', axis=1, inplace=True)"
   ]
  },
  {
   "cell_type": "code",
   "execution_count": 606,
   "metadata": {},
   "outputs": [],
   "source": [
    "traindf_cat['Utilities'] = traindf.Utilities\n",
    "traindf.drop('Utilities', axis=1, inplace=True)"
   ]
  },
  {
   "cell_type": "code",
   "execution_count": 607,
   "metadata": {},
   "outputs": [],
   "source": [
    "traindf_cat['LotConfig'] = traindf.LotConfig\n",
    "traindf.drop('LotConfig', axis=1, inplace=True)"
   ]
  },
  {
   "cell_type": "code",
   "execution_count": 608,
   "metadata": {},
   "outputs": [],
   "source": [
    "traindf_cat['LandSlope'] = traindf.LandSlope\n",
    "traindf.drop('LandSlope', axis=1, inplace=True)"
   ]
  },
  {
   "cell_type": "code",
   "execution_count": 609,
   "metadata": {},
   "outputs": [],
   "source": [
    "traindf_cat['Neighborhood'] = traindf.Neighborhood\n",
    "traindf.drop('Neighborhood', axis=1, inplace=True)"
   ]
  },
  {
   "cell_type": "code",
   "execution_count": 610,
   "metadata": {},
   "outputs": [],
   "source": [
    "traindf_cat['Condition1'] = traindf.Condition1\n",
    "traindf.drop('Condition1', axis=1, inplace=True)\n",
    "\n",
    "traindf_cat['Condition2'] = traindf.Condition2\n",
    "traindf.drop('Condition2', axis=1, inplace=True)"
   ]
  },
  {
   "cell_type": "code",
   "execution_count": 611,
   "metadata": {},
   "outputs": [],
   "source": [
    "traindf_cat['BldgType'] = traindf.BldgType\n",
    "traindf.drop('BldgType', axis=1, inplace=True)"
   ]
  },
  {
   "cell_type": "code",
   "execution_count": 612,
   "metadata": {},
   "outputs": [],
   "source": [
    "traindf_cat['HouseStyle'] = traindf.HouseStyle\n",
    "traindf.drop('HouseStyle', axis=1, inplace=True)"
   ]
  },
  {
   "cell_type": "code",
   "execution_count": 613,
   "metadata": {},
   "outputs": [],
   "source": [
    "traindf_cat['RoofStyle'] = traindf.RoofStyle\n",
    "traindf.drop('RoofStyle', axis=1, inplace=True)"
   ]
  },
  {
   "cell_type": "code",
   "execution_count": 614,
   "metadata": {},
   "outputs": [],
   "source": [
    "traindf_cat['RoofMatl'] = traindf.RoofMatl\n",
    "traindf.drop('RoofMatl', axis=1, inplace=True)"
   ]
  },
  {
   "cell_type": "code",
   "execution_count": 615,
   "metadata": {},
   "outputs": [],
   "source": [
    "traindf_cat['Exterior1st'] = traindf.Exterior1st\n",
    "traindf.drop('Exterior1st', axis=1, inplace=True)\n",
    "\n",
    "#traindf_cat['Exterior2nd'] = traindf.Exterior2nd\n",
    "#traindf.drop('Exterior2nd', axis=1, inplace=True)"
   ]
  },
  {
   "cell_type": "code",
   "execution_count": 616,
   "metadata": {},
   "outputs": [],
   "source": [
    "traindf.MasVnrType.fillna(value='None', inplace=True)\n",
    "traindf_cat['MasVnrType'] = traindf.MasVnrType\n",
    "traindf.drop('MasVnrType', axis=1, inplace=True)"
   ]
  },
  {
   "cell_type": "code",
   "execution_count": 617,
   "metadata": {},
   "outputs": [],
   "source": [
    "traindf_cat.ExterQual = traindf.ExterQual\n",
    "traindf.drop('ExterQual', axis=1, inplace=True)"
   ]
  },
  {
   "cell_type": "code",
   "execution_count": 618,
   "metadata": {},
   "outputs": [],
   "source": [
    "traindf_cat.ExterCond = traindf.ExterCond \n",
    "traindf.drop('ExterCond', axis=1, inplace=True)"
   ]
  },
  {
   "cell_type": "code",
   "execution_count": 619,
   "metadata": {},
   "outputs": [],
   "source": [
    "traindf_cat['Foundation'] = traindf.Foundation\n",
    "traindf.drop('Foundation', axis=1, inplace=True)"
   ]
  },
  {
   "cell_type": "code",
   "execution_count": 620,
   "metadata": {},
   "outputs": [],
   "source": [
    "traindf.MasVnrArea.fillna(value=0.00, inplace=True) "
   ]
  },
  {
   "cell_type": "code",
   "execution_count": 621,
   "metadata": {},
   "outputs": [],
   "source": [
    "traindf_cat.BsmtCond = traindf.BsmtCond\n",
    "traindf.drop('BsmtCond', axis=1, inplace=True)"
   ]
  },
  {
   "cell_type": "code",
   "execution_count": 622,
   "metadata": {},
   "outputs": [],
   "source": [
    "traindf_cat.BsmtFinType1 = traindf.BsmtFinType1\n",
    "traindf.drop('BsmtFinType1', axis=1, inplace=True)"
   ]
  },
  {
   "cell_type": "code",
   "execution_count": 623,
   "metadata": {},
   "outputs": [],
   "source": [
    "traindf_cat.BsmtExposure = traindf.BsmtExposure\n",
    "traindf.drop('BsmtExposure', axis=1, inplace=True)"
   ]
  },
  {
   "cell_type": "code",
   "execution_count": 624,
   "metadata": {},
   "outputs": [],
   "source": [
    "traindf_cat.BsmtQual = traindf.BsmtQual\n",
    "traindf.drop('BsmtQual',axis=1, inplace=True)"
   ]
  },
  {
   "cell_type": "code",
   "execution_count": 625,
   "metadata": {},
   "outputs": [],
   "source": [
    "traindf_cat.BsmtFinType2 = traindf.BsmtFinType2\n",
    "traindf.drop('BsmtFinType2', axis=1, inplace=True)"
   ]
  },
  {
   "cell_type": "code",
   "execution_count": 626,
   "metadata": {},
   "outputs": [],
   "source": [
    "traindf_cat['Heating'] = traindf.Heating\n",
    "traindf.drop('Heating', axis=1, inplace=True)"
   ]
  },
  {
   "cell_type": "code",
   "execution_count": 627,
   "metadata": {},
   "outputs": [],
   "source": [
    "traindf.HeatingQC = traindf.HeatingQC\n",
    "traindf.drop('HeatingQC', axis=1, inplace=True)"
   ]
  },
  {
   "cell_type": "code",
   "execution_count": 628,
   "metadata": {},
   "outputs": [],
   "source": [
    "traindf_cat['CentralAir'] = traindf.CentralAir\n",
    "traindf.drop('CentralAir', axis=1, inplace=True)"
   ]
  },
  {
   "cell_type": "code",
   "execution_count": 629,
   "metadata": {},
   "outputs": [],
   "source": [
    "traindf_cat['Electrical'] = traindf.Electrical\n",
    "traindf.drop('Electrical', axis=1, inplace=True)\n",
    "traindf_cat.Electrical.fillna(value='None', inplace=True)"
   ]
  },
  {
   "cell_type": "code",
   "execution_count": 630,
   "metadata": {},
   "outputs": [],
   "source": [
    "traindf_cat.KitchenQual = traindf.KitchenQual\n",
    "traindf.drop('KitchenQual', axis=1, inplace=True)"
   ]
  },
  {
   "cell_type": "code",
   "execution_count": 631,
   "metadata": {},
   "outputs": [],
   "source": [
    "traindf_cat['Functional'] = traindf.Functional\n",
    "traindf.drop('Functional', axis=1, inplace=True)"
   ]
  },
  {
   "cell_type": "code",
   "execution_count": 632,
   "metadata": {},
   "outputs": [],
   "source": [
    "traindf_cat['GarageType'] = traindf.GarageType\n",
    "traindf.drop('GarageType', axis=1, inplace=True)\n",
    "traindf_cat.GarageType.fillna(value='NoGarage', inplace=True)"
   ]
  },
  {
   "cell_type": "code",
   "execution_count": 633,
   "metadata": {},
   "outputs": [],
   "source": [
    "traindf_cat.GarageFinish = traindf.GarageFinish\n",
    "traindf.drop('GarageFinish', axis=1, inplace=True)"
   ]
  },
  {
   "cell_type": "code",
   "execution_count": 634,
   "metadata": {},
   "outputs": [],
   "source": [
    "traindf_cat.GarageQual = traindf.GarageQual\n",
    "traindf.drop('GarageQual', axis=1, inplace=True)"
   ]
  },
  {
   "cell_type": "code",
   "execution_count": 635,
   "metadata": {},
   "outputs": [],
   "source": [
    "traindf_cat.GarageCond = traindf.GarageCond\n",
    "traindf.drop('GarageCond',axis=1, inplace=True)"
   ]
  },
  {
   "cell_type": "code",
   "execution_count": 636,
   "metadata": {},
   "outputs": [],
   "source": [
    "traindf_cat['PavedDrive'] = traindf.PavedDrive\n",
    "traindf.drop('PavedDrive', axis=1, inplace=True)"
   ]
  },
  {
   "cell_type": "code",
   "execution_count": 637,
   "metadata": {},
   "outputs": [],
   "source": [
    "traindf_cat['Fence'] = traindf.Fence\n",
    "traindf.drop('Fence', axis=1, inplace=True)\n",
    "traindf_cat.fillna(value='NoFence', inplace=True)"
   ]
  },
  {
   "cell_type": "code",
   "execution_count": 638,
   "metadata": {},
   "outputs": [],
   "source": [
    "traindf_cat['MoSold'] = traindf.MoSold\n",
    "traindf.drop('MoSold', axis=1, inplace=True)"
   ]
  },
  {
   "cell_type": "code",
   "execution_count": 639,
   "metadata": {},
   "outputs": [],
   "source": [
    "traindf_cat['SaleType'] = traindf.SaleType\n",
    "traindf.drop('SaleType', axis=1, inplace=True)"
   ]
  },
  {
   "cell_type": "code",
   "execution_count": 640,
   "metadata": {},
   "outputs": [],
   "source": [
    "traindf_cat['SaleCondition'] = traindf.SaleCondition\n",
    "traindf.drop('SaleCondition', axis=1, inplace=True)"
   ]
  },
  {
   "cell_type": "code",
   "execution_count": 641,
   "metadata": {},
   "outputs": [],
   "source": [
    "traindf_cat['BsmtFullBath'] = traindf.BsmtFullBath\n",
    "traindf.drop('BsmtFullBath', axis=1, inplace=True)"
   ]
  },
  {
   "cell_type": "code",
   "execution_count": 642,
   "metadata": {},
   "outputs": [],
   "source": [
    "traindf_cat['BsmtHalfBath'] = traindf.BsmtHalfBath\n",
    "traindf.drop('BsmtHalfBath', axis=1, inplace=True)"
   ]
  },
  {
   "cell_type": "code",
   "execution_count": 643,
   "metadata": {},
   "outputs": [],
   "source": [
    "traindf_cat['FullBath'] = traindf.FullBath\n",
    "traindf.drop('FullBath', axis=1, inplace=True)"
   ]
  },
  {
   "cell_type": "code",
   "execution_count": 644,
   "metadata": {},
   "outputs": [],
   "source": [
    "traindf_cat['HalfBath'] = traindf.HalfBath\n",
    "traindf.drop('HalfBath', axis=1, inplace=True)"
   ]
  },
  {
   "cell_type": "code",
   "execution_count": 645,
   "metadata": {},
   "outputs": [],
   "source": [
    "traindf_cat['BedroomAbvGr'] = traindf.BedroomAbvGr\n",
    "traindf.drop('BedroomAbvGr', axis=1, inplace=True)"
   ]
  },
  {
   "cell_type": "code",
   "execution_count": 646,
   "metadata": {},
   "outputs": [],
   "source": [
    "traindf_cat['KitchenAbvGr'] = traindf.KitchenAbvGr\n",
    "traindf.drop('KitchenAbvGr', axis=1, inplace=True)"
   ]
  },
  {
   "cell_type": "code",
   "execution_count": 647,
   "metadata": {},
   "outputs": [],
   "source": [
    "traindf_cat['TotRmsAbvGrd'] = traindf.TotRmsAbvGrd\n",
    "traindf.drop('TotRmsAbvGrd', axis=1, inplace=True)"
   ]
  },
  {
   "cell_type": "code",
   "execution_count": 648,
   "metadata": {},
   "outputs": [],
   "source": [
    "traindf_cat['Fireplaces'] = traindf.Fireplaces\n",
    "traindf.drop('Fireplaces', axis=1, inplace=True)"
   ]
  },
  {
   "cell_type": "code",
   "execution_count": 649,
   "metadata": {},
   "outputs": [],
   "source": [
    "traindf_cat['GarageCars'] = traindf.GarageCars\n",
    "traindf.drop('GarageCars', axis=1, inplace=True)"
   ]
  },
  {
   "cell_type": "code",
   "execution_count": 650,
   "metadata": {},
   "outputs": [],
   "source": [
    "traindf['ThreeSsnPorch'] = traindf['3SsnPorch']\n",
    "traindf.drop('3SsnPorch', axis=1, inplace=True)"
   ]
  },
  {
   "cell_type": "code",
   "execution_count": 651,
   "metadata": {},
   "outputs": [],
   "source": [
    "traindf['FirstFlrSF'] = traindf['1stFlrSF']\n",
    "traindf.drop('1stFlrSF', axis=1, inplace=True)"
   ]
  },
  {
   "cell_type": "code",
   "execution_count": 652,
   "metadata": {},
   "outputs": [],
   "source": [
    "traindf['SecondFlrSF'] = traindf['2ndFlrSF']\n",
    "traindf.drop('2ndFlrSF', axis=1, inplace=True)"
   ]
  },
  {
   "cell_type": "markdown",
   "metadata": {},
   "source": [
    "## Feature Scaling - Apply Box-Cox?\n",
    "### Box-Cox did not improve the model"
   ]
  },
  {
   "cell_type": "code",
   "execution_count": 653,
   "metadata": {},
   "outputs": [
    {
     "data": {
      "text/plain": [
       "(1451, 36)"
      ]
     },
     "execution_count": 653,
     "metadata": {},
     "output_type": "execute_result"
    }
   ],
   "source": [
    "traindf_cat.shape"
   ]
  },
  {
   "cell_type": "code",
   "execution_count": 654,
   "metadata": {},
   "outputs": [],
   "source": [
    "traindf_columns = traindf.columns"
   ]
  },
  {
   "cell_type": "code",
   "execution_count": 655,
   "metadata": {},
   "outputs": [
    {
     "data": {
      "text/html": [
       "<div>\n",
       "<style scoped>\n",
       "    .dataframe tbody tr th:only-of-type {\n",
       "        vertical-align: middle;\n",
       "    }\n",
       "\n",
       "    .dataframe tbody tr th {\n",
       "        vertical-align: top;\n",
       "    }\n",
       "\n",
       "    .dataframe thead th {\n",
       "        text-align: right;\n",
       "    }\n",
       "</style>\n",
       "<table border=\"1\" class=\"dataframe\">\n",
       "  <thead>\n",
       "    <tr style=\"text-align: right;\">\n",
       "      <th></th>\n",
       "      <th>Id</th>\n",
       "      <th>LotFrontage</th>\n",
       "      <th>LotArea</th>\n",
       "      <th>OverallQual</th>\n",
       "      <th>OverallCond</th>\n",
       "      <th>YearBuilt</th>\n",
       "      <th>MasVnrArea</th>\n",
       "      <th>BsmtFinSF1</th>\n",
       "      <th>BsmtFinSF2</th>\n",
       "      <th>BsmtUnfSF</th>\n",
       "      <th>...</th>\n",
       "      <th>OpenPorchSF</th>\n",
       "      <th>EnclosedPorch</th>\n",
       "      <th>ScreenPorch</th>\n",
       "      <th>PoolArea</th>\n",
       "      <th>MiscVal</th>\n",
       "      <th>YrSold</th>\n",
       "      <th>rate</th>\n",
       "      <th>ThreeSsnPorch</th>\n",
       "      <th>FirstFlrSF</th>\n",
       "      <th>SecondFlrSF</th>\n",
       "    </tr>\n",
       "  </thead>\n",
       "  <tbody>\n",
       "    <tr>\n",
       "      <td>count</td>\n",
       "      <td>1451.000000</td>\n",
       "      <td>1451.000000</td>\n",
       "      <td>1451.000000</td>\n",
       "      <td>1451.000000</td>\n",
       "      <td>1451.000000</td>\n",
       "      <td>1451.000000</td>\n",
       "      <td>1451.000000</td>\n",
       "      <td>1451.000000</td>\n",
       "      <td>1451.000000</td>\n",
       "      <td>1451.000000</td>\n",
       "      <td>...</td>\n",
       "      <td>1451.000000</td>\n",
       "      <td>1451.000000</td>\n",
       "      <td>1451.000000</td>\n",
       "      <td>1451.000000</td>\n",
       "      <td>1451.000000</td>\n",
       "      <td>1451.000000</td>\n",
       "      <td>1451.000000</td>\n",
       "      <td>1451.000000</td>\n",
       "      <td>1451.000000</td>\n",
       "      <td>1451.000000</td>\n",
       "    </tr>\n",
       "    <tr>\n",
       "      <td>mean</td>\n",
       "      <td>730.079256</td>\n",
       "      <td>69.833054</td>\n",
       "      <td>10442.747760</td>\n",
       "      <td>6.079256</td>\n",
       "      <td>5.578222</td>\n",
       "      <td>1971.071675</td>\n",
       "      <td>99.972433</td>\n",
       "      <td>437.809097</td>\n",
       "      <td>46.466575</td>\n",
       "      <td>566.076499</td>\n",
       "      <td>...</td>\n",
       "      <td>46.455548</td>\n",
       "      <td>22.090283</td>\n",
       "      <td>14.760165</td>\n",
       "      <td>2.393522</td>\n",
       "      <td>43.758787</td>\n",
       "      <td>2007.813921</td>\n",
       "      <td>6.257787</td>\n",
       "      <td>3.430737</td>\n",
       "      <td>1156.673329</td>\n",
       "      <td>342.745003</td>\n",
       "    </tr>\n",
       "    <tr>\n",
       "      <td>std</td>\n",
       "      <td>422.163067</td>\n",
       "      <td>21.842884</td>\n",
       "      <td>9916.673175</td>\n",
       "      <td>1.362524</td>\n",
       "      <td>1.115370</td>\n",
       "      <td>30.189728</td>\n",
       "      <td>173.498236</td>\n",
       "      <td>447.757832</td>\n",
       "      <td>161.264463</td>\n",
       "      <td>440.565397</td>\n",
       "      <td>...</td>\n",
       "      <td>66.345854</td>\n",
       "      <td>61.283981</td>\n",
       "      <td>55.342585</td>\n",
       "      <td>37.599673</td>\n",
       "      <td>497.648467</td>\n",
       "      <td>1.326587</td>\n",
       "      <td>0.597619</td>\n",
       "      <td>29.406940</td>\n",
       "      <td>379.591002</td>\n",
       "      <td>429.825177</td>\n",
       "    </tr>\n",
       "    <tr>\n",
       "      <td>min</td>\n",
       "      <td>1.000000</td>\n",
       "      <td>21.000000</td>\n",
       "      <td>1300.000000</td>\n",
       "      <td>1.000000</td>\n",
       "      <td>1.000000</td>\n",
       "      <td>1872.000000</td>\n",
       "      <td>0.000000</td>\n",
       "      <td>0.000000</td>\n",
       "      <td>0.000000</td>\n",
       "      <td>0.000000</td>\n",
       "      <td>...</td>\n",
       "      <td>0.000000</td>\n",
       "      <td>0.000000</td>\n",
       "      <td>0.000000</td>\n",
       "      <td>0.000000</td>\n",
       "      <td>0.000000</td>\n",
       "      <td>2006.000000</td>\n",
       "      <td>4.957000</td>\n",
       "      <td>0.000000</td>\n",
       "      <td>334.000000</td>\n",
       "      <td>0.000000</td>\n",
       "    </tr>\n",
       "    <tr>\n",
       "      <td>25%</td>\n",
       "      <td>364.500000</td>\n",
       "      <td>60.000000</td>\n",
       "      <td>7517.500000</td>\n",
       "      <td>5.000000</td>\n",
       "      <td>5.000000</td>\n",
       "      <td>1954.000000</td>\n",
       "      <td>0.000000</td>\n",
       "      <td>0.000000</td>\n",
       "      <td>0.000000</td>\n",
       "      <td>222.000000</td>\n",
       "      <td>...</td>\n",
       "      <td>0.000000</td>\n",
       "      <td>0.000000</td>\n",
       "      <td>0.000000</td>\n",
       "      <td>0.000000</td>\n",
       "      <td>0.000000</td>\n",
       "      <td>2007.000000</td>\n",
       "      <td>5.678000</td>\n",
       "      <td>0.000000</td>\n",
       "      <td>882.000000</td>\n",
       "      <td>0.000000</td>\n",
       "    </tr>\n",
       "    <tr>\n",
       "      <td>50%</td>\n",
       "      <td>729.000000</td>\n",
       "      <td>69.833054</td>\n",
       "      <td>9452.000000</td>\n",
       "      <td>6.000000</td>\n",
       "      <td>5.000000</td>\n",
       "      <td>1972.000000</td>\n",
       "      <td>0.000000</td>\n",
       "      <td>381.000000</td>\n",
       "      <td>0.000000</td>\n",
       "      <td>476.000000</td>\n",
       "      <td>...</td>\n",
       "      <td>24.000000</td>\n",
       "      <td>0.000000</td>\n",
       "      <td>0.000000</td>\n",
       "      <td>0.000000</td>\n",
       "      <td>0.000000</td>\n",
       "      <td>2008.000000</td>\n",
       "      <td>6.476000</td>\n",
       "      <td>0.000000</td>\n",
       "      <td>1085.000000</td>\n",
       "      <td>0.000000</td>\n",
       "    </tr>\n",
       "    <tr>\n",
       "      <td>75%</td>\n",
       "      <td>1095.500000</td>\n",
       "      <td>78.500000</td>\n",
       "      <td>11506.000000</td>\n",
       "      <td>7.000000</td>\n",
       "      <td>6.000000</td>\n",
       "      <td>2000.000000</td>\n",
       "      <td>160.500000</td>\n",
       "      <td>705.500000</td>\n",
       "      <td>0.000000</td>\n",
       "      <td>808.000000</td>\n",
       "      <td>...</td>\n",
       "      <td>68.000000</td>\n",
       "      <td>0.000000</td>\n",
       "      <td>0.000000</td>\n",
       "      <td>0.000000</td>\n",
       "      <td>0.000000</td>\n",
       "      <td>2009.000000</td>\n",
       "      <td>6.825000</td>\n",
       "      <td>0.000000</td>\n",
       "      <td>1382.500000</td>\n",
       "      <td>728.000000</td>\n",
       "    </tr>\n",
       "    <tr>\n",
       "      <td>max</td>\n",
       "      <td>1460.000000</td>\n",
       "      <td>313.000000</td>\n",
       "      <td>215245.000000</td>\n",
       "      <td>10.000000</td>\n",
       "      <td>9.000000</td>\n",
       "      <td>2010.000000</td>\n",
       "      <td>1600.000000</td>\n",
       "      <td>5644.000000</td>\n",
       "      <td>1474.000000</td>\n",
       "      <td>2336.000000</td>\n",
       "      <td>...</td>\n",
       "      <td>547.000000</td>\n",
       "      <td>552.000000</td>\n",
       "      <td>480.000000</td>\n",
       "      <td>738.000000</td>\n",
       "      <td>15500.000000</td>\n",
       "      <td>2010.000000</td>\n",
       "      <td>7.008000</td>\n",
       "      <td>508.000000</td>\n",
       "      <td>4692.000000</td>\n",
       "      <td>1818.000000</td>\n",
       "    </tr>\n",
       "  </tbody>\n",
       "</table>\n",
       "<p>8 rows × 24 columns</p>\n",
       "</div>"
      ],
      "text/plain": [
       "                Id  LotFrontage        LotArea  OverallQual  OverallCond  \\\n",
       "count  1451.000000  1451.000000    1451.000000  1451.000000  1451.000000   \n",
       "mean    730.079256    69.833054   10442.747760     6.079256     5.578222   \n",
       "std     422.163067    21.842884    9916.673175     1.362524     1.115370   \n",
       "min       1.000000    21.000000    1300.000000     1.000000     1.000000   \n",
       "25%     364.500000    60.000000    7517.500000     5.000000     5.000000   \n",
       "50%     729.000000    69.833054    9452.000000     6.000000     5.000000   \n",
       "75%    1095.500000    78.500000   11506.000000     7.000000     6.000000   \n",
       "max    1460.000000   313.000000  215245.000000    10.000000     9.000000   \n",
       "\n",
       "         YearBuilt   MasVnrArea   BsmtFinSF1   BsmtFinSF2    BsmtUnfSF  ...  \\\n",
       "count  1451.000000  1451.000000  1451.000000  1451.000000  1451.000000  ...   \n",
       "mean   1971.071675    99.972433   437.809097    46.466575   566.076499  ...   \n",
       "std      30.189728   173.498236   447.757832   161.264463   440.565397  ...   \n",
       "min    1872.000000     0.000000     0.000000     0.000000     0.000000  ...   \n",
       "25%    1954.000000     0.000000     0.000000     0.000000   222.000000  ...   \n",
       "50%    1972.000000     0.000000   381.000000     0.000000   476.000000  ...   \n",
       "75%    2000.000000   160.500000   705.500000     0.000000   808.000000  ...   \n",
       "max    2010.000000  1600.000000  5644.000000  1474.000000  2336.000000  ...   \n",
       "\n",
       "       OpenPorchSF  EnclosedPorch  ScreenPorch     PoolArea       MiscVal  \\\n",
       "count  1451.000000    1451.000000  1451.000000  1451.000000   1451.000000   \n",
       "mean     46.455548      22.090283    14.760165     2.393522     43.758787   \n",
       "std      66.345854      61.283981    55.342585    37.599673    497.648467   \n",
       "min       0.000000       0.000000     0.000000     0.000000      0.000000   \n",
       "25%       0.000000       0.000000     0.000000     0.000000      0.000000   \n",
       "50%      24.000000       0.000000     0.000000     0.000000      0.000000   \n",
       "75%      68.000000       0.000000     0.000000     0.000000      0.000000   \n",
       "max     547.000000     552.000000   480.000000   738.000000  15500.000000   \n",
       "\n",
       "            YrSold         rate  ThreeSsnPorch   FirstFlrSF  SecondFlrSF  \n",
       "count  1451.000000  1451.000000    1451.000000  1451.000000  1451.000000  \n",
       "mean   2007.813921     6.257787       3.430737  1156.673329   342.745003  \n",
       "std       1.326587     0.597619      29.406940   379.591002   429.825177  \n",
       "min    2006.000000     4.957000       0.000000   334.000000     0.000000  \n",
       "25%    2007.000000     5.678000       0.000000   882.000000     0.000000  \n",
       "50%    2008.000000     6.476000       0.000000  1085.000000     0.000000  \n",
       "75%    2009.000000     6.825000       0.000000  1382.500000   728.000000  \n",
       "max    2010.000000     7.008000     508.000000  4692.000000  1818.000000  \n",
       "\n",
       "[8 rows x 24 columns]"
      ]
     },
     "execution_count": 655,
     "metadata": {},
     "output_type": "execute_result"
    }
   ],
   "source": [
    "traindf.describe()"
   ]
  },
  {
   "cell_type": "code",
   "execution_count": 656,
   "metadata": {},
   "outputs": [
    {
     "data": {
      "text/plain": [
       "Id                  1.000\n",
       "LotFrontage        21.000\n",
       "LotArea          1300.000\n",
       "OverallQual         1.000\n",
       "OverallCond         1.000\n",
       "YearBuilt        1872.000\n",
       "MasVnrArea          0.000\n",
       "BsmtFinSF1          0.000\n",
       "BsmtFinSF2          0.000\n",
       "BsmtUnfSF           0.000\n",
       "LowQualFinSF        0.000\n",
       "GrLivArea         334.000\n",
       "GarageArea          0.000\n",
       "WoodDeckSF          0.000\n",
       "OpenPorchSF         0.000\n",
       "EnclosedPorch       0.000\n",
       "ScreenPorch         0.000\n",
       "PoolArea            0.000\n",
       "MiscVal             0.000\n",
       "YrSold           2006.000\n",
       "rate                4.957\n",
       "ThreeSsnPorch       0.000\n",
       "FirstFlrSF        334.000\n",
       "SecondFlrSF         0.000\n",
       "dtype: float64"
      ]
     },
     "execution_count": 656,
     "metadata": {},
     "output_type": "execute_result"
    }
   ],
   "source": [
    "#traindf = traindf + 1\n",
    "traindf.min()"
   ]
  },
  {
   "cell_type": "code",
   "execution_count": 657,
   "metadata": {},
   "outputs": [
    {
     "name": "stdout",
     "output_type": "stream",
     "text": [
      "traindf['LotArea'] = stats.boxcox(traindf['LotArea'])[0]\n",
      "1300 LotArea\n",
      "traindf['OverallCond'] = stats.boxcox(traindf['OverallCond'])[0]\n",
      "1 OverallCond\n",
      "traindf['YearBuilt'] = stats.boxcox(traindf['YearBuilt'])[0]\n",
      "1872 YearBuilt\n",
      "traindf['MasVnrArea'] = stats.boxcox(traindf['MasVnrArea'])[0]\n",
      "0.0 MasVnrArea\n",
      "traindf['BsmtFinSF1'] = stats.boxcox(traindf['BsmtFinSF1'])[0]\n",
      "0 BsmtFinSF1\n",
      "traindf['BsmtFinSF2'] = stats.boxcox(traindf['BsmtFinSF2'])[0]\n",
      "0 BsmtFinSF2\n",
      "traindf['BsmtUnfSF'] = stats.boxcox(traindf['BsmtUnfSF'])[0]\n",
      "0 BsmtUnfSF\n",
      "traindf['WoodDeckSF'] = stats.boxcox(traindf['WoodDeckSF'])[0]\n",
      "0 WoodDeckSF\n",
      "traindf['OpenPorchSF'] = stats.boxcox(traindf['OpenPorchSF'])[0]\n",
      "0 OpenPorchSF\n",
      "traindf['EnclosedPorch'] = stats.boxcox(traindf['EnclosedPorch'])[0]\n",
      "0 EnclosedPorch\n",
      "traindf['ScreenPorch'] = stats.boxcox(traindf['ScreenPorch'])[0]\n",
      "0 ScreenPorch\n",
      "traindf['PoolArea'] = stats.boxcox(traindf['PoolArea'])[0]\n",
      "0 PoolArea\n",
      "traindf['MiscVal'] = stats.boxcox(traindf['MiscVal'])[0]\n",
      "0 MiscVal\n",
      "traindf['YrSold'] = stats.boxcox(traindf['YrSold'])[0]\n",
      "2006 YrSold\n",
      "traindf['ThreeSsnPorch'] = stats.boxcox(traindf['ThreeSsnPorch'])[0]\n",
      "0 ThreeSsnPorch\n",
      "traindf['FirstFlrSF'] = stats.boxcox(traindf['FirstFlrSF'])[0]\n",
      "334 FirstFlrSF\n",
      "traindf['SecondFlrSF'] = stats.boxcox(traindf['SecondFlrSF'])[0]\n",
      "0 SecondFlrSF\n"
     ]
    }
   ],
   "source": [
    "import scipy.stats\n",
    "low_vals = []\n",
    "box = ['LotArea', 'OverallCond', 'YearBuilt', 'MasVnrArea', 'BsmtFinSF1', 'BsmtFinSF2', 'BsmtUnfSF', 'WoodDeckSF', 'OpenPorchSF', 'EnclosedPorch', 'ScreenPorch', 'PoolArea', 'MiscVal', 'YrSold', 'ThreeSsnPorch', 'FirstFlrSF', 'SecondFlrSF']\n",
    "box1 = 'OverallCond'\n",
    "for ox in box:\n",
    "    print(f\"traindf['{ox}'] = stats.boxcox(traindf['{ox}'])[0]\")\n",
    "    print(traindf[f'{ox}'].min(), ox)"
   ]
  },
  {
   "cell_type": "code",
   "execution_count": 658,
   "metadata": {},
   "outputs": [],
   "source": [
    "#traindf['LotArea'] = stats.boxcox(traindf['LotArea'])[0]\n",
    "#traindf['YearBuilt'] = stats.boxcox(traindf['YearBuilt'])[0]\n",
    "#traindf['OverallCond'] = stats.boxcox(traindf['OverallCond'])[0]\n",
    "#traindf['MasVnrArea'] = stats.boxcox(traindf['MasVnrArea'])[0]\n",
    "#traindf['BsmtFinSF1'] = stats.boxcox(traindf['BsmtFinSF1'])[0]\n",
    "#traindf['BsmtFinSF2'] = stats.boxcox(traindf['BsmtFinSF2'])[0]\n",
    "#traindf['BsmtUnfSF'] = stats.boxcox(traindf['BsmtUnfSF'])[0]\n",
    "#traindf['WoodDeckSF'] = stats.boxcox(traindf['WoodDeckSF'])[0]\n",
    "#traindf['OpenPorchSF'] = stats.boxcox(traindf['OpenPorchSF'])[0]\n",
    "#traindf['EnclosedPorch'] = stats.boxcox(traindf['EnclosedPorch'])[0]\n",
    "#traindf['ScreenPorch'] = stats.boxcox(traindf['ScreenPorch'])[0]\n",
    "#traindf['PoolArea'] = stats.boxcox(traindf['PoolArea'])[0]\n",
    "#traindf['MiscVal'] = stats.boxcox(traindf['MiscVal'])[0]\n",
    "#traindf['YrSold'] = stats.boxcox(traindf['YrSold'])[0]\n",
    "#traindf['ThreeSsnPorch'] =x stats.boxcox(traindf['ThreeSsnPorch'])[0]\n",
    "#traindf['FirstFlrSF'] = stats.boxcox(traindf['FirstFlrSF'])[0]\n",
    "#traindf['SecondFlrSF'] = stats.boxcox(traindf['SecondFlrSF'])[0]"
   ]
  },
  {
   "cell_type": "code",
   "execution_count": 659,
   "metadata": {},
   "outputs": [],
   "source": [
    "#x = traindf['MasVnrArea'].replace(0, 'nan')\n",
    "#l = stats.boxcox(x.dropna())[1]\n"
   ]
  },
  {
   "cell_type": "code",
   "execution_count": 660,
   "metadata": {},
   "outputs": [
    {
     "data": {
      "text/html": [
       "<div>\n",
       "<style scoped>\n",
       "    .dataframe tbody tr th:only-of-type {\n",
       "        vertical-align: middle;\n",
       "    }\n",
       "\n",
       "    .dataframe tbody tr th {\n",
       "        vertical-align: top;\n",
       "    }\n",
       "\n",
       "    .dataframe thead th {\n",
       "        text-align: right;\n",
       "    }\n",
       "</style>\n",
       "<table border=\"1\" class=\"dataframe\">\n",
       "  <thead>\n",
       "    <tr style=\"text-align: right;\">\n",
       "      <th></th>\n",
       "      <th>Id</th>\n",
       "      <th>LotFrontage</th>\n",
       "      <th>LotArea</th>\n",
       "      <th>OverallQual</th>\n",
       "      <th>OverallCond</th>\n",
       "      <th>YearBuilt</th>\n",
       "      <th>MasVnrArea</th>\n",
       "      <th>BsmtFinSF1</th>\n",
       "      <th>BsmtFinSF2</th>\n",
       "      <th>BsmtUnfSF</th>\n",
       "      <th>...</th>\n",
       "      <th>OpenPorchSF</th>\n",
       "      <th>EnclosedPorch</th>\n",
       "      <th>ScreenPorch</th>\n",
       "      <th>PoolArea</th>\n",
       "      <th>MiscVal</th>\n",
       "      <th>YrSold</th>\n",
       "      <th>rate</th>\n",
       "      <th>ThreeSsnPorch</th>\n",
       "      <th>FirstFlrSF</th>\n",
       "      <th>SecondFlrSF</th>\n",
       "    </tr>\n",
       "  </thead>\n",
       "  <tbody>\n",
       "    <tr>\n",
       "      <td>count</td>\n",
       "      <td>1451.000000</td>\n",
       "      <td>1451.000000</td>\n",
       "      <td>1451.000000</td>\n",
       "      <td>1451.000000</td>\n",
       "      <td>1451.000000</td>\n",
       "      <td>1451.000000</td>\n",
       "      <td>1451.000000</td>\n",
       "      <td>1451.000000</td>\n",
       "      <td>1451.000000</td>\n",
       "      <td>1451.000000</td>\n",
       "      <td>...</td>\n",
       "      <td>1451.000000</td>\n",
       "      <td>1451.000000</td>\n",
       "      <td>1451.000000</td>\n",
       "      <td>1451.000000</td>\n",
       "      <td>1451.000000</td>\n",
       "      <td>1451.000000</td>\n",
       "      <td>1451.000000</td>\n",
       "      <td>1451.000000</td>\n",
       "      <td>1451.000000</td>\n",
       "      <td>1451.000000</td>\n",
       "    </tr>\n",
       "    <tr>\n",
       "      <td>mean</td>\n",
       "      <td>730.079256</td>\n",
       "      <td>69.833054</td>\n",
       "      <td>10442.747760</td>\n",
       "      <td>6.079256</td>\n",
       "      <td>5.578222</td>\n",
       "      <td>1971.071675</td>\n",
       "      <td>99.972433</td>\n",
       "      <td>437.809097</td>\n",
       "      <td>46.466575</td>\n",
       "      <td>566.076499</td>\n",
       "      <td>...</td>\n",
       "      <td>46.455548</td>\n",
       "      <td>22.090283</td>\n",
       "      <td>14.760165</td>\n",
       "      <td>2.393522</td>\n",
       "      <td>43.758787</td>\n",
       "      <td>2007.813921</td>\n",
       "      <td>6.257787</td>\n",
       "      <td>3.430737</td>\n",
       "      <td>1156.673329</td>\n",
       "      <td>342.745003</td>\n",
       "    </tr>\n",
       "    <tr>\n",
       "      <td>std</td>\n",
       "      <td>422.163067</td>\n",
       "      <td>21.842884</td>\n",
       "      <td>9916.673175</td>\n",
       "      <td>1.362524</td>\n",
       "      <td>1.115370</td>\n",
       "      <td>30.189728</td>\n",
       "      <td>173.498236</td>\n",
       "      <td>447.757832</td>\n",
       "      <td>161.264463</td>\n",
       "      <td>440.565397</td>\n",
       "      <td>...</td>\n",
       "      <td>66.345854</td>\n",
       "      <td>61.283981</td>\n",
       "      <td>55.342585</td>\n",
       "      <td>37.599673</td>\n",
       "      <td>497.648467</td>\n",
       "      <td>1.326587</td>\n",
       "      <td>0.597619</td>\n",
       "      <td>29.406940</td>\n",
       "      <td>379.591002</td>\n",
       "      <td>429.825177</td>\n",
       "    </tr>\n",
       "    <tr>\n",
       "      <td>min</td>\n",
       "      <td>1.000000</td>\n",
       "      <td>21.000000</td>\n",
       "      <td>1300.000000</td>\n",
       "      <td>1.000000</td>\n",
       "      <td>1.000000</td>\n",
       "      <td>1872.000000</td>\n",
       "      <td>0.000000</td>\n",
       "      <td>0.000000</td>\n",
       "      <td>0.000000</td>\n",
       "      <td>0.000000</td>\n",
       "      <td>...</td>\n",
       "      <td>0.000000</td>\n",
       "      <td>0.000000</td>\n",
       "      <td>0.000000</td>\n",
       "      <td>0.000000</td>\n",
       "      <td>0.000000</td>\n",
       "      <td>2006.000000</td>\n",
       "      <td>4.957000</td>\n",
       "      <td>0.000000</td>\n",
       "      <td>334.000000</td>\n",
       "      <td>0.000000</td>\n",
       "    </tr>\n",
       "    <tr>\n",
       "      <td>25%</td>\n",
       "      <td>364.500000</td>\n",
       "      <td>60.000000</td>\n",
       "      <td>7517.500000</td>\n",
       "      <td>5.000000</td>\n",
       "      <td>5.000000</td>\n",
       "      <td>1954.000000</td>\n",
       "      <td>0.000000</td>\n",
       "      <td>0.000000</td>\n",
       "      <td>0.000000</td>\n",
       "      <td>222.000000</td>\n",
       "      <td>...</td>\n",
       "      <td>0.000000</td>\n",
       "      <td>0.000000</td>\n",
       "      <td>0.000000</td>\n",
       "      <td>0.000000</td>\n",
       "      <td>0.000000</td>\n",
       "      <td>2007.000000</td>\n",
       "      <td>5.678000</td>\n",
       "      <td>0.000000</td>\n",
       "      <td>882.000000</td>\n",
       "      <td>0.000000</td>\n",
       "    </tr>\n",
       "    <tr>\n",
       "      <td>50%</td>\n",
       "      <td>729.000000</td>\n",
       "      <td>69.833054</td>\n",
       "      <td>9452.000000</td>\n",
       "      <td>6.000000</td>\n",
       "      <td>5.000000</td>\n",
       "      <td>1972.000000</td>\n",
       "      <td>0.000000</td>\n",
       "      <td>381.000000</td>\n",
       "      <td>0.000000</td>\n",
       "      <td>476.000000</td>\n",
       "      <td>...</td>\n",
       "      <td>24.000000</td>\n",
       "      <td>0.000000</td>\n",
       "      <td>0.000000</td>\n",
       "      <td>0.000000</td>\n",
       "      <td>0.000000</td>\n",
       "      <td>2008.000000</td>\n",
       "      <td>6.476000</td>\n",
       "      <td>0.000000</td>\n",
       "      <td>1085.000000</td>\n",
       "      <td>0.000000</td>\n",
       "    </tr>\n",
       "    <tr>\n",
       "      <td>75%</td>\n",
       "      <td>1095.500000</td>\n",
       "      <td>78.500000</td>\n",
       "      <td>11506.000000</td>\n",
       "      <td>7.000000</td>\n",
       "      <td>6.000000</td>\n",
       "      <td>2000.000000</td>\n",
       "      <td>160.500000</td>\n",
       "      <td>705.500000</td>\n",
       "      <td>0.000000</td>\n",
       "      <td>808.000000</td>\n",
       "      <td>...</td>\n",
       "      <td>68.000000</td>\n",
       "      <td>0.000000</td>\n",
       "      <td>0.000000</td>\n",
       "      <td>0.000000</td>\n",
       "      <td>0.000000</td>\n",
       "      <td>2009.000000</td>\n",
       "      <td>6.825000</td>\n",
       "      <td>0.000000</td>\n",
       "      <td>1382.500000</td>\n",
       "      <td>728.000000</td>\n",
       "    </tr>\n",
       "    <tr>\n",
       "      <td>max</td>\n",
       "      <td>1460.000000</td>\n",
       "      <td>313.000000</td>\n",
       "      <td>215245.000000</td>\n",
       "      <td>10.000000</td>\n",
       "      <td>9.000000</td>\n",
       "      <td>2010.000000</td>\n",
       "      <td>1600.000000</td>\n",
       "      <td>5644.000000</td>\n",
       "      <td>1474.000000</td>\n",
       "      <td>2336.000000</td>\n",
       "      <td>...</td>\n",
       "      <td>547.000000</td>\n",
       "      <td>552.000000</td>\n",
       "      <td>480.000000</td>\n",
       "      <td>738.000000</td>\n",
       "      <td>15500.000000</td>\n",
       "      <td>2010.000000</td>\n",
       "      <td>7.008000</td>\n",
       "      <td>508.000000</td>\n",
       "      <td>4692.000000</td>\n",
       "      <td>1818.000000</td>\n",
       "    </tr>\n",
       "  </tbody>\n",
       "</table>\n",
       "<p>8 rows × 24 columns</p>\n",
       "</div>"
      ],
      "text/plain": [
       "                Id  LotFrontage        LotArea  OverallQual  OverallCond  \\\n",
       "count  1451.000000  1451.000000    1451.000000  1451.000000  1451.000000   \n",
       "mean    730.079256    69.833054   10442.747760     6.079256     5.578222   \n",
       "std     422.163067    21.842884    9916.673175     1.362524     1.115370   \n",
       "min       1.000000    21.000000    1300.000000     1.000000     1.000000   \n",
       "25%     364.500000    60.000000    7517.500000     5.000000     5.000000   \n",
       "50%     729.000000    69.833054    9452.000000     6.000000     5.000000   \n",
       "75%    1095.500000    78.500000   11506.000000     7.000000     6.000000   \n",
       "max    1460.000000   313.000000  215245.000000    10.000000     9.000000   \n",
       "\n",
       "         YearBuilt   MasVnrArea   BsmtFinSF1   BsmtFinSF2    BsmtUnfSF  ...  \\\n",
       "count  1451.000000  1451.000000  1451.000000  1451.000000  1451.000000  ...   \n",
       "mean   1971.071675    99.972433   437.809097    46.466575   566.076499  ...   \n",
       "std      30.189728   173.498236   447.757832   161.264463   440.565397  ...   \n",
       "min    1872.000000     0.000000     0.000000     0.000000     0.000000  ...   \n",
       "25%    1954.000000     0.000000     0.000000     0.000000   222.000000  ...   \n",
       "50%    1972.000000     0.000000   381.000000     0.000000   476.000000  ...   \n",
       "75%    2000.000000   160.500000   705.500000     0.000000   808.000000  ...   \n",
       "max    2010.000000  1600.000000  5644.000000  1474.000000  2336.000000  ...   \n",
       "\n",
       "       OpenPorchSF  EnclosedPorch  ScreenPorch     PoolArea       MiscVal  \\\n",
       "count  1451.000000    1451.000000  1451.000000  1451.000000   1451.000000   \n",
       "mean     46.455548      22.090283    14.760165     2.393522     43.758787   \n",
       "std      66.345854      61.283981    55.342585    37.599673    497.648467   \n",
       "min       0.000000       0.000000     0.000000     0.000000      0.000000   \n",
       "25%       0.000000       0.000000     0.000000     0.000000      0.000000   \n",
       "50%      24.000000       0.000000     0.000000     0.000000      0.000000   \n",
       "75%      68.000000       0.000000     0.000000     0.000000      0.000000   \n",
       "max     547.000000     552.000000   480.000000   738.000000  15500.000000   \n",
       "\n",
       "            YrSold         rate  ThreeSsnPorch   FirstFlrSF  SecondFlrSF  \n",
       "count  1451.000000  1451.000000    1451.000000  1451.000000  1451.000000  \n",
       "mean   2007.813921     6.257787       3.430737  1156.673329   342.745003  \n",
       "std       1.326587     0.597619      29.406940   379.591002   429.825177  \n",
       "min    2006.000000     4.957000       0.000000   334.000000     0.000000  \n",
       "25%    2007.000000     5.678000       0.000000   882.000000     0.000000  \n",
       "50%    2008.000000     6.476000       0.000000  1085.000000     0.000000  \n",
       "75%    2009.000000     6.825000       0.000000  1382.500000   728.000000  \n",
       "max    2010.000000     7.008000     508.000000  4692.000000  1818.000000  \n",
       "\n",
       "[8 rows x 24 columns]"
      ]
     },
     "execution_count": 660,
     "metadata": {},
     "output_type": "execute_result"
    }
   ],
   "source": [
    "#traindf['MasVnrArea'] = stats.boxcox(traindf['MasVnrArea'])[0]\n",
    "traindf.describe()"
   ]
  },
  {
   "cell_type": "code",
   "execution_count": 661,
   "metadata": {},
   "outputs": [],
   "source": [
    "from sklearn.preprocessing import StandardScaler\n",
    "from scipy import stats\n",
    "\n",
    "ss = StandardScaler()\n",
    "\n",
    "traindfss = pd.DataFrame(ss.fit_transform(traindf))\n",
    "traindfss.set_index(traindf.Id, inplace=True)\n",
    "traindfss.columns = traindf_columns \n",
    "# Remove outliers, i.e. data points outside of 2 standard deviations of the mean\n",
    "traindfss = traindfss[(np.abs(stats.zscore(traindfss)) < 2).all(axis=1)]\n",
    "#X_train_numeric.head()"
   ]
  },
  {
   "cell_type": "code",
   "execution_count": 662,
   "metadata": {},
   "outputs": [],
   "source": [
    "traindfss.drop('Id', axis=1, inplace=True)"
   ]
  },
  {
   "cell_type": "code",
   "execution_count": 663,
   "metadata": {},
   "outputs": [
    {
     "data": {
      "text/html": [
       "<div>\n",
       "<style scoped>\n",
       "    .dataframe tbody tr th:only-of-type {\n",
       "        vertical-align: middle;\n",
       "    }\n",
       "\n",
       "    .dataframe tbody tr th {\n",
       "        vertical-align: top;\n",
       "    }\n",
       "\n",
       "    .dataframe thead th {\n",
       "        text-align: right;\n",
       "    }\n",
       "</style>\n",
       "<table border=\"1\" class=\"dataframe\">\n",
       "  <thead>\n",
       "    <tr style=\"text-align: right;\">\n",
       "      <th></th>\n",
       "      <th>LotFrontage</th>\n",
       "      <th>LotArea</th>\n",
       "      <th>OverallQual</th>\n",
       "      <th>OverallCond</th>\n",
       "      <th>YearBuilt</th>\n",
       "      <th>MasVnrArea</th>\n",
       "      <th>BsmtFinSF1</th>\n",
       "      <th>BsmtFinSF2</th>\n",
       "      <th>BsmtUnfSF</th>\n",
       "      <th>LowQualFinSF</th>\n",
       "      <th>...</th>\n",
       "      <th>OpenPorchSF</th>\n",
       "      <th>EnclosedPorch</th>\n",
       "      <th>ScreenPorch</th>\n",
       "      <th>PoolArea</th>\n",
       "      <th>MiscVal</th>\n",
       "      <th>YrSold</th>\n",
       "      <th>rate</th>\n",
       "      <th>ThreeSsnPorch</th>\n",
       "      <th>FirstFlrSF</th>\n",
       "      <th>SecondFlrSF</th>\n",
       "    </tr>\n",
       "  </thead>\n",
       "  <tbody>\n",
       "    <tr>\n",
       "      <td>count</td>\n",
       "      <td>671.000000</td>\n",
       "      <td>671.000000</td>\n",
       "      <td>671.000000</td>\n",
       "      <td>671.000000</td>\n",
       "      <td>671.000000</td>\n",
       "      <td>671.000000</td>\n",
       "      <td>671.000000</td>\n",
       "      <td>671.000000</td>\n",
       "      <td>671.000000</td>\n",
       "      <td>671.000000</td>\n",
       "      <td>...</td>\n",
       "      <td>671.000000</td>\n",
       "      <td>671.000000</td>\n",
       "      <td>671.000000</td>\n",
       "      <td>6.710000e+02</td>\n",
       "      <td>671.000000</td>\n",
       "      <td>671.000000</td>\n",
       "      <td>671.000000</td>\n",
       "      <td>671.000000</td>\n",
       "      <td>671.000000</td>\n",
       "      <td>671.000000</td>\n",
       "    </tr>\n",
       "    <tr>\n",
       "      <td>mean</td>\n",
       "      <td>-0.124084</td>\n",
       "      <td>-0.125052</td>\n",
       "      <td>-0.085542</td>\n",
       "      <td>-0.132308</td>\n",
       "      <td>0.183104</td>\n",
       "      <td>-0.203927</td>\n",
       "      <td>-0.018082</td>\n",
       "      <td>-0.225772</td>\n",
       "      <td>-0.074196</td>\n",
       "      <td>-0.114109</td>\n",
       "      <td>...</td>\n",
       "      <td>-0.162050</td>\n",
       "      <td>-0.240214</td>\n",
       "      <td>-0.232370</td>\n",
       "      <td>-6.367999e-02</td>\n",
       "      <td>-0.059580</td>\n",
       "      <td>-0.010273</td>\n",
       "      <td>-0.008594</td>\n",
       "      <td>-0.115538</td>\n",
       "      <td>-0.223880</td>\n",
       "      <td>-0.076174</td>\n",
       "    </tr>\n",
       "    <tr>\n",
       "      <td>std</td>\n",
       "      <td>0.629895</td>\n",
       "      <td>0.348166</td>\n",
       "      <td>0.813246</td>\n",
       "      <td>0.666966</td>\n",
       "      <td>0.877777</td>\n",
       "      <td>0.603891</td>\n",
       "      <td>0.849301</td>\n",
       "      <td>0.294046</td>\n",
       "      <td>0.854529</td>\n",
       "      <td>0.098785</td>\n",
       "      <td>...</td>\n",
       "      <td>0.657679</td>\n",
       "      <td>0.441905</td>\n",
       "      <td>0.254833</td>\n",
       "      <td>2.083221e-16</td>\n",
       "      <td>0.173798</td>\n",
       "      <td>1.020566</td>\n",
       "      <td>1.006203</td>\n",
       "      <td>0.030204</td>\n",
       "      <td>0.705254</td>\n",
       "      <td>0.909955</td>\n",
       "    </tr>\n",
       "    <tr>\n",
       "      <td>min</td>\n",
       "      <td>-1.824246</td>\n",
       "      <td>-0.854285</td>\n",
       "      <td>-1.526558</td>\n",
       "      <td>-1.415464</td>\n",
       "      <td>-1.924221</td>\n",
       "      <td>-0.576415</td>\n",
       "      <td>-0.978118</td>\n",
       "      <td>-0.288238</td>\n",
       "      <td>-1.285329</td>\n",
       "      <td>-0.120619</td>\n",
       "      <td>...</td>\n",
       "      <td>-0.700444</td>\n",
       "      <td>-0.360582</td>\n",
       "      <td>-0.266797</td>\n",
       "      <td>-6.367999e-02</td>\n",
       "      <td>-0.087961</td>\n",
       "      <td>-1.367831</td>\n",
       "      <td>-1.887785</td>\n",
       "      <td>-0.116704</td>\n",
       "      <td>-1.677840</td>\n",
       "      <td>-0.797681</td>\n",
       "    </tr>\n",
       "    <tr>\n",
       "      <td>25%</td>\n",
       "      <td>-0.450327</td>\n",
       "      <td>-0.325801</td>\n",
       "      <td>-0.792373</td>\n",
       "      <td>-0.518592</td>\n",
       "      <td>-0.466269</td>\n",
       "      <td>-0.576415</td>\n",
       "      <td>-0.978118</td>\n",
       "      <td>-0.288238</td>\n",
       "      <td>-0.752875</td>\n",
       "      <td>-0.120619</td>\n",
       "      <td>...</td>\n",
       "      <td>-0.700444</td>\n",
       "      <td>-0.360582</td>\n",
       "      <td>-0.266797</td>\n",
       "      <td>-6.367999e-02</td>\n",
       "      <td>-0.087961</td>\n",
       "      <td>-0.613757</td>\n",
       "      <td>-0.970496</td>\n",
       "      <td>-0.116704</td>\n",
       "      <td>-0.771289</td>\n",
       "      <td>-0.797681</td>\n",
       "    </tr>\n",
       "    <tr>\n",
       "      <td>50%</td>\n",
       "      <td>0.000000</td>\n",
       "      <td>-0.152598</td>\n",
       "      <td>-0.058188</td>\n",
       "      <td>-0.518592</td>\n",
       "      <td>0.229572</td>\n",
       "      <td>-0.576415</td>\n",
       "      <td>0.009363</td>\n",
       "      <td>-0.288238</td>\n",
       "      <td>-0.243127</td>\n",
       "      <td>-0.120619</td>\n",
       "      <td>...</td>\n",
       "      <td>-0.368734</td>\n",
       "      <td>-0.360582</td>\n",
       "      <td>-0.266797</td>\n",
       "      <td>-6.367999e-02</td>\n",
       "      <td>-0.087961</td>\n",
       "      <td>0.140317</td>\n",
       "      <td>0.346850</td>\n",
       "      <td>-0.116704</td>\n",
       "      <td>-0.307472</td>\n",
       "      <td>-0.797681</td>\n",
       "    </tr>\n",
       "    <tr>\n",
       "      <td>75%</td>\n",
       "      <td>0.236632</td>\n",
       "      <td>0.032205</td>\n",
       "      <td>0.675997</td>\n",
       "      <td>0.378281</td>\n",
       "      <td>1.057954</td>\n",
       "      <td>0.046285</td>\n",
       "      <td>0.596937</td>\n",
       "      <td>-0.288238</td>\n",
       "      <td>0.505033</td>\n",
       "      <td>-0.120619</td>\n",
       "      <td>...</td>\n",
       "      <td>0.189142</td>\n",
       "      <td>-0.360582</td>\n",
       "      <td>-0.266797</td>\n",
       "      <td>-6.367999e-02</td>\n",
       "      <td>-0.087961</td>\n",
       "      <td>0.894391</td>\n",
       "      <td>0.949449</td>\n",
       "      <td>-0.116704</td>\n",
       "      <td>0.244628</td>\n",
       "      <td>0.858214</td>\n",
       "    </tr>\n",
       "    <tr>\n",
       "      <td>max</td>\n",
       "      <td>1.793740</td>\n",
       "      <td>1.968703</td>\n",
       "      <td>1.410181</td>\n",
       "      <td>1.275154</td>\n",
       "      <td>1.256765</td>\n",
       "      <td>1.972040</td>\n",
       "      <td>1.997730</td>\n",
       "      <td>1.957296</td>\n",
       "      <td>1.975242</td>\n",
       "      <td>1.520246</td>\n",
       "      <td>...</td>\n",
       "      <td>1.892925</td>\n",
       "      <td>1.989945</td>\n",
       "      <td>1.938413</td>\n",
       "      <td>-6.367999e-02</td>\n",
       "      <td>1.319139</td>\n",
       "      <td>1.648465</td>\n",
       "      <td>1.255769</td>\n",
       "      <td>0.665694</td>\n",
       "      <td>1.885117</td>\n",
       "      <td>1.981151</td>\n",
       "    </tr>\n",
       "  </tbody>\n",
       "</table>\n",
       "<p>8 rows × 23 columns</p>\n",
       "</div>"
      ],
      "text/plain": [
       "       LotFrontage     LotArea  OverallQual  OverallCond   YearBuilt  \\\n",
       "count   671.000000  671.000000   671.000000   671.000000  671.000000   \n",
       "mean     -0.124084   -0.125052    -0.085542    -0.132308    0.183104   \n",
       "std       0.629895    0.348166     0.813246     0.666966    0.877777   \n",
       "min      -1.824246   -0.854285    -1.526558    -1.415464   -1.924221   \n",
       "25%      -0.450327   -0.325801    -0.792373    -0.518592   -0.466269   \n",
       "50%       0.000000   -0.152598    -0.058188    -0.518592    0.229572   \n",
       "75%       0.236632    0.032205     0.675997     0.378281    1.057954   \n",
       "max       1.793740    1.968703     1.410181     1.275154    1.256765   \n",
       "\n",
       "       MasVnrArea  BsmtFinSF1  BsmtFinSF2   BsmtUnfSF  LowQualFinSF  ...  \\\n",
       "count  671.000000  671.000000  671.000000  671.000000    671.000000  ...   \n",
       "mean    -0.203927   -0.018082   -0.225772   -0.074196     -0.114109  ...   \n",
       "std      0.603891    0.849301    0.294046    0.854529      0.098785  ...   \n",
       "min     -0.576415   -0.978118   -0.288238   -1.285329     -0.120619  ...   \n",
       "25%     -0.576415   -0.978118   -0.288238   -0.752875     -0.120619  ...   \n",
       "50%     -0.576415    0.009363   -0.288238   -0.243127     -0.120619  ...   \n",
       "75%      0.046285    0.596937   -0.288238    0.505033     -0.120619  ...   \n",
       "max      1.972040    1.997730    1.957296    1.975242      1.520246  ...   \n",
       "\n",
       "       OpenPorchSF  EnclosedPorch  ScreenPorch      PoolArea     MiscVal  \\\n",
       "count   671.000000     671.000000   671.000000  6.710000e+02  671.000000   \n",
       "mean     -0.162050      -0.240214    -0.232370 -6.367999e-02   -0.059580   \n",
       "std       0.657679       0.441905     0.254833  2.083221e-16    0.173798   \n",
       "min      -0.700444      -0.360582    -0.266797 -6.367999e-02   -0.087961   \n",
       "25%      -0.700444      -0.360582    -0.266797 -6.367999e-02   -0.087961   \n",
       "50%      -0.368734      -0.360582    -0.266797 -6.367999e-02   -0.087961   \n",
       "75%       0.189142      -0.360582    -0.266797 -6.367999e-02   -0.087961   \n",
       "max       1.892925       1.989945     1.938413 -6.367999e-02    1.319139   \n",
       "\n",
       "           YrSold        rate  ThreeSsnPorch  FirstFlrSF  SecondFlrSF  \n",
       "count  671.000000  671.000000     671.000000  671.000000   671.000000  \n",
       "mean    -0.010273   -0.008594      -0.115538   -0.223880    -0.076174  \n",
       "std      1.020566    1.006203       0.030204    0.705254     0.909955  \n",
       "min     -1.367831   -1.887785      -0.116704   -1.677840    -0.797681  \n",
       "25%     -0.613757   -0.970496      -0.116704   -0.771289    -0.797681  \n",
       "50%      0.140317    0.346850      -0.116704   -0.307472    -0.797681  \n",
       "75%      0.894391    0.949449      -0.116704    0.244628     0.858214  \n",
       "max      1.648465    1.255769       0.665694    1.885117     1.981151  \n",
       "\n",
       "[8 rows x 23 columns]"
      ]
     },
     "execution_count": 663,
     "metadata": {},
     "output_type": "execute_result"
    }
   ],
   "source": [
    "traindfss.describe()"
   ]
  },
  {
   "cell_type": "code",
   "execution_count": 664,
   "metadata": {},
   "outputs": [],
   "source": [
    "#sns.pairplot(traindf)"
   ]
  },
  {
   "cell_type": "markdown",
   "metadata": {},
   "source": [
    "## Getting dummies"
   ]
  },
  {
   "cell_type": "code",
   "execution_count": 665,
   "metadata": {},
   "outputs": [
    {
     "data": {
      "text/plain": [
       "array(['VinylSd', 'HdBoard', 'Plywood', 'Stucco', 'MetalSd', 'CemntBd',\n",
       "       'BrkFace', 'Wd Sdng', 'AsbShng', 'CBlock', 'WdShing', 'Stone',\n",
       "       'ImStucc', 'AsphShn', 'BrkComm'], dtype=object)"
      ]
     },
     "execution_count": 665,
     "metadata": {},
     "output_type": "execute_result"
    }
   ],
   "source": [
    "traindf_cat.Exterior1st.unique()"
   ]
  },
  {
   "cell_type": "code",
   "execution_count": 666,
   "metadata": {},
   "outputs": [],
   "source": [
    "traindf_cat.HouseStyle= traindf_cat.HouseStyle.replace({'1.5Fin': '1.5_Fin', '1.5Unf': '1_5Unf', '2.5Unf':'2_5Unf', '2.5Fin':'2_5Fin'}, value=None)"
   ]
  },
  {
   "cell_type": "code",
   "execution_count": 667,
   "metadata": {},
   "outputs": [],
   "source": [
    "traindf_cat.Exterior1st= traindf_cat.Exterior1st.replace({'Wd Sdng': 'Wd_Sdng'}, value=None)"
   ]
  },
  {
   "cell_type": "code",
   "execution_count": 668,
   "metadata": {},
   "outputs": [],
   "source": [
    "traindf_cat.RoofMatl= traindf_cat.RoofMatl.replace({'Tar&Grv': 'TarGrv'}, value=None)"
   ]
  },
  {
   "cell_type": "code",
   "execution_count": 669,
   "metadata": {},
   "outputs": [],
   "source": [
    "cat_list = list(traindf_cat.columns)[1:]"
   ]
  },
  {
   "cell_type": "code",
   "execution_count": 670,
   "metadata": {},
   "outputs": [],
   "source": [
    "traindf_cat_bined= pd.get_dummies(traindf_cat, columns=cat_list, drop_first=True)\n",
    "#traindf_cat_bined = traindf_cat_bined.astype('object')\n",
    "#traindf_cat_bined['Id'] = traindf_cat_bined['Id'].astype('int64')"
   ]
  },
  {
   "cell_type": "code",
   "execution_count": 671,
   "metadata": {},
   "outputs": [
    {
     "name": "stdout",
     "output_type": "stream",
     "text": [
      "<class 'pandas.core.frame.DataFrame'>\n",
      "Int64Index: 1451 entries, 0 to 1459\n",
      "Columns: 191 entries, Id to GarageCars_4\n",
      "dtypes: int64(1), uint8(190)\n",
      "memory usage: 291.9 KB\n"
     ]
    }
   ],
   "source": [
    "traindf_cat_bined.info()"
   ]
  },
  {
   "cell_type": "code",
   "execution_count": 672,
   "metadata": {},
   "outputs": [],
   "source": [
    "columnfixlist = [traindf_cat_bined.columns[i] for i in range(len(traindf_cat_bined.columns))]\n",
    "#columnfixlist"
   ]
  },
  {
   "cell_type": "code",
   "execution_count": 673,
   "metadata": {},
   "outputs": [],
   "source": [
    "train_combined = pd.merge(traindf_cat_bined, traindfss, on='Id', left_index=True, right_index=True)"
   ]
  },
  {
   "cell_type": "code",
   "execution_count": 674,
   "metadata": {},
   "outputs": [],
   "source": [
    "targetdf = targetdf.loc[train_combined.index]"
   ]
  },
  {
   "cell_type": "code",
   "execution_count": 675,
   "metadata": {},
   "outputs": [
    {
     "data": {
      "text/html": [
       "<div>\n",
       "<style scoped>\n",
       "    .dataframe tbody tr th:only-of-type {\n",
       "        vertical-align: middle;\n",
       "    }\n",
       "\n",
       "    .dataframe tbody tr th {\n",
       "        vertical-align: top;\n",
       "    }\n",
       "\n",
       "    .dataframe thead th {\n",
       "        text-align: right;\n",
       "    }\n",
       "</style>\n",
       "<table border=\"1\" class=\"dataframe\">\n",
       "  <thead>\n",
       "    <tr style=\"text-align: right;\">\n",
       "      <th></th>\n",
       "      <th>Id</th>\n",
       "      <th>SalePrice</th>\n",
       "    </tr>\n",
       "  </thead>\n",
       "  <tbody>\n",
       "    <tr>\n",
       "      <td>0</td>\n",
       "      <td>1</td>\n",
       "      <td>208500</td>\n",
       "    </tr>\n",
       "    <tr>\n",
       "      <td>1</td>\n",
       "      <td>11</td>\n",
       "      <td>129500</td>\n",
       "    </tr>\n",
       "    <tr>\n",
       "      <td>2</td>\n",
       "      <td>202</td>\n",
       "      <td>171500</td>\n",
       "    </tr>\n",
       "    <tr>\n",
       "      <td>3</td>\n",
       "      <td>269</td>\n",
       "      <td>120500</td>\n",
       "    </tr>\n",
       "    <tr>\n",
       "      <td>4</td>\n",
       "      <td>423</td>\n",
       "      <td>113000</td>\n",
       "    </tr>\n",
       "  </tbody>\n",
       "</table>\n",
       "</div>"
      ],
      "text/plain": [
       "    Id  SalePrice\n",
       "0    1     208500\n",
       "1   11     129500\n",
       "2  202     171500\n",
       "3  269     120500\n",
       "4  423     113000"
      ]
     },
     "execution_count": 675,
     "metadata": {},
     "output_type": "execute_result"
    }
   ],
   "source": [
    "targetdf.head()"
   ]
  },
  {
   "cell_type": "code",
   "execution_count": 676,
   "metadata": {},
   "outputs": [],
   "source": [
    "train_combined.drop('Id', axis=1, inplace=True)"
   ]
  },
  {
   "cell_type": "code",
   "execution_count": 677,
   "metadata": {},
   "outputs": [],
   "source": [
    "targetdf.set_index('Id', inplace=True)"
   ]
  },
  {
   "cell_type": "code",
   "execution_count": 678,
   "metadata": {},
   "outputs": [
    {
     "data": {
      "text/html": [
       "<div>\n",
       "<style scoped>\n",
       "    .dataframe tbody tr th:only-of-type {\n",
       "        vertical-align: middle;\n",
       "    }\n",
       "\n",
       "    .dataframe tbody tr th {\n",
       "        vertical-align: top;\n",
       "    }\n",
       "\n",
       "    .dataframe thead th {\n",
       "        text-align: right;\n",
       "    }\n",
       "</style>\n",
       "<table border=\"1\" class=\"dataframe\">\n",
       "  <thead>\n",
       "    <tr style=\"text-align: right;\">\n",
       "      <th></th>\n",
       "      <th>SalePrice</th>\n",
       "    </tr>\n",
       "    <tr>\n",
       "      <th>Id</th>\n",
       "      <th></th>\n",
       "    </tr>\n",
       "  </thead>\n",
       "  <tbody>\n",
       "    <tr>\n",
       "      <td>1</td>\n",
       "      <td>208500</td>\n",
       "    </tr>\n",
       "    <tr>\n",
       "      <td>11</td>\n",
       "      <td>129500</td>\n",
       "    </tr>\n",
       "    <tr>\n",
       "      <td>202</td>\n",
       "      <td>171500</td>\n",
       "    </tr>\n",
       "    <tr>\n",
       "      <td>269</td>\n",
       "      <td>120500</td>\n",
       "    </tr>\n",
       "    <tr>\n",
       "      <td>423</td>\n",
       "      <td>113000</td>\n",
       "    </tr>\n",
       "  </tbody>\n",
       "</table>\n",
       "</div>"
      ],
      "text/plain": [
       "     SalePrice\n",
       "Id            \n",
       "1       208500\n",
       "11      129500\n",
       "202     171500\n",
       "269     120500\n",
       "423     113000"
      ]
     },
     "execution_count": 678,
     "metadata": {},
     "output_type": "execute_result"
    }
   ],
   "source": [
    "targetdf.head()"
   ]
  },
  {
   "cell_type": "markdown",
   "metadata": {},
   "source": [
    "## Testing for colinearity amonst columns"
   ]
  },
  {
   "cell_type": "markdown",
   "metadata": {},
   "source": [
    "### Function for testing for intercorrelation - without looking at pairplots..."
   ]
  },
  {
   "cell_type": "code",
   "execution_count": 679,
   "metadata": {},
   "outputs": [],
   "source": [
    "def test_colinear(train_combined):\n",
    "    col_names = list(train_combined.columns)\n",
    "    \n",
    "    colinear = []\n",
    "    for ax1 in col_names:\n",
    "        for ax2 in col_names:\n",
    "            try:\n",
    "                if ax1 == ax2:\n",
    "                    break\n",
    "                else:\n",
    "                    if train_combined[f'{ax1}'].corr(train_combined[f'{ax2}']) >= .75:\n",
    "                        colinear.append((ax1,ax2))\n",
    "            except:\n",
    "                continue\n",
    "    return colinear"
   ]
  },
  {
   "cell_type": "markdown",
   "metadata": {},
   "source": [
    "## Attempting to use Linear Regression without ridge, lasso, or elastic net"
   ]
  },
  {
   "cell_type": "code",
   "execution_count": 680,
   "metadata": {},
   "outputs": [
    {
     "data": {
      "text/plain": [
       "[('Neighborhood_Somerst', 'MSZoning_FV'),\n",
       " ('RoofStyle_Shed', 'Condition2_RRAe'),\n",
       " ('SaleCondition_Partial', 'SaleType_New'),\n",
       " ('KitchenAbvGr_2', 'BldgType_Duplex'),\n",
       " ('SecondFlrSF', 'GrLivArea')]"
      ]
     },
     "execution_count": 680,
     "metadata": {},
     "output_type": "execute_result"
    }
   ],
   "source": [
    "test_colinear(train_combined)"
   ]
  },
  {
   "cell_type": "code",
   "execution_count": 681,
   "metadata": {},
   "outputs": [
    {
     "name": "stdout",
     "output_type": "stream",
     "text": [
      "['Neighborhood_Somerst', 'RoofStyle_Shed', 'SaleCondition_Partial', 'KitchenAbvGr_2', 'SecondFlrSF']\n"
     ]
    },
    {
     "data": {
      "text/plain": [
       "{'Neighborhood_Somerst': 0.08774514394815382,\n",
       " 'MSZoning_FV': 0.1211235451616219,\n",
       " 'RoofStyle_Shed': 0.14372865003333618,\n",
       " 'Condition2_RRAe': 0.14372865003333618,\n",
       " 'SaleCondition_Partial': -0.006888920022240692,\n",
       " 'SaleType_New': -0.010243787407380453,\n",
       " 'KitchenAbvGr_2': 0.030017329090443585,\n",
       " 'BldgType_Duplex': 0.041442843669072506,\n",
       " 'SecondFlrSF': 0.008125444000463947,\n",
       " 'GrLivArea': -0.033212560097947756}"
      ]
     },
     "execution_count": 681,
     "metadata": {},
     "output_type": "execute_result"
    }
   ],
   "source": [
    "corr_saleprice = {}\n",
    "least_impact = []\n",
    "\n",
    "for i, k in test_colinear(train_combined):\n",
    "    corr_saleprice[i] = train_combined[f'{i}'].corr(targetdf['SalePrice'])\n",
    "    corr_saleprice[k] = train_combined[f'{k}'].corr(targetdf['SalePrice'])\n",
    "    if abs(corr_saleprice[i]) > abs(corr_saleprice[k]):\n",
    "        least_impact.append(k)\n",
    "    else:\n",
    "        least_impact.append(i)\n",
    "        \n",
    "print(least_impact)\n",
    "corr_saleprice"
   ]
  },
  {
   "cell_type": "code",
   "execution_count": 682,
   "metadata": {},
   "outputs": [],
   "source": [
    "train_combined.drop(least_impact, axis=1, inplace=True)"
   ]
  },
  {
   "cell_type": "code",
   "execution_count": 683,
   "metadata": {},
   "outputs": [],
   "source": [
    "from sklearn.model_selection import train_test_split\n",
    "X = train_combined\n",
    "y = targetdf\n",
    "\n",
    "# Train-test split, then \"set aside\" test set\n",
    "X_train, X_test, y_train, y_test = train_test_split(X, y, test_size=.25)"
   ]
  },
  {
   "cell_type": "code",
   "execution_count": 684,
   "metadata": {},
   "outputs": [
    {
     "data": {
      "text/html": [
       "<div>\n",
       "<style scoped>\n",
       "    .dataframe tbody tr th:only-of-type {\n",
       "        vertical-align: middle;\n",
       "    }\n",
       "\n",
       "    .dataframe tbody tr th {\n",
       "        vertical-align: top;\n",
       "    }\n",
       "\n",
       "    .dataframe thead th {\n",
       "        text-align: right;\n",
       "    }\n",
       "</style>\n",
       "<table border=\"1\" class=\"dataframe\">\n",
       "  <thead>\n",
       "    <tr style=\"text-align: right;\">\n",
       "      <th></th>\n",
       "      <th>MSZoning_FV</th>\n",
       "      <th>MSZoning_RH</th>\n",
       "      <th>MSZoning_RL</th>\n",
       "      <th>MSZoning_RM</th>\n",
       "      <th>Street_Pave</th>\n",
       "      <th>LandContour_HLS</th>\n",
       "      <th>LandContour_Low</th>\n",
       "      <th>LandContour_Lvl</th>\n",
       "      <th>Utilities_NoSeWa</th>\n",
       "      <th>LotConfig_CulDSac</th>\n",
       "      <th>...</th>\n",
       "      <th>WoodDeckSF</th>\n",
       "      <th>OpenPorchSF</th>\n",
       "      <th>EnclosedPorch</th>\n",
       "      <th>ScreenPorch</th>\n",
       "      <th>PoolArea</th>\n",
       "      <th>MiscVal</th>\n",
       "      <th>YrSold</th>\n",
       "      <th>rate</th>\n",
       "      <th>ThreeSsnPorch</th>\n",
       "      <th>FirstFlrSF</th>\n",
       "    </tr>\n",
       "  </thead>\n",
       "  <tbody>\n",
       "    <tr>\n",
       "      <td>205</td>\n",
       "      <td>0</td>\n",
       "      <td>0</td>\n",
       "      <td>0</td>\n",
       "      <td>1</td>\n",
       "      <td>1</td>\n",
       "      <td>0</td>\n",
       "      <td>0</td>\n",
       "      <td>1</td>\n",
       "      <td>0</td>\n",
       "      <td>0</td>\n",
       "      <td>...</td>\n",
       "      <td>0.050783</td>\n",
       "      <td>-0.700444</td>\n",
       "      <td>-0.360582</td>\n",
       "      <td>-0.266797</td>\n",
       "      <td>-0.06368</td>\n",
       "      <td>-0.087961</td>\n",
       "      <td>-1.367831</td>\n",
       "      <td>0.346850</td>\n",
       "      <td>0.665694</td>\n",
       "      <td>0.419877</td>\n",
       "    </tr>\n",
       "    <tr>\n",
       "      <td>598</td>\n",
       "      <td>0</td>\n",
       "      <td>0</td>\n",
       "      <td>1</td>\n",
       "      <td>0</td>\n",
       "      <td>1</td>\n",
       "      <td>0</td>\n",
       "      <td>0</td>\n",
       "      <td>1</td>\n",
       "      <td>0</td>\n",
       "      <td>0</td>\n",
       "      <td>...</td>\n",
       "      <td>-0.751369</td>\n",
       "      <td>0.023287</td>\n",
       "      <td>-0.360582</td>\n",
       "      <td>-0.266797</td>\n",
       "      <td>-0.06368</td>\n",
       "      <td>-0.087961</td>\n",
       "      <td>0.140317</td>\n",
       "      <td>1.255769</td>\n",
       "      <td>-0.116704</td>\n",
       "      <td>0.019308</td>\n",
       "    </tr>\n",
       "    <tr>\n",
       "      <td>488</td>\n",
       "      <td>0</td>\n",
       "      <td>0</td>\n",
       "      <td>1</td>\n",
       "      <td>0</td>\n",
       "      <td>1</td>\n",
       "      <td>0</td>\n",
       "      <td>0</td>\n",
       "      <td>1</td>\n",
       "      <td>0</td>\n",
       "      <td>0</td>\n",
       "      <td>...</td>\n",
       "      <td>-0.751369</td>\n",
       "      <td>-0.700444</td>\n",
       "      <td>-0.360582</td>\n",
       "      <td>-0.266797</td>\n",
       "      <td>-0.06368</td>\n",
       "      <td>-0.087961</td>\n",
       "      <td>-0.613757</td>\n",
       "      <td>0.025465</td>\n",
       "      <td>-0.116704</td>\n",
       "      <td>-0.758112</td>\n",
       "    </tr>\n",
       "    <tr>\n",
       "      <td>282</td>\n",
       "      <td>0</td>\n",
       "      <td>0</td>\n",
       "      <td>0</td>\n",
       "      <td>1</td>\n",
       "      <td>1</td>\n",
       "      <td>0</td>\n",
       "      <td>0</td>\n",
       "      <td>1</td>\n",
       "      <td>0</td>\n",
       "      <td>0</td>\n",
       "      <td>...</td>\n",
       "      <td>-0.751369</td>\n",
       "      <td>1.350127</td>\n",
       "      <td>-0.360582</td>\n",
       "      <td>-0.266797</td>\n",
       "      <td>-0.06368</td>\n",
       "      <td>-0.087961</td>\n",
       "      <td>1.648465</td>\n",
       "      <td>-1.700310</td>\n",
       "      <td>-0.116704</td>\n",
       "      <td>-0.436603</td>\n",
       "    </tr>\n",
       "    <tr>\n",
       "      <td>167</td>\n",
       "      <td>1</td>\n",
       "      <td>0</td>\n",
       "      <td>0</td>\n",
       "      <td>0</td>\n",
       "      <td>1</td>\n",
       "      <td>0</td>\n",
       "      <td>0</td>\n",
       "      <td>1</td>\n",
       "      <td>0</td>\n",
       "      <td>0</td>\n",
       "      <td>...</td>\n",
       "      <td>-0.751369</td>\n",
       "      <td>-0.700444</td>\n",
       "      <td>-0.360582</td>\n",
       "      <td>-0.266797</td>\n",
       "      <td>-0.06368</td>\n",
       "      <td>-0.087961</td>\n",
       "      <td>-0.613757</td>\n",
       "      <td>0.999665</td>\n",
       "      <td>-0.116704</td>\n",
       "      <td>0.448866</td>\n",
       "    </tr>\n",
       "    <tr>\n",
       "      <td>...</td>\n",
       "      <td>...</td>\n",
       "      <td>...</td>\n",
       "      <td>...</td>\n",
       "      <td>...</td>\n",
       "      <td>...</td>\n",
       "      <td>...</td>\n",
       "      <td>...</td>\n",
       "      <td>...</td>\n",
       "      <td>...</td>\n",
       "      <td>...</td>\n",
       "      <td>...</td>\n",
       "      <td>...</td>\n",
       "      <td>...</td>\n",
       "      <td>...</td>\n",
       "      <td>...</td>\n",
       "      <td>...</td>\n",
       "      <td>...</td>\n",
       "      <td>...</td>\n",
       "      <td>...</td>\n",
       "      <td>...</td>\n",
       "      <td>...</td>\n",
       "    </tr>\n",
       "    <tr>\n",
       "      <td>11</td>\n",
       "      <td>0</td>\n",
       "      <td>0</td>\n",
       "      <td>1</td>\n",
       "      <td>0</td>\n",
       "      <td>1</td>\n",
       "      <td>0</td>\n",
       "      <td>0</td>\n",
       "      <td>1</td>\n",
       "      <td>0</td>\n",
       "      <td>0</td>\n",
       "      <td>...</td>\n",
       "      <td>0.050783</td>\n",
       "      <td>0.023287</td>\n",
       "      <td>-0.360582</td>\n",
       "      <td>-0.266797</td>\n",
       "      <td>-0.06368</td>\n",
       "      <td>-0.087961</td>\n",
       "      <td>-0.613757</td>\n",
       "      <td>0.211266</td>\n",
       "      <td>-0.116704</td>\n",
       "      <td>-0.834536</td>\n",
       "    </tr>\n",
       "    <tr>\n",
       "      <td>358</td>\n",
       "      <td>0</td>\n",
       "      <td>0</td>\n",
       "      <td>1</td>\n",
       "      <td>0</td>\n",
       "      <td>1</td>\n",
       "      <td>0</td>\n",
       "      <td>0</td>\n",
       "      <td>1</td>\n",
       "      <td>0</td>\n",
       "      <td>0</td>\n",
       "      <td>...</td>\n",
       "      <td>0.331536</td>\n",
       "      <td>-0.700444</td>\n",
       "      <td>-0.360582</td>\n",
       "      <td>-0.266797</td>\n",
       "      <td>-0.06368</td>\n",
       "      <td>-0.087961</td>\n",
       "      <td>1.648465</td>\n",
       "      <td>-1.427466</td>\n",
       "      <td>-0.116704</td>\n",
       "      <td>-0.431332</td>\n",
       "    </tr>\n",
       "    <tr>\n",
       "      <td>556</td>\n",
       "      <td>0</td>\n",
       "      <td>0</td>\n",
       "      <td>1</td>\n",
       "      <td>0</td>\n",
       "      <td>1</td>\n",
       "      <td>0</td>\n",
       "      <td>0</td>\n",
       "      <td>1</td>\n",
       "      <td>0</td>\n",
       "      <td>0</td>\n",
       "      <td>...</td>\n",
       "      <td>-0.751369</td>\n",
       "      <td>0.566085</td>\n",
       "      <td>-0.360582</td>\n",
       "      <td>-0.266797</td>\n",
       "      <td>-0.06368</td>\n",
       "      <td>-0.087961</td>\n",
       "      <td>-1.367831</td>\n",
       "      <td>0.619693</td>\n",
       "      <td>-0.116704</td>\n",
       "      <td>0.238040</td>\n",
       "    </tr>\n",
       "    <tr>\n",
       "      <td>111</td>\n",
       "      <td>0</td>\n",
       "      <td>0</td>\n",
       "      <td>1</td>\n",
       "      <td>0</td>\n",
       "      <td>1</td>\n",
       "      <td>0</td>\n",
       "      <td>0</td>\n",
       "      <td>1</td>\n",
       "      <td>0</td>\n",
       "      <td>1</td>\n",
       "      <td>...</td>\n",
       "      <td>0.211213</td>\n",
       "      <td>-0.700444</td>\n",
       "      <td>-0.360582</td>\n",
       "      <td>-0.266797</td>\n",
       "      <td>-0.06368</td>\n",
       "      <td>-0.087961</td>\n",
       "      <td>0.140317</td>\n",
       "      <td>-0.023078</td>\n",
       "      <td>-0.116704</td>\n",
       "      <td>0.267028</td>\n",
       "    </tr>\n",
       "    <tr>\n",
       "      <td>324</td>\n",
       "      <td>0</td>\n",
       "      <td>0</td>\n",
       "      <td>1</td>\n",
       "      <td>0</td>\n",
       "      <td>1</td>\n",
       "      <td>0</td>\n",
       "      <td>0</td>\n",
       "      <td>1</td>\n",
       "      <td>0</td>\n",
       "      <td>0</td>\n",
       "      <td>...</td>\n",
       "      <td>0.403729</td>\n",
       "      <td>0.324841</td>\n",
       "      <td>-0.360582</td>\n",
       "      <td>-0.266797</td>\n",
       "      <td>-0.06368</td>\n",
       "      <td>-0.087961</td>\n",
       "      <td>0.894391</td>\n",
       "      <td>-0.913584</td>\n",
       "      <td>-0.116704</td>\n",
       "      <td>-0.858254</td>\n",
       "    </tr>\n",
       "  </tbody>\n",
       "</table>\n",
       "<p>499 rows × 208 columns</p>\n",
       "</div>"
      ],
      "text/plain": [
       "     MSZoning_FV  MSZoning_RH  MSZoning_RL  MSZoning_RM  Street_Pave  \\\n",
       "205            0            0            0            1            1   \n",
       "598            0            0            1            0            1   \n",
       "488            0            0            1            0            1   \n",
       "282            0            0            0            1            1   \n",
       "167            1            0            0            0            1   \n",
       "..           ...          ...          ...          ...          ...   \n",
       "11             0            0            1            0            1   \n",
       "358            0            0            1            0            1   \n",
       "556            0            0            1            0            1   \n",
       "111            0            0            1            0            1   \n",
       "324            0            0            1            0            1   \n",
       "\n",
       "     LandContour_HLS  LandContour_Low  LandContour_Lvl  Utilities_NoSeWa  \\\n",
       "205                0                0                1                 0   \n",
       "598                0                0                1                 0   \n",
       "488                0                0                1                 0   \n",
       "282                0                0                1                 0   \n",
       "167                0                0                1                 0   \n",
       "..               ...              ...              ...               ...   \n",
       "11                 0                0                1                 0   \n",
       "358                0                0                1                 0   \n",
       "556                0                0                1                 0   \n",
       "111                0                0                1                 0   \n",
       "324                0                0                1                 0   \n",
       "\n",
       "     LotConfig_CulDSac  ...  WoodDeckSF  OpenPorchSF  EnclosedPorch  \\\n",
       "205                  0  ...    0.050783    -0.700444      -0.360582   \n",
       "598                  0  ...   -0.751369     0.023287      -0.360582   \n",
       "488                  0  ...   -0.751369    -0.700444      -0.360582   \n",
       "282                  0  ...   -0.751369     1.350127      -0.360582   \n",
       "167                  0  ...   -0.751369    -0.700444      -0.360582   \n",
       "..                 ...  ...         ...          ...            ...   \n",
       "11                   0  ...    0.050783     0.023287      -0.360582   \n",
       "358                  0  ...    0.331536    -0.700444      -0.360582   \n",
       "556                  0  ...   -0.751369     0.566085      -0.360582   \n",
       "111                  1  ...    0.211213    -0.700444      -0.360582   \n",
       "324                  0  ...    0.403729     0.324841      -0.360582   \n",
       "\n",
       "     ScreenPorch  PoolArea   MiscVal    YrSold      rate  ThreeSsnPorch  \\\n",
       "205    -0.266797  -0.06368 -0.087961 -1.367831  0.346850       0.665694   \n",
       "598    -0.266797  -0.06368 -0.087961  0.140317  1.255769      -0.116704   \n",
       "488    -0.266797  -0.06368 -0.087961 -0.613757  0.025465      -0.116704   \n",
       "282    -0.266797  -0.06368 -0.087961  1.648465 -1.700310      -0.116704   \n",
       "167    -0.266797  -0.06368 -0.087961 -0.613757  0.999665      -0.116704   \n",
       "..           ...       ...       ...       ...       ...            ...   \n",
       "11     -0.266797  -0.06368 -0.087961 -0.613757  0.211266      -0.116704   \n",
       "358    -0.266797  -0.06368 -0.087961  1.648465 -1.427466      -0.116704   \n",
       "556    -0.266797  -0.06368 -0.087961 -1.367831  0.619693      -0.116704   \n",
       "111    -0.266797  -0.06368 -0.087961  0.140317 -0.023078      -0.116704   \n",
       "324    -0.266797  -0.06368 -0.087961  0.894391 -0.913584      -0.116704   \n",
       "\n",
       "     FirstFlrSF  \n",
       "205    0.419877  \n",
       "598    0.019308  \n",
       "488   -0.758112  \n",
       "282   -0.436603  \n",
       "167    0.448866  \n",
       "..          ...  \n",
       "11    -0.834536  \n",
       "358   -0.431332  \n",
       "556    0.238040  \n",
       "111    0.267028  \n",
       "324   -0.858254  \n",
       "\n",
       "[499 rows x 208 columns]"
      ]
     },
     "execution_count": 684,
     "metadata": {},
     "output_type": "execute_result"
    }
   ],
   "source": [
    "X_train"
   ]
  },
  {
   "cell_type": "markdown",
   "metadata": {},
   "source": [
    "### Testing the linear regression ---- Too many features ---- Use Lasso or Elastic Net\n"
   ]
  },
  {
   "cell_type": "code",
   "execution_count": 685,
   "metadata": {},
   "outputs": [],
   "source": [
    "lr = LinearRegression()\n",
    "lr.fit(X_train, y_train)\n",
    "y_hat = lr.predict(X_test)"
   ]
  },
  {
   "cell_type": "code",
   "execution_count": 686,
   "metadata": {},
   "outputs": [],
   "source": [
    "y_hatpd = pd.DataFrame(y_hat, columns = ['SalePrice'], index = [i for i in range(len(y_hat))])"
   ]
  },
  {
   "cell_type": "code",
   "execution_count": 687,
   "metadata": {},
   "outputs": [
    {
     "name": "stdout",
     "output_type": "stream",
     "text": [
      "intercept: [-4.8304392e+16]\n",
      "r^2: -2.3797303787104344e+22\n",
      "rmse: 1.1213504333205262e+16\n"
     ]
    }
   ],
   "source": [
    "from sklearn.metrics import r2_score, mean_squared_error \n",
    "\n",
    "\n",
    "print(f\"intercept: {lr.intercept_}\")\n",
    "print(f\"r^2: {lr.score(X_test,y_test)}\")\n",
    "print(f\"rmse: {np.sqrt(mean_squared_error(y_test, y_hat))}\")"
   ]
  },
  {
   "cell_type": "code",
   "execution_count": 688,
   "metadata": {},
   "outputs": [],
   "source": [
    " ### Previous R^2 values ###\n",
    "\n",
    "\n",
    "### Added Rooms, Car garage, fireplaces and some other continuous/discrete values to the catagorical side of the table... increased features\n",
    "### by approx 30 --- need to check R^2 adj \n",
    "# r^2: 0.898540213574302\n",
    "# rmse: 25772.696681156067\n",
    "\n",
    "### Replaced lot frontage with mean value instead of '0'\n",
    "# r^2: 0.8175929129184736\n",
    "# rmse: 34972.641412123485\n",
    "\n",
    "\n",
    "### Initial R^2 to beat\n",
    "# r^2: 0.6589675323\n",
    "# rmse: 36779.91592177666"
   ]
  },
  {
   "cell_type": "code",
   "execution_count": 689,
   "metadata": {},
   "outputs": [],
   "source": [
    "import statsmodels.formula.api as sm\n",
    "import statsmodels.tools as smtools\n",
    "#train_combined_string = ''\n",
    "#for i in [train_combined.columns[i] for i in range(len(train_combined.columns))]:\n",
    " #   train_combined_string += i + ' + ' \n",
    "#train_combined_string = train_combined_string[0:-3]\n",
    "\n",
    "\n",
    "#train_combined_withc = smtools.add_constant(train_combined)\n",
    "#sm_formula = (\"SalePrice ~ \" + train_combined_string ) \n",
    "#ols_data = pd.merge(targetdf, train_combined_withc, left_index=True, right_index=True)\n",
    "\n",
    "#results = sm.ols(formula = sm_formula,data = ols_data).fit()"
   ]
  },
  {
   "cell_type": "markdown",
   "metadata": {},
   "source": [
    "# Lasso Regression"
   ]
  },
  {
   "cell_type": "code",
   "execution_count": 690,
   "metadata": {},
   "outputs": [],
   "source": [
    "import statsmodels.tools.tools as smtools\n",
    "train_combined_withc = smtools.add_constant(train_combined)"
   ]
  },
  {
   "cell_type": "code",
   "execution_count": 691,
   "metadata": {},
   "outputs": [],
   "source": [
    "from sklearn.model_selection import train_test_split\n",
    "X = train_combined_withc\n",
    "y = targetdf\n",
    "\n",
    "# Train-test split, then \"set aside\" test set\n",
    "X_train, X_test, y_train, y_test = train_test_split(X, y, test_size=.1)"
   ]
  },
  {
   "cell_type": "markdown",
   "metadata": {},
   "source": [
    "### Arbitrary Alpha = .5 Lasso Regression"
   ]
  },
  {
   "cell_type": "code",
   "execution_count": 692,
   "metadata": {},
   "outputs": [
    {
     "name": "stdout",
     "output_type": "stream",
     "text": [
      "R2 on test: 0.5733610587703815,\n",
      "R2 on all: 0.8751405591449911\n"
     ]
    }
   ],
   "source": [
    "Lassoreg = Lasso(alpha= .5, max_iter = 1000000000, normalize = False)\n",
    "Lassoreg.fit(X_train, y_train)\n",
    "L_target_prediction = Lassoreg.predict(X_test)\n",
    "\n",
    "print(f'R2 on test: {Lassoreg.score(X_test, y_test)},\\nR2 on all: {Lassoreg.score(X,y)}')\n"
   ]
  },
  {
   "cell_type": "markdown",
   "metadata": {},
   "source": [
    "The difference in the R2 is not significant enough to warrent overfitting this model decent. \n",
    "\n",
    "Can we optimize alpha?"
   ]
  },
  {
   "cell_type": "markdown",
   "metadata": {},
   "source": [
    "# Optimizing alpha term"
   ]
  },
  {
   "cell_type": "code",
   "execution_count": 693,
   "metadata": {},
   "outputs": [
    {
     "data": {
      "text/plain": [
       "[(0.5, 0.8999874960848941, 0.7584804426730954),\n",
       " (0.5344827586206896, 0.8999847881655121, 0.7584739033358643),\n",
       " (0.5689655172413793, 0.8999819656461882, 0.7587675434693625),\n",
       " (0.603448275862069, 0.8999790244909783, 0.75876044972771),\n",
       " (0.6379310344827587, 0.8999759140645927, 0.7593500850010707),\n",
       " (0.6724137931034483, 0.8999726648772358, 0.7593422677173243),\n",
       " (0.7068965517241379, 0.8999692454075763, 0.7593340407480377),\n",
       " (0.7413793103448276, 0.8999656554271127, 0.7593254035434551),\n",
       " (0.7758620689655172, 0.8999618701567502, 0.7590183185767478),\n",
       " (0.8103448275862069, 0.899957893990358, 0.7590087403962649),\n",
       " (0.8448275862068966, 0.8999537455601261, 0.7589987472497105),\n",
       " (0.8793103448275862, 0.8999494066809244, 0.7586890148397667),\n",
       " (0.9137931034482758, 0.8999448868402716, 0.758678113483118),\n",
       " (0.9482758620689655, 0.8999401934683255, 0.7586667935881483),\n",
       " (0.9827586206896551, 0.8999353266050159, 0.7586550552511635),\n",
       " (1.0172413793103448, 0.8999302864153753, 0.7586428988702045),\n",
       " (1.0517241379310345, 0.8999250730620122, 0.7586303248374646),\n",
       " (1.0862068965517242, 0.8999196866796731, 0.7586173334779378),\n",
       " (1.1206896551724137, 0.8999141269148319, 0.7586039239389575),\n",
       " (1.1551724137931034, 0.8999083941476678, 0.7585900971374747),\n",
       " (1.1896551724137931, 0.8999024875688683, 0.7585758511215166),\n",
       " (1.2241379310344827, 0.8998964472745876, 0.7588607215067926),\n",
       " (1.2586206896551724, 0.8998902642265939, 0.7591440183718052),\n",
       " (1.293103448275862, 0.8998839827710581, 0.7594258573338294),\n",
       " (1.3275862068965516, 0.8998775330600421, 0.7594103589776118),\n",
       " (1.3620689655172413, 0.8998709187040462, 0.759690204889711),\n",
       " (1.396551724137931, 0.8998643057216454, 0.759674333731949),\n",
       " (1.4310344827586206, 0.8998575279746694, 0.7596580671392067),\n",
       " (1.4655172413793103, 0.8998505856067229, 0.759641405456135),\n",
       " (1.5, 0.8998434787848564, 0.7596243490836553)]"
      ]
     },
     "execution_count": 693,
     "metadata": {},
     "output_type": "execute_result"
    },
    {
     "data": {
      "image/png": "[encoded data removed]",
      "text/plain": [
       "<Figure size 432x288 with 1 Axes>"
      ]
     },
     "metadata": {
      "needs_background": "light"
     },
     "output_type": "display_data"
    }
   ],
   "source": [
    "from sklearn.linear_model import Lasso #### try alphas; check adj R^2\n",
    "a = .05\n",
    "results = []\n",
    "\n",
    "for a in np.linspace(.5, 1.5, num=30):\n",
    "    Lassoreg = Lasso(alpha= a, max_iter = 1000000000, normalize = False)\n",
    "    Lassoreg.fit(X, y)\n",
    "    L_target_prediction = Lassoreg.predict(X_test)\n",
    "    lassCoef = Lassoreg.coef_\n",
    "    \n",
    "    count = 0\n",
    "    \n",
    "    for i in Lassoreg.coef_: ### If the coef is significantly small the term is considered removed\n",
    "        if abs(i) < .01:\n",
    "            count += 1       ### Here is the numver of terms removed\n",
    "    \n",
    "    R2 = Lassoreg.score(X, y)\n",
    "    n = len(X)\n",
    "    k = len(X.columns) - count     ### here the original number of terms is subtracted by the insignificant terms\n",
    "    adjR2 = R2 - ((n - 1)/(n - k)) * (1 - R2)\n",
    "    \n",
    "    results.append((a, R2, adjR2))\n",
    "\n",
    "    plt.scatter(x=a, y = adjR2, c='b')\n",
    "    plt.scatter(x=a, y = R2, c='r')\n",
    "    plt.xlabel('Alpha')\n",
    "    plt.ylabel('R2')\n",
    "    plt.title('Optimizing Alpha for Lasso Regression')\n",
    "results   \n",
    "    #print(f'Adjusted R2: {adjR2}')"
   ]
  },
  {
   "cell_type": "markdown",
   "metadata": {},
   "source": [
    "# Final model - Incorperating all the data for the best model"
   ]
  },
  {
   "cell_type": "code",
   "execution_count": 694,
   "metadata": {},
   "outputs": [
    {
     "name": "stdout",
     "output_type": "stream",
     "text": [
      "rmse: 22242.281922013546\n",
      "saleprice mean: 177160.73573573574\n",
      "Adjusted R2: 0.7594046798964573\n",
      "R2: 0.8998751696847417\n"
     ]
    }
   ],
   "source": [
    "Lassoreg = Lasso(alpha= 1.34, max_iter = 1000000000, normalize = False)\n",
    "Lassoreg.fit(X, y)\n",
    "L_target_prediction = Lassoreg.predict(X)\n",
    "lassCoef = Lassoreg.coef_\n",
    "\n",
    "count = 0\n",
    "for i in Lassoreg.coef_:\n",
    "    if abs(i) < .01:\n",
    "        count += 1\n",
    "    \n",
    "R2 = Lassoreg.score(X, y)\n",
    "n = len(X)\n",
    "k = len(X.columns) - count\n",
    "adjR2 = R2 - ((n - 1)/(n - k)) * (1 - R2)\n",
    "rmse = (mean_squared_error(y, L_target_prediction))**.5\n",
    "\n",
    "print(f'rmse: {rmse}')\n",
    "print(f'saleprice mean: {y.SalePrice.mean()}')\n",
    "print(f'Adjusted R2: {adjR2}') \n",
    "print(f'R2: {Lassoreg.score(X, y)}')"
   ]
  },
  {
   "cell_type": "code",
   "execution_count": 695,
   "metadata": {},
   "outputs": [
    {
     "name": "stdout",
     "output_type": "stream",
     "text": [
      "-80529.07523540696, SaleCondition_Alloca\n",
      "-75636.38725437885, BedroomAbvGr_5\n",
      "-72733.04826367398, Functional_Sev\n",
      "-71431.92192911956, BedroomAbvGr_3\n",
      "-68225.12955313492, BedroomAbvGr_1\n",
      "-66751.70109679713, BedroomAbvGr_2\n",
      "-64040.07280665028, BedroomAbvGr_4\n",
      "-63978.387090167686, Functional_Maj2\n",
      "-48591.33910682875, BedroomAbvGr_6\n",
      "-35757.67369690388, BsmtHalfBath_2\n",
      "-34219.58525283008, Neighborhood_MeadowV\n",
      "-30337.85008354197, Neighborhood_ClearCr\n",
      "-29917.454355090722, Neighborhood_Edwards\n",
      "-29727.513650783396, BldgType_Twnhs\n",
      "-28047.835898843008, Neighborhood_Mitchel\n",
      "-25904.669363252975, Neighborhood_SWISU\n",
      "-24199.726290496892, Neighborhood_NWAmes\n",
      "-24191.428717207822, Electrical_None\n",
      "-23711.500322758457, Neighborhood_NAmes\n",
      "-23117.72115160244, Neighborhood_Gilbert\n",
      "-22659.298508885215, RoofStyle_Gable\n",
      "-20756.754164553306, Neighborhood_Sawyer\n",
      "-20124.252031545097, Heating_Grav\n",
      "-19777.34470018908, BldgType_TwnhsE\n",
      "-19434.691990714957, TotRmsAbvGrd_3\n",
      "-17320.32149867843, LotConfig_FR3\n",
      "-17243.065382696626, HouseStyle_2Story\n",
      "-17225.86177620488, TotRmsAbvGrd_12\n",
      "-17085.274692910512, SaleCondition_Family\n",
      "-15713.534287039145, LowQualFinSF\n",
      "-15338.312362048213, RoofStyle_Hip\n",
      "-15221.604744188511, Neighborhood_NPkVill\n",
      "-14809.903878115147, Foundation_Slab\n",
      "-14608.953568817791, Foundation_Wood\n",
      "-13815.621280054918, Neighborhood_Timber\n",
      "-13528.036475953819, Condition1_RRAe\n",
      "-13383.166546608561, KitchenAbvGr_3\n",
      "-13365.453475072996, HouseStyle_2_5Unf\n",
      "-12702.343658391193, GarageCars_1\n",
      "-12677.508316887055, Neighborhood_SawyerW\n",
      "-12637.848022968888, MoSold_12\n",
      "-12427.81404606696, Neighborhood_OldTown\n",
      "-11751.707457310655, TotRmsAbvGrd_5\n",
      "-11665.389516514091, Condition2_RRNn\n",
      "-11588.042244014643, LotConfig_FR2\n",
      "-11308.51097001905, Exterior1st_ImStucc\n",
      "-10834.632390819812, Heating_GasA\n",
      "-10265.899876802941, LandSlope_Mod\n",
      "-10026.833881005112, Neighborhood_IDOTRR\n",
      "-9944.622061320457, HouseStyle_2_5Fin\n",
      "-9199.026836614968, MoSold_2\n",
      "-8822.732912282481, Condition1_RRNn\n",
      "-8224.24838286023, TotRmsAbvGrd_4\n",
      "-7722.092921187571, MoSold_8\n",
      "-7362.669071079521, HouseStyle_SFoyer\n",
      "-6657.733081654747, TotRmsAbvGrd_6\n",
      "-4420.9742063639305, Neighborhood_CollgCr\n",
      "-4257.932793943384, LandContour_Lvl\n",
      "-3991.3604098842243, HouseStyle_SLvl\n",
      "-3558.733909358129, GarageType_NoGarage\n",
      "-3439.9640839006947, Electrical_FuseP\n",
      "-2938.3024131119887, PavedDrive_P\n",
      "-2880.9158282001076, Functional_Mod\n",
      "-2695.6902318283187, HouseStyle_1_5Unf\n",
      "-2660.5474307423174, HouseStyle_1Story\n",
      "-2642.4394937201737, FirstFlrSF\n",
      "-2422.8398926227355, Electrical_FuseF\n",
      "-2332.5758698867226, BsmtFinSF2\n",
      "-2100.7049619959057, LotFrontage\n",
      "-1209.724067474048, YearBuilt\n",
      "-864.2672552425199, MoSold_11\n",
      "-742.1970885046887, HalfBath_2\n",
      "-454.1451433328388, Exterior1st_WdShing\n",
      "-338.16767250741526, LotArea\n",
      "-198.8622812183765, LotConfig_Inside\n",
      "-152.52202746045083, OverallCond\n",
      "-17.519996834963834, GarageArea\n",
      "0.0, PoolArea\n",
      "63.57645403530922, YrSold\n",
      "92.62357010460254, SaleType_ConLI\n",
      "178.55802737892412, Fence_GdWo\n",
      "194.51686003258652, GrLivArea\n",
      "319.275389650372, MoSold_10\n",
      "393.63137817893005, OpenPorchSF\n",
      "514.2762817096449, BsmtFinSF1\n",
      "597.1402000880801, Condition1_Feedr\n",
      "627.1940197957346, OverallQual\n",
      "667.0456735915258, Neighborhood_BrkSide\n",
      "721.253914192697, BsmtUnfSF\n",
      "1047.1145410425245, rate\n",
      "1473.6196286984894, ScreenPorch\n",
      "1651.1433289263514, MoSold_5\n",
      "1991.151906350104, WoodDeckSF\n",
      "2095.916923691076, Street_Pave\n",
      "2268.392986855444, RoofStyle_Gambrel\n",
      "2428.1964736899768, Exterior1st_HdBoard\n",
      "2442.0069530846654, MasVnrArea\n",
      "2450.624345630434, MoSold_7\n",
      "2454.0842505415526, Heating_OthW\n",
      "2730.202981033271, Exterior1st_MetalSd\n",
      "2820.168091921308, Fence_NoFence\n",
      "3029.800237457162, Electrical_SBrkr\n",
      "3059.9945557296082, MoSold_4\n",
      "3118.963269202697, EnclosedPorch\n",
      "3404.7114527377726, BldgType_Duplex\n",
      "3675.9939176149187, SaleType_WD\n",
      "4563.517052637854, MiscVal\n",
      "4815.698402257102, MoSold_3\n",
      "6567.39995033089, Exterior1st_Wd_Sdng\n",
      "6625.1147599211245, SaleType_ConLD\n",
      "6625.8997022833155, Fence_MnWw\n",
      "6903.43898518147, MasVnrType_None\n",
      "7155.495158565976, PavedDrive_Y\n",
      "7672.1540736148, Heating_GasW\n",
      "7678.880053289118, Functional_Typ\n",
      "8240.240339853235, Neighborhood_Crawfor\n",
      "8281.10973901219, Foundation_CBlock\n",
      "8394.909858523091, MoSold_9\n",
      "8668.754773620458, Fence_MnPrv\n",
      "8982.18670798635, LotConfig_CulDSac\n",
      "9173.290583131218, Exterior1st_Plywood\n",
      "9544.567223682336, Fireplaces_1\n",
      "9611.864379237795, Neighborhood_BrDale\n",
      "10228.608202259806, SaleCondition_Normal\n",
      "10475.506741936426, CentralAir_Y\n",
      "10843.359361340044, BsmtHalfBath_1\n",
      "12444.172877219917, Condition2_Norm\n",
      "12612.829807813334, Functional_Min2\n",
      "13138.808662066309, Exterior1st_VinylSd\n",
      "13317.789455148797, Foundation_PConc\n",
      "13713.068829794878, FullBath_1\n",
      "13843.53971751706, Exterior1st_Stucco\n",
      "14679.708001172841, TotRmsAbvGrd_8\n",
      "14782.665924954084, MasVnrType_BrkFace\n",
      "15197.697150887501, Exterior1st_AsphShn\n",
      "15563.050117611298, Condition1_Norm\n",
      "15999.418820014154, Neighborhood_Veenker\n",
      "16073.489788696881, BsmtFullBath_1\n",
      "16305.552566969514, HalfBath_1\n",
      "16775.67955421426, GarageType_Detchd\n",
      "17495.296532835564, Condition1_RRAn\n",
      "18846.101851960924, Condition1_PosN\n",
      "19579.822760498537, Condition1_RRNe\n",
      "19659.17273133067, TotRmsAbvGrd_9\n",
      "20812.897440264194, SaleType_New\n",
      "21194.282333791278, LandContour_Low\n",
      "21492.58090479566, SaleType_Oth\n",
      "23966.094763348363, GarageType_BuiltIn\n",
      "25709.595273237148, GarageType_Attchd\n",
      "25930.863041155782, GarageCars_4\n",
      "26128.463930868005, MasVnrType_Stone\n",
      "26493.805896381673, SaleType_Con\n",
      "26887.368474371924, LandContour_HLS\n",
      "27280.927861575496, Fireplaces_2\n",
      "28101.40001484999, Exterior1st_CemntBd\n",
      "28135.779550893385, Condition2_RRAn\n",
      "28310.65616701448, GarageType_Basment\n",
      "29647.799544745572, GarageCars_3\n",
      "31166.400124800115, Exterior1st_BrkFace\n",
      "33767.23033374481, BldgType_2fmCon\n",
      "34433.445751410254, GarageType_CarPort\n",
      "35675.66253937194, TotRmsAbvGrd_11\n",
      "35977.64795078206, FullBath_2\n",
      "39187.43428717209, TotRmsAbvGrd_10\n",
      "39289.92478040881, MSZoning_RM\n",
      "42862.91990000769, SaleType_ConLw\n",
      "43222.04895756655, Neighborhood_NridgHt\n",
      "44085.48320097717, RoofMatl_Metal\n",
      "46612.83770592237, SaleCondition_AdjLand\n",
      "47847.40484933189, Foundation_Stone\n",
      "48787.14058286643, Neighborhood_NoRidge\n",
      "48976.51602062164, MSZoning_RH\n",
      "49465.30596115536, ThreeSsnPorch\n",
      "50956.02890049635, MSZoning_RL\n",
      "51245.50609065391, KitchenAbvGr_1\n",
      "52225.10831405387, Condition2_Feedr\n",
      "52312.05584852395, LandSlope_Sev\n",
      "57431.795595337564, SaleType_CWD\n",
      "57888.66403825588, Neighborhood_StoneBr\n",
      "63123.772125897005, Condition2_PosN\n",
      "68588.71868320605, BsmtFullBath_2\n",
      "68616.54214660672, Exterior1st_Stone\n",
      "69038.7022400867, Fireplaces_3\n",
      "72555.58268285391, MSZoning_FV\n",
      "81265.25159947155, Condition1_PosA\n",
      "85501.17570192135, FullBath_3\n",
      "96050.619392131, Condition2_RRAe\n",
      "111503.36485241489, RoofMatl_Membran\n",
      "139885.83312477873, RoofMatl_WdShake\n",
      "143094.53902224428, RoofMatl_CompShg\n",
      "144074.6992555118, RoofMatl_Roll\n",
      "164386.74325879468, RoofMatl_WdShngl\n",
      "172155.18093963186, RoofMatl_TarGrv\n"
     ]
    }
   ],
   "source": [
    "coef_col =  {}\n",
    "\n",
    "for i in range(len(Lassoreg.coef_)):\n",
    "    coef_col[Lassoreg.coef_[i]] =  train_combined.columns[i] \n",
    "for key in sorted(coef_col.keys()):\n",
    "    print(f'{key}, {coef_col[key]}')"
   ]
  },
  {
   "cell_type": "markdown",
   "metadata": {},
   "source": [
    "# Incorporating Additional Data Sources"
   ]
  },
  {
   "cell_type": "markdown",
   "metadata": {},
   "source": [
    "#### I can incorporate more data by combining relevent data sources, merging on the date"
   ]
  },
  {
   "cell_type": "code",
   "execution_count": 579,
   "metadata": {},
   "outputs": [
    {
     "data": {
      "text/plain": [
       "<Response [200]>"
      ]
     },
     "execution_count": 579,
     "metadata": {},
     "output_type": "execute_result"
    }
   ],
   "source": [
    "from bs4 import BeautifulSoup\n",
    "import requests\n",
    "\n",
    "req = requests.get('https://www.hsh.com/monthly-mortgage-rates.html')\n",
    "req"
   ]
  },
  {
   "cell_type": "code",
   "execution_count": 65,
   "metadata": {},
   "outputs": [],
   "source": [
    "soup = BeautifulSoup(req.content, 'html5lib')\n",
    "#soup.findAll('tr')"
   ]
  },
  {
   "cell_type": "markdown",
   "metadata": {},
   "source": [
    "## Confirming Assumptions are upheld"
   ]
  },
  {
   "cell_type": "markdown",
   "metadata": {},
   "source": [
    "### No Collinearity between features"
   ]
  },
  {
   "cell_type": "code",
   "execution_count": 696,
   "metadata": {},
   "outputs": [
    {
     "data": {
      "text/plain": [
       "[]"
      ]
     },
     "execution_count": 696,
     "metadata": {},
     "output_type": "execute_result"
    }
   ],
   "source": [
    "test_colinear(train_combined)"
   ]
  },
  {
   "cell_type": "code",
   "execution_count": 697,
   "metadata": {},
   "outputs": [
    {
     "data": {
      "text/plain": [
       "{}"
      ]
     },
     "execution_count": 697,
     "metadata": {},
     "output_type": "execute_result"
    }
   ],
   "source": [
    "corr_saleprice = {}\n",
    "for i, k in test_colinear(train_combined):\n",
    "    corr_saleprice[i] = train_combined[f'{i}'].corr(targetdf['SalePrice'])\n",
    "    corr_saleprice[k] = train_combined[f'{k}'].corr(targetdf['SalePrice'])\n",
    "corr_saleprice"
   ]
  },
  {
   "cell_type": "markdown",
   "metadata": {},
   "source": [
    "### Normal distribution of residual: Q-Q plot"
   ]
  },
  {
   "cell_type": "code",
   "execution_count": 699,
   "metadata": {},
   "outputs": [],
   "source": [
    "residuals = L_target_prediction - y.SalePrice"
   ]
  },
  {
   "cell_type": "code",
   "execution_count": 700,
   "metadata": {},
   "outputs": [
    {
     "data": {
      "image/png": "[encoded data removed]",
      "text/plain": [
       "<Figure size 432x288 with 1 Axes>"
      ]
     },
     "metadata": {
      "needs_background": "light"
     },
     "output_type": "display_data"
    }
   ],
   "source": [
    "from statsmodels.graphics.gofplots import qqplot\n",
    "qqplot(residuals, line='q');\n",
    "plt.title('Q-Q Plot');"
   ]
  },
  {
   "cell_type": "markdown",
   "metadata": {},
   "source": [
    "### Homoscedasticity:"
   ]
  },
  {
   "cell_type": "code",
   "execution_count": 701,
   "metadata": {},
   "outputs": [
    {
     "data": {
      "image/png": "[encoded data removed]",
      "text/plain": [
       "<Figure size 432x288 with 1 Axes>"
      ]
     },
     "metadata": {
      "needs_background": "light"
     },
     "output_type": "display_data"
    }
   ],
   "source": [
    "plt.scatter(x = L_target_prediction, y = residuals);"
   ]
  },
  {
   "cell_type": "markdown",
   "metadata": {},
   "source": [
    "### No AutoCorrelation"
   ]
  },
  {
   "cell_type": "markdown",
   "metadata": {},
   "source": [
    "#### Durbin-Watson Test"
   ]
  },
  {
   "cell_type": "code",
   "execution_count": 702,
   "metadata": {},
   "outputs": [
    {
     "data": {
      "text/plain": [
       "2.156403685486642"
      ]
     },
     "execution_count": 702,
     "metadata": {},
     "output_type": "execute_result"
    }
   ],
   "source": [
    "import statsmodels.stats.stattools as stools\n",
    "stools.durbin_watson(residuals)\n"
   ]
  },
  {
   "cell_type": "markdown",
   "metadata": {},
   "source": [
    "Value is extremely close to 2, by definition a value of 2 means there is no auto correlation."
   ]
  },
  {
   "cell_type": "markdown",
   "metadata": {},
   "source": [
    "### Implementation of XGBoost\n"
   ]
  },
  {
   "cell_type": "code",
   "execution_count": 704,
   "metadata": {},
   "outputs": [],
   "source": [
    "import xgboost\n",
    "from xgboost import plot_importance\n",
    "from xgboost import XGBRegressor\n",
    "from sklearn.metrics import accuracy_score\n",
    "from sklearn.metrics import mean_squared_error"
   ]
  },
  {
   "cell_type": "code",
   "execution_count": 718,
   "metadata": {},
   "outputs": [
    {
     "ename": "XGBoostError",
     "evalue": "[19:01:52] src/objective/objective.cc:23: Unknown objective function rmse\nStack trace:\n  [bt] (0) 1   libxgboost.dylib                    0x000000012ec6d579 dmlc::LogMessageFatal::~LogMessageFatal() + 57\n  [bt] (1) 2   libxgboost.dylib                    0x000000012ecf424d xgboost::ObjFunction::Create(std::__1::basic_string<char, std::__1::char_traits<char>, std::__1::allocator<char> > const&) + 541\n  [bt] (2) 3   libxgboost.dylib                    0x000000012ec72b0a xgboost::LearnerImpl::LazyInitModel() + 1402\n  [bt] (3) 4   libxgboost.dylib                    0x000000012ec882fe XGBoosterUpdateOneIter + 158\n  [bt] (4) 5   libffi.6.dylib                      0x0000000106253884 ffi_call_unix64 + 76\n  [bt] (5) 6   ???                                 0x00007ffeeb53d7a0 0x0 + 140732846561184\n\n",
     "output_type": "error",
     "traceback": [
      "\u001b[0;31m---------------------------------------------------------------------------\u001b[0m",
      "\u001b[0;31mXGBoostError\u001b[0m                              Traceback (most recent call last)",
      "\u001b[0;32m<ipython-input-718-edff39299585>\u001b[0m in \u001b[0;36m<module>\u001b[0;34m\u001b[0m\n\u001b[1;32m      1\u001b[0m \u001b[0mXGBoost\u001b[0m \u001b[0;34m=\u001b[0m \u001b[0mXGBRegressor\u001b[0m\u001b[0;34m(\u001b[0m\u001b[0mmax_depth\u001b[0m\u001b[0;34m=\u001b[0m\u001b[0;36m20\u001b[0m\u001b[0;34m,\u001b[0m \u001b[0mobjective\u001b[0m\u001b[0;34m=\u001b[0m\u001b[0;34m'rmse'\u001b[0m\u001b[0;34m)\u001b[0m\u001b[0;34m\u001b[0m\u001b[0;34m\u001b[0m\u001b[0m\n\u001b[0;32m----> 2\u001b[0;31m \u001b[0mXGBoost\u001b[0m\u001b[0;34m.\u001b[0m\u001b[0mfit\u001b[0m\u001b[0;34m(\u001b[0m\u001b[0mX_train\u001b[0m\u001b[0;34m,\u001b[0m \u001b[0my_train\u001b[0m\u001b[0;34m,\u001b[0m\u001b[0;34m)\u001b[0m\u001b[0;34m\u001b[0m\u001b[0;34m\u001b[0m\u001b[0m\n\u001b[0m\u001b[1;32m      3\u001b[0m \u001b[0;34m\u001b[0m\u001b[0m\n\u001b[1;32m      4\u001b[0m \u001b[0my_pred\u001b[0m \u001b[0;34m=\u001b[0m \u001b[0mXGBoost\u001b[0m\u001b[0;34m.\u001b[0m\u001b[0mpredict\u001b[0m\u001b[0;34m(\u001b[0m\u001b[0mX_test\u001b[0m\u001b[0;34m)\u001b[0m\u001b[0;34m\u001b[0m\u001b[0;34m\u001b[0m\u001b[0m\n\u001b[1;32m      5\u001b[0m \u001b[0mXGBoost_mse\u001b[0m \u001b[0;34m=\u001b[0m \u001b[0mmean_squared_error\u001b[0m\u001b[0;34m(\u001b[0m\u001b[0my_test\u001b[0m\u001b[0;34m,\u001b[0m \u001b[0my_pred\u001b[0m\u001b[0;34m)\u001b[0m\u001b[0;34m\u001b[0m\u001b[0;34m\u001b[0m\u001b[0m\n",
      "\u001b[0;32m~/opt/anaconda3/lib/python3.7/site-packages/xgboost/sklearn.py\u001b[0m in \u001b[0;36mfit\u001b[0;34m(self, X, y, sample_weight, eval_set, eval_metric, early_stopping_rounds, verbose, xgb_model, sample_weight_eval_set, callbacks)\u001b[0m\n\u001b[1;32m    394\u001b[0m                               \u001b[0mevals_result\u001b[0m\u001b[0;34m=\u001b[0m\u001b[0mevals_result\u001b[0m\u001b[0;34m,\u001b[0m \u001b[0mobj\u001b[0m\u001b[0;34m=\u001b[0m\u001b[0mobj\u001b[0m\u001b[0;34m,\u001b[0m \u001b[0mfeval\u001b[0m\u001b[0;34m=\u001b[0m\u001b[0mfeval\u001b[0m\u001b[0;34m,\u001b[0m\u001b[0;34m\u001b[0m\u001b[0;34m\u001b[0m\u001b[0m\n\u001b[1;32m    395\u001b[0m                               \u001b[0mverbose_eval\u001b[0m\u001b[0;34m=\u001b[0m\u001b[0mverbose\u001b[0m\u001b[0;34m,\u001b[0m \u001b[0mxgb_model\u001b[0m\u001b[0;34m=\u001b[0m\u001b[0mxgb_model\u001b[0m\u001b[0;34m,\u001b[0m\u001b[0;34m\u001b[0m\u001b[0;34m\u001b[0m\u001b[0m\n\u001b[0;32m--> 396\u001b[0;31m                               callbacks=callbacks)\n\u001b[0m\u001b[1;32m    397\u001b[0m \u001b[0;34m\u001b[0m\u001b[0m\n\u001b[1;32m    398\u001b[0m         \u001b[0;32mif\u001b[0m \u001b[0mevals_result\u001b[0m\u001b[0;34m:\u001b[0m\u001b[0;34m\u001b[0m\u001b[0;34m\u001b[0m\u001b[0m\n",
      "\u001b[0;32m~/opt/anaconda3/lib/python3.7/site-packages/xgboost/training.py\u001b[0m in \u001b[0;36mtrain\u001b[0;34m(params, dtrain, num_boost_round, evals, obj, feval, maximize, early_stopping_rounds, evals_result, verbose_eval, xgb_model, callbacks, learning_rates)\u001b[0m\n\u001b[1;32m    214\u001b[0m                            \u001b[0mevals\u001b[0m\u001b[0;34m=\u001b[0m\u001b[0mevals\u001b[0m\u001b[0;34m,\u001b[0m\u001b[0;34m\u001b[0m\u001b[0;34m\u001b[0m\u001b[0m\n\u001b[1;32m    215\u001b[0m                            \u001b[0mobj\u001b[0m\u001b[0;34m=\u001b[0m\u001b[0mobj\u001b[0m\u001b[0;34m,\u001b[0m \u001b[0mfeval\u001b[0m\u001b[0;34m=\u001b[0m\u001b[0mfeval\u001b[0m\u001b[0;34m,\u001b[0m\u001b[0;34m\u001b[0m\u001b[0;34m\u001b[0m\u001b[0m\n\u001b[0;32m--> 216\u001b[0;31m                            xgb_model=xgb_model, callbacks=callbacks)\n\u001b[0m\u001b[1;32m    217\u001b[0m \u001b[0;34m\u001b[0m\u001b[0m\n\u001b[1;32m    218\u001b[0m \u001b[0;34m\u001b[0m\u001b[0m\n",
      "\u001b[0;32m~/opt/anaconda3/lib/python3.7/site-packages/xgboost/training.py\u001b[0m in \u001b[0;36m_train_internal\u001b[0;34m(params, dtrain, num_boost_round, evals, obj, feval, xgb_model, callbacks)\u001b[0m\n\u001b[1;32m     72\u001b[0m         \u001b[0;31m# Skip the first update if it is a recovery step.\u001b[0m\u001b[0;34m\u001b[0m\u001b[0;34m\u001b[0m\u001b[0;34m\u001b[0m\u001b[0m\n\u001b[1;32m     73\u001b[0m         \u001b[0;32mif\u001b[0m \u001b[0mversion\u001b[0m \u001b[0;34m%\u001b[0m \u001b[0;36m2\u001b[0m \u001b[0;34m==\u001b[0m \u001b[0;36m0\u001b[0m\u001b[0;34m:\u001b[0m\u001b[0;34m\u001b[0m\u001b[0;34m\u001b[0m\u001b[0m\n\u001b[0;32m---> 74\u001b[0;31m             \u001b[0mbst\u001b[0m\u001b[0;34m.\u001b[0m\u001b[0mupdate\u001b[0m\u001b[0;34m(\u001b[0m\u001b[0mdtrain\u001b[0m\u001b[0;34m,\u001b[0m \u001b[0mi\u001b[0m\u001b[0;34m,\u001b[0m \u001b[0mobj\u001b[0m\u001b[0;34m)\u001b[0m\u001b[0;34m\u001b[0m\u001b[0;34m\u001b[0m\u001b[0m\n\u001b[0m\u001b[1;32m     75\u001b[0m             \u001b[0mbst\u001b[0m\u001b[0;34m.\u001b[0m\u001b[0msave_rabit_checkpoint\u001b[0m\u001b[0;34m(\u001b[0m\u001b[0;34m)\u001b[0m\u001b[0;34m\u001b[0m\u001b[0;34m\u001b[0m\u001b[0m\n\u001b[1;32m     76\u001b[0m             \u001b[0mversion\u001b[0m \u001b[0;34m+=\u001b[0m \u001b[0;36m1\u001b[0m\u001b[0;34m\u001b[0m\u001b[0;34m\u001b[0m\u001b[0m\n",
      "\u001b[0;32m~/opt/anaconda3/lib/python3.7/site-packages/xgboost/core.py\u001b[0m in \u001b[0;36mupdate\u001b[0;34m(self, dtrain, iteration, fobj)\u001b[0m\n\u001b[1;32m   1107\u001b[0m         \u001b[0;32mif\u001b[0m \u001b[0mfobj\u001b[0m \u001b[0;32mis\u001b[0m \u001b[0;32mNone\u001b[0m\u001b[0;34m:\u001b[0m\u001b[0;34m\u001b[0m\u001b[0;34m\u001b[0m\u001b[0m\n\u001b[1;32m   1108\u001b[0m             _check_call(_LIB.XGBoosterUpdateOneIter(self.handle, ctypes.c_int(iteration),\n\u001b[0;32m-> 1109\u001b[0;31m                                                     dtrain.handle))\n\u001b[0m\u001b[1;32m   1110\u001b[0m         \u001b[0;32melse\u001b[0m\u001b[0;34m:\u001b[0m\u001b[0;34m\u001b[0m\u001b[0;34m\u001b[0m\u001b[0m\n\u001b[1;32m   1111\u001b[0m             \u001b[0mpred\u001b[0m \u001b[0;34m=\u001b[0m \u001b[0mself\u001b[0m\u001b[0;34m.\u001b[0m\u001b[0mpredict\u001b[0m\u001b[0;34m(\u001b[0m\u001b[0mdtrain\u001b[0m\u001b[0;34m)\u001b[0m\u001b[0;34m\u001b[0m\u001b[0;34m\u001b[0m\u001b[0m\n",
      "\u001b[0;32m~/opt/anaconda3/lib/python3.7/site-packages/xgboost/core.py\u001b[0m in \u001b[0;36m_check_call\u001b[0;34m(ret)\u001b[0m\n\u001b[1;32m    174\u001b[0m     \"\"\"\n\u001b[1;32m    175\u001b[0m     \u001b[0;32mif\u001b[0m \u001b[0mret\u001b[0m \u001b[0;34m!=\u001b[0m \u001b[0;36m0\u001b[0m\u001b[0;34m:\u001b[0m\u001b[0;34m\u001b[0m\u001b[0;34m\u001b[0m\u001b[0m\n\u001b[0;32m--> 176\u001b[0;31m         \u001b[0;32mraise\u001b[0m \u001b[0mXGBoostError\u001b[0m\u001b[0;34m(\u001b[0m\u001b[0mpy_str\u001b[0m\u001b[0;34m(\u001b[0m\u001b[0m_LIB\u001b[0m\u001b[0;34m.\u001b[0m\u001b[0mXGBGetLastError\u001b[0m\u001b[0;34m(\u001b[0m\u001b[0;34m)\u001b[0m\u001b[0;34m)\u001b[0m\u001b[0;34m)\u001b[0m\u001b[0;34m\u001b[0m\u001b[0;34m\u001b[0m\u001b[0m\n\u001b[0m\u001b[1;32m    177\u001b[0m \u001b[0;34m\u001b[0m\u001b[0m\n\u001b[1;32m    178\u001b[0m \u001b[0;34m\u001b[0m\u001b[0m\n",
      "\u001b[0;31mXGBoostError\u001b[0m: [19:01:52] src/objective/objective.cc:23: Unknown objective function rmse\nStack trace:\n  [bt] (0) 1   libxgboost.dylib                    0x000000012ec6d579 dmlc::LogMessageFatal::~LogMessageFatal() + 57\n  [bt] (1) 2   libxgboost.dylib                    0x000000012ecf424d xgboost::ObjFunction::Create(std::__1::basic_string<char, std::__1::char_traits<char>, std::__1::allocator<char> > const&) + 541\n  [bt] (2) 3   libxgboost.dylib                    0x000000012ec72b0a xgboost::LearnerImpl::LazyInitModel() + 1402\n  [bt] (3) 4   libxgboost.dylib                    0x000000012ec882fe XGBoosterUpdateOneIter + 158\n  [bt] (4) 5   libffi.6.dylib                      0x0000000106253884 ffi_call_unix64 + 76\n  [bt] (5) 6   ???                                 0x00007ffeeb53d7a0 0x0 + 140732846561184\n\n"
     ]
    }
   ],
   "source": [
    "XGBoost = XGBRegressor(max_depth=20, )\n",
    "XGBoost.fit(X_train, y_train,)\n",
    "\n",
    "y_pred = XGBoost.predict(X_test)\n",
    "XGBoost_mse = mean_squared_error(y_test, y_pred)\n",
    "print(np.sqrt(XGBoost_mse))"
   ]
  },
  {
   "cell_type": "code",
   "execution_count": null,
   "metadata": {},
   "outputs": [],
   "source": []
  }
 ],
 "metadata": {
  "kernelspec": {
   "display_name": "Python 3",
   "language": "python",
   "name": "python3"
  },
  "language_info": {
   "codemirror_mode": {
    "name": "ipython",
    "version": 3
   },
   "file_extension": ".py",
   "mimetype": "text/x-python",
   "name": "python",
   "nbconvert_exporter": "python",
   "pygments_lexer": "ipython3",
   "version": "3.7.4"
  }
 },
 "nbformat": 4,
 "nbformat_minor": 4
}
