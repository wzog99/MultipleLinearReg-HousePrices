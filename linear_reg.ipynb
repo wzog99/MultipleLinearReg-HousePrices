{
 "cells": [
  {
   "cell_type": "markdown",
   "metadata": {},
   "source": [
    "# <center>Multivariate Linear Regression on House Pricing Data</center>"
   ]
  },
  {
   "cell_type": "markdown",
   "metadata": {},
   "source": [
    "### <center>Source: Kaggle - House Prices: Advanced Regression Techniques\n",
    "## <center>[Kaggle DataSet](https://www.kaggle.com/c/house-prices-advanced-regression-techniques/overview)</center>\n"
   ]
  },
  {
   "cell_type": "code",
   "execution_count": 881,
   "metadata": {},
   "outputs": [],
   "source": [
    "%matplotlib inline\n",
    "import warnings\n",
    "warnings.filterwarnings(action='ignore')\n",
    "import numpy as np\n",
    "import pandas as pd\n",
    "import seaborn as sns\n",
    "import statsmodels.api as sm\n",
    "import statsmodels.formula.api as smf\n",
    "from sklearn.model_selection import train_test_split\n",
    "from sklearn.preprocessing import StandardScaler\n",
    "from scipy import stats\n",
    "from sklearn.preprocessing import LabelBinarizer\n",
    "from sklearn.preprocessing import OneHotEncoder\n",
    "from sklearn.linear_model import LinearRegression\n",
    "from sklearn.metrics import r2_score, mean_squared_error\n",
    "import matplotlib.pyplot as plt\n",
    "from statsmodels.graphics.gofplots import qqplot\n",
    "import seaborn as sns\n",
    "from itertools import combinations\n",
    "from sklearn.preprocessing import PolynomialFeatures\n",
    "from sklearn.linear_model import Ridge\n",
    "from sklearn.linear_model import Lasso\n",
    "from sklearn.linear_model import ElasticNet\n",
    "from sklearn.feature_selection import RFE\n",
    "from numpy.polynomial.polynomial import polyfit\n",
    "from pandas import Series\n",
    "import matplotlib.pylab as plt\n",
    "from statsmodels.compat import lzip"
   ]
  },
  {
   "cell_type": "code",
   "execution_count": 882,
   "metadata": {},
   "outputs": [
    {
     "name": "stdout",
     "output_type": "stream",
     "text": [
      "The autoreload extension is already loaded. To reload it, use:\n",
      "  %reload_ext autoreload\n"
     ]
    }
   ],
   "source": [
    "import pandas as pd\n",
    "import numpy as np\n",
    "import seaborn as sns\n",
    "import pickle\n",
    "import matplotlib.pyplot as plt\n",
    "\n",
    "from sklearn.preprocessing import LabelBinarizer\n",
    "from sklearn.linear_model import LinearRegression\n",
    "\n",
    "\n",
    "%load_ext autoreload\n",
    "%autoreload 2"
   ]
  },
  {
   "cell_type": "markdown",
   "metadata": {},
   "source": [
    "## Data Engineering"
   ]
  },
  {
   "cell_type": "code",
   "execution_count": 1039,
   "metadata": {},
   "outputs": [],
   "source": [
    "traindf = pd.read_csv('train.csv')"
   ]
  },
  {
   "cell_type": "code",
   "execution_count": 1040,
   "metadata": {},
   "outputs": [
    {
     "data": {
      "text/plain": [
       "1460"
      ]
     },
     "execution_count": 1040,
     "metadata": {},
     "output_type": "execute_result"
    }
   ],
   "source": [
    "len(traindf)"
   ]
  },
  {
   "cell_type": "code",
   "execution_count": 1045,
   "metadata": {
    "scrolled": true
   },
   "outputs": [
    {
     "data": {
      "image/png": "[encoded data removed]",
      "text/plain": [
       "<Figure size 432x288 with 1 Axes>"
      ]
     },
     "metadata": {
      "needs_background": "light"
     },
     "output_type": "display_data"
    }
   ],
   "source": [
    "plt.hist(traindf['SalePrice']);"
   ]
  },
  {
   "cell_type": "code",
   "execution_count": 1046,
   "metadata": {},
   "outputs": [
    {
     "data": {
      "image/png": "[encoded data removed]",
      "text/plain": [
       "<Figure size 432x288 with 1 Axes>"
      ]
     },
     "metadata": {
      "needs_background": "light"
     },
     "output_type": "display_data"
    }
   ],
   "source": [
    "traindf = traindf.loc[traindf['SalePrice'] < 500000]\n",
    "plt.hist(traindf['SalePrice']);"
   ]
  },
  {
   "cell_type": "markdown",
   "metadata": {},
   "source": [
    "#### Removing data with more than 30% NAN values "
   ]
  },
  {
   "cell_type": "code",
   "execution_count": 1047,
   "metadata": {},
   "outputs": [],
   "source": [
    "drop_list = ['Exterior2nd', 'YearRemodAdd', 'LotShape', 'MSSubClass', 'TotalBsmtSF', 'Alley', 'GarageYrBlt', 'PoolQC', 'MiscFeature', 'MiscFeature']"
   ]
  },
  {
   "cell_type": "markdown",
   "metadata": {},
   "source": [
    "#### Moving Sale Price over to targetdf"
   ]
  },
  {
   "cell_type": "code",
   "execution_count": 1048,
   "metadata": {},
   "outputs": [],
   "source": [
    "targetdf = traindf[['Id', 'SalePrice']]\n",
    "traindf.drop('SalePrice', axis=1, inplace=True)"
   ]
  },
  {
   "cell_type": "markdown",
   "metadata": {},
   "source": [
    "#### Removing problematic columns"
   ]
  },
  {
   "cell_type": "code",
   "execution_count": 1049,
   "metadata": {},
   "outputs": [],
   "source": [
    "traindf = traindf.drop(drop_list, axis=1)"
   ]
  },
  {
   "cell_type": "markdown",
   "metadata": {},
   "source": [
    "#### Seperating the catagorical and numerical data"
   ]
  },
  {
   "cell_type": "code",
   "execution_count": 1050,
   "metadata": {},
   "outputs": [],
   "source": [
    "traindf_cat = traindf[['Id', 'MSZoning']].copy()\n",
    "traindf.drop('MSZoning', axis=1, inplace=True)"
   ]
  },
  {
   "cell_type": "code",
   "execution_count": 1051,
   "metadata": {},
   "outputs": [],
   "source": [
    "lotfront = traindf.LotFrontage.mean()"
   ]
  },
  {
   "cell_type": "markdown",
   "metadata": {},
   "source": [
    "### Replacing NA values with the mean value for the column"
   ]
  },
  {
   "cell_type": "code",
   "execution_count": 1052,
   "metadata": {},
   "outputs": [],
   "source": [
    "traindf.LotFrontage.fillna(value=lotfront, inplace=True)"
   ]
  },
  {
   "cell_type": "code",
   "execution_count": 1053,
   "metadata": {},
   "outputs": [],
   "source": [
    "traindf_cat.FireplaceQu = traindf.FireplaceQu\n",
    "traindf_cat.FireplaceQu.fillna(value='None', inplace=True)\n",
    "traindf.drop('FireplaceQu', axis = 1, inplace=True)"
   ]
  },
  {
   "cell_type": "code",
   "execution_count": 1054,
   "metadata": {},
   "outputs": [],
   "source": [
    "traindf_cat['Street'] = traindf.Street\n",
    "traindf.drop('Street', axis=1, inplace=True)"
   ]
  },
  {
   "cell_type": "code",
   "execution_count": 1055,
   "metadata": {},
   "outputs": [],
   "source": [
    "traindf_cat['LandContour'] = traindf.LandContour\n",
    "traindf.drop('LandContour', axis=1, inplace=True)"
   ]
  },
  {
   "cell_type": "code",
   "execution_count": 1056,
   "metadata": {},
   "outputs": [],
   "source": [
    "traindf_cat['Utilities'] = traindf.Utilities\n",
    "traindf.drop('Utilities', axis=1, inplace=True)"
   ]
  },
  {
   "cell_type": "code",
   "execution_count": 1057,
   "metadata": {},
   "outputs": [],
   "source": [
    "traindf_cat['LotConfig'] = traindf.LotConfig\n",
    "traindf.drop('LotConfig', axis=1, inplace=True)"
   ]
  },
  {
   "cell_type": "code",
   "execution_count": 1058,
   "metadata": {},
   "outputs": [],
   "source": [
    "traindf_cat['LandSlope'] = traindf.LandSlope\n",
    "traindf.drop('LandSlope', axis=1, inplace=True)"
   ]
  },
  {
   "cell_type": "code",
   "execution_count": 1059,
   "metadata": {},
   "outputs": [],
   "source": [
    "traindf_cat['Neighborhood'] = traindf.Neighborhood\n",
    "traindf.drop('Neighborhood', axis=1, inplace=True)"
   ]
  },
  {
   "cell_type": "code",
   "execution_count": 1060,
   "metadata": {},
   "outputs": [],
   "source": [
    "traindf_cat['Condition1'] = traindf.Condition1\n",
    "traindf.drop('Condition1', axis=1, inplace=True)\n",
    "\n",
    "traindf_cat['Condition2'] = traindf.Condition2\n",
    "traindf.drop('Condition2', axis=1, inplace=True)"
   ]
  },
  {
   "cell_type": "code",
   "execution_count": 1061,
   "metadata": {},
   "outputs": [],
   "source": [
    "traindf_cat['BldgType'] = traindf.BldgType\n",
    "traindf.drop('BldgType', axis=1, inplace=True)"
   ]
  },
  {
   "cell_type": "code",
   "execution_count": 1062,
   "metadata": {},
   "outputs": [],
   "source": [
    "traindf_cat['HouseStyle'] = traindf.HouseStyle\n",
    "traindf.drop('HouseStyle', axis=1, inplace=True)"
   ]
  },
  {
   "cell_type": "code",
   "execution_count": 1063,
   "metadata": {},
   "outputs": [],
   "source": [
    "traindf_cat['RoofStyle'] = traindf.RoofStyle\n",
    "traindf.drop('RoofStyle', axis=1, inplace=True)"
   ]
  },
  {
   "cell_type": "code",
   "execution_count": 1064,
   "metadata": {},
   "outputs": [],
   "source": [
    "traindf_cat['RoofMatl'] = traindf.RoofMatl\n",
    "traindf.drop('RoofMatl', axis=1, inplace=True)"
   ]
  },
  {
   "cell_type": "code",
   "execution_count": 1065,
   "metadata": {},
   "outputs": [],
   "source": [
    "traindf_cat['Exterior1st'] = traindf.Exterior1st\n",
    "traindf.drop('Exterior1st', axis=1, inplace=True)\n",
    "\n",
    "#traindf_cat['Exterior2nd'] = traindf.Exterior2nd\n",
    "#traindf.drop('Exterior2nd', axis=1, inplace=True)"
   ]
  },
  {
   "cell_type": "code",
   "execution_count": 1066,
   "metadata": {},
   "outputs": [],
   "source": [
    "traindf.MasVnrType.fillna(value='None', inplace=True)\n",
    "traindf_cat['MasVnrType'] = traindf.MasVnrType\n",
    "traindf.drop('MasVnrType', axis=1, inplace=True)"
   ]
  },
  {
   "cell_type": "code",
   "execution_count": 1067,
   "metadata": {},
   "outputs": [],
   "source": [
    "traindf_cat.ExterQual = traindf.ExterQual\n",
    "traindf.drop('ExterQual', axis=1, inplace=True)"
   ]
  },
  {
   "cell_type": "code",
   "execution_count": 1068,
   "metadata": {},
   "outputs": [],
   "source": [
    "traindf_cat.ExterCond = traindf.ExterCond \n",
    "traindf.drop('ExterCond', axis=1, inplace=True)"
   ]
  },
  {
   "cell_type": "code",
   "execution_count": 1069,
   "metadata": {},
   "outputs": [],
   "source": [
    "traindf_cat['Foundation'] = traindf.Foundation\n",
    "traindf.drop('Foundation', axis=1, inplace=True)"
   ]
  },
  {
   "cell_type": "code",
   "execution_count": 1070,
   "metadata": {},
   "outputs": [],
   "source": [
    "traindf.MasVnrArea.fillna(value=0.00, inplace=True) "
   ]
  },
  {
   "cell_type": "code",
   "execution_count": 1071,
   "metadata": {},
   "outputs": [],
   "source": [
    "traindf_cat.BsmtCond = traindf.BsmtCond\n",
    "traindf.drop('BsmtCond', axis=1, inplace=True)"
   ]
  },
  {
   "cell_type": "code",
   "execution_count": 1072,
   "metadata": {},
   "outputs": [],
   "source": [
    "traindf_cat.BsmtFinType1 = traindf.BsmtFinType1\n",
    "traindf.drop('BsmtFinType1', axis=1, inplace=True)"
   ]
  },
  {
   "cell_type": "code",
   "execution_count": 1073,
   "metadata": {},
   "outputs": [],
   "source": [
    "traindf_cat.BsmtExposure = traindf.BsmtExposure\n",
    "traindf.drop('BsmtExposure', axis=1, inplace=True)"
   ]
  },
  {
   "cell_type": "code",
   "execution_count": 1074,
   "metadata": {},
   "outputs": [],
   "source": [
    "traindf_cat.BsmtQual = traindf.BsmtQual\n",
    "traindf.drop('BsmtQual',axis=1, inplace=True)"
   ]
  },
  {
   "cell_type": "code",
   "execution_count": 1075,
   "metadata": {},
   "outputs": [],
   "source": [
    "traindf_cat.BsmtFinType2 = traindf.BsmtFinType2\n",
    "traindf.drop('BsmtFinType2', axis=1, inplace=True)"
   ]
  },
  {
   "cell_type": "code",
   "execution_count": 1076,
   "metadata": {},
   "outputs": [],
   "source": [
    "traindf_cat['Heating'] = traindf.Heating\n",
    "traindf.drop('Heating', axis=1, inplace=True)"
   ]
  },
  {
   "cell_type": "code",
   "execution_count": 1077,
   "metadata": {},
   "outputs": [],
   "source": [
    "traindf.HeatingQC = traindf.HeatingQC\n",
    "traindf.drop('HeatingQC', axis=1, inplace=True)"
   ]
  },
  {
   "cell_type": "code",
   "execution_count": 1078,
   "metadata": {},
   "outputs": [],
   "source": [
    "traindf_cat['CentralAir'] = traindf.CentralAir\n",
    "traindf.drop('CentralAir', axis=1, inplace=True)"
   ]
  },
  {
   "cell_type": "code",
   "execution_count": 1079,
   "metadata": {},
   "outputs": [],
   "source": [
    "traindf_cat['Electrical'] = traindf.Electrical\n",
    "traindf.drop('Electrical', axis=1, inplace=True)\n",
    "traindf_cat.Electrical.fillna(value='None', inplace=True)"
   ]
  },
  {
   "cell_type": "code",
   "execution_count": 1080,
   "metadata": {},
   "outputs": [],
   "source": [
    "traindf_cat.KitchenQual = traindf.KitchenQual\n",
    "traindf.drop('KitchenQual', axis=1, inplace=True)"
   ]
  },
  {
   "cell_type": "code",
   "execution_count": 1081,
   "metadata": {},
   "outputs": [],
   "source": [
    "traindf_cat['Functional'] = traindf.Functional\n",
    "traindf.drop('Functional', axis=1, inplace=True)"
   ]
  },
  {
   "cell_type": "code",
   "execution_count": 1082,
   "metadata": {},
   "outputs": [],
   "source": [
    "traindf_cat['GarageType'] = traindf.GarageType\n",
    "traindf.drop('GarageType', axis=1, inplace=True)\n",
    "traindf_cat.GarageType.fillna(value='NoGarage', inplace=True)"
   ]
  },
  {
   "cell_type": "code",
   "execution_count": 1083,
   "metadata": {},
   "outputs": [],
   "source": [
    "traindf_cat.GarageFinish = traindf.GarageFinish\n",
    "traindf.drop('GarageFinish', axis=1, inplace=True)"
   ]
  },
  {
   "cell_type": "code",
   "execution_count": 1084,
   "metadata": {},
   "outputs": [],
   "source": [
    "traindf_cat.GarageQual = traindf.GarageQual\n",
    "traindf.drop('GarageQual', axis=1, inplace=True)"
   ]
  },
  {
   "cell_type": "code",
   "execution_count": 1085,
   "metadata": {},
   "outputs": [],
   "source": [
    "traindf_cat.GarageCond = traindf.GarageCond\n",
    "traindf.drop('GarageCond',axis=1, inplace=True)"
   ]
  },
  {
   "cell_type": "code",
   "execution_count": 1086,
   "metadata": {},
   "outputs": [],
   "source": [
    "traindf_cat['PavedDrive'] = traindf.PavedDrive\n",
    "traindf.drop('PavedDrive', axis=1, inplace=True)"
   ]
  },
  {
   "cell_type": "code",
   "execution_count": 1087,
   "metadata": {},
   "outputs": [],
   "source": [
    "traindf_cat['Fence'] = traindf.Fence\n",
    "traindf.drop('Fence', axis=1, inplace=True)\n",
    "traindf_cat.fillna(value='NoFence', inplace=True)"
   ]
  },
  {
   "cell_type": "code",
   "execution_count": 1088,
   "metadata": {},
   "outputs": [],
   "source": [
    "traindf_cat['MoSold'] = traindf.MoSold\n",
    "traindf.drop('MoSold', axis=1, inplace=True)"
   ]
  },
  {
   "cell_type": "code",
   "execution_count": 1089,
   "metadata": {},
   "outputs": [],
   "source": [
    "traindf_cat['SaleType'] = traindf.SaleType\n",
    "traindf.drop('SaleType', axis=1, inplace=True)"
   ]
  },
  {
   "cell_type": "code",
   "execution_count": 1090,
   "metadata": {},
   "outputs": [],
   "source": [
    "traindf_cat['SaleCondition'] = traindf.SaleCondition\n",
    "traindf.drop('SaleCondition', axis=1, inplace=True)"
   ]
  },
  {
   "cell_type": "code",
   "execution_count": 1091,
   "metadata": {},
   "outputs": [],
   "source": [
    "traindf_cat['BsmtFullBath'] = traindf.BsmtFullBath\n",
    "traindf.drop('BsmtFullBath', axis=1, inplace=True)"
   ]
  },
  {
   "cell_type": "code",
   "execution_count": 1092,
   "metadata": {},
   "outputs": [],
   "source": [
    "traindf_cat['BsmtHalfBath'] = traindf.BsmtHalfBath\n",
    "traindf.drop('BsmtHalfBath', axis=1, inplace=True)"
   ]
  },
  {
   "cell_type": "code",
   "execution_count": 1093,
   "metadata": {},
   "outputs": [],
   "source": [
    "traindf_cat['FullBath'] = traindf.FullBath\n",
    "traindf.drop('FullBath', axis=1, inplace=True)"
   ]
  },
  {
   "cell_type": "code",
   "execution_count": 1094,
   "metadata": {},
   "outputs": [],
   "source": [
    "traindf_cat['HalfBath'] = traindf.HalfBath\n",
    "traindf.drop('HalfBath', axis=1, inplace=True)"
   ]
  },
  {
   "cell_type": "code",
   "execution_count": 1095,
   "metadata": {},
   "outputs": [],
   "source": [
    "traindf_cat['BedroomAbvGr'] = traindf.BedroomAbvGr\n",
    "traindf.drop('BedroomAbvGr', axis=1, inplace=True)"
   ]
  },
  {
   "cell_type": "code",
   "execution_count": 1096,
   "metadata": {},
   "outputs": [],
   "source": [
    "traindf_cat['KitchenAbvGr'] = traindf.KitchenAbvGr\n",
    "traindf.drop('KitchenAbvGr', axis=1, inplace=True)"
   ]
  },
  {
   "cell_type": "code",
   "execution_count": 1097,
   "metadata": {},
   "outputs": [],
   "source": [
    "traindf_cat['TotRmsAbvGrd'] = traindf.TotRmsAbvGrd\n",
    "traindf.drop('TotRmsAbvGrd', axis=1, inplace=True)"
   ]
  },
  {
   "cell_type": "code",
   "execution_count": 1098,
   "metadata": {},
   "outputs": [],
   "source": [
    "traindf_cat['Fireplaces'] = traindf.Fireplaces\n",
    "traindf.drop('Fireplaces', axis=1, inplace=True)"
   ]
  },
  {
   "cell_type": "code",
   "execution_count": 1099,
   "metadata": {},
   "outputs": [],
   "source": [
    "traindf_cat['GarageCars'] = traindf.GarageCars\n",
    "traindf.drop('GarageCars', axis=1, inplace=True)"
   ]
  },
  {
   "cell_type": "code",
   "execution_count": 1100,
   "metadata": {},
   "outputs": [],
   "source": [
    "traindf['ThreeSsnPorch'] = traindf['3SsnPorch']\n",
    "traindf.drop('3SsnPorch', axis=1, inplace=True)"
   ]
  },
  {
   "cell_type": "code",
   "execution_count": 1101,
   "metadata": {},
   "outputs": [],
   "source": [
    "traindf['FirstFlrSF'] = traindf['1stFlrSF']\n",
    "traindf.drop('1stFlrSF', axis=1, inplace=True)"
   ]
  },
  {
   "cell_type": "code",
   "execution_count": 1102,
   "metadata": {},
   "outputs": [],
   "source": [
    "traindf['SecondFlrSF'] = traindf['2ndFlrSF']\n",
    "traindf.drop('2ndFlrSF', axis=1, inplace=True)"
   ]
  },
  {
   "cell_type": "markdown",
   "metadata": {},
   "source": [
    "## Feature Scaling - Apply Box-Cox?\n",
    "### Box-Cox did not improve the model"
   ]
  },
  {
   "cell_type": "code",
   "execution_count": 1103,
   "metadata": {},
   "outputs": [
    {
     "data": {
      "text/plain": [
       "(1451, 36)"
      ]
     },
     "execution_count": 1103,
     "metadata": {},
     "output_type": "execute_result"
    }
   ],
   "source": [
    "traindf_cat.shape"
   ]
  },
  {
   "cell_type": "code",
   "execution_count": 1104,
   "metadata": {},
   "outputs": [],
   "source": [
    "traindf_columns = traindf.columns"
   ]
  },
  {
   "cell_type": "code",
   "execution_count": 1105,
   "metadata": {},
   "outputs": [
    {
     "data": {
      "text/html": [
       "<div>\n",
       "<style scoped>\n",
       "    .dataframe tbody tr th:only-of-type {\n",
       "        vertical-align: middle;\n",
       "    }\n",
       "\n",
       "    .dataframe tbody tr th {\n",
       "        vertical-align: top;\n",
       "    }\n",
       "\n",
       "    .dataframe thead th {\n",
       "        text-align: right;\n",
       "    }\n",
       "</style>\n",
       "<table border=\"1\" class=\"dataframe\">\n",
       "  <thead>\n",
       "    <tr style=\"text-align: right;\">\n",
       "      <th></th>\n",
       "      <th>Id</th>\n",
       "      <th>LotFrontage</th>\n",
       "      <th>LotArea</th>\n",
       "      <th>OverallQual</th>\n",
       "      <th>OverallCond</th>\n",
       "      <th>YearBuilt</th>\n",
       "      <th>MasVnrArea</th>\n",
       "      <th>BsmtFinSF1</th>\n",
       "      <th>BsmtFinSF2</th>\n",
       "      <th>BsmtUnfSF</th>\n",
       "      <th>...</th>\n",
       "      <th>WoodDeckSF</th>\n",
       "      <th>OpenPorchSF</th>\n",
       "      <th>EnclosedPorch</th>\n",
       "      <th>ScreenPorch</th>\n",
       "      <th>PoolArea</th>\n",
       "      <th>MiscVal</th>\n",
       "      <th>YrSold</th>\n",
       "      <th>ThreeSsnPorch</th>\n",
       "      <th>FirstFlrSF</th>\n",
       "      <th>SecondFlrSF</th>\n",
       "    </tr>\n",
       "  </thead>\n",
       "  <tbody>\n",
       "    <tr>\n",
       "      <td>count</td>\n",
       "      <td>1451.000000</td>\n",
       "      <td>1451.000000</td>\n",
       "      <td>1451.000000</td>\n",
       "      <td>1451.000000</td>\n",
       "      <td>1451.000000</td>\n",
       "      <td>1451.000000</td>\n",
       "      <td>1451.000000</td>\n",
       "      <td>1451.000000</td>\n",
       "      <td>1451.000000</td>\n",
       "      <td>1451.000000</td>\n",
       "      <td>...</td>\n",
       "      <td>1451.000000</td>\n",
       "      <td>1451.000000</td>\n",
       "      <td>1451.000000</td>\n",
       "      <td>1451.000000</td>\n",
       "      <td>1451.000000</td>\n",
       "      <td>1451.000000</td>\n",
       "      <td>1451.000000</td>\n",
       "      <td>1451.000000</td>\n",
       "      <td>1451.000000</td>\n",
       "      <td>1451.000000</td>\n",
       "    </tr>\n",
       "    <tr>\n",
       "      <td>mean</td>\n",
       "      <td>730.079256</td>\n",
       "      <td>69.833054</td>\n",
       "      <td>10442.747760</td>\n",
       "      <td>6.079256</td>\n",
       "      <td>5.578222</td>\n",
       "      <td>1971.071675</td>\n",
       "      <td>99.972433</td>\n",
       "      <td>437.809097</td>\n",
       "      <td>46.466575</td>\n",
       "      <td>566.076499</td>\n",
       "      <td>...</td>\n",
       "      <td>93.669194</td>\n",
       "      <td>46.455548</td>\n",
       "      <td>22.090283</td>\n",
       "      <td>14.760165</td>\n",
       "      <td>2.393522</td>\n",
       "      <td>43.758787</td>\n",
       "      <td>2007.813921</td>\n",
       "      <td>3.430737</td>\n",
       "      <td>1156.673329</td>\n",
       "      <td>342.745003</td>\n",
       "    </tr>\n",
       "    <tr>\n",
       "      <td>std</td>\n",
       "      <td>422.163067</td>\n",
       "      <td>21.842884</td>\n",
       "      <td>9916.673175</td>\n",
       "      <td>1.362524</td>\n",
       "      <td>1.115370</td>\n",
       "      <td>30.189728</td>\n",
       "      <td>173.498236</td>\n",
       "      <td>447.757832</td>\n",
       "      <td>161.264463</td>\n",
       "      <td>440.565397</td>\n",
       "      <td>...</td>\n",
       "      <td>124.707744</td>\n",
       "      <td>66.345854</td>\n",
       "      <td>61.283981</td>\n",
       "      <td>55.342585</td>\n",
       "      <td>37.599673</td>\n",
       "      <td>497.648467</td>\n",
       "      <td>1.326587</td>\n",
       "      <td>29.406940</td>\n",
       "      <td>379.591002</td>\n",
       "      <td>429.825177</td>\n",
       "    </tr>\n",
       "    <tr>\n",
       "      <td>min</td>\n",
       "      <td>1.000000</td>\n",
       "      <td>21.000000</td>\n",
       "      <td>1300.000000</td>\n",
       "      <td>1.000000</td>\n",
       "      <td>1.000000</td>\n",
       "      <td>1872.000000</td>\n",
       "      <td>0.000000</td>\n",
       "      <td>0.000000</td>\n",
       "      <td>0.000000</td>\n",
       "      <td>0.000000</td>\n",
       "      <td>...</td>\n",
       "      <td>0.000000</td>\n",
       "      <td>0.000000</td>\n",
       "      <td>0.000000</td>\n",
       "      <td>0.000000</td>\n",
       "      <td>0.000000</td>\n",
       "      <td>0.000000</td>\n",
       "      <td>2006.000000</td>\n",
       "      <td>0.000000</td>\n",
       "      <td>334.000000</td>\n",
       "      <td>0.000000</td>\n",
       "    </tr>\n",
       "    <tr>\n",
       "      <td>25%</td>\n",
       "      <td>364.500000</td>\n",
       "      <td>60.000000</td>\n",
       "      <td>7517.500000</td>\n",
       "      <td>5.000000</td>\n",
       "      <td>5.000000</td>\n",
       "      <td>1954.000000</td>\n",
       "      <td>0.000000</td>\n",
       "      <td>0.000000</td>\n",
       "      <td>0.000000</td>\n",
       "      <td>222.000000</td>\n",
       "      <td>...</td>\n",
       "      <td>0.000000</td>\n",
       "      <td>0.000000</td>\n",
       "      <td>0.000000</td>\n",
       "      <td>0.000000</td>\n",
       "      <td>0.000000</td>\n",
       "      <td>0.000000</td>\n",
       "      <td>2007.000000</td>\n",
       "      <td>0.000000</td>\n",
       "      <td>882.000000</td>\n",
       "      <td>0.000000</td>\n",
       "    </tr>\n",
       "    <tr>\n",
       "      <td>50%</td>\n",
       "      <td>729.000000</td>\n",
       "      <td>69.833054</td>\n",
       "      <td>9452.000000</td>\n",
       "      <td>6.000000</td>\n",
       "      <td>5.000000</td>\n",
       "      <td>1972.000000</td>\n",
       "      <td>0.000000</td>\n",
       "      <td>381.000000</td>\n",
       "      <td>0.000000</td>\n",
       "      <td>476.000000</td>\n",
       "      <td>...</td>\n",
       "      <td>0.000000</td>\n",
       "      <td>24.000000</td>\n",
       "      <td>0.000000</td>\n",
       "      <td>0.000000</td>\n",
       "      <td>0.000000</td>\n",
       "      <td>0.000000</td>\n",
       "      <td>2008.000000</td>\n",
       "      <td>0.000000</td>\n",
       "      <td>1085.000000</td>\n",
       "      <td>0.000000</td>\n",
       "    </tr>\n",
       "    <tr>\n",
       "      <td>75%</td>\n",
       "      <td>1095.500000</td>\n",
       "      <td>78.500000</td>\n",
       "      <td>11506.000000</td>\n",
       "      <td>7.000000</td>\n",
       "      <td>6.000000</td>\n",
       "      <td>2000.000000</td>\n",
       "      <td>160.500000</td>\n",
       "      <td>705.500000</td>\n",
       "      <td>0.000000</td>\n",
       "      <td>808.000000</td>\n",
       "      <td>...</td>\n",
       "      <td>168.000000</td>\n",
       "      <td>68.000000</td>\n",
       "      <td>0.000000</td>\n",
       "      <td>0.000000</td>\n",
       "      <td>0.000000</td>\n",
       "      <td>0.000000</td>\n",
       "      <td>2009.000000</td>\n",
       "      <td>0.000000</td>\n",
       "      <td>1382.500000</td>\n",
       "      <td>728.000000</td>\n",
       "    </tr>\n",
       "    <tr>\n",
       "      <td>max</td>\n",
       "      <td>1460.000000</td>\n",
       "      <td>313.000000</td>\n",
       "      <td>215245.000000</td>\n",
       "      <td>10.000000</td>\n",
       "      <td>9.000000</td>\n",
       "      <td>2010.000000</td>\n",
       "      <td>1600.000000</td>\n",
       "      <td>5644.000000</td>\n",
       "      <td>1474.000000</td>\n",
       "      <td>2336.000000</td>\n",
       "      <td>...</td>\n",
       "      <td>857.000000</td>\n",
       "      <td>547.000000</td>\n",
       "      <td>552.000000</td>\n",
       "      <td>480.000000</td>\n",
       "      <td>738.000000</td>\n",
       "      <td>15500.000000</td>\n",
       "      <td>2010.000000</td>\n",
       "      <td>508.000000</td>\n",
       "      <td>4692.000000</td>\n",
       "      <td>1818.000000</td>\n",
       "    </tr>\n",
       "  </tbody>\n",
       "</table>\n",
       "<p>8 rows × 23 columns</p>\n",
       "</div>"
      ],
      "text/plain": [
       "                Id  LotFrontage        LotArea  OverallQual  OverallCond  \\\n",
       "count  1451.000000  1451.000000    1451.000000  1451.000000  1451.000000   \n",
       "mean    730.079256    69.833054   10442.747760     6.079256     5.578222   \n",
       "std     422.163067    21.842884    9916.673175     1.362524     1.115370   \n",
       "min       1.000000    21.000000    1300.000000     1.000000     1.000000   \n",
       "25%     364.500000    60.000000    7517.500000     5.000000     5.000000   \n",
       "50%     729.000000    69.833054    9452.000000     6.000000     5.000000   \n",
       "75%    1095.500000    78.500000   11506.000000     7.000000     6.000000   \n",
       "max    1460.000000   313.000000  215245.000000    10.000000     9.000000   \n",
       "\n",
       "         YearBuilt   MasVnrArea   BsmtFinSF1   BsmtFinSF2    BsmtUnfSF  ...  \\\n",
       "count  1451.000000  1451.000000  1451.000000  1451.000000  1451.000000  ...   \n",
       "mean   1971.071675    99.972433   437.809097    46.466575   566.076499  ...   \n",
       "std      30.189728   173.498236   447.757832   161.264463   440.565397  ...   \n",
       "min    1872.000000     0.000000     0.000000     0.000000     0.000000  ...   \n",
       "25%    1954.000000     0.000000     0.000000     0.000000   222.000000  ...   \n",
       "50%    1972.000000     0.000000   381.000000     0.000000   476.000000  ...   \n",
       "75%    2000.000000   160.500000   705.500000     0.000000   808.000000  ...   \n",
       "max    2010.000000  1600.000000  5644.000000  1474.000000  2336.000000  ...   \n",
       "\n",
       "        WoodDeckSF  OpenPorchSF  EnclosedPorch  ScreenPorch     PoolArea  \\\n",
       "count  1451.000000  1451.000000    1451.000000  1451.000000  1451.000000   \n",
       "mean     93.669194    46.455548      22.090283    14.760165     2.393522   \n",
       "std     124.707744    66.345854      61.283981    55.342585    37.599673   \n",
       "min       0.000000     0.000000       0.000000     0.000000     0.000000   \n",
       "25%       0.000000     0.000000       0.000000     0.000000     0.000000   \n",
       "50%       0.000000    24.000000       0.000000     0.000000     0.000000   \n",
       "75%     168.000000    68.000000       0.000000     0.000000     0.000000   \n",
       "max     857.000000   547.000000     552.000000   480.000000   738.000000   \n",
       "\n",
       "            MiscVal       YrSold  ThreeSsnPorch   FirstFlrSF  SecondFlrSF  \n",
       "count   1451.000000  1451.000000    1451.000000  1451.000000  1451.000000  \n",
       "mean      43.758787  2007.813921       3.430737  1156.673329   342.745003  \n",
       "std      497.648467     1.326587      29.406940   379.591002   429.825177  \n",
       "min        0.000000  2006.000000       0.000000   334.000000     0.000000  \n",
       "25%        0.000000  2007.000000       0.000000   882.000000     0.000000  \n",
       "50%        0.000000  2008.000000       0.000000  1085.000000     0.000000  \n",
       "75%        0.000000  2009.000000       0.000000  1382.500000   728.000000  \n",
       "max    15500.000000  2010.000000     508.000000  4692.000000  1818.000000  \n",
       "\n",
       "[8 rows x 23 columns]"
      ]
     },
     "execution_count": 1105,
     "metadata": {},
     "output_type": "execute_result"
    }
   ],
   "source": [
    "traindf.describe()"
   ]
  },
  {
   "cell_type": "code",
   "execution_count": 1106,
   "metadata": {},
   "outputs": [
    {
     "data": {
      "text/plain": [
       "Id                  1.0\n",
       "LotFrontage        21.0\n",
       "LotArea          1300.0\n",
       "OverallQual         1.0\n",
       "OverallCond         1.0\n",
       "YearBuilt        1872.0\n",
       "MasVnrArea          0.0\n",
       "BsmtFinSF1          0.0\n",
       "BsmtFinSF2          0.0\n",
       "BsmtUnfSF           0.0\n",
       "LowQualFinSF        0.0\n",
       "GrLivArea         334.0\n",
       "GarageArea          0.0\n",
       "WoodDeckSF          0.0\n",
       "OpenPorchSF         0.0\n",
       "EnclosedPorch       0.0\n",
       "ScreenPorch         0.0\n",
       "PoolArea            0.0\n",
       "MiscVal             0.0\n",
       "YrSold           2006.0\n",
       "ThreeSsnPorch       0.0\n",
       "FirstFlrSF        334.0\n",
       "SecondFlrSF         0.0\n",
       "dtype: float64"
      ]
     },
     "execution_count": 1106,
     "metadata": {},
     "output_type": "execute_result"
    }
   ],
   "source": [
    "#traindf = traindf + 1\n",
    "traindf.min()"
   ]
  },
  {
   "cell_type": "code",
   "execution_count": 1107,
   "metadata": {},
   "outputs": [
    {
     "name": "stdout",
     "output_type": "stream",
     "text": [
      "traindf['LotArea'] = stats.boxcox(traindf['LotArea'])[0]\n",
      "1300 LotArea\n",
      "traindf['OverallCond'] = stats.boxcox(traindf['OverallCond'])[0]\n",
      "1 OverallCond\n",
      "traindf['YearBuilt'] = stats.boxcox(traindf['YearBuilt'])[0]\n",
      "1872 YearBuilt\n",
      "traindf['MasVnrArea'] = stats.boxcox(traindf['MasVnrArea'])[0]\n",
      "0.0 MasVnrArea\n",
      "traindf['BsmtFinSF1'] = stats.boxcox(traindf['BsmtFinSF1'])[0]\n",
      "0 BsmtFinSF1\n",
      "traindf['BsmtFinSF2'] = stats.boxcox(traindf['BsmtFinSF2'])[0]\n",
      "0 BsmtFinSF2\n",
      "traindf['BsmtUnfSF'] = stats.boxcox(traindf['BsmtUnfSF'])[0]\n",
      "0 BsmtUnfSF\n",
      "traindf['WoodDeckSF'] = stats.boxcox(traindf['WoodDeckSF'])[0]\n",
      "0 WoodDeckSF\n",
      "traindf['OpenPorchSF'] = stats.boxcox(traindf['OpenPorchSF'])[0]\n",
      "0 OpenPorchSF\n",
      "traindf['EnclosedPorch'] = stats.boxcox(traindf['EnclosedPorch'])[0]\n",
      "0 EnclosedPorch\n",
      "traindf['ScreenPorch'] = stats.boxcox(traindf['ScreenPorch'])[0]\n",
      "0 ScreenPorch\n",
      "traindf['PoolArea'] = stats.boxcox(traindf['PoolArea'])[0]\n",
      "0 PoolArea\n",
      "traindf['MiscVal'] = stats.boxcox(traindf['MiscVal'])[0]\n",
      "0 MiscVal\n",
      "traindf['YrSold'] = stats.boxcox(traindf['YrSold'])[0]\n",
      "2006 YrSold\n",
      "traindf['ThreeSsnPorch'] = stats.boxcox(traindf['ThreeSsnPorch'])[0]\n",
      "0 ThreeSsnPorch\n",
      "traindf['FirstFlrSF'] = stats.boxcox(traindf['FirstFlrSF'])[0]\n",
      "334 FirstFlrSF\n",
      "traindf['SecondFlrSF'] = stats.boxcox(traindf['SecondFlrSF'])[0]\n",
      "0 SecondFlrSF\n"
     ]
    }
   ],
   "source": [
    "import scipy.stats\n",
    "low_vals = []\n",
    "box = ['LotArea', 'OverallCond', 'YearBuilt', 'MasVnrArea', 'BsmtFinSF1', 'BsmtFinSF2', 'BsmtUnfSF', 'WoodDeckSF', 'OpenPorchSF', 'EnclosedPorch', 'ScreenPorch', 'PoolArea', 'MiscVal', 'YrSold', 'ThreeSsnPorch', 'FirstFlrSF', 'SecondFlrSF']\n",
    "box1 = 'OverallCond'\n",
    "for ox in box:\n",
    "    print(f\"traindf['{ox}'] = stats.boxcox(traindf['{ox}'])[0]\")\n",
    "    print(traindf[f'{ox}'].min(), ox)"
   ]
  },
  {
   "cell_type": "code",
   "execution_count": 1108,
   "metadata": {},
   "outputs": [],
   "source": [
    "#traindf['LotArea'] = stats.boxcox(traindf['LotArea'])[0]\n",
    "#traindf['YearBuilt'] = stats.boxcox(traindf['YearBuilt'])[0]\n",
    "#traindf['OverallCond'] = stats.boxcox(traindf['OverallCond'])[0]\n",
    "#traindf['MasVnrArea'] = stats.boxcox(traindf['MasVnrArea'])[0]\n",
    "#traindf['BsmtFinSF1'] = stats.boxcox(traindf['BsmtFinSF1'])[0]\n",
    "#traindf['BsmtFinSF2'] = stats.boxcox(traindf['BsmtFinSF2'])[0]\n",
    "#traindf['BsmtUnfSF'] = stats.boxcox(traindf['BsmtUnfSF'])[0]\n",
    "#traindf['WoodDeckSF'] = stats.boxcox(traindf['WoodDeckSF'])[0]\n",
    "#traindf['OpenPorchSF'] = stats.boxcox(traindf['OpenPorchSF'])[0]\n",
    "#traindf['EnclosedPorch'] = stats.boxcox(traindf['EnclosedPorch'])[0]\n",
    "#traindf['ScreenPorch'] = stats.boxcox(traindf['ScreenPorch'])[0]\n",
    "#traindf['PoolArea'] = stats.boxcox(traindf['PoolArea'])[0]\n",
    "#traindf['MiscVal'] = stats.boxcox(traindf['MiscVal'])[0]\n",
    "#traindf['YrSold'] = stats.boxcox(traindf['YrSold'])[0]\n",
    "#traindf['ThreeSsnPorch'] =x stats.boxcox(traindf['ThreeSsnPorch'])[0]\n",
    "#traindf['FirstFlrSF'] = stats.boxcox(traindf['FirstFlrSF'])[0]\n",
    "#traindf['SecondFlrSF'] = stats.boxcox(traindf['SecondFlrSF'])[0]"
   ]
  },
  {
   "cell_type": "code",
   "execution_count": 1109,
   "metadata": {},
   "outputs": [],
   "source": [
    "#x = traindf['MasVnrArea'].replace(0, 'nan')\n",
    "#l = stats.boxcox(x.dropna())[1]\n"
   ]
  },
  {
   "cell_type": "code",
   "execution_count": 1110,
   "metadata": {},
   "outputs": [
    {
     "data": {
      "text/html": [
       "<div>\n",
       "<style scoped>\n",
       "    .dataframe tbody tr th:only-of-type {\n",
       "        vertical-align: middle;\n",
       "    }\n",
       "\n",
       "    .dataframe tbody tr th {\n",
       "        vertical-align: top;\n",
       "    }\n",
       "\n",
       "    .dataframe thead th {\n",
       "        text-align: right;\n",
       "    }\n",
       "</style>\n",
       "<table border=\"1\" class=\"dataframe\">\n",
       "  <thead>\n",
       "    <tr style=\"text-align: right;\">\n",
       "      <th></th>\n",
       "      <th>Id</th>\n",
       "      <th>LotFrontage</th>\n",
       "      <th>LotArea</th>\n",
       "      <th>OverallQual</th>\n",
       "      <th>OverallCond</th>\n",
       "      <th>YearBuilt</th>\n",
       "      <th>MasVnrArea</th>\n",
       "      <th>BsmtFinSF1</th>\n",
       "      <th>BsmtFinSF2</th>\n",
       "      <th>BsmtUnfSF</th>\n",
       "      <th>...</th>\n",
       "      <th>WoodDeckSF</th>\n",
       "      <th>OpenPorchSF</th>\n",
       "      <th>EnclosedPorch</th>\n",
       "      <th>ScreenPorch</th>\n",
       "      <th>PoolArea</th>\n",
       "      <th>MiscVal</th>\n",
       "      <th>YrSold</th>\n",
       "      <th>ThreeSsnPorch</th>\n",
       "      <th>FirstFlrSF</th>\n",
       "      <th>SecondFlrSF</th>\n",
       "    </tr>\n",
       "  </thead>\n",
       "  <tbody>\n",
       "    <tr>\n",
       "      <td>count</td>\n",
       "      <td>1451.000000</td>\n",
       "      <td>1451.000000</td>\n",
       "      <td>1451.000000</td>\n",
       "      <td>1451.000000</td>\n",
       "      <td>1451.000000</td>\n",
       "      <td>1451.000000</td>\n",
       "      <td>1451.000000</td>\n",
       "      <td>1451.000000</td>\n",
       "      <td>1451.000000</td>\n",
       "      <td>1451.000000</td>\n",
       "      <td>...</td>\n",
       "      <td>1451.000000</td>\n",
       "      <td>1451.000000</td>\n",
       "      <td>1451.000000</td>\n",
       "      <td>1451.000000</td>\n",
       "      <td>1451.000000</td>\n",
       "      <td>1451.000000</td>\n",
       "      <td>1451.000000</td>\n",
       "      <td>1451.000000</td>\n",
       "      <td>1451.000000</td>\n",
       "      <td>1451.000000</td>\n",
       "    </tr>\n",
       "    <tr>\n",
       "      <td>mean</td>\n",
       "      <td>730.079256</td>\n",
       "      <td>69.833054</td>\n",
       "      <td>10442.747760</td>\n",
       "      <td>6.079256</td>\n",
       "      <td>5.578222</td>\n",
       "      <td>1971.071675</td>\n",
       "      <td>99.972433</td>\n",
       "      <td>437.809097</td>\n",
       "      <td>46.466575</td>\n",
       "      <td>566.076499</td>\n",
       "      <td>...</td>\n",
       "      <td>93.669194</td>\n",
       "      <td>46.455548</td>\n",
       "      <td>22.090283</td>\n",
       "      <td>14.760165</td>\n",
       "      <td>2.393522</td>\n",
       "      <td>43.758787</td>\n",
       "      <td>2007.813921</td>\n",
       "      <td>3.430737</td>\n",
       "      <td>1156.673329</td>\n",
       "      <td>342.745003</td>\n",
       "    </tr>\n",
       "    <tr>\n",
       "      <td>std</td>\n",
       "      <td>422.163067</td>\n",
       "      <td>21.842884</td>\n",
       "      <td>9916.673175</td>\n",
       "      <td>1.362524</td>\n",
       "      <td>1.115370</td>\n",
       "      <td>30.189728</td>\n",
       "      <td>173.498236</td>\n",
       "      <td>447.757832</td>\n",
       "      <td>161.264463</td>\n",
       "      <td>440.565397</td>\n",
       "      <td>...</td>\n",
       "      <td>124.707744</td>\n",
       "      <td>66.345854</td>\n",
       "      <td>61.283981</td>\n",
       "      <td>55.342585</td>\n",
       "      <td>37.599673</td>\n",
       "      <td>497.648467</td>\n",
       "      <td>1.326587</td>\n",
       "      <td>29.406940</td>\n",
       "      <td>379.591002</td>\n",
       "      <td>429.825177</td>\n",
       "    </tr>\n",
       "    <tr>\n",
       "      <td>min</td>\n",
       "      <td>1.000000</td>\n",
       "      <td>21.000000</td>\n",
       "      <td>1300.000000</td>\n",
       "      <td>1.000000</td>\n",
       "      <td>1.000000</td>\n",
       "      <td>1872.000000</td>\n",
       "      <td>0.000000</td>\n",
       "      <td>0.000000</td>\n",
       "      <td>0.000000</td>\n",
       "      <td>0.000000</td>\n",
       "      <td>...</td>\n",
       "      <td>0.000000</td>\n",
       "      <td>0.000000</td>\n",
       "      <td>0.000000</td>\n",
       "      <td>0.000000</td>\n",
       "      <td>0.000000</td>\n",
       "      <td>0.000000</td>\n",
       "      <td>2006.000000</td>\n",
       "      <td>0.000000</td>\n",
       "      <td>334.000000</td>\n",
       "      <td>0.000000</td>\n",
       "    </tr>\n",
       "    <tr>\n",
       "      <td>25%</td>\n",
       "      <td>364.500000</td>\n",
       "      <td>60.000000</td>\n",
       "      <td>7517.500000</td>\n",
       "      <td>5.000000</td>\n",
       "      <td>5.000000</td>\n",
       "      <td>1954.000000</td>\n",
       "      <td>0.000000</td>\n",
       "      <td>0.000000</td>\n",
       "      <td>0.000000</td>\n",
       "      <td>222.000000</td>\n",
       "      <td>...</td>\n",
       "      <td>0.000000</td>\n",
       "      <td>0.000000</td>\n",
       "      <td>0.000000</td>\n",
       "      <td>0.000000</td>\n",
       "      <td>0.000000</td>\n",
       "      <td>0.000000</td>\n",
       "      <td>2007.000000</td>\n",
       "      <td>0.000000</td>\n",
       "      <td>882.000000</td>\n",
       "      <td>0.000000</td>\n",
       "    </tr>\n",
       "    <tr>\n",
       "      <td>50%</td>\n",
       "      <td>729.000000</td>\n",
       "      <td>69.833054</td>\n",
       "      <td>9452.000000</td>\n",
       "      <td>6.000000</td>\n",
       "      <td>5.000000</td>\n",
       "      <td>1972.000000</td>\n",
       "      <td>0.000000</td>\n",
       "      <td>381.000000</td>\n",
       "      <td>0.000000</td>\n",
       "      <td>476.000000</td>\n",
       "      <td>...</td>\n",
       "      <td>0.000000</td>\n",
       "      <td>24.000000</td>\n",
       "      <td>0.000000</td>\n",
       "      <td>0.000000</td>\n",
       "      <td>0.000000</td>\n",
       "      <td>0.000000</td>\n",
       "      <td>2008.000000</td>\n",
       "      <td>0.000000</td>\n",
       "      <td>1085.000000</td>\n",
       "      <td>0.000000</td>\n",
       "    </tr>\n",
       "    <tr>\n",
       "      <td>75%</td>\n",
       "      <td>1095.500000</td>\n",
       "      <td>78.500000</td>\n",
       "      <td>11506.000000</td>\n",
       "      <td>7.000000</td>\n",
       "      <td>6.000000</td>\n",
       "      <td>2000.000000</td>\n",
       "      <td>160.500000</td>\n",
       "      <td>705.500000</td>\n",
       "      <td>0.000000</td>\n",
       "      <td>808.000000</td>\n",
       "      <td>...</td>\n",
       "      <td>168.000000</td>\n",
       "      <td>68.000000</td>\n",
       "      <td>0.000000</td>\n",
       "      <td>0.000000</td>\n",
       "      <td>0.000000</td>\n",
       "      <td>0.000000</td>\n",
       "      <td>2009.000000</td>\n",
       "      <td>0.000000</td>\n",
       "      <td>1382.500000</td>\n",
       "      <td>728.000000</td>\n",
       "    </tr>\n",
       "    <tr>\n",
       "      <td>max</td>\n",
       "      <td>1460.000000</td>\n",
       "      <td>313.000000</td>\n",
       "      <td>215245.000000</td>\n",
       "      <td>10.000000</td>\n",
       "      <td>9.000000</td>\n",
       "      <td>2010.000000</td>\n",
       "      <td>1600.000000</td>\n",
       "      <td>5644.000000</td>\n",
       "      <td>1474.000000</td>\n",
       "      <td>2336.000000</td>\n",
       "      <td>...</td>\n",
       "      <td>857.000000</td>\n",
       "      <td>547.000000</td>\n",
       "      <td>552.000000</td>\n",
       "      <td>480.000000</td>\n",
       "      <td>738.000000</td>\n",
       "      <td>15500.000000</td>\n",
       "      <td>2010.000000</td>\n",
       "      <td>508.000000</td>\n",
       "      <td>4692.000000</td>\n",
       "      <td>1818.000000</td>\n",
       "    </tr>\n",
       "  </tbody>\n",
       "</table>\n",
       "<p>8 rows × 23 columns</p>\n",
       "</div>"
      ],
      "text/plain": [
       "                Id  LotFrontage        LotArea  OverallQual  OverallCond  \\\n",
       "count  1451.000000  1451.000000    1451.000000  1451.000000  1451.000000   \n",
       "mean    730.079256    69.833054   10442.747760     6.079256     5.578222   \n",
       "std     422.163067    21.842884    9916.673175     1.362524     1.115370   \n",
       "min       1.000000    21.000000    1300.000000     1.000000     1.000000   \n",
       "25%     364.500000    60.000000    7517.500000     5.000000     5.000000   \n",
       "50%     729.000000    69.833054    9452.000000     6.000000     5.000000   \n",
       "75%    1095.500000    78.500000   11506.000000     7.000000     6.000000   \n",
       "max    1460.000000   313.000000  215245.000000    10.000000     9.000000   \n",
       "\n",
       "         YearBuilt   MasVnrArea   BsmtFinSF1   BsmtFinSF2    BsmtUnfSF  ...  \\\n",
       "count  1451.000000  1451.000000  1451.000000  1451.000000  1451.000000  ...   \n",
       "mean   1971.071675    99.972433   437.809097    46.466575   566.076499  ...   \n",
       "std      30.189728   173.498236   447.757832   161.264463   440.565397  ...   \n",
       "min    1872.000000     0.000000     0.000000     0.000000     0.000000  ...   \n",
       "25%    1954.000000     0.000000     0.000000     0.000000   222.000000  ...   \n",
       "50%    1972.000000     0.000000   381.000000     0.000000   476.000000  ...   \n",
       "75%    2000.000000   160.500000   705.500000     0.000000   808.000000  ...   \n",
       "max    2010.000000  1600.000000  5644.000000  1474.000000  2336.000000  ...   \n",
       "\n",
       "        WoodDeckSF  OpenPorchSF  EnclosedPorch  ScreenPorch     PoolArea  \\\n",
       "count  1451.000000  1451.000000    1451.000000  1451.000000  1451.000000   \n",
       "mean     93.669194    46.455548      22.090283    14.760165     2.393522   \n",
       "std     124.707744    66.345854      61.283981    55.342585    37.599673   \n",
       "min       0.000000     0.000000       0.000000     0.000000     0.000000   \n",
       "25%       0.000000     0.000000       0.000000     0.000000     0.000000   \n",
       "50%       0.000000    24.000000       0.000000     0.000000     0.000000   \n",
       "75%     168.000000    68.000000       0.000000     0.000000     0.000000   \n",
       "max     857.000000   547.000000     552.000000   480.000000   738.000000   \n",
       "\n",
       "            MiscVal       YrSold  ThreeSsnPorch   FirstFlrSF  SecondFlrSF  \n",
       "count   1451.000000  1451.000000    1451.000000  1451.000000  1451.000000  \n",
       "mean      43.758787  2007.813921       3.430737  1156.673329   342.745003  \n",
       "std      497.648467     1.326587      29.406940   379.591002   429.825177  \n",
       "min        0.000000  2006.000000       0.000000   334.000000     0.000000  \n",
       "25%        0.000000  2007.000000       0.000000   882.000000     0.000000  \n",
       "50%        0.000000  2008.000000       0.000000  1085.000000     0.000000  \n",
       "75%        0.000000  2009.000000       0.000000  1382.500000   728.000000  \n",
       "max    15500.000000  2010.000000     508.000000  4692.000000  1818.000000  \n",
       "\n",
       "[8 rows x 23 columns]"
      ]
     },
     "execution_count": 1110,
     "metadata": {},
     "output_type": "execute_result"
    }
   ],
   "source": [
    "#traindf['MasVnrArea'] = stats.boxcox(traindf['MasVnrArea'])[0]\n",
    "traindf.describe()"
   ]
  },
  {
   "cell_type": "code",
   "execution_count": 1111,
   "metadata": {},
   "outputs": [],
   "source": [
    "from sklearn.preprocessing import StandardScaler\n",
    "from scipy import stats\n",
    "\n",
    "ss = StandardScaler()\n",
    "\n",
    "traindfss = pd.DataFrame(ss.fit_transform(traindf))\n",
    "traindfss.set_index(traindf.Id, inplace=True)\n",
    "traindfss.columns = traindf_columns \n",
    "# Remove outliers, i.e. data points outside of 2 standard deviations of the mean\n",
    "traindfss = traindfss[(np.abs(stats.zscore(traindfss)) < 2).all(axis=1)]\n",
    "#X_train_numeric.head()"
   ]
  },
  {
   "cell_type": "code",
   "execution_count": 1112,
   "metadata": {},
   "outputs": [],
   "source": [
    "traindfss.drop('Id', axis=1, inplace=True)"
   ]
  },
  {
   "cell_type": "code",
   "execution_count": 1113,
   "metadata": {},
   "outputs": [
    {
     "data": {
      "text/html": [
       "<div>\n",
       "<style scoped>\n",
       "    .dataframe tbody tr th:only-of-type {\n",
       "        vertical-align: middle;\n",
       "    }\n",
       "\n",
       "    .dataframe tbody tr th {\n",
       "        vertical-align: top;\n",
       "    }\n",
       "\n",
       "    .dataframe thead th {\n",
       "        text-align: right;\n",
       "    }\n",
       "</style>\n",
       "<table border=\"1\" class=\"dataframe\">\n",
       "  <thead>\n",
       "    <tr style=\"text-align: right;\">\n",
       "      <th></th>\n",
       "      <th>LotFrontage</th>\n",
       "      <th>LotArea</th>\n",
       "      <th>OverallQual</th>\n",
       "      <th>OverallCond</th>\n",
       "      <th>YearBuilt</th>\n",
       "      <th>MasVnrArea</th>\n",
       "      <th>BsmtFinSF1</th>\n",
       "      <th>BsmtFinSF2</th>\n",
       "      <th>BsmtUnfSF</th>\n",
       "      <th>LowQualFinSF</th>\n",
       "      <th>...</th>\n",
       "      <th>WoodDeckSF</th>\n",
       "      <th>OpenPorchSF</th>\n",
       "      <th>EnclosedPorch</th>\n",
       "      <th>ScreenPorch</th>\n",
       "      <th>PoolArea</th>\n",
       "      <th>MiscVal</th>\n",
       "      <th>YrSold</th>\n",
       "      <th>ThreeSsnPorch</th>\n",
       "      <th>FirstFlrSF</th>\n",
       "      <th>SecondFlrSF</th>\n",
       "    </tr>\n",
       "  </thead>\n",
       "  <tbody>\n",
       "    <tr>\n",
       "      <td>count</td>\n",
       "      <td>672.000000</td>\n",
       "      <td>672.000000</td>\n",
       "      <td>672.000000</td>\n",
       "      <td>672.000000</td>\n",
       "      <td>672.000000</td>\n",
       "      <td>672.000000</td>\n",
       "      <td>672.000000</td>\n",
       "      <td>672.000000</td>\n",
       "      <td>672.000000</td>\n",
       "      <td>672.000000</td>\n",
       "      <td>...</td>\n",
       "      <td>672.000000</td>\n",
       "      <td>672.000000</td>\n",
       "      <td>672.000000</td>\n",
       "      <td>672.000000</td>\n",
       "      <td>6.720000e+02</td>\n",
       "      <td>672.000000</td>\n",
       "      <td>672.000000</td>\n",
       "      <td>672.000000</td>\n",
       "      <td>672.000000</td>\n",
       "      <td>672.000000</td>\n",
       "    </tr>\n",
       "    <tr>\n",
       "      <td>mean</td>\n",
       "      <td>-0.124569</td>\n",
       "      <td>-0.124605</td>\n",
       "      <td>-0.087687</td>\n",
       "      <td>-0.134217</td>\n",
       "      <td>0.181348</td>\n",
       "      <td>-0.204482</td>\n",
       "      <td>-0.018354</td>\n",
       "      <td>-0.225865</td>\n",
       "      <td>-0.074904</td>\n",
       "      <td>-0.114118</td>\n",
       "      <td>...</td>\n",
       "      <td>-0.117884</td>\n",
       "      <td>-0.162851</td>\n",
       "      <td>-0.240393</td>\n",
       "      <td>-0.232422</td>\n",
       "      <td>-6.367999e-02</td>\n",
       "      <td>-0.059622</td>\n",
       "      <td>-0.007805</td>\n",
       "      <td>-0.115540</td>\n",
       "      <td>-0.225447</td>\n",
       "      <td>-0.076375</td>\n",
       "    </tr>\n",
       "    <tr>\n",
       "      <td>std</td>\n",
       "      <td>0.629551</td>\n",
       "      <td>0.348100</td>\n",
       "      <td>0.814539</td>\n",
       "      <td>0.668304</td>\n",
       "      <td>0.878302</td>\n",
       "      <td>0.603612</td>\n",
       "      <td>0.848697</td>\n",
       "      <td>0.293837</td>\n",
       "      <td>0.854089</td>\n",
       "      <td>0.098712</td>\n",
       "      <td>...</td>\n",
       "      <td>0.760738</td>\n",
       "      <td>0.657517</td>\n",
       "      <td>0.441600</td>\n",
       "      <td>0.254647</td>\n",
       "      <td>2.222100e-16</td>\n",
       "      <td>0.173672</td>\n",
       "      <td>1.021811</td>\n",
       "      <td>0.030182</td>\n",
       "      <td>0.705899</td>\n",
       "      <td>0.909292</td>\n",
       "    </tr>\n",
       "    <tr>\n",
       "      <td>min</td>\n",
       "      <td>-1.824246</td>\n",
       "      <td>-0.854285</td>\n",
       "      <td>-1.526558</td>\n",
       "      <td>-1.415464</td>\n",
       "      <td>-1.924221</td>\n",
       "      <td>-0.576415</td>\n",
       "      <td>-0.978118</td>\n",
       "      <td>-0.288238</td>\n",
       "      <td>-1.285329</td>\n",
       "      <td>-0.120619</td>\n",
       "      <td>...</td>\n",
       "      <td>-0.751369</td>\n",
       "      <td>-0.700444</td>\n",
       "      <td>-0.360582</td>\n",
       "      <td>-0.266797</td>\n",
       "      <td>-6.367999e-02</td>\n",
       "      <td>-0.087961</td>\n",
       "      <td>-1.367831</td>\n",
       "      <td>-0.116704</td>\n",
       "      <td>-1.677840</td>\n",
       "      <td>-0.797681</td>\n",
       "    </tr>\n",
       "    <tr>\n",
       "      <td>25%</td>\n",
       "      <td>-0.450327</td>\n",
       "      <td>-0.325145</td>\n",
       "      <td>-0.792373</td>\n",
       "      <td>-0.518592</td>\n",
       "      <td>-0.466269</td>\n",
       "      <td>-0.576415</td>\n",
       "      <td>-0.978118</td>\n",
       "      <td>-0.288238</td>\n",
       "      <td>-0.752308</td>\n",
       "      <td>-0.120619</td>\n",
       "      <td>...</td>\n",
       "      <td>-0.751369</td>\n",
       "      <td>-0.700444</td>\n",
       "      <td>-0.360582</td>\n",
       "      <td>-0.266797</td>\n",
       "      <td>-6.367999e-02</td>\n",
       "      <td>-0.087961</td>\n",
       "      <td>-0.613757</td>\n",
       "      <td>-0.116704</td>\n",
       "      <td>-0.771289</td>\n",
       "      <td>-0.797681</td>\n",
       "    </tr>\n",
       "    <tr>\n",
       "      <td>50%</td>\n",
       "      <td>0.000000</td>\n",
       "      <td>-0.152346</td>\n",
       "      <td>-0.058188</td>\n",
       "      <td>-0.518592</td>\n",
       "      <td>0.213004</td>\n",
       "      <td>-0.576415</td>\n",
       "      <td>0.004895</td>\n",
       "      <td>-0.288238</td>\n",
       "      <td>-0.243127</td>\n",
       "      <td>-0.120619</td>\n",
       "      <td>...</td>\n",
       "      <td>-0.751369</td>\n",
       "      <td>-0.368734</td>\n",
       "      <td>-0.360582</td>\n",
       "      <td>-0.266797</td>\n",
       "      <td>-6.367999e-02</td>\n",
       "      <td>-0.087961</td>\n",
       "      <td>0.140317</td>\n",
       "      <td>-0.116704</td>\n",
       "      <td>-0.308790</td>\n",
       "      <td>-0.797681</td>\n",
       "    </tr>\n",
       "    <tr>\n",
       "      <td>75%</td>\n",
       "      <td>0.236632</td>\n",
       "      <td>0.032381</td>\n",
       "      <td>0.675997</td>\n",
       "      <td>0.378281</td>\n",
       "      <td>1.057954</td>\n",
       "      <td>0.046285</td>\n",
       "      <td>0.595820</td>\n",
       "      <td>-0.288238</td>\n",
       "      <td>0.501060</td>\n",
       "      <td>-0.120619</td>\n",
       "      <td>...</td>\n",
       "      <td>0.443837</td>\n",
       "      <td>0.189142</td>\n",
       "      <td>-0.360582</td>\n",
       "      <td>-0.266797</td>\n",
       "      <td>-6.367999e-02</td>\n",
       "      <td>-0.087961</td>\n",
       "      <td>0.894391</td>\n",
       "      <td>-0.116704</td>\n",
       "      <td>0.242652</td>\n",
       "      <td>0.857633</td>\n",
       "    </tr>\n",
       "    <tr>\n",
       "      <td>max</td>\n",
       "      <td>1.793740</td>\n",
       "      <td>1.968703</td>\n",
       "      <td>1.410181</td>\n",
       "      <td>1.275154</td>\n",
       "      <td>1.256765</td>\n",
       "      <td>1.972040</td>\n",
       "      <td>1.997730</td>\n",
       "      <td>1.957296</td>\n",
       "      <td>1.975242</td>\n",
       "      <td>1.520246</td>\n",
       "      <td>...</td>\n",
       "      <td>1.991989</td>\n",
       "      <td>1.892925</td>\n",
       "      <td>1.989945</td>\n",
       "      <td>1.938413</td>\n",
       "      <td>-6.367999e-02</td>\n",
       "      <td>1.319139</td>\n",
       "      <td>1.648465</td>\n",
       "      <td>0.665694</td>\n",
       "      <td>1.885117</td>\n",
       "      <td>1.981151</td>\n",
       "    </tr>\n",
       "  </tbody>\n",
       "</table>\n",
       "<p>8 rows × 22 columns</p>\n",
       "</div>"
      ],
      "text/plain": [
       "       LotFrontage     LotArea  OverallQual  OverallCond   YearBuilt  \\\n",
       "count   672.000000  672.000000   672.000000   672.000000  672.000000   \n",
       "mean     -0.124569   -0.124605    -0.087687    -0.134217    0.181348   \n",
       "std       0.629551    0.348100     0.814539     0.668304    0.878302   \n",
       "min      -1.824246   -0.854285    -1.526558    -1.415464   -1.924221   \n",
       "25%      -0.450327   -0.325145    -0.792373    -0.518592   -0.466269   \n",
       "50%       0.000000   -0.152346    -0.058188    -0.518592    0.213004   \n",
       "75%       0.236632    0.032381     0.675997     0.378281    1.057954   \n",
       "max       1.793740    1.968703     1.410181     1.275154    1.256765   \n",
       "\n",
       "       MasVnrArea  BsmtFinSF1  BsmtFinSF2   BsmtUnfSF  LowQualFinSF  ...  \\\n",
       "count  672.000000  672.000000  672.000000  672.000000    672.000000  ...   \n",
       "mean    -0.204482   -0.018354   -0.225865   -0.074904     -0.114118  ...   \n",
       "std      0.603612    0.848697    0.293837    0.854089      0.098712  ...   \n",
       "min     -0.576415   -0.978118   -0.288238   -1.285329     -0.120619  ...   \n",
       "25%     -0.576415   -0.978118   -0.288238   -0.752308     -0.120619  ...   \n",
       "50%     -0.576415    0.004895   -0.288238   -0.243127     -0.120619  ...   \n",
       "75%      0.046285    0.595820   -0.288238    0.501060     -0.120619  ...   \n",
       "max      1.972040    1.997730    1.957296    1.975242      1.520246  ...   \n",
       "\n",
       "       WoodDeckSF  OpenPorchSF  EnclosedPorch  ScreenPorch      PoolArea  \\\n",
       "count  672.000000   672.000000     672.000000   672.000000  6.720000e+02   \n",
       "mean    -0.117884    -0.162851      -0.240393    -0.232422 -6.367999e-02   \n",
       "std      0.760738     0.657517       0.441600     0.254647  2.222100e-16   \n",
       "min     -0.751369    -0.700444      -0.360582    -0.266797 -6.367999e-02   \n",
       "25%     -0.751369    -0.700444      -0.360582    -0.266797 -6.367999e-02   \n",
       "50%     -0.751369    -0.368734      -0.360582    -0.266797 -6.367999e-02   \n",
       "75%      0.443837     0.189142      -0.360582    -0.266797 -6.367999e-02   \n",
       "max      1.991989     1.892925       1.989945     1.938413 -6.367999e-02   \n",
       "\n",
       "          MiscVal      YrSold  ThreeSsnPorch  FirstFlrSF  SecondFlrSF  \n",
       "count  672.000000  672.000000     672.000000  672.000000   672.000000  \n",
       "mean    -0.059622   -0.007805      -0.115540   -0.225447    -0.076375  \n",
       "std      0.173672    1.021811       0.030182    0.705899     0.909292  \n",
       "min     -0.087961   -1.367831      -0.116704   -1.677840    -0.797681  \n",
       "25%     -0.087961   -0.613757      -0.116704   -0.771289    -0.797681  \n",
       "50%     -0.087961    0.140317      -0.116704   -0.308790    -0.797681  \n",
       "75%     -0.087961    0.894391      -0.116704    0.242652     0.857633  \n",
       "max      1.319139    1.648465       0.665694    1.885117     1.981151  \n",
       "\n",
       "[8 rows x 22 columns]"
      ]
     },
     "execution_count": 1113,
     "metadata": {},
     "output_type": "execute_result"
    }
   ],
   "source": [
    "traindfss.describe()"
   ]
  },
  {
   "cell_type": "code",
   "execution_count": 1114,
   "metadata": {},
   "outputs": [],
   "source": [
    "#sns.pairplot(traindf)"
   ]
  },
  {
   "cell_type": "markdown",
   "metadata": {},
   "source": [
    "## Getting dummies"
   ]
  },
  {
   "cell_type": "code",
   "execution_count": 1115,
   "metadata": {},
   "outputs": [
    {
     "data": {
      "text/plain": [
       "array(['VinylSd', 'MetalSd', 'Wd Sdng', 'HdBoard', 'BrkFace', 'WdShing',\n",
       "       'CemntBd', 'Plywood', 'AsbShng', 'Stucco', 'BrkComm', 'AsphShn',\n",
       "       'Stone', 'ImStucc', 'CBlock'], dtype=object)"
      ]
     },
     "execution_count": 1115,
     "metadata": {},
     "output_type": "execute_result"
    }
   ],
   "source": [
    "traindf_cat.Exterior1st.unique()"
   ]
  },
  {
   "cell_type": "code",
   "execution_count": 1116,
   "metadata": {},
   "outputs": [],
   "source": [
    "traindf_cat.HouseStyle= traindf_cat.HouseStyle.replace({'1.5Fin': '1.5_Fin', '1.5Unf': '1_5Unf', '2.5Unf':'2_5Unf', '2.5Fin':'2_5Fin'}, value=None)"
   ]
  },
  {
   "cell_type": "code",
   "execution_count": 1117,
   "metadata": {},
   "outputs": [],
   "source": [
    "traindf_cat.Exterior1st= traindf_cat.Exterior1st.replace({'Wd Sdng': 'Wd_Sdng'}, value=None)"
   ]
  },
  {
   "cell_type": "code",
   "execution_count": 1118,
   "metadata": {},
   "outputs": [],
   "source": [
    "traindf_cat.RoofMatl= traindf_cat.RoofMatl.replace({'Tar&Grv': 'TarGrv'}, value=None)"
   ]
  },
  {
   "cell_type": "code",
   "execution_count": 1119,
   "metadata": {},
   "outputs": [],
   "source": [
    "cat_list = list(traindf_cat.columns)[1:]"
   ]
  },
  {
   "cell_type": "code",
   "execution_count": 1120,
   "metadata": {},
   "outputs": [],
   "source": [
    "traindf_cat_bined= pd.get_dummies(traindf_cat, columns=cat_list, drop_first=True)\n",
    "#traindf_cat_bined = traindf_cat_bined.astype('object')\n",
    "#traindf_cat_bined['Id'] = traindf_cat_bined['Id'].astype('int64')"
   ]
  },
  {
   "cell_type": "code",
   "execution_count": 1121,
   "metadata": {},
   "outputs": [
    {
     "name": "stdout",
     "output_type": "stream",
     "text": [
      "<class 'pandas.core.frame.DataFrame'>\n",
      "Int64Index: 1451 entries, 0 to 1459\n",
      "Columns: 191 entries, Id to GarageCars_4\n",
      "dtypes: int64(1), uint8(190)\n",
      "memory usage: 291.9 KB\n"
     ]
    }
   ],
   "source": [
    "traindf_cat_bined.info()"
   ]
  },
  {
   "cell_type": "code",
   "execution_count": 1122,
   "metadata": {},
   "outputs": [],
   "source": [
    "columnfixlist = [traindf_cat_bined.columns[i] for i in range(len(traindf_cat_bined.columns))]\n",
    "#columnfixlist"
   ]
  },
  {
   "cell_type": "code",
   "execution_count": 1123,
   "metadata": {},
   "outputs": [],
   "source": [
    "train_combined = pd.merge(traindf_cat_bined, traindfss, on='Id', left_index=True, right_index=True)"
   ]
  },
  {
   "cell_type": "code",
   "execution_count": 1124,
   "metadata": {},
   "outputs": [],
   "source": [
    "targetdf = targetdf.loc[train_combined.index]"
   ]
  },
  {
   "cell_type": "code",
   "execution_count": 1125,
   "metadata": {},
   "outputs": [
    {
     "data": {
      "text/html": [
       "<div>\n",
       "<style scoped>\n",
       "    .dataframe tbody tr th:only-of-type {\n",
       "        vertical-align: middle;\n",
       "    }\n",
       "\n",
       "    .dataframe tbody tr th {\n",
       "        vertical-align: top;\n",
       "    }\n",
       "\n",
       "    .dataframe thead th {\n",
       "        text-align: right;\n",
       "    }\n",
       "</style>\n",
       "<table border=\"1\" class=\"dataframe\">\n",
       "  <thead>\n",
       "    <tr style=\"text-align: right;\">\n",
       "      <th></th>\n",
       "      <th>Id</th>\n",
       "      <th>SalePrice</th>\n",
       "    </tr>\n",
       "  </thead>\n",
       "  <tbody>\n",
       "    <tr>\n",
       "      <td>0</td>\n",
       "      <td>1</td>\n",
       "      <td>208500</td>\n",
       "    </tr>\n",
       "    <tr>\n",
       "      <td>1</td>\n",
       "      <td>2</td>\n",
       "      <td>181500</td>\n",
       "    </tr>\n",
       "    <tr>\n",
       "      <td>2</td>\n",
       "      <td>3</td>\n",
       "      <td>223500</td>\n",
       "    </tr>\n",
       "    <tr>\n",
       "      <td>3</td>\n",
       "      <td>4</td>\n",
       "      <td>140000</td>\n",
       "    </tr>\n",
       "    <tr>\n",
       "      <td>4</td>\n",
       "      <td>5</td>\n",
       "      <td>250000</td>\n",
       "    </tr>\n",
       "  </tbody>\n",
       "</table>\n",
       "</div>"
      ],
      "text/plain": [
       "   Id  SalePrice\n",
       "0   1     208500\n",
       "1   2     181500\n",
       "2   3     223500\n",
       "3   4     140000\n",
       "4   5     250000"
      ]
     },
     "execution_count": 1125,
     "metadata": {},
     "output_type": "execute_result"
    }
   ],
   "source": [
    "targetdf.head()"
   ]
  },
  {
   "cell_type": "code",
   "execution_count": 1126,
   "metadata": {},
   "outputs": [],
   "source": [
    "train_combined.drop('Id', axis=1, inplace=True)"
   ]
  },
  {
   "cell_type": "code",
   "execution_count": 1127,
   "metadata": {},
   "outputs": [],
   "source": [
    "targetdf.set_index('Id', inplace=True)"
   ]
  },
  {
   "cell_type": "code",
   "execution_count": 1128,
   "metadata": {},
   "outputs": [
    {
     "data": {
      "text/html": [
       "<div>\n",
       "<style scoped>\n",
       "    .dataframe tbody tr th:only-of-type {\n",
       "        vertical-align: middle;\n",
       "    }\n",
       "\n",
       "    .dataframe tbody tr th {\n",
       "        vertical-align: top;\n",
       "    }\n",
       "\n",
       "    .dataframe thead th {\n",
       "        text-align: right;\n",
       "    }\n",
       "</style>\n",
       "<table border=\"1\" class=\"dataframe\">\n",
       "  <thead>\n",
       "    <tr style=\"text-align: right;\">\n",
       "      <th></th>\n",
       "      <th>SalePrice</th>\n",
       "    </tr>\n",
       "    <tr>\n",
       "      <th>Id</th>\n",
       "      <th></th>\n",
       "    </tr>\n",
       "  </thead>\n",
       "  <tbody>\n",
       "    <tr>\n",
       "      <td>1</td>\n",
       "      <td>208500</td>\n",
       "    </tr>\n",
       "    <tr>\n",
       "      <td>2</td>\n",
       "      <td>181500</td>\n",
       "    </tr>\n",
       "    <tr>\n",
       "      <td>3</td>\n",
       "      <td>223500</td>\n",
       "    </tr>\n",
       "    <tr>\n",
       "      <td>4</td>\n",
       "      <td>140000</td>\n",
       "    </tr>\n",
       "    <tr>\n",
       "      <td>5</td>\n",
       "      <td>250000</td>\n",
       "    </tr>\n",
       "  </tbody>\n",
       "</table>\n",
       "</div>"
      ],
      "text/plain": [
       "    SalePrice\n",
       "Id           \n",
       "1      208500\n",
       "2      181500\n",
       "3      223500\n",
       "4      140000\n",
       "5      250000"
      ]
     },
     "execution_count": 1128,
     "metadata": {},
     "output_type": "execute_result"
    }
   ],
   "source": [
    "targetdf.head()"
   ]
  },
  {
   "cell_type": "markdown",
   "metadata": {},
   "source": [
    "## Testing for colinearity amonst columns"
   ]
  },
  {
   "cell_type": "markdown",
   "metadata": {},
   "source": [
    "### Function for testing for intercorrelation - without looking at pairplots..."
   ]
  },
  {
   "cell_type": "code",
   "execution_count": 1129,
   "metadata": {},
   "outputs": [],
   "source": [
    "def test_colinear(train_combined):\n",
    "    col_names = list(train_combined.columns)\n",
    "    \n",
    "    colinear = []\n",
    "    for ax1 in col_names:\n",
    "        for ax2 in col_names:\n",
    "            try:\n",
    "                if ax1 == ax2:\n",
    "                    break\n",
    "                else:\n",
    "                    if train_combined[f'{ax1}'].corr(train_combined[f'{ax2}']) >= .75:\n",
    "                        colinear.append((ax1,ax2))\n",
    "            except:\n",
    "                continue\n",
    "    return colinear"
   ]
  },
  {
   "cell_type": "markdown",
   "metadata": {},
   "source": [
    "## Attempting to use Linear Regression without ridge, lasso, or elastic net"
   ]
  },
  {
   "cell_type": "code",
   "execution_count": 1130,
   "metadata": {},
   "outputs": [
    {
     "data": {
      "text/plain": [
       "[('Neighborhood_Somerst', 'MSZoning_FV'),\n",
       " ('SaleCondition_Partial', 'SaleType_New'),\n",
       " ('TotRmsAbvGrd_14', 'BedroomAbvGr_8'),\n",
       " ('SecondFlrSF', 'GrLivArea')]"
      ]
     },
     "execution_count": 1130,
     "metadata": {},
     "output_type": "execute_result"
    }
   ],
   "source": [
    "test_colinear(train_combined)"
   ]
  },
  {
   "cell_type": "code",
   "execution_count": 1131,
   "metadata": {},
   "outputs": [
    {
     "name": "stdout",
     "output_type": "stream",
     "text": [
      "['MSZoning_FV', 'SaleType_New', 'TotRmsAbvGrd_14', 'SecondFlrSF']\n"
     ]
    },
    {
     "data": {
      "text/plain": [
       "{'Neighborhood_Somerst': -0.01356157138043124,\n",
       " 'MSZoning_FV': -0.003756395956560909,\n",
       " 'SaleCondition_Partial': -0.015947643918901078,\n",
       " 'SaleType_New': -0.007514006587967392,\n",
       " 'TotRmsAbvGrd_14': -0.018962643089791904,\n",
       " 'BedroomAbvGr_8': -0.018962643089791904,\n",
       " 'SecondFlrSF': 7.745861870765766e-05,\n",
       " 'GrLivArea': 0.006503721161157259}"
      ]
     },
     "execution_count": 1131,
     "metadata": {},
     "output_type": "execute_result"
    }
   ],
   "source": [
    "corr_saleprice = {}\n",
    "least_impact = []\n",
    "\n",
    "for i, k in test_colinear(train_combined):\n",
    "    corr_saleprice[i] = train_combined[f'{i}'].corr(targetdf['SalePrice'])\n",
    "    corr_saleprice[k] = train_combined[f'{k}'].corr(targetdf['SalePrice'])\n",
    "    if abs(corr_saleprice[i]) > abs(corr_saleprice[k]):\n",
    "        least_impact.append(k)\n",
    "    else:\n",
    "        least_impact.append(i)\n",
    "        \n",
    "print(least_impact)\n",
    "corr_saleprice"
   ]
  },
  {
   "cell_type": "code",
   "execution_count": 1132,
   "metadata": {},
   "outputs": [],
   "source": [
    "train_combined.drop(least_impact, axis=1, inplace=True)"
   ]
  },
  {
   "cell_type": "code",
   "execution_count": 1133,
   "metadata": {},
   "outputs": [],
   "source": [
    "from sklearn.model_selection import train_test_split\n",
    "X = train_combined\n",
    "y = targetdf\n",
    "\n",
    "# Train-test split, then \"set aside\" test set\n",
    "X_train, X_test, y_train, y_test = train_test_split(X, y, test_size=.19, random_state=1)"
   ]
  },
  {
   "cell_type": "markdown",
   "metadata": {},
   "source": [
    "### Testing the linear regression ---- Too many features ---- Use Lasso or Elastic Net\n"
   ]
  },
  {
   "cell_type": "code",
   "execution_count": 1134,
   "metadata": {},
   "outputs": [],
   "source": [
    "lr = LinearRegression()\n",
    "lr.fit(X_train, y_train)\n",
    "y_hat = lr.predict(X_test)"
   ]
  },
  {
   "cell_type": "code",
   "execution_count": 1135,
   "metadata": {},
   "outputs": [],
   "source": [
    "y_hatpd = pd.DataFrame(y_hat, columns = ['SalePrice'], index = [i for i in range(len(y_hat))])"
   ]
  },
  {
   "cell_type": "code",
   "execution_count": 1136,
   "metadata": {},
   "outputs": [
    {
     "name": "stdout",
     "output_type": "stream",
     "text": [
      "intercept: [1.05536512e+17]\n",
      "r^2: -9.459792091327058e+21\n",
      "rmse: 7005534080799955.0\n"
     ]
    }
   ],
   "source": [
    "from sklearn.metrics import r2_score, mean_squared_error \n",
    "\n",
    "\n",
    "print(f\"intercept: {lr.intercept_}\")\n",
    "print(f\"r^2: {r2_score(y_test, y_hat)}\")\n",
    "print(f\"rmse: {np.sqrt(mean_squared_error(y_test, y_hat))}\")"
   ]
  },
  {
   "cell_type": "code",
   "execution_count": 1137,
   "metadata": {},
   "outputs": [],
   "source": [
    " ### Previous R^2 values ###\n",
    "\n",
    "\n",
    "### Added Rooms, Car garage, fireplaces and some other continuous/discrete values to the catagorical side of the table... increased features\n",
    "### by approx 30 --- need to check R^2 adj \n",
    "# r^2: 0.898540213574302\n",
    "# rmse: 25772.696681156067\n",
    "\n",
    "### Replaced lot frontage with mean value instead of '0'\n",
    "# r^2: 0.8175929129184736\n",
    "# rmse: 34972.641412123485\n",
    "\n",
    "\n",
    "### Initial R^2 to beat\n",
    "# r^2: 0.6589675323\n",
    "# rmse: 36779.91592177666"
   ]
  },
  {
   "cell_type": "code",
   "execution_count": 1138,
   "metadata": {},
   "outputs": [],
   "source": [
    "import statsmodels.formula.api as sm\n",
    "import statsmodels.tools as smtools\n",
    "#train_combined_string = ''\n",
    "#for i in [train_combined.columns[i] for i in range(len(train_combined.columns))]:\n",
    " #   train_combined_string += i + ' + ' \n",
    "#train_combined_string = train_combined_string[0:-3]\n",
    "\n",
    "\n",
    "#train_combined_withc = smtools.add_constant(train_combined)\n",
    "#sm_formula = (\"SalePrice ~ \" + train_combined_string ) \n",
    "#ols_data = pd.merge(targetdf, train_combined_withc, left_index=True, right_index=True)\n",
    "\n",
    "#results = sm.ols(formula = sm_formula,data = ols_data).fit()"
   ]
  },
  {
   "cell_type": "markdown",
   "metadata": {},
   "source": [
    "# Lasso Regression"
   ]
  },
  {
   "cell_type": "code",
   "execution_count": 1139,
   "metadata": {},
   "outputs": [],
   "source": [
    "import statsmodels.tools.tools as smtools\n",
    "train_combined_withc = smtools.add_constant(train_combined)"
   ]
  },
  {
   "cell_type": "code",
   "execution_count": 1140,
   "metadata": {},
   "outputs": [],
   "source": [
    "from sklearn.model_selection import train_test_split\n",
    "X = train_combined_withc\n",
    "y = targetdf\n",
    "\n",
    "# Train-test split, then \"set aside\" test set\n",
    "X_train, X_test, y_train, y_test = train_test_split(X, y, test_size=.20)"
   ]
  },
  {
   "cell_type": "markdown",
   "metadata": {},
   "source": [
    "### Arbitrary Alpha = .5 Lasso Regression"
   ]
  },
  {
   "cell_type": "code",
   "execution_count": 1149,
   "metadata": {
    "scrolled": false
   },
   "outputs": [
    {
     "name": "stdout",
     "output_type": "stream",
     "text": [
      "R2 on test: 0.7073164817487085,\n",
      "R2 on all: 0.8699084151553511\n"
     ]
    }
   ],
   "source": [
    "Lassoreg = Lasso(alpha= .5, max_iter = 1000000000, normalize = False)\n",
    "Lassoreg.fit(X_train, y_train)\n",
    "L_target_prediction = Lassoreg.predict(X_test)\n",
    "\n",
    "print(f'R2 on test: {Lassoreg.score(X_test, y_test)},\\nR2 on all: {Lassoreg.score(X,y)}')\n"
   ]
  },
  {
   "cell_type": "markdown",
   "metadata": {},
   "source": [
    "The difference in the R2 is not significant enough to warrent overfitting this model decent. \n",
    "\n",
    "Can we optimize alpha?"
   ]
  },
  {
   "cell_type": "markdown",
   "metadata": {},
   "source": [
    "# Optimizing alpha term"
   ]
  },
  {
   "cell_type": "code",
   "execution_count": 1148,
   "metadata": {},
   "outputs": [
    {
     "data": {
      "text/plain": [
       "[(0.5, 0.9020548590711268, 0.7652588271683791),\n",
       " (0.5344827586206896, 0.9020530038659716, 0.7649681912850825),\n",
       " (0.5689655172413793, 0.9020510207190001, 0.7649634325621195),\n",
       " (0.603448275862069, 0.9020489077564836, 0.7652445638923657),\n",
       " (0.6379310344827587, 0.9020466825503889, 0.7649530227725859),\n",
       " (0.6724137931034483, 0.9020443275015855, 0.7649473716408337),\n",
       " (0.7068965517241379, 0.9020418484340779, 0.7649414229160822),\n",
       " (0.7413793103448276, 0.9020392452865286, 0.764935176451147),\n",
       " (0.7758620689655172, 0.9020365180212442, 0.7649286321555797),\n",
       " (0.8103448275862069, 0.9020336665044918, 0.7649217897084772),\n",
       " (0.8448275862068966, 0.9020306906494051, 0.7649146489013968),\n",
       " (0.8793103448275862, 0.902027700019593, 0.7651937361638679),\n",
       " (0.9137931034482758, 0.9020246376278686, 0.7651863966530128),\n",
       " (0.9482758620689655, 0.9020215775632202, 0.7654641512919584),\n",
       " (0.9827586206896551, 0.9020184877255895, 0.7654567549931297),\n",
       " (1.0172413793103448, 0.902015286210322, 0.7654490913659583),\n",
       " (1.0517241379310345, 0.9020119727105524, 0.7654411596758849),\n",
       " (1.0862068965517242, 0.90200854706185, 0.7654329595293033),\n",
       " (1.1206896551724137, 0.9020050942125369, 0.7657086452066891),\n",
       " (1.1551724137931034, 0.9020014573523759, 0.7654159885372498),\n",
       " (1.1896551724137931, 0.9019976404178764, 0.7659736185082485),\n",
       " (1.2241379310344827, 0.9019938146031873, 0.7656816773257076),\n",
       " (1.2586206896551724, 0.9019898231245416, 0.7656721342894445),\n",
       " (1.293103448275862, 0.9019857174207763, 0.7656623181577811),\n",
       " (1.3275862068965516, 0.901981548020523, 0.765935190397556),\n",
       " (1.3620689655172413, 0.9019773984449939, 0.7659252813489378),\n",
       " (1.396551724137931, 0.9019731364205799, 0.7659151037761149),\n",
       " (1.4310344827586206, 0.9019687625062262, 0.7659046590138305),\n",
       " (1.4655172413793103, 0.9019642749317227, 0.7658939428348814),\n",
       " (1.5, 0.9019596738811627, 0.7658829556788761)]"
      ]
     },
     "execution_count": 1148,
     "metadata": {},
     "output_type": "execute_result"
    },
    {
     "data": {
      "image/png": "[encoded data removed]",
      "text/plain": [
       "<Figure size 432x288 with 1 Axes>"
      ]
     },
     "metadata": {
      "needs_background": "light"
     },
     "output_type": "display_data"
    }
   ],
   "source": [
    "from sklearn.linear_model import Lasso #### try alphas; check adj R^2\n",
    "a = .05\n",
    "results = []\n",
    "\n",
    "for a in np.linspace(.5, 1.5, num=30):\n",
    "    Lassoreg = Lasso(alpha= a, max_iter = 1000000000, normalize = False)\n",
    "    Lassoreg.fit(X, y)\n",
    "    L_target_prediction = Lassoreg.predict(X_test)\n",
    "    lassCoef = Lassoreg.coef_\n",
    "    \n",
    "    count = 0\n",
    "    \n",
    "    for i in Lassoreg.coef_: ### If the coef is significantly small the term is considered removed\n",
    "        if abs(i) < .01:\n",
    "            count += 1       ### Here is the numver of terms removed\n",
    "    \n",
    "    R2 = Lassoreg.score(X, y)\n",
    "    n = len(X)\n",
    "    k = len(X.columns) - count     ### here the original number of terms is subtracted by the insignificant terms\n",
    "    adjR2 = R2 - ((n - 1)/(n - k)) * (1 - R2)\n",
    "    \n",
    "    results.append((a, R2, adjR2))\n",
    "\n",
    "    plt.scatter(x=a, y = adjR2, c='b')\n",
    "    plt.scatter(x=a, y = R2, c='r')\n",
    "    plt.xlabel('Alpha')\n",
    "    plt.ylabel('R2')\n",
    "    plt.title('Optimizing Alpha for Lasso Regression')\n",
    "results   \n",
    "    #print(f'Adjusted R2: {adjR2}')"
   ]
  },
  {
   "cell_type": "markdown",
   "metadata": {},
   "source": [
    "# Final model - Incorperating all the data for the best model"
   ]
  },
  {
   "cell_type": "code",
   "execution_count": 1147,
   "metadata": {},
   "outputs": [
    {
     "name": "stdout",
     "output_type": "stream",
     "text": [
      "rmse: 24016.52425600875\n",
      "saleprice mean: 181333.4343283582\n",
      "Adjusted R2: 0.765931653457979\n",
      "R2: 0.9019800668694578\n"
     ]
    }
   ],
   "source": [
    "Lassoreg = Lasso(alpha= 1.34, max_iter = 1000000000, normalize = False)\n",
    "Lassoreg.fit(X, y)\n",
    "L_target_prediction = Lassoreg.predict(X)\n",
    "lassCoef = Lassoreg.coef_\n",
    "\n",
    "count = 0\n",
    "for i in Lassoreg.coef_:\n",
    "    if abs(i) < .01:\n",
    "        count += 1\n",
    "    \n",
    "R2 = Lassoreg.score(X, y)\n",
    "n = len(X)\n",
    "k = len(X.columns) - count\n",
    "adjR2 = R2 - ((n - 1)/(n - k)) * (1 - R2)\n",
    "rmse = (mean_squared_error(y, L_target_prediction))**.5\n",
    "\n",
    "print(f'rmse: {rmse}')\n",
    "print(f'saleprice mean: {y.SalePrice.mean()}')\n",
    "print(f'Adjusted R2: {adjR2}') \n",
    "print(f'R2: {Lassoreg.score(X, y)}')"
   ]
  },
  {
   "cell_type": "code",
   "execution_count": 1150,
   "metadata": {
    "scrolled": false
   },
   "outputs": [
    {
     "name": "stdout",
     "output_type": "stream",
     "text": [
      "-176086.71690171296, Condition2_PosN\n",
      "-103857.34208554999, BedroomAbvGr_6\n",
      "-66331.65914943878, BedroomAbvGr_5\n",
      "-49863.017628128815, RoofMatl_TarGrv\n",
      "-49554.31972750602, BedroomAbvGr_3\n",
      "-49438.261271508985, Heating_Wall\n",
      "-48719.01151595273, TotRmsAbvGrd_3\n",
      "-46467.62827162921, ThreeSsnPorch\n",
      "-43751.92087164166, BedroomAbvGr_4\n",
      "-39077.43181067899, BedroomAbvGr_2\n",
      "-37347.28465726665, LandSlope_Sev\n",
      "-34866.53875268731, BldgType_Twnhs\n",
      "-32851.6521564563, SaleCondition_Family\n",
      "-32565.412902102285, Foundation_Wood\n",
      "-31766.652818586284, SaleCondition_Alloca\n",
      "-29197.718427090716, TotRmsAbvGrd_4\n",
      "-26906.989071983477, BldgType_TwnhsE\n",
      "-26232.715520697533, Neighborhood_ClearCr\n",
      "-26020.951619164003, Neighborhood_MeadowV\n",
      "-24405.66070404813, Functional_Maj2\n",
      "-23273.96372507643, Neighborhood_Edwards\n",
      "-22969.678975976996, HouseStyle_2_5Fin\n",
      "-21954.903505302627, RoofMatl_CompShg\n",
      "-21642.06892435891, Neighborhood_NAmes\n",
      "-21193.495955833536, Functional_Mod\n",
      "-20887.7728237488, Condition2_RRNn\n",
      "-20638.59210702802, Neighborhood_Gilbert\n",
      "-20376.731290678137, Neighborhood_NWAmes\n",
      "-19590.126870573393, TotRmsAbvGrd_5\n",
      "-19209.61873938266, BedroomAbvGr_1\n",
      "-16810.565417192778, BsmtHalfBath_2\n",
      "-16714.982967180447, HouseStyle_2Story\n",
      "-16327.721933184966, Neighborhood_Sawyer\n",
      "-16238.360090064409, GarageCars_1\n",
      "-16093.91103366102, LotConfig_FR3\n",
      "-16006.15879911807, Neighborhood_OldTown\n",
      "-15524.12052004463, Functional_Sev\n",
      "-14984.298848083576, HouseStyle_SFoyer\n",
      "-14926.071068685957, MasVnrType_None\n",
      "-14658.217533122603, Neighborhood_SWISU\n",
      "-14502.09037958655, Condition2_Feedr\n",
      "-12756.42384599864, Electrical_FuseP\n",
      "-12752.223959687779, Neighborhood_Mitchel\n",
      "-11951.938508794792, SaleType_ConLw\n",
      "-11389.939809878624, GarageType_NoGarage\n",
      "-11373.353639367075, TotRmsAbvGrd_6\n",
      "-11178.43696036117, Neighborhood_CollgCr\n",
      "-10951.179843879307, RoofStyle_Gable\n",
      "-10406.35397507542, MoSold_10\n",
      "-10147.676068268156, MiscVal\n",
      "-9647.37470978611, MasVnrType_Stone\n",
      "-9497.752634605386, LotConfig_FR2\n",
      "-9346.873913008492, MoSold_11\n",
      "-9229.528786835392, MasVnrType_BrkFace\n",
      "-9068.213721636543, Fence_MnWw\n",
      "-9022.632967133679, MoSold_4\n",
      "-9013.873822816648, HouseStyle_1_5Unf\n",
      "-8541.561611962621, Neighborhood_Timber\n",
      "-8197.094247029148, MoSold_2\n",
      "-8062.526629758666, Neighborhood_Crawfor\n",
      "-8045.126728907958, Functional_Min1\n",
      "-7956.127004749694, Heating_GasA\n",
      "-7597.162852392975, Neighborhood_IDOTRR\n",
      "-7001.92985046983, HouseStyle_SLvl\n",
      "-6871.398430201163, Neighborhood_BrkSide\n",
      "-6586.982741714857, Condition2_Norm\n",
      "-6250.053319994441, Electrical_FuseF\n",
      "-6058.646219607667, EnclosedPorch\n",
      "-5896.330699408216, MoSold_7\n",
      "-5757.632604033129, YearBuilt\n",
      "-5666.772596066889, MoSold_6\n",
      "-5491.909676075965, GarageCars_2\n",
      "-5445.057259074291, RoofStyle_Mansard\n",
      "-4821.320517230104, MoSold_9\n",
      "-4656.694348801977, HouseStyle_1Story\n",
      "-4515.698830930541, MoSold_5\n",
      "-3685.1796995063296, Condition1_RRAe\n",
      "-3578.007781022859, Neighborhood_NPkVill\n",
      "-3173.343996449818, YrSold\n",
      "-3166.2681776597674, RoofMatl_WdShake\n",
      "-2472.129021926722, BsmtFinSF2\n",
      "-2026.4136176010443, OpenPorchSF\n",
      "-1923.259743683117, Exterior1st_HdBoard\n",
      "-1918.760301440653, BsmtFinSF1\n",
      "-1515.2837814100083, GarageArea\n",
      "-1361.8808800939817, Foundation_Slab\n",
      "-580.6750772930367, Electrical_SBrkr\n",
      "-574.2338426846171, MasVnrArea\n",
      "-323.96693365722007, GrLivArea\n",
      "-184.29743830133302, KitchenAbvGr_2\n",
      "-162.30379783104087, BsmtUnfSF\n",
      "-69.4439594980495, Foundation_CBlock\n",
      "-2.1609333431824527, LotArea\n",
      "0.0, PoolArea\n",
      "78.5912746862744, RoofMatl_Metal\n",
      "543.8308485233476, LandContour_Lvl\n",
      "617.2939445386902, MoSold_12\n",
      "839.2629899449636, GarageType_CarPort\n",
      "857.6173343724132, LotConfig_Inside\n",
      "1250.9834678747145, OverallCond\n",
      "2027.3739937261391, WoodDeckSF\n",
      "2455.4601621096667, HalfBath_2\n",
      "2630.887131816349, MoSold_3\n",
      "2903.999308795062, Fence_NoFence\n",
      "3450.1987204890047, PavedDrive_P\n",
      "3493.6057140548783, OverallQual\n",
      "3730.8736986347753, RoofStyle_Hip\n",
      "4215.709154663442, LotFrontage\n",
      "4288.5368450828555, RoofStyle_Gambrel\n",
      "4772.19359915926, Neighborhood_SawyerW\n",
      "5197.266365416762, ScreenPorch\n",
      "5352.96297746365, FullBath_1\n",
      "5400.936090722887, Heating_Grav\n",
      "5658.672285058617, Condition1_Feedr\n",
      "5891.926169402894, LandContour_Low\n",
      "6182.512569940303, Exterior1st_Stucco\n",
      "6184.473938787369, Exterior1st_Wd_Sdng\n",
      "6406.0617531898315, Fence_MnPrv\n",
      "6620.310949088013, FirstFlrSF\n",
      "6877.2999738587805, Neighborhood_Veenker\n",
      "6981.209163698977, Functional_Min2\n",
      "7178.1137658132275, Fireplaces_1\n",
      "7274.234316747463, Foundation_PConc\n",
      "7286.448314808245, SaleType_WD\n",
      "7458.582448083601, SaleCondition_Normal\n",
      "8080.826098192916, Neighborhood_Blueste\n",
      "8162.762212259679, BldgType_2fmCon\n",
      "8312.275383357992, GarageType_Detchd\n",
      "8892.775100612378, Fence_GdWo\n",
      "9258.215804622534, Heating_GasW\n",
      "9396.231182451591, Exterior1st_Plywood\n",
      "9756.622362242557, GarageType_BuiltIn\n",
      "9947.075743783987, SaleType_CWD\n",
      "10630.317937554988, Neighborhood_BrDale\n",
      "10640.726522575993, Exterior1st_MetalSd\n",
      "11806.729562132405, Functional_Typ\n",
      "12105.04613991613, BldgType_Duplex\n",
      "12191.04235294209, HalfBath_1\n",
      "12469.20734221609, Exterior1st_WdShing\n",
      "13795.165091114812, TotRmsAbvGrd_8\n",
      "14381.16270023077, Exterior1st_VinylSd\n",
      "14646.759424640135, LandSlope_Mod\n",
      "14791.614258501975, GarageType_Attchd\n",
      "15468.095954719662, Electrical_Mix\n",
      "15519.827869810993, LotConfig_CulDSac\n",
      "16687.075495192443, PavedDrive_Y\n",
      "17431.97001486372, HouseStyle_2_5Unf\n",
      "17772.752310178046, BsmtFullBath_1\n",
      "18854.012541899614, SaleCondition_AdjLand\n",
      "19098.046384212732, MSZoning_RM\n",
      "19386.80883084968, Fireplaces_2\n",
      "21667.625247189964, Street_Pave\n",
      "22322.165171055607, CentralAir_Y\n",
      "22779.021145869294, Condition1_Norm\n",
      "23283.645072188043, Exterior1st_BrkComm\n",
      "24204.265654922827, LandContour_HLS\n",
      "24684.228223060905, GarageCars_4\n",
      "24705.768287081788, Foundation_Stone\n",
      "27581.899288194487, GarageCars_3\n",
      "27860.679445555656, Condition1_RRNe\n",
      "28776.040143678943, MSZoning_RL\n",
      "29963.90642437557, BsmtHalfBath_1\n",
      "30095.401965833425, LowQualFinSF\n",
      "30281.923778366145, Exterior1st_CemntBd\n",
      "30854.1420532326, SaleCondition_Partial\n",
      "31063.39603754592, FullBath_2\n",
      "31232.29837607746, Condition1_PosA\n",
      "32458.327329667936, SaleType_ConLD\n",
      "33061.19877667043, TotRmsAbvGrd_9\n",
      "33165.47333629003, SaleType_ConLI\n",
      "33726.588564825535, MSZoning_RH\n",
      "33894.860804774, Condition1_RRNn\n",
      "36658.968146899635, Condition1_RRAn\n",
      "36935.72352145994, SaleType_Con\n",
      "37045.667176226336, KitchenAbvGr_1\n",
      "37143.38119391014, Neighborhood_NoRidge\n",
      "38277.7928918906, RoofMatl_WdShngl\n",
      "38504.08439174629, Exterior1st_BrkFace\n",
      "38654.33762924272, GarageType_Basment\n",
      "40793.198238812605, Condition1_PosN\n",
      "44016.63964672181, TotRmsAbvGrd_11\n",
      "48260.27714426252, Neighborhood_Somerst\n",
      "50586.83656273304, Neighborhood_NridgHt\n",
      "51637.15757599267, FullBath_3\n",
      "55872.07759752944, Neighborhood_StoneBr\n",
      "56485.913998912, BsmtFullBath_2\n",
      "60205.38455474338, Fireplaces_3\n",
      "63482.238811511066, TotRmsAbvGrd_10\n",
      "99156.44877509543, Condition2_PosA\n",
      "101247.40828312062, RoofMatl_Membran\n"
     ]
    }
   ],
   "source": [
    "coef_col =  {}\n",
    "\n",
    "for i in range(len(Lassoreg.coef_)):\n",
    "    coef_col[Lassoreg.coef_[i]] =  train_combined.columns[i] \n",
    "for key in sorted(coef_col.keys()):\n",
    "    print(f'{key}, {coef_col[key]}')"
   ]
  },
  {
   "cell_type": "markdown",
   "metadata": {},
   "source": [
    "## Confirming Assumptions are upheld"
   ]
  },
  {
   "cell_type": "markdown",
   "metadata": {},
   "source": [
    "### No Collinearity between features"
   ]
  },
  {
   "cell_type": "code",
   "execution_count": 1151,
   "metadata": {},
   "outputs": [
    {
     "data": {
      "text/plain": [
       "[]"
      ]
     },
     "execution_count": 1151,
     "metadata": {},
     "output_type": "execute_result"
    }
   ],
   "source": [
    "test_colinear(train_combined)"
   ]
  },
  {
   "cell_type": "code",
   "execution_count": 1152,
   "metadata": {},
   "outputs": [
    {
     "data": {
      "text/plain": [
       "{}"
      ]
     },
     "execution_count": 1152,
     "metadata": {},
     "output_type": "execute_result"
    }
   ],
   "source": [
    "corr_saleprice = {}\n",
    "for i, k in test_colinear(train_combined):\n",
    "    corr_saleprice[i] = train_combined[f'{i}'].corr(targetdf['SalePrice'])\n",
    "    corr_saleprice[k] = train_combined[f'{k}'].corr(targetdf['SalePrice'])\n",
    "corr_saleprice"
   ]
  },
  {
   "cell_type": "markdown",
   "metadata": {},
   "source": [
    "### Normal distribution of residual: Q-Q plot"
   ]
  },
  {
   "cell_type": "code",
   "execution_count": 1154,
   "metadata": {},
   "outputs": [],
   "source": [
    "residuals = L_target_prediction - y_test.SalePrice"
   ]
  },
  {
   "cell_type": "code",
   "execution_count": 1156,
   "metadata": {},
   "outputs": [
    {
     "data": {
      "image/png": "[encoded data removed]",
      "text/plain": [
       "<Figure size 432x288 with 1 Axes>"
      ]
     },
     "metadata": {
      "needs_background": "light"
     },
     "output_type": "display_data"
    }
   ],
   "source": [
    "from statsmodels.graphics.gofplots import qqplot\n",
    "qqplot(residuals, line='q');\n",
    "plt.title('Q-Q Plot');"
   ]
  },
  {
   "cell_type": "markdown",
   "metadata": {},
   "source": [
    "### Homoscedasticity:"
   ]
  },
  {
   "cell_type": "code",
   "execution_count": 1157,
   "metadata": {},
   "outputs": [
    {
     "data": {
      "image/png": "[encoded data removed]",
      "text/plain": [
       "<Figure size 432x288 with 1 Axes>"
      ]
     },
     "metadata": {
      "needs_background": "light"
     },
     "output_type": "display_data"
    }
   ],
   "source": [
    "plt.scatter(x = L_target_prediction, y = residuals);"
   ]
  },
  {
   "cell_type": "markdown",
   "metadata": {},
   "source": [
    "### No AutoCorrelation"
   ]
  },
  {
   "cell_type": "markdown",
   "metadata": {},
   "source": [
    "#### Durbin-Watson Test"
   ]
  },
  {
   "cell_type": "code",
   "execution_count": 1158,
   "metadata": {},
   "outputs": [
    {
     "data": {
      "text/plain": [
       "2.124269097656479"
      ]
     },
     "execution_count": 1158,
     "metadata": {},
     "output_type": "execute_result"
    }
   ],
   "source": [
    "import statsmodels.stats.stattools as stools\n",
    "stools.durbin_watson(residuals)\n"
   ]
  },
  {
   "cell_type": "markdown",
   "metadata": {},
   "source": [
    "Value is extremely close to 2, by definition a value of 2 means there is no auto correlation."
   ]
  },
  {
   "cell_type": "markdown",
   "metadata": {},
   "source": [
    "### Implementation of XGBoost\n"
   ]
  },
  {
   "cell_type": "code",
   "execution_count": 1159,
   "metadata": {},
   "outputs": [],
   "source": [
    "import xgboost\n",
    "from xgboost import plot_importance\n",
    "from xgboost import XGBRegressor\n",
    "from sklearn.metrics import accuracy_score\n",
    "from sklearn.metrics import mean_squared_error"
   ]
  },
  {
   "cell_type": "code",
   "execution_count": 1160,
   "metadata": {},
   "outputs": [
    {
     "name": "stdout",
     "output_type": "stream",
     "text": [
      "[17:37:34] WARNING: src/objective/regression_obj.cu:152: reg:linear is now deprecated in favor of reg:squarederror.\n",
      "45226.63545012465\n"
     ]
    }
   ],
   "source": [
    "XGBoost = XGBRegressor()\n",
    "XGBoost.fit(X_train, y_train)\n",
    "\n",
    "y_pred = XGBoost.predict(X_test)\n",
    "XGBoost_mse = mean_squared_error(y_test, y_pred)\n",
    "print(np.sqrt(XGBoost_mse))"
   ]
  },
  {
   "cell_type": "code",
   "execution_count": null,
   "metadata": {},
   "outputs": [],
   "source": []
  }
 ],
 "metadata": {
  "kernelspec": {
   "display_name": "Python 3",
   "language": "python",
   "name": "python3"
  },
  "language_info": {
   "codemirror_mode": {
    "name": "ipython",
    "version": 3
   },
   "file_extension": ".py",
   "mimetype": "text/x-python",
   "name": "python",
   "nbconvert_exporter": "python",
   "pygments_lexer": "ipython3",
   "version": "3.7.4"
  }
 },
 "nbformat": 4,
 "nbformat_minor": 4
}
