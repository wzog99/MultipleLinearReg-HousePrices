{
 "cells": [
  {
   "cell_type": "markdown",
   "metadata": {},
   "source": [
    "# <center>Multivariate Linear Regression on House Pricing Data</center>"
   ]
  },
  {
   "cell_type": "markdown",
   "metadata": {},
   "source": [
    "### <center>Source: Kaggle - House Prices: Advanced Regression Techniques\n",
    "## <center>[Kaggle DataSet](https://www.kaggle.com/c/house-prices-advanced-regression-techniques/overview)</center>\n"
   ]
  },
  {
   "cell_type": "code",
   "execution_count": 101,
   "metadata": {},
   "outputs": [],
   "source": [
    "%matplotlib inline\n",
    "import warnings\n",
    "warnings.filterwarnings(action='ignore')\n",
    "import numpy as np\n",
    "import pandas as pd\n",
    "import seaborn as sns\n",
    "import statsmodels.api as sm\n",
    "import statsmodels.formula.api as smf\n",
    "from sklearn.model_selection import train_test_split\n",
    "from sklearn.preprocessing import StandardScaler\n",
    "from scipy import stats\n",
    "from sklearn.preprocessing import LabelBinarizer\n",
    "from sklearn.preprocessing import OneHotEncoder\n",
    "from sklearn.linear_model import LinearRegression\n",
    "from sklearn.metrics import r2_score, mean_squared_error\n",
    "import matplotlib.pyplot as plt\n",
    "from statsmodels.graphics.gofplots import qqplot\n",
    "import seaborn as sns\n",
    "from itertools import combinations\n",
    "from sklearn.preprocessing import PolynomialFeatures\n",
    "from sklearn.linear_model import Ridge\n",
    "from sklearn.linear_model import Lasso\n",
    "from sklearn.linear_model import ElasticNet\n",
    "from sklearn.feature_selection import RFE\n",
    "from numpy.polynomial.polynomial import polyfit\n",
    "from pandas import Series\n",
    "import matplotlib.pylab as plt\n",
    "from statsmodels.compat import lzip"
   ]
  },
  {
   "cell_type": "code",
   "execution_count": 102,
   "metadata": {},
   "outputs": [
    {
     "name": "stdout",
     "output_type": "stream",
     "text": [
      "The autoreload extension is already loaded. To reload it, use:\n",
      "  %reload_ext autoreload\n"
     ]
    }
   ],
   "source": [
    "import pandas as pd\n",
    "import numpy as np\n",
    "import seaborn as sns\n",
    "import pickle\n",
    "import matplotlib.pyplot as plt\n",
    "\n",
    "from sklearn.preprocessing import LabelBinarizer\n",
    "from sklearn.linear_model import LinearRegression\n",
    "\n",
    "\n",
    "%load_ext autoreload\n",
    "%autoreload 2"
   ]
  },
  {
   "cell_type": "markdown",
   "metadata": {},
   "source": [
    "## Data Engineering"
   ]
  },
  {
   "cell_type": "code",
   "execution_count": 103,
   "metadata": {},
   "outputs": [],
   "source": [
    "traindf = pd.read_csv('train.csv')"
   ]
  },
  {
   "cell_type": "code",
   "execution_count": 104,
   "metadata": {},
   "outputs": [
    {
     "data": {
      "text/plain": [
       "1460"
      ]
     },
     "execution_count": 104,
     "metadata": {},
     "output_type": "execute_result"
    }
   ],
   "source": [
    "len(traindf)"
   ]
  },
  {
   "cell_type": "code",
   "execution_count": 105,
   "metadata": {},
   "outputs": [],
   "source": [
    "#traindf.columns"
   ]
  },
  {
   "cell_type": "code",
   "execution_count": 106,
   "metadata": {},
   "outputs": [
    {
     "data": {
      "image/png": "[encoded data removed]",
      "text/plain": [
       "<Figure size 432x288 with 1 Axes>"
      ]
     },
     "metadata": {
      "needs_background": "light"
     },
     "output_type": "display_data"
    }
   ],
   "source": [
    "dates = list(traindf['YrSold'].unique())\n",
    "for i in dates:\n",
    "    data = traindf.loc[traindf['YrSold'] == i]\n",
    "    plt.hist(data['SalePrice'])"
   ]
  },
  {
   "cell_type": "markdown",
   "metadata": {},
   "source": [
    "## Add average mortgage rate data onto the existing data"
   ]
  },
  {
   "cell_type": "code",
   "execution_count": 107,
   "metadata": {},
   "outputs": [],
   "source": [
    "date_dict = {'Jan':'1','Feb':'2','Mar':'3','Apr':'4','May':'5','Jun':'6',\n",
    "                 'Jul':'7','Aug':'8','Sep':'9','Oct':'10','Nov':'11','Dec':'12'}"
   ]
  },
  {
   "cell_type": "code",
   "execution_count": 108,
   "metadata": {},
   "outputs": [],
   "source": [
    "rate_data = open('rate_data.txt', 'r')\n",
    "rate_list = []\n",
    "date_list = []\n",
    "for x in rate_data:\n",
    "    x = x.replace('\\n','')\n",
    "    x = x.replace('\\t',',')\n",
    "    for i in date_dict.keys():\n",
    "        x = x.replace(f'{i}', date_dict[f'{i}'])\n",
    "    x = x.split(',')\n",
    "    rate_list.append(x)\n",
    "rate_list[:5]\n",
    "rate_df = pd.DataFrame(rate_list, columns=['date', 'rate'])"
   ]
  },
  {
   "cell_type": "code",
   "execution_count": 109,
   "metadata": {},
   "outputs": [],
   "source": [
    "date_list = []\n",
    "for i in range(len(traindf)):\n",
    "    date_list.append(str(traindf['MoSold'][i]) +'-' + str(traindf['YrSold'][i]))\n",
    "traindf['date'] = pd.Series(date_list)"
   ]
  },
  {
   "cell_type": "code",
   "execution_count": 110,
   "metadata": {},
   "outputs": [],
   "source": [
    "traindf = pd.merge(traindf, rate_df, how='inner', on='date')"
   ]
  },
  {
   "cell_type": "code",
   "execution_count": 111,
   "metadata": {},
   "outputs": [],
   "source": [
    "traindf['rate'] = traindf['rate'].astype(float)\n",
    "traindf.drop('date', axis=1, inplace=True)"
   ]
  },
  {
   "cell_type": "code",
   "execution_count": 112,
   "metadata": {},
   "outputs": [
    {
     "data": {
      "image/png": "[encoded data removed]",
      "text/plain": [
       "<Figure size 432x288 with 1 Axes>"
      ]
     },
     "metadata": {
      "needs_background": "light"
     },
     "output_type": "display_data"
    }
   ],
   "source": [
    "plt.hist(traindf['SalePrice']);"
   ]
  },
  {
   "cell_type": "code",
   "execution_count": 113,
   "metadata": {},
   "outputs": [
    {
     "data": {
      "image/png": "[encoded data removed]",
      "text/plain": [
       "<Figure size 432x288 with 1 Axes>"
      ]
     },
     "metadata": {
      "needs_background": "light"
     },
     "output_type": "display_data"
    }
   ],
   "source": [
    "traindf = traindf.loc[traindf['SalePrice'] < 500000]\n",
    "plt.hist(traindf['SalePrice']);"
   ]
  },
  {
   "cell_type": "code",
   "execution_count": 114,
   "metadata": {},
   "outputs": [
    {
     "data": {
      "text/html": [
       "<div>\n",
       "<style scoped>\n",
       "    .dataframe tbody tr th:only-of-type {\n",
       "        vertical-align: middle;\n",
       "    }\n",
       "\n",
       "    .dataframe tbody tr th {\n",
       "        vertical-align: top;\n",
       "    }\n",
       "\n",
       "    .dataframe thead th {\n",
       "        text-align: right;\n",
       "    }\n",
       "</style>\n",
       "<table border=\"1\" class=\"dataframe\">\n",
       "  <thead>\n",
       "    <tr style=\"text-align: right;\">\n",
       "      <th></th>\n",
       "      <th>YrSold</th>\n",
       "      <th>new_single_family_homes</th>\n",
       "      <th>new_multi_family buildings</th>\n",
       "      <th>new_multi_family_units</th>\n",
       "    </tr>\n",
       "  </thead>\n",
       "  <tbody>\n",
       "    <tr>\n",
       "      <td>count</td>\n",
       "      <td>11.000000</td>\n",
       "      <td>11.000000</td>\n",
       "      <td>11.000000</td>\n",
       "      <td>11.000000</td>\n",
       "    </tr>\n",
       "    <tr>\n",
       "      <td>mean</td>\n",
       "      <td>2006.000000</td>\n",
       "      <td>142.727273</td>\n",
       "      <td>14.272727</td>\n",
       "      <td>276.000000</td>\n",
       "    </tr>\n",
       "    <tr>\n",
       "      <td>std</td>\n",
       "      <td>3.316625</td>\n",
       "      <td>76.706050</td>\n",
       "      <td>10.130063</td>\n",
       "      <td>188.369318</td>\n",
       "    </tr>\n",
       "    <tr>\n",
       "      <td>min</td>\n",
       "      <td>2001.000000</td>\n",
       "      <td>58.000000</td>\n",
       "      <td>0.000000</td>\n",
       "      <td>0.000000</td>\n",
       "    </tr>\n",
       "    <tr>\n",
       "      <td>25%</td>\n",
       "      <td>2003.500000</td>\n",
       "      <td>65.500000</td>\n",
       "      <td>8.000000</td>\n",
       "      <td>136.500000</td>\n",
       "    </tr>\n",
       "    <tr>\n",
       "      <td>50%</td>\n",
       "      <td>2006.000000</td>\n",
       "      <td>132.000000</td>\n",
       "      <td>13.000000</td>\n",
       "      <td>228.000000</td>\n",
       "    </tr>\n",
       "    <tr>\n",
       "      <td>75%</td>\n",
       "      <td>2008.500000</td>\n",
       "      <td>199.500000</td>\n",
       "      <td>20.000000</td>\n",
       "      <td>384.500000</td>\n",
       "    </tr>\n",
       "    <tr>\n",
       "      <td>max</td>\n",
       "      <td>2011.000000</td>\n",
       "      <td>264.000000</td>\n",
       "      <td>31.000000</td>\n",
       "      <td>573.000000</td>\n",
       "    </tr>\n",
       "  </tbody>\n",
       "</table>\n",
       "</div>"
      ],
      "text/plain": [
       "            YrSold   new_single_family_homes   new_multi_family buildings  \\\n",
       "count    11.000000                 11.000000                    11.000000   \n",
       "mean   2006.000000                142.727273                    14.272727   \n",
       "std       3.316625                 76.706050                    10.130063   \n",
       "min    2001.000000                 58.000000                     0.000000   \n",
       "25%    2003.500000                 65.500000                     8.000000   \n",
       "50%    2006.000000                132.000000                    13.000000   \n",
       "75%    2008.500000                199.500000                    20.000000   \n",
       "max    2011.000000                264.000000                    31.000000   \n",
       "\n",
       "        new_multi_family_units  \n",
       "count                11.000000  \n",
       "mean                276.000000  \n",
       "std                 188.369318  \n",
       "min                   0.000000  \n",
       "25%                 136.500000  \n",
       "50%                 228.000000  \n",
       "75%                 384.500000  \n",
       "max                 573.000000  "
      ]
     },
     "execution_count": 114,
     "metadata": {},
     "output_type": "execute_result"
    }
   ],
   "source": [
    "construction_df = pd.read_csv('New_construction.csv')\n",
    "construction_df['YrSold'] = construction_df['YrSold'].astype(int)\n",
    "construction_df.describe()"
   ]
  },
  {
   "cell_type": "code",
   "execution_count": 115,
   "metadata": {},
   "outputs": [
    {
     "data": {
      "text/html": [
       "<div>\n",
       "<style scoped>\n",
       "    .dataframe tbody tr th:only-of-type {\n",
       "        vertical-align: middle;\n",
       "    }\n",
       "\n",
       "    .dataframe tbody tr th {\n",
       "        vertical-align: top;\n",
       "    }\n",
       "\n",
       "    .dataframe thead th {\n",
       "        text-align: right;\n",
       "    }\n",
       "</style>\n",
       "<table border=\"1\" class=\"dataframe\">\n",
       "  <thead>\n",
       "    <tr style=\"text-align: right;\">\n",
       "      <th></th>\n",
       "      <th>Id</th>\n",
       "      <th>MSSubClass</th>\n",
       "      <th>MSZoning</th>\n",
       "      <th>LotFrontage</th>\n",
       "      <th>LotArea</th>\n",
       "      <th>Street</th>\n",
       "      <th>Alley</th>\n",
       "      <th>LotShape</th>\n",
       "      <th>LandContour</th>\n",
       "      <th>Utilities</th>\n",
       "      <th>...</th>\n",
       "      <th>MiscVal</th>\n",
       "      <th>MoSold</th>\n",
       "      <th>YrSold</th>\n",
       "      <th>SaleType</th>\n",
       "      <th>SaleCondition</th>\n",
       "      <th>SalePrice</th>\n",
       "      <th>rate</th>\n",
       "      <th>new_single_family_homes</th>\n",
       "      <th>new_multi_family buildings</th>\n",
       "      <th>new_multi_family_units</th>\n",
       "    </tr>\n",
       "  </thead>\n",
       "  <tbody>\n",
       "    <tr>\n",
       "      <td>0</td>\n",
       "      <td>1</td>\n",
       "      <td>60</td>\n",
       "      <td>RL</td>\n",
       "      <td>65.0</td>\n",
       "      <td>8450</td>\n",
       "      <td>Pave</td>\n",
       "      <td>NaN</td>\n",
       "      <td>Reg</td>\n",
       "      <td>Lvl</td>\n",
       "      <td>AllPub</td>\n",
       "      <td>...</td>\n",
       "      <td>0</td>\n",
       "      <td>2</td>\n",
       "      <td>2008</td>\n",
       "      <td>WD</td>\n",
       "      <td>Normal</td>\n",
       "      <td>208500</td>\n",
       "      <td>6.409</td>\n",
       "      <td>70</td>\n",
       "      <td>11</td>\n",
       "      <td>201</td>\n",
       "    </tr>\n",
       "    <tr>\n",
       "      <td>1</td>\n",
       "      <td>11</td>\n",
       "      <td>20</td>\n",
       "      <td>RL</td>\n",
       "      <td>70.0</td>\n",
       "      <td>11200</td>\n",
       "      <td>Pave</td>\n",
       "      <td>NaN</td>\n",
       "      <td>Reg</td>\n",
       "      <td>Lvl</td>\n",
       "      <td>AllPub</td>\n",
       "      <td>...</td>\n",
       "      <td>0</td>\n",
       "      <td>2</td>\n",
       "      <td>2008</td>\n",
       "      <td>WD</td>\n",
       "      <td>Normal</td>\n",
       "      <td>129500</td>\n",
       "      <td>6.409</td>\n",
       "      <td>70</td>\n",
       "      <td>11</td>\n",
       "      <td>201</td>\n",
       "    </tr>\n",
       "    <tr>\n",
       "      <td>2</td>\n",
       "      <td>202</td>\n",
       "      <td>20</td>\n",
       "      <td>RL</td>\n",
       "      <td>75.0</td>\n",
       "      <td>10125</td>\n",
       "      <td>Pave</td>\n",
       "      <td>NaN</td>\n",
       "      <td>Reg</td>\n",
       "      <td>Lvl</td>\n",
       "      <td>AllPub</td>\n",
       "      <td>...</td>\n",
       "      <td>0</td>\n",
       "      <td>2</td>\n",
       "      <td>2008</td>\n",
       "      <td>WD</td>\n",
       "      <td>Normal</td>\n",
       "      <td>171500</td>\n",
       "      <td>6.409</td>\n",
       "      <td>70</td>\n",
       "      <td>11</td>\n",
       "      <td>201</td>\n",
       "    </tr>\n",
       "    <tr>\n",
       "      <td>3</td>\n",
       "      <td>269</td>\n",
       "      <td>30</td>\n",
       "      <td>RM</td>\n",
       "      <td>71.0</td>\n",
       "      <td>6900</td>\n",
       "      <td>Pave</td>\n",
       "      <td>NaN</td>\n",
       "      <td>Reg</td>\n",
       "      <td>Lvl</td>\n",
       "      <td>AllPub</td>\n",
       "      <td>...</td>\n",
       "      <td>0</td>\n",
       "      <td>2</td>\n",
       "      <td>2008</td>\n",
       "      <td>WD</td>\n",
       "      <td>Normal</td>\n",
       "      <td>120500</td>\n",
       "      <td>6.409</td>\n",
       "      <td>70</td>\n",
       "      <td>11</td>\n",
       "      <td>201</td>\n",
       "    </tr>\n",
       "    <tr>\n",
       "      <td>4</td>\n",
       "      <td>423</td>\n",
       "      <td>20</td>\n",
       "      <td>RL</td>\n",
       "      <td>100.0</td>\n",
       "      <td>21750</td>\n",
       "      <td>Pave</td>\n",
       "      <td>NaN</td>\n",
       "      <td>Reg</td>\n",
       "      <td>HLS</td>\n",
       "      <td>AllPub</td>\n",
       "      <td>...</td>\n",
       "      <td>0</td>\n",
       "      <td>2</td>\n",
       "      <td>2008</td>\n",
       "      <td>WD</td>\n",
       "      <td>Normal</td>\n",
       "      <td>113000</td>\n",
       "      <td>6.409</td>\n",
       "      <td>70</td>\n",
       "      <td>11</td>\n",
       "      <td>201</td>\n",
       "    </tr>\n",
       "    <tr>\n",
       "      <td>...</td>\n",
       "      <td>...</td>\n",
       "      <td>...</td>\n",
       "      <td>...</td>\n",
       "      <td>...</td>\n",
       "      <td>...</td>\n",
       "      <td>...</td>\n",
       "      <td>...</td>\n",
       "      <td>...</td>\n",
       "      <td>...</td>\n",
       "      <td>...</td>\n",
       "      <td>...</td>\n",
       "      <td>...</td>\n",
       "      <td>...</td>\n",
       "      <td>...</td>\n",
       "      <td>...</td>\n",
       "      <td>...</td>\n",
       "      <td>...</td>\n",
       "      <td>...</td>\n",
       "      <td>...</td>\n",
       "      <td>...</td>\n",
       "      <td>...</td>\n",
       "    </tr>\n",
       "    <tr>\n",
       "      <td>1446</td>\n",
       "      <td>1323</td>\n",
       "      <td>60</td>\n",
       "      <td>RL</td>\n",
       "      <td>107.0</td>\n",
       "      <td>10186</td>\n",
       "      <td>Pave</td>\n",
       "      <td>NaN</td>\n",
       "      <td>IR1</td>\n",
       "      <td>Lvl</td>\n",
       "      <td>AllPub</td>\n",
       "      <td>...</td>\n",
       "      <td>0</td>\n",
       "      <td>6</td>\n",
       "      <td>2010</td>\n",
       "      <td>WD</td>\n",
       "      <td>Normal</td>\n",
       "      <td>190000</td>\n",
       "      <td>5.130</td>\n",
       "      <td>58</td>\n",
       "      <td>3</td>\n",
       "      <td>95</td>\n",
       "    </tr>\n",
       "    <tr>\n",
       "      <td>1447</td>\n",
       "      <td>1359</td>\n",
       "      <td>160</td>\n",
       "      <td>FV</td>\n",
       "      <td>NaN</td>\n",
       "      <td>2117</td>\n",
       "      <td>Pave</td>\n",
       "      <td>NaN</td>\n",
       "      <td>Reg</td>\n",
       "      <td>Lvl</td>\n",
       "      <td>AllPub</td>\n",
       "      <td>...</td>\n",
       "      <td>0</td>\n",
       "      <td>6</td>\n",
       "      <td>2010</td>\n",
       "      <td>WD</td>\n",
       "      <td>Normal</td>\n",
       "      <td>177500</td>\n",
       "      <td>5.130</td>\n",
       "      <td>58</td>\n",
       "      <td>3</td>\n",
       "      <td>95</td>\n",
       "    </tr>\n",
       "    <tr>\n",
       "      <td>1448</td>\n",
       "      <td>1381</td>\n",
       "      <td>30</td>\n",
       "      <td>RL</td>\n",
       "      <td>45.0</td>\n",
       "      <td>8212</td>\n",
       "      <td>Pave</td>\n",
       "      <td>Grvl</td>\n",
       "      <td>Reg</td>\n",
       "      <td>Lvl</td>\n",
       "      <td>AllPub</td>\n",
       "      <td>...</td>\n",
       "      <td>0</td>\n",
       "      <td>6</td>\n",
       "      <td>2010</td>\n",
       "      <td>WD</td>\n",
       "      <td>Normal</td>\n",
       "      <td>58500</td>\n",
       "      <td>5.130</td>\n",
       "      <td>58</td>\n",
       "      <td>3</td>\n",
       "      <td>95</td>\n",
       "    </tr>\n",
       "    <tr>\n",
       "      <td>1449</td>\n",
       "      <td>1397</td>\n",
       "      <td>20</td>\n",
       "      <td>RL</td>\n",
       "      <td>NaN</td>\n",
       "      <td>57200</td>\n",
       "      <td>Pave</td>\n",
       "      <td>NaN</td>\n",
       "      <td>IR1</td>\n",
       "      <td>Bnk</td>\n",
       "      <td>AllPub</td>\n",
       "      <td>...</td>\n",
       "      <td>0</td>\n",
       "      <td>6</td>\n",
       "      <td>2010</td>\n",
       "      <td>WD</td>\n",
       "      <td>Normal</td>\n",
       "      <td>160000</td>\n",
       "      <td>5.130</td>\n",
       "      <td>58</td>\n",
       "      <td>3</td>\n",
       "      <td>95</td>\n",
       "    </tr>\n",
       "    <tr>\n",
       "      <td>1450</td>\n",
       "      <td>1409</td>\n",
       "      <td>70</td>\n",
       "      <td>RM</td>\n",
       "      <td>60.0</td>\n",
       "      <td>7740</td>\n",
       "      <td>Pave</td>\n",
       "      <td>NaN</td>\n",
       "      <td>Reg</td>\n",
       "      <td>Lvl</td>\n",
       "      <td>AllPub</td>\n",
       "      <td>...</td>\n",
       "      <td>0</td>\n",
       "      <td>6</td>\n",
       "      <td>2010</td>\n",
       "      <td>WD</td>\n",
       "      <td>Normal</td>\n",
       "      <td>125500</td>\n",
       "      <td>5.130</td>\n",
       "      <td>58</td>\n",
       "      <td>3</td>\n",
       "      <td>95</td>\n",
       "    </tr>\n",
       "  </tbody>\n",
       "</table>\n",
       "<p>1451 rows × 85 columns</p>\n",
       "</div>"
      ],
      "text/plain": [
       "        Id  MSSubClass MSZoning  LotFrontage  LotArea Street Alley LotShape  \\\n",
       "0        1          60       RL         65.0     8450   Pave   NaN      Reg   \n",
       "1       11          20       RL         70.0    11200   Pave   NaN      Reg   \n",
       "2      202          20       RL         75.0    10125   Pave   NaN      Reg   \n",
       "3      269          30       RM         71.0     6900   Pave   NaN      Reg   \n",
       "4      423          20       RL        100.0    21750   Pave   NaN      Reg   \n",
       "...    ...         ...      ...          ...      ...    ...   ...      ...   \n",
       "1446  1323          60       RL        107.0    10186   Pave   NaN      IR1   \n",
       "1447  1359         160       FV          NaN     2117   Pave   NaN      Reg   \n",
       "1448  1381          30       RL         45.0     8212   Pave  Grvl      Reg   \n",
       "1449  1397          20       RL          NaN    57200   Pave   NaN      IR1   \n",
       "1450  1409          70       RM         60.0     7740   Pave   NaN      Reg   \n",
       "\n",
       "     LandContour Utilities  ... MiscVal MoSold YrSold SaleType SaleCondition  \\\n",
       "0            Lvl    AllPub  ...       0      2   2008       WD        Normal   \n",
       "1            Lvl    AllPub  ...       0      2   2008       WD        Normal   \n",
       "2            Lvl    AllPub  ...       0      2   2008       WD        Normal   \n",
       "3            Lvl    AllPub  ...       0      2   2008       WD        Normal   \n",
       "4            HLS    AllPub  ...       0      2   2008       WD        Normal   \n",
       "...          ...       ...  ...     ...    ...    ...      ...           ...   \n",
       "1446         Lvl    AllPub  ...       0      6   2010       WD        Normal   \n",
       "1447         Lvl    AllPub  ...       0      6   2010       WD        Normal   \n",
       "1448         Lvl    AllPub  ...       0      6   2010       WD        Normal   \n",
       "1449         Bnk    AllPub  ...       0      6   2010       WD        Normal   \n",
       "1450         Lvl    AllPub  ...       0      6   2010       WD        Normal   \n",
       "\n",
       "     SalePrice   rate   new_single_family_homes   new_multi_family buildings  \\\n",
       "0       208500  6.409                        70                           11   \n",
       "1       129500  6.409                        70                           11   \n",
       "2       171500  6.409                        70                           11   \n",
       "3       120500  6.409                        70                           11   \n",
       "4       113000  6.409                        70                           11   \n",
       "...        ...    ...                       ...                          ...   \n",
       "1446    190000  5.130                        58                            3   \n",
       "1447    177500  5.130                        58                            3   \n",
       "1448     58500  5.130                        58                            3   \n",
       "1449    160000  5.130                        58                            3   \n",
       "1450    125500  5.130                        58                            3   \n",
       "\n",
       "       new_multi_family_units  \n",
       "0                         201  \n",
       "1                         201  \n",
       "2                         201  \n",
       "3                         201  \n",
       "4                         201  \n",
       "...                       ...  \n",
       "1446                       95  \n",
       "1447                       95  \n",
       "1448                       95  \n",
       "1449                       95  \n",
       "1450                       95  \n",
       "\n",
       "[1451 rows x 85 columns]"
      ]
     },
     "execution_count": 115,
     "metadata": {},
     "output_type": "execute_result"
    }
   ],
   "source": [
    "traindf = pd.merge(traindf, construction_df)\n",
    "traindf"
   ]
  },
  {
   "cell_type": "markdown",
   "metadata": {},
   "source": [
    "#### Removing data with more than 30% NAN values "
   ]
  },
  {
   "cell_type": "code",
   "execution_count": 116,
   "metadata": {},
   "outputs": [],
   "source": [
    "drop_list = ['Exterior2nd', 'YearRemodAdd', 'LotShape', 'MSSubClass', 'TotalBsmtSF', 'Alley', 'GarageYrBlt', 'PoolQC', 'MiscFeature', 'MiscFeature']"
   ]
  },
  {
   "cell_type": "markdown",
   "metadata": {},
   "source": [
    "#### Moving Sale Price over to targetdf"
   ]
  },
  {
   "cell_type": "code",
   "execution_count": 117,
   "metadata": {},
   "outputs": [],
   "source": [
    "targetdf = traindf[['Id', 'SalePrice']]\n",
    "traindf.drop('SalePrice', axis=1, inplace=True)"
   ]
  },
  {
   "cell_type": "markdown",
   "metadata": {},
   "source": [
    "#### Removing problematic columns"
   ]
  },
  {
   "cell_type": "code",
   "execution_count": 118,
   "metadata": {},
   "outputs": [],
   "source": [
    "traindf = traindf.drop(drop_list, axis=1)"
   ]
  },
  {
   "cell_type": "markdown",
   "metadata": {},
   "source": [
    "#### Seperating the catagorical and numerical data"
   ]
  },
  {
   "cell_type": "code",
   "execution_count": 119,
   "metadata": {},
   "outputs": [],
   "source": [
    "traindf_cat = traindf[['Id', 'MSZoning']].copy()\n",
    "traindf.drop('MSZoning', axis=1, inplace=True)"
   ]
  },
  {
   "cell_type": "code",
   "execution_count": 120,
   "metadata": {},
   "outputs": [],
   "source": [
    "lotfront = traindf.LotFrontage.mean()"
   ]
  },
  {
   "cell_type": "markdown",
   "metadata": {},
   "source": [
    "### Replacing NA values with the mean value for the column"
   ]
  },
  {
   "cell_type": "code",
   "execution_count": 121,
   "metadata": {},
   "outputs": [],
   "source": [
    "traindf.LotFrontage.fillna(value=lotfront, inplace=True)"
   ]
  },
  {
   "cell_type": "code",
   "execution_count": 122,
   "metadata": {},
   "outputs": [],
   "source": [
    "traindf_cat.FireplaceQu = traindf.FireplaceQu\n",
    "traindf_cat.FireplaceQu.fillna(value='None', inplace=True)\n",
    "traindf.drop('FireplaceQu', axis = 1, inplace=True)"
   ]
  },
  {
   "cell_type": "code",
   "execution_count": 123,
   "metadata": {},
   "outputs": [],
   "source": [
    "traindf_cat['Street'] = traindf.Street\n",
    "traindf.drop('Street', axis=1, inplace=True)"
   ]
  },
  {
   "cell_type": "code",
   "execution_count": 124,
   "metadata": {},
   "outputs": [],
   "source": [
    "traindf_cat['LandContour'] = traindf.LandContour\n",
    "traindf.drop('LandContour', axis=1, inplace=True)"
   ]
  },
  {
   "cell_type": "code",
   "execution_count": 125,
   "metadata": {},
   "outputs": [],
   "source": [
    "traindf_cat['Utilities'] = traindf.Utilities\n",
    "traindf.drop('Utilities', axis=1, inplace=True)"
   ]
  },
  {
   "cell_type": "code",
   "execution_count": 126,
   "metadata": {},
   "outputs": [],
   "source": [
    "traindf_cat['LotConfig'] = traindf.LotConfig\n",
    "traindf.drop('LotConfig', axis=1, inplace=True)"
   ]
  },
  {
   "cell_type": "code",
   "execution_count": 127,
   "metadata": {},
   "outputs": [],
   "source": [
    "traindf_cat['LandSlope'] = traindf.LandSlope\n",
    "traindf.drop('LandSlope', axis=1, inplace=True)"
   ]
  },
  {
   "cell_type": "code",
   "execution_count": 128,
   "metadata": {},
   "outputs": [],
   "source": [
    "traindf_cat['Neighborhood'] = traindf.Neighborhood\n",
    "traindf.drop('Neighborhood', axis=1, inplace=True)"
   ]
  },
  {
   "cell_type": "code",
   "execution_count": 129,
   "metadata": {},
   "outputs": [],
   "source": [
    "traindf_cat['Condition1'] = traindf.Condition1\n",
    "traindf.drop('Condition1', axis=1, inplace=True)\n",
    "\n",
    "traindf_cat['Condition2'] = traindf.Condition2\n",
    "traindf.drop('Condition2', axis=1, inplace=True)"
   ]
  },
  {
   "cell_type": "code",
   "execution_count": 130,
   "metadata": {},
   "outputs": [],
   "source": [
    "traindf_cat['BldgType'] = traindf.BldgType\n",
    "traindf.drop('BldgType', axis=1, inplace=True)"
   ]
  },
  {
   "cell_type": "code",
   "execution_count": 131,
   "metadata": {},
   "outputs": [],
   "source": [
    "traindf_cat['HouseStyle'] = traindf.HouseStyle\n",
    "traindf.drop('HouseStyle', axis=1, inplace=True)"
   ]
  },
  {
   "cell_type": "code",
   "execution_count": 132,
   "metadata": {},
   "outputs": [],
   "source": [
    "traindf_cat['RoofStyle'] = traindf.RoofStyle\n",
    "traindf.drop('RoofStyle', axis=1, inplace=True)"
   ]
  },
  {
   "cell_type": "code",
   "execution_count": 133,
   "metadata": {},
   "outputs": [],
   "source": [
    "traindf_cat['RoofMatl'] = traindf.RoofMatl\n",
    "traindf.drop('RoofMatl', axis=1, inplace=True)"
   ]
  },
  {
   "cell_type": "code",
   "execution_count": 134,
   "metadata": {},
   "outputs": [],
   "source": [
    "traindf_cat['Exterior1st'] = traindf.Exterior1st\n",
    "traindf.drop('Exterior1st', axis=1, inplace=True)\n",
    "\n",
    "#traindf_cat['Exterior2nd'] = traindf.Exterior2nd\n",
    "#traindf.drop('Exterior2nd', axis=1, inplace=True)"
   ]
  },
  {
   "cell_type": "code",
   "execution_count": 135,
   "metadata": {},
   "outputs": [],
   "source": [
    "traindf.MasVnrType.fillna(value='None', inplace=True)\n",
    "traindf_cat['MasVnrType'] = traindf.MasVnrType\n",
    "traindf.drop('MasVnrType', axis=1, inplace=True)"
   ]
  },
  {
   "cell_type": "code",
   "execution_count": 136,
   "metadata": {},
   "outputs": [],
   "source": [
    "traindf_cat.ExterQual = traindf.ExterQual\n",
    "traindf.drop('ExterQual', axis=1, inplace=True)"
   ]
  },
  {
   "cell_type": "code",
   "execution_count": 137,
   "metadata": {},
   "outputs": [],
   "source": [
    "traindf_cat.ExterCond = traindf.ExterCond \n",
    "traindf.drop('ExterCond', axis=1, inplace=True)"
   ]
  },
  {
   "cell_type": "code",
   "execution_count": 138,
   "metadata": {},
   "outputs": [],
   "source": [
    "traindf_cat['Foundation'] = traindf.Foundation\n",
    "traindf.drop('Foundation', axis=1, inplace=True)"
   ]
  },
  {
   "cell_type": "code",
   "execution_count": 139,
   "metadata": {},
   "outputs": [],
   "source": [
    "traindf.MasVnrArea.fillna(value=0.00, inplace=True) "
   ]
  },
  {
   "cell_type": "code",
   "execution_count": 140,
   "metadata": {},
   "outputs": [],
   "source": [
    "traindf_cat.BsmtCond = traindf.BsmtCond\n",
    "traindf.drop('BsmtCond', axis=1, inplace=True)"
   ]
  },
  {
   "cell_type": "code",
   "execution_count": 141,
   "metadata": {},
   "outputs": [],
   "source": [
    "traindf_cat.BsmtFinType1 = traindf.BsmtFinType1\n",
    "traindf.drop('BsmtFinType1', axis=1, inplace=True)"
   ]
  },
  {
   "cell_type": "code",
   "execution_count": 142,
   "metadata": {},
   "outputs": [],
   "source": [
    "traindf_cat.BsmtExposure = traindf.BsmtExposure\n",
    "traindf.drop('BsmtExposure', axis=1, inplace=True)"
   ]
  },
  {
   "cell_type": "code",
   "execution_count": 143,
   "metadata": {},
   "outputs": [],
   "source": [
    "traindf_cat.BsmtQual = traindf.BsmtQual\n",
    "traindf.drop('BsmtQual',axis=1, inplace=True)"
   ]
  },
  {
   "cell_type": "code",
   "execution_count": 144,
   "metadata": {},
   "outputs": [],
   "source": [
    "traindf_cat.BsmtFinType2 = traindf.BsmtFinType2\n",
    "traindf.drop('BsmtFinType2', axis=1, inplace=True)"
   ]
  },
  {
   "cell_type": "code",
   "execution_count": 145,
   "metadata": {},
   "outputs": [],
   "source": [
    "traindf_cat['Heating'] = traindf.Heating\n",
    "traindf.drop('Heating', axis=1, inplace=True)"
   ]
  },
  {
   "cell_type": "code",
   "execution_count": 146,
   "metadata": {},
   "outputs": [],
   "source": [
    "traindf.HeatingQC = traindf.HeatingQC\n",
    "traindf.drop('HeatingQC', axis=1, inplace=True)"
   ]
  },
  {
   "cell_type": "code",
   "execution_count": 147,
   "metadata": {},
   "outputs": [],
   "source": [
    "traindf_cat['CentralAir'] = traindf.CentralAir\n",
    "traindf.drop('CentralAir', axis=1, inplace=True)"
   ]
  },
  {
   "cell_type": "code",
   "execution_count": 148,
   "metadata": {},
   "outputs": [],
   "source": [
    "traindf_cat['Electrical'] = traindf.Electrical\n",
    "traindf.drop('Electrical', axis=1, inplace=True)\n",
    "traindf_cat.Electrical.fillna(value='None', inplace=True)"
   ]
  },
  {
   "cell_type": "code",
   "execution_count": 149,
   "metadata": {},
   "outputs": [],
   "source": [
    "traindf_cat.KitchenQual = traindf.KitchenQual\n",
    "traindf.drop('KitchenQual', axis=1, inplace=True)"
   ]
  },
  {
   "cell_type": "code",
   "execution_count": 150,
   "metadata": {},
   "outputs": [],
   "source": [
    "traindf_cat['Functional'] = traindf.Functional\n",
    "traindf.drop('Functional', axis=1, inplace=True)"
   ]
  },
  {
   "cell_type": "code",
   "execution_count": 151,
   "metadata": {},
   "outputs": [],
   "source": [
    "traindf_cat['GarageType'] = traindf.GarageType\n",
    "traindf.drop('GarageType', axis=1, inplace=True)\n",
    "traindf_cat.GarageType.fillna(value='NoGarage', inplace=True)"
   ]
  },
  {
   "cell_type": "code",
   "execution_count": 152,
   "metadata": {},
   "outputs": [],
   "source": [
    "traindf_cat.GarageFinish = traindf.GarageFinish\n",
    "traindf.drop('GarageFinish', axis=1, inplace=True)"
   ]
  },
  {
   "cell_type": "code",
   "execution_count": 153,
   "metadata": {},
   "outputs": [],
   "source": [
    "traindf_cat.GarageQual = traindf.GarageQual\n",
    "traindf.drop('GarageQual', axis=1, inplace=True)"
   ]
  },
  {
   "cell_type": "code",
   "execution_count": 154,
   "metadata": {},
   "outputs": [],
   "source": [
    "traindf_cat.GarageCond = traindf.GarageCond\n",
    "traindf.drop('GarageCond',axis=1, inplace=True)"
   ]
  },
  {
   "cell_type": "code",
   "execution_count": 155,
   "metadata": {},
   "outputs": [],
   "source": [
    "traindf_cat['PavedDrive'] = traindf.PavedDrive\n",
    "traindf.drop('PavedDrive', axis=1, inplace=True)"
   ]
  },
  {
   "cell_type": "code",
   "execution_count": 156,
   "metadata": {},
   "outputs": [],
   "source": [
    "traindf_cat['Fence'] = traindf.Fence\n",
    "traindf.drop('Fence', axis=1, inplace=True)\n",
    "traindf_cat.fillna(value='NoFence', inplace=True)"
   ]
  },
  {
   "cell_type": "code",
   "execution_count": 157,
   "metadata": {},
   "outputs": [],
   "source": [
    "traindf_cat['MoSold'] = traindf.MoSold\n",
    "traindf.drop('MoSold', axis=1, inplace=True)"
   ]
  },
  {
   "cell_type": "code",
   "execution_count": 158,
   "metadata": {},
   "outputs": [],
   "source": [
    "traindf_cat['SaleType'] = traindf.SaleType\n",
    "traindf.drop('SaleType', axis=1, inplace=True)"
   ]
  },
  {
   "cell_type": "code",
   "execution_count": 159,
   "metadata": {},
   "outputs": [],
   "source": [
    "traindf_cat['SaleCondition'] = traindf.SaleCondition\n",
    "traindf.drop('SaleCondition', axis=1, inplace=True)"
   ]
  },
  {
   "cell_type": "code",
   "execution_count": 160,
   "metadata": {},
   "outputs": [],
   "source": [
    "traindf_cat['BsmtFullBath'] = traindf.BsmtFullBath\n",
    "traindf.drop('BsmtFullBath', axis=1, inplace=True)"
   ]
  },
  {
   "cell_type": "code",
   "execution_count": 161,
   "metadata": {},
   "outputs": [],
   "source": [
    "traindf_cat['BsmtHalfBath'] = traindf.BsmtHalfBath\n",
    "traindf.drop('BsmtHalfBath', axis=1, inplace=True)"
   ]
  },
  {
   "cell_type": "code",
   "execution_count": 162,
   "metadata": {},
   "outputs": [],
   "source": [
    "traindf_cat['FullBath'] = traindf.FullBath\n",
    "traindf.drop('FullBath', axis=1, inplace=True)"
   ]
  },
  {
   "cell_type": "code",
   "execution_count": 163,
   "metadata": {},
   "outputs": [],
   "source": [
    "traindf_cat['HalfBath'] = traindf.HalfBath\n",
    "traindf.drop('HalfBath', axis=1, inplace=True)"
   ]
  },
  {
   "cell_type": "code",
   "execution_count": 164,
   "metadata": {},
   "outputs": [],
   "source": [
    "traindf_cat['BedroomAbvGr'] = traindf.BedroomAbvGr\n",
    "traindf.drop('BedroomAbvGr', axis=1, inplace=True)"
   ]
  },
  {
   "cell_type": "code",
   "execution_count": 165,
   "metadata": {},
   "outputs": [],
   "source": [
    "traindf_cat['KitchenAbvGr'] = traindf.KitchenAbvGr\n",
    "traindf.drop('KitchenAbvGr', axis=1, inplace=True)"
   ]
  },
  {
   "cell_type": "code",
   "execution_count": 166,
   "metadata": {},
   "outputs": [],
   "source": [
    "traindf_cat['TotRmsAbvGrd'] = traindf.TotRmsAbvGrd\n",
    "traindf.drop('TotRmsAbvGrd', axis=1, inplace=True)"
   ]
  },
  {
   "cell_type": "code",
   "execution_count": 167,
   "metadata": {},
   "outputs": [],
   "source": [
    "traindf_cat['Fireplaces'] = traindf.Fireplaces\n",
    "traindf.drop('Fireplaces', axis=1, inplace=True)"
   ]
  },
  {
   "cell_type": "code",
   "execution_count": 168,
   "metadata": {},
   "outputs": [],
   "source": [
    "traindf_cat['GarageCars'] = traindf.GarageCars\n",
    "traindf.drop('GarageCars', axis=1, inplace=True)"
   ]
  },
  {
   "cell_type": "code",
   "execution_count": 169,
   "metadata": {},
   "outputs": [],
   "source": [
    "traindf['ThreeSsnPorch'] = traindf['3SsnPorch']\n",
    "traindf.drop('3SsnPorch', axis=1, inplace=True)"
   ]
  },
  {
   "cell_type": "code",
   "execution_count": 170,
   "metadata": {},
   "outputs": [],
   "source": [
    "traindf['FirstFlrSF'] = traindf['1stFlrSF']\n",
    "traindf.drop('1stFlrSF', axis=1, inplace=True)"
   ]
  },
  {
   "cell_type": "code",
   "execution_count": 171,
   "metadata": {},
   "outputs": [],
   "source": [
    "traindf['SecondFlrSF'] = traindf['2ndFlrSF']\n",
    "traindf.drop('2ndFlrSF', axis=1, inplace=True)"
   ]
  },
  {
   "cell_type": "markdown",
   "metadata": {},
   "source": [
    "## Feature Scaling - Apply Box-Cox?\n",
    "### Box-Cox did not improve the model"
   ]
  },
  {
   "cell_type": "code",
   "execution_count": 172,
   "metadata": {},
   "outputs": [
    {
     "data": {
      "text/plain": [
       "(1451, 36)"
      ]
     },
     "execution_count": 172,
     "metadata": {},
     "output_type": "execute_result"
    }
   ],
   "source": [
    "traindf_cat.shape"
   ]
  },
  {
   "cell_type": "code",
   "execution_count": 173,
   "metadata": {},
   "outputs": [],
   "source": [
    "traindf_columns = traindf.columns"
   ]
  },
  {
   "cell_type": "code",
   "execution_count": 174,
   "metadata": {},
   "outputs": [
    {
     "data": {
      "text/html": [
       "<div>\n",
       "<style scoped>\n",
       "    .dataframe tbody tr th:only-of-type {\n",
       "        vertical-align: middle;\n",
       "    }\n",
       "\n",
       "    .dataframe tbody tr th {\n",
       "        vertical-align: top;\n",
       "    }\n",
       "\n",
       "    .dataframe thead th {\n",
       "        text-align: right;\n",
       "    }\n",
       "</style>\n",
       "<table border=\"1\" class=\"dataframe\">\n",
       "  <thead>\n",
       "    <tr style=\"text-align: right;\">\n",
       "      <th></th>\n",
       "      <th>Id</th>\n",
       "      <th>LotFrontage</th>\n",
       "      <th>LotArea</th>\n",
       "      <th>OverallQual</th>\n",
       "      <th>OverallCond</th>\n",
       "      <th>YearBuilt</th>\n",
       "      <th>MasVnrArea</th>\n",
       "      <th>BsmtFinSF1</th>\n",
       "      <th>BsmtFinSF2</th>\n",
       "      <th>BsmtUnfSF</th>\n",
       "      <th>...</th>\n",
       "      <th>PoolArea</th>\n",
       "      <th>MiscVal</th>\n",
       "      <th>YrSold</th>\n",
       "      <th>rate</th>\n",
       "      <th>new_single_family_homes</th>\n",
       "      <th>new_multi_family buildings</th>\n",
       "      <th>new_multi_family_units</th>\n",
       "      <th>ThreeSsnPorch</th>\n",
       "      <th>FirstFlrSF</th>\n",
       "      <th>SecondFlrSF</th>\n",
       "    </tr>\n",
       "  </thead>\n",
       "  <tbody>\n",
       "    <tr>\n",
       "      <td>count</td>\n",
       "      <td>1451.000000</td>\n",
       "      <td>1451.000000</td>\n",
       "      <td>1451.000000</td>\n",
       "      <td>1451.000000</td>\n",
       "      <td>1451.000000</td>\n",
       "      <td>1451.000000</td>\n",
       "      <td>1451.000000</td>\n",
       "      <td>1451.000000</td>\n",
       "      <td>1451.000000</td>\n",
       "      <td>1451.000000</td>\n",
       "      <td>...</td>\n",
       "      <td>1451.000000</td>\n",
       "      <td>1451.000000</td>\n",
       "      <td>1451.000000</td>\n",
       "      <td>1451.000000</td>\n",
       "      <td>1451.000000</td>\n",
       "      <td>1451.000000</td>\n",
       "      <td>1451.000000</td>\n",
       "      <td>1451.000000</td>\n",
       "      <td>1451.000000</td>\n",
       "      <td>1451.000000</td>\n",
       "    </tr>\n",
       "    <tr>\n",
       "      <td>mean</td>\n",
       "      <td>730.079256</td>\n",
       "      <td>69.833054</td>\n",
       "      <td>10442.747760</td>\n",
       "      <td>6.079256</td>\n",
       "      <td>5.578222</td>\n",
       "      <td>1971.071675</td>\n",
       "      <td>99.972433</td>\n",
       "      <td>437.809097</td>\n",
       "      <td>46.466575</td>\n",
       "      <td>566.076499</td>\n",
       "      <td>...</td>\n",
       "      <td>2.393522</td>\n",
       "      <td>43.758787</td>\n",
       "      <td>2007.813921</td>\n",
       "      <td>6.257787</td>\n",
       "      <td>98.904204</td>\n",
       "      <td>6.809786</td>\n",
       "      <td>128.605789</td>\n",
       "      <td>3.430737</td>\n",
       "      <td>1156.673329</td>\n",
       "      <td>342.745003</td>\n",
       "    </tr>\n",
       "    <tr>\n",
       "      <td>std</td>\n",
       "      <td>422.163067</td>\n",
       "      <td>21.842884</td>\n",
       "      <td>9916.673175</td>\n",
       "      <td>1.362524</td>\n",
       "      <td>1.115370</td>\n",
       "      <td>30.189728</td>\n",
       "      <td>173.498236</td>\n",
       "      <td>447.757832</td>\n",
       "      <td>161.264463</td>\n",
       "      <td>440.565397</td>\n",
       "      <td>...</td>\n",
       "      <td>37.599673</td>\n",
       "      <td>497.648467</td>\n",
       "      <td>1.326587</td>\n",
       "      <td>0.597619</td>\n",
       "      <td>41.405478</td>\n",
       "      <td>4.951733</td>\n",
       "      <td>84.948701</td>\n",
       "      <td>29.406940</td>\n",
       "      <td>379.591002</td>\n",
       "      <td>429.825177</td>\n",
       "    </tr>\n",
       "    <tr>\n",
       "      <td>min</td>\n",
       "      <td>1.000000</td>\n",
       "      <td>21.000000</td>\n",
       "      <td>1300.000000</td>\n",
       "      <td>1.000000</td>\n",
       "      <td>1.000000</td>\n",
       "      <td>1872.000000</td>\n",
       "      <td>0.000000</td>\n",
       "      <td>0.000000</td>\n",
       "      <td>0.000000</td>\n",
       "      <td>0.000000</td>\n",
       "      <td>...</td>\n",
       "      <td>0.000000</td>\n",
       "      <td>0.000000</td>\n",
       "      <td>2006.000000</td>\n",
       "      <td>4.957000</td>\n",
       "      <td>58.000000</td>\n",
       "      <td>0.000000</td>\n",
       "      <td>0.000000</td>\n",
       "      <td>0.000000</td>\n",
       "      <td>334.000000</td>\n",
       "      <td>0.000000</td>\n",
       "    </tr>\n",
       "    <tr>\n",
       "      <td>25%</td>\n",
       "      <td>364.500000</td>\n",
       "      <td>60.000000</td>\n",
       "      <td>7517.500000</td>\n",
       "      <td>5.000000</td>\n",
       "      <td>5.000000</td>\n",
       "      <td>1954.000000</td>\n",
       "      <td>0.000000</td>\n",
       "      <td>0.000000</td>\n",
       "      <td>0.000000</td>\n",
       "      <td>222.000000</td>\n",
       "      <td>...</td>\n",
       "      <td>0.000000</td>\n",
       "      <td>0.000000</td>\n",
       "      <td>2007.000000</td>\n",
       "      <td>5.678000</td>\n",
       "      <td>61.000000</td>\n",
       "      <td>3.000000</td>\n",
       "      <td>95.000000</td>\n",
       "      <td>0.000000</td>\n",
       "      <td>882.000000</td>\n",
       "      <td>0.000000</td>\n",
       "    </tr>\n",
       "    <tr>\n",
       "      <td>50%</td>\n",
       "      <td>729.000000</td>\n",
       "      <td>69.833054</td>\n",
       "      <td>9452.000000</td>\n",
       "      <td>6.000000</td>\n",
       "      <td>5.000000</td>\n",
       "      <td>1972.000000</td>\n",
       "      <td>0.000000</td>\n",
       "      <td>381.000000</td>\n",
       "      <td>0.000000</td>\n",
       "      <td>476.000000</td>\n",
       "      <td>...</td>\n",
       "      <td>0.000000</td>\n",
       "      <td>0.000000</td>\n",
       "      <td>2008.000000</td>\n",
       "      <td>6.476000</td>\n",
       "      <td>70.000000</td>\n",
       "      <td>6.000000</td>\n",
       "      <td>116.000000</td>\n",
       "      <td>0.000000</td>\n",
       "      <td>1085.000000</td>\n",
       "      <td>0.000000</td>\n",
       "    </tr>\n",
       "    <tr>\n",
       "      <td>75%</td>\n",
       "      <td>1095.500000</td>\n",
       "      <td>78.500000</td>\n",
       "      <td>11506.000000</td>\n",
       "      <td>7.000000</td>\n",
       "      <td>6.000000</td>\n",
       "      <td>2000.000000</td>\n",
       "      <td>160.500000</td>\n",
       "      <td>705.500000</td>\n",
       "      <td>0.000000</td>\n",
       "      <td>808.000000</td>\n",
       "      <td>...</td>\n",
       "      <td>0.000000</td>\n",
       "      <td>0.000000</td>\n",
       "      <td>2009.000000</td>\n",
       "      <td>6.825000</td>\n",
       "      <td>127.000000</td>\n",
       "      <td>11.000000</td>\n",
       "      <td>201.000000</td>\n",
       "      <td>0.000000</td>\n",
       "      <td>1382.500000</td>\n",
       "      <td>728.000000</td>\n",
       "    </tr>\n",
       "    <tr>\n",
       "      <td>max</td>\n",
       "      <td>1460.000000</td>\n",
       "      <td>313.000000</td>\n",
       "      <td>215245.000000</td>\n",
       "      <td>10.000000</td>\n",
       "      <td>9.000000</td>\n",
       "      <td>2010.000000</td>\n",
       "      <td>1600.000000</td>\n",
       "      <td>5644.000000</td>\n",
       "      <td>1474.000000</td>\n",
       "      <td>2336.000000</td>\n",
       "      <td>...</td>\n",
       "      <td>738.000000</td>\n",
       "      <td>15500.000000</td>\n",
       "      <td>2010.000000</td>\n",
       "      <td>7.008000</td>\n",
       "      <td>161.000000</td>\n",
       "      <td>13.000000</td>\n",
       "      <td>228.000000</td>\n",
       "      <td>508.000000</td>\n",
       "      <td>4692.000000</td>\n",
       "      <td>1818.000000</td>\n",
       "    </tr>\n",
       "  </tbody>\n",
       "</table>\n",
       "<p>8 rows × 27 columns</p>\n",
       "</div>"
      ],
      "text/plain": [
       "                Id  LotFrontage        LotArea  OverallQual  OverallCond  \\\n",
       "count  1451.000000  1451.000000    1451.000000  1451.000000  1451.000000   \n",
       "mean    730.079256    69.833054   10442.747760     6.079256     5.578222   \n",
       "std     422.163067    21.842884    9916.673175     1.362524     1.115370   \n",
       "min       1.000000    21.000000    1300.000000     1.000000     1.000000   \n",
       "25%     364.500000    60.000000    7517.500000     5.000000     5.000000   \n",
       "50%     729.000000    69.833054    9452.000000     6.000000     5.000000   \n",
       "75%    1095.500000    78.500000   11506.000000     7.000000     6.000000   \n",
       "max    1460.000000   313.000000  215245.000000    10.000000     9.000000   \n",
       "\n",
       "         YearBuilt   MasVnrArea   BsmtFinSF1   BsmtFinSF2    BsmtUnfSF  ...  \\\n",
       "count  1451.000000  1451.000000  1451.000000  1451.000000  1451.000000  ...   \n",
       "mean   1971.071675    99.972433   437.809097    46.466575   566.076499  ...   \n",
       "std      30.189728   173.498236   447.757832   161.264463   440.565397  ...   \n",
       "min    1872.000000     0.000000     0.000000     0.000000     0.000000  ...   \n",
       "25%    1954.000000     0.000000     0.000000     0.000000   222.000000  ...   \n",
       "50%    1972.000000     0.000000   381.000000     0.000000   476.000000  ...   \n",
       "75%    2000.000000   160.500000   705.500000     0.000000   808.000000  ...   \n",
       "max    2010.000000  1600.000000  5644.000000  1474.000000  2336.000000  ...   \n",
       "\n",
       "          PoolArea       MiscVal       YrSold         rate  \\\n",
       "count  1451.000000   1451.000000  1451.000000  1451.000000   \n",
       "mean      2.393522     43.758787  2007.813921     6.257787   \n",
       "std      37.599673    497.648467     1.326587     0.597619   \n",
       "min       0.000000      0.000000  2006.000000     4.957000   \n",
       "25%       0.000000      0.000000  2007.000000     5.678000   \n",
       "50%       0.000000      0.000000  2008.000000     6.476000   \n",
       "75%       0.000000      0.000000  2009.000000     6.825000   \n",
       "max     738.000000  15500.000000  2010.000000     7.008000   \n",
       "\n",
       "        new_single_family_homes   new_multi_family buildings  \\\n",
       "count               1451.000000                  1451.000000   \n",
       "mean                  98.904204                     6.809786   \n",
       "std                   41.405478                     4.951733   \n",
       "min                   58.000000                     0.000000   \n",
       "25%                   61.000000                     3.000000   \n",
       "50%                   70.000000                     6.000000   \n",
       "75%                  127.000000                    11.000000   \n",
       "max                  161.000000                    13.000000   \n",
       "\n",
       "        new_multi_family_units  ThreeSsnPorch   FirstFlrSF  SecondFlrSF  \n",
       "count              1451.000000    1451.000000  1451.000000  1451.000000  \n",
       "mean                128.605789       3.430737  1156.673329   342.745003  \n",
       "std                  84.948701      29.406940   379.591002   429.825177  \n",
       "min                   0.000000       0.000000   334.000000     0.000000  \n",
       "25%                  95.000000       0.000000   882.000000     0.000000  \n",
       "50%                 116.000000       0.000000  1085.000000     0.000000  \n",
       "75%                 201.000000       0.000000  1382.500000   728.000000  \n",
       "max                 228.000000     508.000000  4692.000000  1818.000000  \n",
       "\n",
       "[8 rows x 27 columns]"
      ]
     },
     "execution_count": 174,
     "metadata": {},
     "output_type": "execute_result"
    }
   ],
   "source": [
    "traindf.describe()"
   ]
  },
  {
   "cell_type": "code",
   "execution_count": 175,
   "metadata": {},
   "outputs": [
    {
     "data": {
      "text/plain": [
       "Id                                1.000\n",
       "LotFrontage                      21.000\n",
       "LotArea                        1300.000\n",
       "OverallQual                       1.000\n",
       "OverallCond                       1.000\n",
       "YearBuilt                      1872.000\n",
       "MasVnrArea                        0.000\n",
       "BsmtFinSF1                        0.000\n",
       "BsmtFinSF2                        0.000\n",
       "BsmtUnfSF                         0.000\n",
       "LowQualFinSF                      0.000\n",
       "GrLivArea                       334.000\n",
       "GarageArea                        0.000\n",
       "WoodDeckSF                        0.000\n",
       "OpenPorchSF                       0.000\n",
       "EnclosedPorch                     0.000\n",
       "ScreenPorch                       0.000\n",
       "PoolArea                          0.000\n",
       "MiscVal                           0.000\n",
       "YrSold                         2006.000\n",
       "rate                              4.957\n",
       " new_single_family_homes         58.000\n",
       " new_multi_family buildings       0.000\n",
       " new_multi_family_units           0.000\n",
       "ThreeSsnPorch                     0.000\n",
       "FirstFlrSF                      334.000\n",
       "SecondFlrSF                       0.000\n",
       "dtype: float64"
      ]
     },
     "execution_count": 175,
     "metadata": {},
     "output_type": "execute_result"
    }
   ],
   "source": [
    "#traindf = traindf + 1\n",
    "traindf.min()"
   ]
  },
  {
   "cell_type": "code",
   "execution_count": 176,
   "metadata": {},
   "outputs": [
    {
     "name": "stdout",
     "output_type": "stream",
     "text": [
      "traindf['LotArea'] = stats.boxcox(traindf['LotArea'])[0]\n",
      "1300 LotArea\n",
      "traindf['OverallCond'] = stats.boxcox(traindf['OverallCond'])[0]\n",
      "1 OverallCond\n",
      "traindf['YearBuilt'] = stats.boxcox(traindf['YearBuilt'])[0]\n",
      "1872 YearBuilt\n",
      "traindf['MasVnrArea'] = stats.boxcox(traindf['MasVnrArea'])[0]\n",
      "0.0 MasVnrArea\n",
      "traindf['BsmtFinSF1'] = stats.boxcox(traindf['BsmtFinSF1'])[0]\n",
      "0 BsmtFinSF1\n",
      "traindf['BsmtFinSF2'] = stats.boxcox(traindf['BsmtFinSF2'])[0]\n",
      "0 BsmtFinSF2\n",
      "traindf['BsmtUnfSF'] = stats.boxcox(traindf['BsmtUnfSF'])[0]\n",
      "0 BsmtUnfSF\n",
      "traindf['WoodDeckSF'] = stats.boxcox(traindf['WoodDeckSF'])[0]\n",
      "0 WoodDeckSF\n",
      "traindf['OpenPorchSF'] = stats.boxcox(traindf['OpenPorchSF'])[0]\n",
      "0 OpenPorchSF\n",
      "traindf['EnclosedPorch'] = stats.boxcox(traindf['EnclosedPorch'])[0]\n",
      "0 EnclosedPorch\n",
      "traindf['ScreenPorch'] = stats.boxcox(traindf['ScreenPorch'])[0]\n",
      "0 ScreenPorch\n",
      "traindf['PoolArea'] = stats.boxcox(traindf['PoolArea'])[0]\n",
      "0 PoolArea\n",
      "traindf['MiscVal'] = stats.boxcox(traindf['MiscVal'])[0]\n",
      "0 MiscVal\n",
      "traindf['YrSold'] = stats.boxcox(traindf['YrSold'])[0]\n",
      "2006 YrSold\n",
      "traindf['ThreeSsnPorch'] = stats.boxcox(traindf['ThreeSsnPorch'])[0]\n",
      "0 ThreeSsnPorch\n",
      "traindf['FirstFlrSF'] = stats.boxcox(traindf['FirstFlrSF'])[0]\n",
      "334 FirstFlrSF\n",
      "traindf['SecondFlrSF'] = stats.boxcox(traindf['SecondFlrSF'])[0]\n",
      "0 SecondFlrSF\n"
     ]
    }
   ],
   "source": [
    "import scipy.stats\n",
    "low_vals = []\n",
    "box = ['LotArea', 'OverallCond', 'YearBuilt', 'MasVnrArea', 'BsmtFinSF1', 'BsmtFinSF2', 'BsmtUnfSF', 'WoodDeckSF', 'OpenPorchSF', 'EnclosedPorch', 'ScreenPorch', 'PoolArea', 'MiscVal', 'YrSold', 'ThreeSsnPorch', 'FirstFlrSF', 'SecondFlrSF']\n",
    "box1 = 'OverallCond'\n",
    "for ox in box:\n",
    "    print(f\"traindf['{ox}'] = stats.boxcox(traindf['{ox}'])[0]\")\n",
    "    print(traindf[f'{ox}'].min(), ox)"
   ]
  },
  {
   "cell_type": "code",
   "execution_count": 177,
   "metadata": {},
   "outputs": [],
   "source": [
    "#traindf['LotArea'] = stats.boxcox(traindf['LotArea'])[0]\n",
    "#traindf['YearBuilt'] = stats.boxcox(traindf['YearBuilt'])[0]\n",
    "#traindf['OverallCond'] = stats.boxcox(traindf['OverallCond'])[0]\n",
    "#traindf['MasVnrArea'] = stats.boxcox(traindf['MasVnrArea'])[0]\n",
    "#traindf['BsmtFinSF1'] = stats.boxcox(traindf['BsmtFinSF1'])[0]\n",
    "#traindf['BsmtFinSF2'] = stats.boxcox(traindf['BsmtFinSF2'])[0]\n",
    "#traindf['BsmtUnfSF'] = stats.boxcox(traindf['BsmtUnfSF'])[0]\n",
    "#traindf['WoodDeckSF'] = stats.boxcox(traindf['WoodDeckSF'])[0]\n",
    "#traindf['OpenPorchSF'] = stats.boxcox(traindf['OpenPorchSF'])[0]\n",
    "#traindf['EnclosedPorch'] = stats.boxcox(traindf['EnclosedPorch'])[0]\n",
    "#traindf['ScreenPorch'] = stats.boxcox(traindf['ScreenPorch'])[0]\n",
    "#traindf['PoolArea'] = stats.boxcox(traindf['PoolArea'])[0]\n",
    "#traindf['MiscVal'] = stats.boxcox(traindf['MiscVal'])[0]\n",
    "#traindf['YrSold'] = stats.boxcox(traindf['YrSold'])[0]\n",
    "#traindf['ThreeSsnPorch'] =x stats.boxcox(traindf['ThreeSsnPorch'])[0]\n",
    "#traindf['FirstFlrSF'] = stats.boxcox(traindf['FirstFlrSF'])[0]\n",
    "#traindf['SecondFlrSF'] = stats.boxcox(traindf['SecondFlrSF'])[0]"
   ]
  },
  {
   "cell_type": "code",
   "execution_count": 178,
   "metadata": {},
   "outputs": [],
   "source": [
    "#x = traindf['MasVnrArea'].replace(0, 'nan')\n",
    "#l = stats.boxcox(x.dropna())[1]\n"
   ]
  },
  {
   "cell_type": "code",
   "execution_count": 179,
   "metadata": {},
   "outputs": [
    {
     "data": {
      "text/html": [
       "<div>\n",
       "<style scoped>\n",
       "    .dataframe tbody tr th:only-of-type {\n",
       "        vertical-align: middle;\n",
       "    }\n",
       "\n",
       "    .dataframe tbody tr th {\n",
       "        vertical-align: top;\n",
       "    }\n",
       "\n",
       "    .dataframe thead th {\n",
       "        text-align: right;\n",
       "    }\n",
       "</style>\n",
       "<table border=\"1\" class=\"dataframe\">\n",
       "  <thead>\n",
       "    <tr style=\"text-align: right;\">\n",
       "      <th></th>\n",
       "      <th>Id</th>\n",
       "      <th>LotFrontage</th>\n",
       "      <th>LotArea</th>\n",
       "      <th>OverallQual</th>\n",
       "      <th>OverallCond</th>\n",
       "      <th>YearBuilt</th>\n",
       "      <th>MasVnrArea</th>\n",
       "      <th>BsmtFinSF1</th>\n",
       "      <th>BsmtFinSF2</th>\n",
       "      <th>BsmtUnfSF</th>\n",
       "      <th>...</th>\n",
       "      <th>PoolArea</th>\n",
       "      <th>MiscVal</th>\n",
       "      <th>YrSold</th>\n",
       "      <th>rate</th>\n",
       "      <th>new_single_family_homes</th>\n",
       "      <th>new_multi_family buildings</th>\n",
       "      <th>new_multi_family_units</th>\n",
       "      <th>ThreeSsnPorch</th>\n",
       "      <th>FirstFlrSF</th>\n",
       "      <th>SecondFlrSF</th>\n",
       "    </tr>\n",
       "  </thead>\n",
       "  <tbody>\n",
       "    <tr>\n",
       "      <td>count</td>\n",
       "      <td>1451.000000</td>\n",
       "      <td>1451.000000</td>\n",
       "      <td>1451.000000</td>\n",
       "      <td>1451.000000</td>\n",
       "      <td>1451.000000</td>\n",
       "      <td>1451.000000</td>\n",
       "      <td>1451.000000</td>\n",
       "      <td>1451.000000</td>\n",
       "      <td>1451.000000</td>\n",
       "      <td>1451.000000</td>\n",
       "      <td>...</td>\n",
       "      <td>1451.000000</td>\n",
       "      <td>1451.000000</td>\n",
       "      <td>1451.000000</td>\n",
       "      <td>1451.000000</td>\n",
       "      <td>1451.000000</td>\n",
       "      <td>1451.000000</td>\n",
       "      <td>1451.000000</td>\n",
       "      <td>1451.000000</td>\n",
       "      <td>1451.000000</td>\n",
       "      <td>1451.000000</td>\n",
       "    </tr>\n",
       "    <tr>\n",
       "      <td>mean</td>\n",
       "      <td>730.079256</td>\n",
       "      <td>69.833054</td>\n",
       "      <td>10442.747760</td>\n",
       "      <td>6.079256</td>\n",
       "      <td>5.578222</td>\n",
       "      <td>1971.071675</td>\n",
       "      <td>99.972433</td>\n",
       "      <td>437.809097</td>\n",
       "      <td>46.466575</td>\n",
       "      <td>566.076499</td>\n",
       "      <td>...</td>\n",
       "      <td>2.393522</td>\n",
       "      <td>43.758787</td>\n",
       "      <td>2007.813921</td>\n",
       "      <td>6.257787</td>\n",
       "      <td>98.904204</td>\n",
       "      <td>6.809786</td>\n",
       "      <td>128.605789</td>\n",
       "      <td>3.430737</td>\n",
       "      <td>1156.673329</td>\n",
       "      <td>342.745003</td>\n",
       "    </tr>\n",
       "    <tr>\n",
       "      <td>std</td>\n",
       "      <td>422.163067</td>\n",
       "      <td>21.842884</td>\n",
       "      <td>9916.673175</td>\n",
       "      <td>1.362524</td>\n",
       "      <td>1.115370</td>\n",
       "      <td>30.189728</td>\n",
       "      <td>173.498236</td>\n",
       "      <td>447.757832</td>\n",
       "      <td>161.264463</td>\n",
       "      <td>440.565397</td>\n",
       "      <td>...</td>\n",
       "      <td>37.599673</td>\n",
       "      <td>497.648467</td>\n",
       "      <td>1.326587</td>\n",
       "      <td>0.597619</td>\n",
       "      <td>41.405478</td>\n",
       "      <td>4.951733</td>\n",
       "      <td>84.948701</td>\n",
       "      <td>29.406940</td>\n",
       "      <td>379.591002</td>\n",
       "      <td>429.825177</td>\n",
       "    </tr>\n",
       "    <tr>\n",
       "      <td>min</td>\n",
       "      <td>1.000000</td>\n",
       "      <td>21.000000</td>\n",
       "      <td>1300.000000</td>\n",
       "      <td>1.000000</td>\n",
       "      <td>1.000000</td>\n",
       "      <td>1872.000000</td>\n",
       "      <td>0.000000</td>\n",
       "      <td>0.000000</td>\n",
       "      <td>0.000000</td>\n",
       "      <td>0.000000</td>\n",
       "      <td>...</td>\n",
       "      <td>0.000000</td>\n",
       "      <td>0.000000</td>\n",
       "      <td>2006.000000</td>\n",
       "      <td>4.957000</td>\n",
       "      <td>58.000000</td>\n",
       "      <td>0.000000</td>\n",
       "      <td>0.000000</td>\n",
       "      <td>0.000000</td>\n",
       "      <td>334.000000</td>\n",
       "      <td>0.000000</td>\n",
       "    </tr>\n",
       "    <tr>\n",
       "      <td>25%</td>\n",
       "      <td>364.500000</td>\n",
       "      <td>60.000000</td>\n",
       "      <td>7517.500000</td>\n",
       "      <td>5.000000</td>\n",
       "      <td>5.000000</td>\n",
       "      <td>1954.000000</td>\n",
       "      <td>0.000000</td>\n",
       "      <td>0.000000</td>\n",
       "      <td>0.000000</td>\n",
       "      <td>222.000000</td>\n",
       "      <td>...</td>\n",
       "      <td>0.000000</td>\n",
       "      <td>0.000000</td>\n",
       "      <td>2007.000000</td>\n",
       "      <td>5.678000</td>\n",
       "      <td>61.000000</td>\n",
       "      <td>3.000000</td>\n",
       "      <td>95.000000</td>\n",
       "      <td>0.000000</td>\n",
       "      <td>882.000000</td>\n",
       "      <td>0.000000</td>\n",
       "    </tr>\n",
       "    <tr>\n",
       "      <td>50%</td>\n",
       "      <td>729.000000</td>\n",
       "      <td>69.833054</td>\n",
       "      <td>9452.000000</td>\n",
       "      <td>6.000000</td>\n",
       "      <td>5.000000</td>\n",
       "      <td>1972.000000</td>\n",
       "      <td>0.000000</td>\n",
       "      <td>381.000000</td>\n",
       "      <td>0.000000</td>\n",
       "      <td>476.000000</td>\n",
       "      <td>...</td>\n",
       "      <td>0.000000</td>\n",
       "      <td>0.000000</td>\n",
       "      <td>2008.000000</td>\n",
       "      <td>6.476000</td>\n",
       "      <td>70.000000</td>\n",
       "      <td>6.000000</td>\n",
       "      <td>116.000000</td>\n",
       "      <td>0.000000</td>\n",
       "      <td>1085.000000</td>\n",
       "      <td>0.000000</td>\n",
       "    </tr>\n",
       "    <tr>\n",
       "      <td>75%</td>\n",
       "      <td>1095.500000</td>\n",
       "      <td>78.500000</td>\n",
       "      <td>11506.000000</td>\n",
       "      <td>7.000000</td>\n",
       "      <td>6.000000</td>\n",
       "      <td>2000.000000</td>\n",
       "      <td>160.500000</td>\n",
       "      <td>705.500000</td>\n",
       "      <td>0.000000</td>\n",
       "      <td>808.000000</td>\n",
       "      <td>...</td>\n",
       "      <td>0.000000</td>\n",
       "      <td>0.000000</td>\n",
       "      <td>2009.000000</td>\n",
       "      <td>6.825000</td>\n",
       "      <td>127.000000</td>\n",
       "      <td>11.000000</td>\n",
       "      <td>201.000000</td>\n",
       "      <td>0.000000</td>\n",
       "      <td>1382.500000</td>\n",
       "      <td>728.000000</td>\n",
       "    </tr>\n",
       "    <tr>\n",
       "      <td>max</td>\n",
       "      <td>1460.000000</td>\n",
       "      <td>313.000000</td>\n",
       "      <td>215245.000000</td>\n",
       "      <td>10.000000</td>\n",
       "      <td>9.000000</td>\n",
       "      <td>2010.000000</td>\n",
       "      <td>1600.000000</td>\n",
       "      <td>5644.000000</td>\n",
       "      <td>1474.000000</td>\n",
       "      <td>2336.000000</td>\n",
       "      <td>...</td>\n",
       "      <td>738.000000</td>\n",
       "      <td>15500.000000</td>\n",
       "      <td>2010.000000</td>\n",
       "      <td>7.008000</td>\n",
       "      <td>161.000000</td>\n",
       "      <td>13.000000</td>\n",
       "      <td>228.000000</td>\n",
       "      <td>508.000000</td>\n",
       "      <td>4692.000000</td>\n",
       "      <td>1818.000000</td>\n",
       "    </tr>\n",
       "  </tbody>\n",
       "</table>\n",
       "<p>8 rows × 27 columns</p>\n",
       "</div>"
      ],
      "text/plain": [
       "                Id  LotFrontage        LotArea  OverallQual  OverallCond  \\\n",
       "count  1451.000000  1451.000000    1451.000000  1451.000000  1451.000000   \n",
       "mean    730.079256    69.833054   10442.747760     6.079256     5.578222   \n",
       "std     422.163067    21.842884    9916.673175     1.362524     1.115370   \n",
       "min       1.000000    21.000000    1300.000000     1.000000     1.000000   \n",
       "25%     364.500000    60.000000    7517.500000     5.000000     5.000000   \n",
       "50%     729.000000    69.833054    9452.000000     6.000000     5.000000   \n",
       "75%    1095.500000    78.500000   11506.000000     7.000000     6.000000   \n",
       "max    1460.000000   313.000000  215245.000000    10.000000     9.000000   \n",
       "\n",
       "         YearBuilt   MasVnrArea   BsmtFinSF1   BsmtFinSF2    BsmtUnfSF  ...  \\\n",
       "count  1451.000000  1451.000000  1451.000000  1451.000000  1451.000000  ...   \n",
       "mean   1971.071675    99.972433   437.809097    46.466575   566.076499  ...   \n",
       "std      30.189728   173.498236   447.757832   161.264463   440.565397  ...   \n",
       "min    1872.000000     0.000000     0.000000     0.000000     0.000000  ...   \n",
       "25%    1954.000000     0.000000     0.000000     0.000000   222.000000  ...   \n",
       "50%    1972.000000     0.000000   381.000000     0.000000   476.000000  ...   \n",
       "75%    2000.000000   160.500000   705.500000     0.000000   808.000000  ...   \n",
       "max    2010.000000  1600.000000  5644.000000  1474.000000  2336.000000  ...   \n",
       "\n",
       "          PoolArea       MiscVal       YrSold         rate  \\\n",
       "count  1451.000000   1451.000000  1451.000000  1451.000000   \n",
       "mean      2.393522     43.758787  2007.813921     6.257787   \n",
       "std      37.599673    497.648467     1.326587     0.597619   \n",
       "min       0.000000      0.000000  2006.000000     4.957000   \n",
       "25%       0.000000      0.000000  2007.000000     5.678000   \n",
       "50%       0.000000      0.000000  2008.000000     6.476000   \n",
       "75%       0.000000      0.000000  2009.000000     6.825000   \n",
       "max     738.000000  15500.000000  2010.000000     7.008000   \n",
       "\n",
       "        new_single_family_homes   new_multi_family buildings  \\\n",
       "count               1451.000000                  1451.000000   \n",
       "mean                  98.904204                     6.809786   \n",
       "std                   41.405478                     4.951733   \n",
       "min                   58.000000                     0.000000   \n",
       "25%                   61.000000                     3.000000   \n",
       "50%                   70.000000                     6.000000   \n",
       "75%                  127.000000                    11.000000   \n",
       "max                  161.000000                    13.000000   \n",
       "\n",
       "        new_multi_family_units  ThreeSsnPorch   FirstFlrSF  SecondFlrSF  \n",
       "count              1451.000000    1451.000000  1451.000000  1451.000000  \n",
       "mean                128.605789       3.430737  1156.673329   342.745003  \n",
       "std                  84.948701      29.406940   379.591002   429.825177  \n",
       "min                   0.000000       0.000000   334.000000     0.000000  \n",
       "25%                  95.000000       0.000000   882.000000     0.000000  \n",
       "50%                 116.000000       0.000000  1085.000000     0.000000  \n",
       "75%                 201.000000       0.000000  1382.500000   728.000000  \n",
       "max                 228.000000     508.000000  4692.000000  1818.000000  \n",
       "\n",
       "[8 rows x 27 columns]"
      ]
     },
     "execution_count": 179,
     "metadata": {},
     "output_type": "execute_result"
    }
   ],
   "source": [
    "#traindf['MasVnrArea'] = stats.boxcox(traindf['MasVnrArea'])[0]\n",
    "traindf.describe()"
   ]
  },
  {
   "cell_type": "code",
   "execution_count": 180,
   "metadata": {},
   "outputs": [],
   "source": [
    "from sklearn.preprocessing import StandardScaler\n",
    "from scipy import stats\n",
    "\n",
    "ss = StandardScaler()\n",
    "\n",
    "traindfss = pd.DataFrame(ss.fit_transform(traindf))\n",
    "traindfss.set_index(traindf.Id, inplace=True)\n",
    "traindfss.columns = traindf_columns \n",
    "# Remove outliers, i.e. data points outside of 2 standard deviations of the mean\n",
    "traindfss = traindfss[(np.abs(stats.zscore(traindfss)) < 2).all(axis=1)]\n",
    "#X_train_numeric.head()"
   ]
  },
  {
   "cell_type": "code",
   "execution_count": 181,
   "metadata": {},
   "outputs": [],
   "source": [
    "traindfss.drop('Id', axis=1, inplace=True)"
   ]
  },
  {
   "cell_type": "code",
   "execution_count": 182,
   "metadata": {},
   "outputs": [
    {
     "data": {
      "text/html": [
       "<div>\n",
       "<style scoped>\n",
       "    .dataframe tbody tr th:only-of-type {\n",
       "        vertical-align: middle;\n",
       "    }\n",
       "\n",
       "    .dataframe tbody tr th {\n",
       "        vertical-align: top;\n",
       "    }\n",
       "\n",
       "    .dataframe thead th {\n",
       "        text-align: right;\n",
       "    }\n",
       "</style>\n",
       "<table border=\"1\" class=\"dataframe\">\n",
       "  <thead>\n",
       "    <tr style=\"text-align: right;\">\n",
       "      <th></th>\n",
       "      <th>LotFrontage</th>\n",
       "      <th>LotArea</th>\n",
       "      <th>OverallQual</th>\n",
       "      <th>OverallCond</th>\n",
       "      <th>YearBuilt</th>\n",
       "      <th>MasVnrArea</th>\n",
       "      <th>BsmtFinSF1</th>\n",
       "      <th>BsmtFinSF2</th>\n",
       "      <th>BsmtUnfSF</th>\n",
       "      <th>LowQualFinSF</th>\n",
       "      <th>...</th>\n",
       "      <th>PoolArea</th>\n",
       "      <th>MiscVal</th>\n",
       "      <th>YrSold</th>\n",
       "      <th>rate</th>\n",
       "      <th>new_single_family_homes</th>\n",
       "      <th>new_multi_family buildings</th>\n",
       "      <th>new_multi_family_units</th>\n",
       "      <th>ThreeSsnPorch</th>\n",
       "      <th>FirstFlrSF</th>\n",
       "      <th>SecondFlrSF</th>\n",
       "    </tr>\n",
       "  </thead>\n",
       "  <tbody>\n",
       "    <tr>\n",
       "      <td>count</td>\n",
       "      <td>671.000000</td>\n",
       "      <td>671.000000</td>\n",
       "      <td>671.000000</td>\n",
       "      <td>671.000000</td>\n",
       "      <td>671.000000</td>\n",
       "      <td>671.000000</td>\n",
       "      <td>671.000000</td>\n",
       "      <td>671.000000</td>\n",
       "      <td>671.000000</td>\n",
       "      <td>671.000000</td>\n",
       "      <td>...</td>\n",
       "      <td>6.710000e+02</td>\n",
       "      <td>671.000000</td>\n",
       "      <td>671.000000</td>\n",
       "      <td>671.000000</td>\n",
       "      <td>671.000000</td>\n",
       "      <td>671.000000</td>\n",
       "      <td>671.000000</td>\n",
       "      <td>671.000000</td>\n",
       "      <td>671.000000</td>\n",
       "      <td>671.000000</td>\n",
       "    </tr>\n",
       "    <tr>\n",
       "      <td>mean</td>\n",
       "      <td>-0.124084</td>\n",
       "      <td>-0.125052</td>\n",
       "      <td>-0.085542</td>\n",
       "      <td>-0.132308</td>\n",
       "      <td>0.183104</td>\n",
       "      <td>-0.203927</td>\n",
       "      <td>-0.018082</td>\n",
       "      <td>-0.225772</td>\n",
       "      <td>-0.074196</td>\n",
       "      <td>-0.114109</td>\n",
       "      <td>...</td>\n",
       "      <td>-6.367999e-02</td>\n",
       "      <td>-0.059580</td>\n",
       "      <td>-0.010273</td>\n",
       "      <td>-0.008594</td>\n",
       "      <td>0.018697</td>\n",
       "      <td>0.020965</td>\n",
       "      <td>0.022157</td>\n",
       "      <td>-0.115538</td>\n",
       "      <td>-0.223880</td>\n",
       "      <td>-0.076174</td>\n",
       "    </tr>\n",
       "    <tr>\n",
       "      <td>std</td>\n",
       "      <td>0.629895</td>\n",
       "      <td>0.348166</td>\n",
       "      <td>0.813246</td>\n",
       "      <td>0.666966</td>\n",
       "      <td>0.877777</td>\n",
       "      <td>0.603891</td>\n",
       "      <td>0.849301</td>\n",
       "      <td>0.294046</td>\n",
       "      <td>0.854529</td>\n",
       "      <td>0.098785</td>\n",
       "      <td>...</td>\n",
       "      <td>2.083221e-16</td>\n",
       "      <td>0.173798</td>\n",
       "      <td>1.020566</td>\n",
       "      <td>1.006203</td>\n",
       "      <td>1.016729</td>\n",
       "      <td>1.009703</td>\n",
       "      <td>1.005844</td>\n",
       "      <td>0.030204</td>\n",
       "      <td>0.705254</td>\n",
       "      <td>0.909955</td>\n",
       "    </tr>\n",
       "    <tr>\n",
       "      <td>min</td>\n",
       "      <td>-1.824246</td>\n",
       "      <td>-0.854285</td>\n",
       "      <td>-1.526558</td>\n",
       "      <td>-1.415464</td>\n",
       "      <td>-1.924221</td>\n",
       "      <td>-0.576415</td>\n",
       "      <td>-0.978118</td>\n",
       "      <td>-0.288238</td>\n",
       "      <td>-1.285329</td>\n",
       "      <td>-0.120619</td>\n",
       "      <td>...</td>\n",
       "      <td>-6.367999e-02</td>\n",
       "      <td>-0.087961</td>\n",
       "      <td>-1.367831</td>\n",
       "      <td>-1.887785</td>\n",
       "      <td>-0.988234</td>\n",
       "      <td>-1.375707</td>\n",
       "      <td>-1.514445</td>\n",
       "      <td>-0.116704</td>\n",
       "      <td>-1.677840</td>\n",
       "      <td>-0.797681</td>\n",
       "    </tr>\n",
       "    <tr>\n",
       "      <td>25%</td>\n",
       "      <td>-0.450327</td>\n",
       "      <td>-0.325801</td>\n",
       "      <td>-0.792373</td>\n",
       "      <td>-0.518592</td>\n",
       "      <td>-0.466269</td>\n",
       "      <td>-0.576415</td>\n",
       "      <td>-0.978118</td>\n",
       "      <td>-0.288238</td>\n",
       "      <td>-0.752875</td>\n",
       "      <td>-0.120619</td>\n",
       "      <td>...</td>\n",
       "      <td>-6.367999e-02</td>\n",
       "      <td>-0.087961</td>\n",
       "      <td>-0.613757</td>\n",
       "      <td>-0.970496</td>\n",
       "      <td>-0.915755</td>\n",
       "      <td>-0.769650</td>\n",
       "      <td>-0.395737</td>\n",
       "      <td>-0.116704</td>\n",
       "      <td>-0.771289</td>\n",
       "      <td>-0.797681</td>\n",
       "    </tr>\n",
       "    <tr>\n",
       "      <td>50%</td>\n",
       "      <td>0.000000</td>\n",
       "      <td>-0.152598</td>\n",
       "      <td>-0.058188</td>\n",
       "      <td>-0.518592</td>\n",
       "      <td>0.229572</td>\n",
       "      <td>-0.576415</td>\n",
       "      <td>0.009363</td>\n",
       "      <td>-0.288238</td>\n",
       "      <td>-0.243127</td>\n",
       "      <td>-0.120619</td>\n",
       "      <td>...</td>\n",
       "      <td>-6.367999e-02</td>\n",
       "      <td>-0.087961</td>\n",
       "      <td>0.140317</td>\n",
       "      <td>0.346850</td>\n",
       "      <td>-0.698317</td>\n",
       "      <td>-0.163592</td>\n",
       "      <td>-0.148444</td>\n",
       "      <td>-0.116704</td>\n",
       "      <td>-0.307472</td>\n",
       "      <td>-0.797681</td>\n",
       "    </tr>\n",
       "    <tr>\n",
       "      <td>75%</td>\n",
       "      <td>0.236632</td>\n",
       "      <td>0.032205</td>\n",
       "      <td>0.675997</td>\n",
       "      <td>0.378281</td>\n",
       "      <td>1.057954</td>\n",
       "      <td>0.046285</td>\n",
       "      <td>0.596937</td>\n",
       "      <td>-0.288238</td>\n",
       "      <td>0.505033</td>\n",
       "      <td>-0.120619</td>\n",
       "      <td>...</td>\n",
       "      <td>-6.367999e-02</td>\n",
       "      <td>-0.087961</td>\n",
       "      <td>0.894391</td>\n",
       "      <td>0.949449</td>\n",
       "      <td>0.678787</td>\n",
       "      <td>0.846503</td>\n",
       "      <td>0.852505</td>\n",
       "      <td>-0.116704</td>\n",
       "      <td>0.244628</td>\n",
       "      <td>0.858214</td>\n",
       "    </tr>\n",
       "    <tr>\n",
       "      <td>max</td>\n",
       "      <td>1.793740</td>\n",
       "      <td>1.968703</td>\n",
       "      <td>1.410181</td>\n",
       "      <td>1.275154</td>\n",
       "      <td>1.256765</td>\n",
       "      <td>1.972040</td>\n",
       "      <td>1.997730</td>\n",
       "      <td>1.957296</td>\n",
       "      <td>1.975242</td>\n",
       "      <td>1.520246</td>\n",
       "      <td>...</td>\n",
       "      <td>-6.367999e-02</td>\n",
       "      <td>1.319139</td>\n",
       "      <td>1.648465</td>\n",
       "      <td>1.255769</td>\n",
       "      <td>1.500217</td>\n",
       "      <td>1.250542</td>\n",
       "      <td>1.170453</td>\n",
       "      <td>0.665694</td>\n",
       "      <td>1.885117</td>\n",
       "      <td>1.981151</td>\n",
       "    </tr>\n",
       "  </tbody>\n",
       "</table>\n",
       "<p>8 rows × 26 columns</p>\n",
       "</div>"
      ],
      "text/plain": [
       "       LotFrontage     LotArea  OverallQual  OverallCond   YearBuilt  \\\n",
       "count   671.000000  671.000000   671.000000   671.000000  671.000000   \n",
       "mean     -0.124084   -0.125052    -0.085542    -0.132308    0.183104   \n",
       "std       0.629895    0.348166     0.813246     0.666966    0.877777   \n",
       "min      -1.824246   -0.854285    -1.526558    -1.415464   -1.924221   \n",
       "25%      -0.450327   -0.325801    -0.792373    -0.518592   -0.466269   \n",
       "50%       0.000000   -0.152598    -0.058188    -0.518592    0.229572   \n",
       "75%       0.236632    0.032205     0.675997     0.378281    1.057954   \n",
       "max       1.793740    1.968703     1.410181     1.275154    1.256765   \n",
       "\n",
       "       MasVnrArea  BsmtFinSF1  BsmtFinSF2   BsmtUnfSF  LowQualFinSF  ...  \\\n",
       "count  671.000000  671.000000  671.000000  671.000000    671.000000  ...   \n",
       "mean    -0.203927   -0.018082   -0.225772   -0.074196     -0.114109  ...   \n",
       "std      0.603891    0.849301    0.294046    0.854529      0.098785  ...   \n",
       "min     -0.576415   -0.978118   -0.288238   -1.285329     -0.120619  ...   \n",
       "25%     -0.576415   -0.978118   -0.288238   -0.752875     -0.120619  ...   \n",
       "50%     -0.576415    0.009363   -0.288238   -0.243127     -0.120619  ...   \n",
       "75%      0.046285    0.596937   -0.288238    0.505033     -0.120619  ...   \n",
       "max      1.972040    1.997730    1.957296    1.975242      1.520246  ...   \n",
       "\n",
       "           PoolArea     MiscVal      YrSold        rate  \\\n",
       "count  6.710000e+02  671.000000  671.000000  671.000000   \n",
       "mean  -6.367999e-02   -0.059580   -0.010273   -0.008594   \n",
       "std    2.083221e-16    0.173798    1.020566    1.006203   \n",
       "min   -6.367999e-02   -0.087961   -1.367831   -1.887785   \n",
       "25%   -6.367999e-02   -0.087961   -0.613757   -0.970496   \n",
       "50%   -6.367999e-02   -0.087961    0.140317    0.346850   \n",
       "75%   -6.367999e-02   -0.087961    0.894391    0.949449   \n",
       "max   -6.367999e-02    1.319139    1.648465    1.255769   \n",
       "\n",
       "        new_single_family_homes   new_multi_family buildings  \\\n",
       "count                671.000000                   671.000000   \n",
       "mean                   0.018697                     0.020965   \n",
       "std                    1.016729                     1.009703   \n",
       "min                   -0.988234                    -1.375707   \n",
       "25%                   -0.915755                    -0.769650   \n",
       "50%                   -0.698317                    -0.163592   \n",
       "75%                    0.678787                     0.846503   \n",
       "max                    1.500217                     1.250542   \n",
       "\n",
       "        new_multi_family_units  ThreeSsnPorch  FirstFlrSF  SecondFlrSF  \n",
       "count               671.000000     671.000000  671.000000   671.000000  \n",
       "mean                  0.022157      -0.115538   -0.223880    -0.076174  \n",
       "std                   1.005844       0.030204    0.705254     0.909955  \n",
       "min                  -1.514445      -0.116704   -1.677840    -0.797681  \n",
       "25%                  -0.395737      -0.116704   -0.771289    -0.797681  \n",
       "50%                  -0.148444      -0.116704   -0.307472    -0.797681  \n",
       "75%                   0.852505      -0.116704    0.244628     0.858214  \n",
       "max                   1.170453       0.665694    1.885117     1.981151  \n",
       "\n",
       "[8 rows x 26 columns]"
      ]
     },
     "execution_count": 182,
     "metadata": {},
     "output_type": "execute_result"
    }
   ],
   "source": [
    "traindfss.describe()"
   ]
  },
  {
   "cell_type": "code",
   "execution_count": 183,
   "metadata": {},
   "outputs": [],
   "source": [
    "#sns.pairplot(traindf)"
   ]
  },
  {
   "cell_type": "markdown",
   "metadata": {},
   "source": [
    "## Getting dummies"
   ]
  },
  {
   "cell_type": "code",
   "execution_count": 184,
   "metadata": {},
   "outputs": [
    {
     "data": {
      "text/plain": [
       "array(['VinylSd', 'HdBoard', 'Plywood', 'Stucco', 'Wd Sdng', 'MetalSd',\n",
       "       'BrkFace', 'CemntBd', 'AsbShng', 'Stone', 'WdShing', 'ImStucc',\n",
       "       'CBlock', 'BrkComm', 'AsphShn'], dtype=object)"
      ]
     },
     "execution_count": 184,
     "metadata": {},
     "output_type": "execute_result"
    }
   ],
   "source": [
    "traindf_cat.Exterior1st.unique()"
   ]
  },
  {
   "cell_type": "code",
   "execution_count": 185,
   "metadata": {},
   "outputs": [],
   "source": [
    "traindf_cat.HouseStyle= traindf_cat.HouseStyle.replace({'1.5Fin': '1.5_Fin', '1.5Unf': '1_5Unf', '2.5Unf':'2_5Unf', '2.5Fin':'2_5Fin'}, value=None)"
   ]
  },
  {
   "cell_type": "code",
   "execution_count": 186,
   "metadata": {},
   "outputs": [],
   "source": [
    "traindf_cat.Exterior1st= traindf_cat.Exterior1st.replace({'Wd Sdng': 'Wd_Sdng'}, value=None)"
   ]
  },
  {
   "cell_type": "code",
   "execution_count": 187,
   "metadata": {},
   "outputs": [],
   "source": [
    "traindf_cat.RoofMatl= traindf_cat.RoofMatl.replace({'Tar&Grv': 'TarGrv'}, value=None)"
   ]
  },
  {
   "cell_type": "code",
   "execution_count": 188,
   "metadata": {},
   "outputs": [],
   "source": [
    "cat_list = list(traindf_cat.columns)[1:]"
   ]
  },
  {
   "cell_type": "code",
   "execution_count": 189,
   "metadata": {},
   "outputs": [],
   "source": [
    "traindf_cat_bined= pd.get_dummies(traindf_cat, columns=cat_list, drop_first=True)\n",
    "#traindf_cat_bined = traindf_cat_bined.astype('object')\n",
    "#traindf_cat_bined['Id'] = traindf_cat_bined['Id'].astype('int64')"
   ]
  },
  {
   "cell_type": "code",
   "execution_count": 190,
   "metadata": {},
   "outputs": [
    {
     "name": "stdout",
     "output_type": "stream",
     "text": [
      "<class 'pandas.core.frame.DataFrame'>\n",
      "Int64Index: 1451 entries, 0 to 1450\n",
      "Columns: 191 entries, Id to GarageCars_4\n",
      "dtypes: int64(1), uint8(190)\n",
      "memory usage: 291.9 KB\n"
     ]
    }
   ],
   "source": [
    "traindf_cat_bined.info()"
   ]
  },
  {
   "cell_type": "code",
   "execution_count": 191,
   "metadata": {},
   "outputs": [],
   "source": [
    "columnfixlist = [traindf_cat_bined.columns[i] for i in range(len(traindf_cat_bined.columns))]\n",
    "#columnfixlist"
   ]
  },
  {
   "cell_type": "code",
   "execution_count": 192,
   "metadata": {},
   "outputs": [],
   "source": [
    "train_combined = pd.merge(traindf_cat_bined, traindfss, on='Id', left_index=True, right_index=True)"
   ]
  },
  {
   "cell_type": "code",
   "execution_count": 193,
   "metadata": {},
   "outputs": [],
   "source": [
    "targetdf = targetdf.loc[train_combined.index]"
   ]
  },
  {
   "cell_type": "code",
   "execution_count": 194,
   "metadata": {},
   "outputs": [
    {
     "data": {
      "text/html": [
       "<div>\n",
       "<style scoped>\n",
       "    .dataframe tbody tr th:only-of-type {\n",
       "        vertical-align: middle;\n",
       "    }\n",
       "\n",
       "    .dataframe tbody tr th {\n",
       "        vertical-align: top;\n",
       "    }\n",
       "\n",
       "    .dataframe thead th {\n",
       "        text-align: right;\n",
       "    }\n",
       "</style>\n",
       "<table border=\"1\" class=\"dataframe\">\n",
       "  <thead>\n",
       "    <tr style=\"text-align: right;\">\n",
       "      <th></th>\n",
       "      <th>Id</th>\n",
       "      <th>SalePrice</th>\n",
       "    </tr>\n",
       "  </thead>\n",
       "  <tbody>\n",
       "    <tr>\n",
       "      <td>0</td>\n",
       "      <td>1</td>\n",
       "      <td>208500</td>\n",
       "    </tr>\n",
       "    <tr>\n",
       "      <td>1</td>\n",
       "      <td>11</td>\n",
       "      <td>129500</td>\n",
       "    </tr>\n",
       "    <tr>\n",
       "      <td>2</td>\n",
       "      <td>202</td>\n",
       "      <td>171500</td>\n",
       "    </tr>\n",
       "    <tr>\n",
       "      <td>3</td>\n",
       "      <td>269</td>\n",
       "      <td>120500</td>\n",
       "    </tr>\n",
       "    <tr>\n",
       "      <td>4</td>\n",
       "      <td>423</td>\n",
       "      <td>113000</td>\n",
       "    </tr>\n",
       "  </tbody>\n",
       "</table>\n",
       "</div>"
      ],
      "text/plain": [
       "    Id  SalePrice\n",
       "0    1     208500\n",
       "1   11     129500\n",
       "2  202     171500\n",
       "3  269     120500\n",
       "4  423     113000"
      ]
     },
     "execution_count": 194,
     "metadata": {},
     "output_type": "execute_result"
    }
   ],
   "source": [
    "targetdf.head()"
   ]
  },
  {
   "cell_type": "code",
   "execution_count": 195,
   "metadata": {},
   "outputs": [],
   "source": [
    "train_combined.drop('Id', axis=1, inplace=True)"
   ]
  },
  {
   "cell_type": "code",
   "execution_count": 196,
   "metadata": {},
   "outputs": [],
   "source": [
    "targetdf.set_index('Id', inplace=True)"
   ]
  },
  {
   "cell_type": "code",
   "execution_count": 197,
   "metadata": {},
   "outputs": [
    {
     "data": {
      "text/html": [
       "<div>\n",
       "<style scoped>\n",
       "    .dataframe tbody tr th:only-of-type {\n",
       "        vertical-align: middle;\n",
       "    }\n",
       "\n",
       "    .dataframe tbody tr th {\n",
       "        vertical-align: top;\n",
       "    }\n",
       "\n",
       "    .dataframe thead th {\n",
       "        text-align: right;\n",
       "    }\n",
       "</style>\n",
       "<table border=\"1\" class=\"dataframe\">\n",
       "  <thead>\n",
       "    <tr style=\"text-align: right;\">\n",
       "      <th></th>\n",
       "      <th>SalePrice</th>\n",
       "    </tr>\n",
       "    <tr>\n",
       "      <th>Id</th>\n",
       "      <th></th>\n",
       "    </tr>\n",
       "  </thead>\n",
       "  <tbody>\n",
       "    <tr>\n",
       "      <td>1</td>\n",
       "      <td>208500</td>\n",
       "    </tr>\n",
       "    <tr>\n",
       "      <td>11</td>\n",
       "      <td>129500</td>\n",
       "    </tr>\n",
       "    <tr>\n",
       "      <td>202</td>\n",
       "      <td>171500</td>\n",
       "    </tr>\n",
       "    <tr>\n",
       "      <td>269</td>\n",
       "      <td>120500</td>\n",
       "    </tr>\n",
       "    <tr>\n",
       "      <td>423</td>\n",
       "      <td>113000</td>\n",
       "    </tr>\n",
       "  </tbody>\n",
       "</table>\n",
       "</div>"
      ],
      "text/plain": [
       "     SalePrice\n",
       "Id            \n",
       "1       208500\n",
       "11      129500\n",
       "202     171500\n",
       "269     120500\n",
       "423     113000"
      ]
     },
     "execution_count": 197,
     "metadata": {},
     "output_type": "execute_result"
    }
   ],
   "source": [
    "targetdf.head()"
   ]
  },
  {
   "cell_type": "markdown",
   "metadata": {},
   "source": [
    "## Testing for colinearity amonst columns"
   ]
  },
  {
   "cell_type": "markdown",
   "metadata": {},
   "source": [
    "### Function for testing for intercorrelation - without looking at pairplots..."
   ]
  },
  {
   "cell_type": "code",
   "execution_count": 198,
   "metadata": {},
   "outputs": [],
   "source": [
    "def test_colinear(train_combined):\n",
    "    col_names = list(train_combined.columns)\n",
    "    \n",
    "    colinear = []\n",
    "    for ax1 in col_names:\n",
    "        for ax2 in col_names:\n",
    "            try:\n",
    "                if ax1 == ax2:\n",
    "                    break\n",
    "                else:\n",
    "                    if train_combined[f'{ax1}'].corr(train_combined[f'{ax2}']) >= .75:\n",
    "                        colinear.append((ax1,ax2))\n",
    "            except:\n",
    "                continue\n",
    "    return colinear"
   ]
  },
  {
   "cell_type": "markdown",
   "metadata": {},
   "source": [
    "## Attempting to use Linear Regression without ridge, lasso, or elastic net"
   ]
  },
  {
   "cell_type": "code",
   "execution_count": 199,
   "metadata": {},
   "outputs": [
    {
     "data": {
      "text/plain": [
       "[('Neighborhood_Somerst', 'MSZoning_FV'),\n",
       " ('RoofStyle_Shed', 'Condition2_RRAe'),\n",
       " ('SaleCondition_Partial', 'SaleType_New'),\n",
       " ('KitchenAbvGr_2', 'BldgType_Duplex'),\n",
       " ('TotRmsAbvGrd_14', 'BedroomAbvGr_8'),\n",
       " (' new_multi_family buildings', 'rate'),\n",
       " (' new_multi_family_units', ' new_multi_family buildings'),\n",
       " ('SecondFlrSF', 'GrLivArea')]"
      ]
     },
     "execution_count": 199,
     "metadata": {},
     "output_type": "execute_result"
    }
   ],
   "source": [
    "test_colinear(train_combined)"
   ]
  },
  {
   "cell_type": "code",
   "execution_count": 200,
   "metadata": {},
   "outputs": [
    {
     "name": "stdout",
     "output_type": "stream",
     "text": [
      "['MSZoning_FV', 'RoofStyle_Shed', 'SaleType_New', 'KitchenAbvGr_2', 'TotRmsAbvGrd_14', ' new_multi_family buildings', ' new_multi_family_units', 'GrLivArea']\n"
     ]
    },
    {
     "data": {
      "text/plain": [
       "{'Neighborhood_Somerst': -0.03758519913086953,\n",
       " 'MSZoning_FV': 0.0031801625918678384,\n",
       " 'RoofStyle_Shed': nan,\n",
       " 'Condition2_RRAe': nan,\n",
       " 'SaleCondition_Partial': -0.05432869980602748,\n",
       " 'SaleType_New': -0.048122178657602724,\n",
       " 'KitchenAbvGr_2': -0.061818427362135414,\n",
       " 'BldgType_Duplex': -0.06430306484538356,\n",
       " 'TotRmsAbvGrd_14': nan,\n",
       " 'BedroomAbvGr_8': nan,\n",
       " ' new_multi_family buildings': 0.05590894000469068,\n",
       " 'rate': 0.05882756976542375,\n",
       " ' new_multi_family_units': 0.04791408789909274,\n",
       " 'SecondFlrSF': 0.08891816964721225,\n",
       " 'GrLivArea': 0.04204711930647875}"
      ]
     },
     "execution_count": 200,
     "metadata": {},
     "output_type": "execute_result"
    }
   ],
   "source": [
    "corr_saleprice = {}\n",
    "least_impact = []\n",
    "\n",
    "for i, k in test_colinear(train_combined):\n",
    "    corr_saleprice[i] = train_combined[f'{i}'].corr(targetdf['SalePrice'])\n",
    "    corr_saleprice[k] = train_combined[f'{k}'].corr(targetdf['SalePrice'])\n",
    "    if abs(corr_saleprice[i]) > abs(corr_saleprice[k]):\n",
    "        least_impact.append(k)\n",
    "    else:\n",
    "        least_impact.append(i)\n",
    "        \n",
    "print(least_impact)\n",
    "corr_saleprice"
   ]
  },
  {
   "cell_type": "code",
   "execution_count": 201,
   "metadata": {},
   "outputs": [],
   "source": [
    "train_combined.drop(least_impact, axis=1, inplace=True)"
   ]
  },
  {
   "cell_type": "code",
   "execution_count": 202,
   "metadata": {},
   "outputs": [],
   "source": [
    "from sklearn.model_selection import train_test_split\n",
    "X = train_combined\n",
    "y = targetdf\n",
    "\n",
    "# Train-test split, then \"set aside\" test set\n",
    "X_train, X_test, y_train, y_test = train_test_split(X, y, test_size=.25)"
   ]
  },
  {
   "cell_type": "code",
   "execution_count": 203,
   "metadata": {},
   "outputs": [
    {
     "data": {
      "text/html": [
       "<div>\n",
       "<style scoped>\n",
       "    .dataframe tbody tr th:only-of-type {\n",
       "        vertical-align: middle;\n",
       "    }\n",
       "\n",
       "    .dataframe tbody tr th {\n",
       "        vertical-align: top;\n",
       "    }\n",
       "\n",
       "    .dataframe thead th {\n",
       "        text-align: right;\n",
       "    }\n",
       "</style>\n",
       "<table border=\"1\" class=\"dataframe\">\n",
       "  <thead>\n",
       "    <tr style=\"text-align: right;\">\n",
       "      <th></th>\n",
       "      <th>MSZoning_RH</th>\n",
       "      <th>MSZoning_RL</th>\n",
       "      <th>MSZoning_RM</th>\n",
       "      <th>Street_Pave</th>\n",
       "      <th>LandContour_HLS</th>\n",
       "      <th>LandContour_Low</th>\n",
       "      <th>LandContour_Lvl</th>\n",
       "      <th>Utilities_NoSeWa</th>\n",
       "      <th>LotConfig_CulDSac</th>\n",
       "      <th>LotConfig_FR2</th>\n",
       "      <th>...</th>\n",
       "      <th>EnclosedPorch</th>\n",
       "      <th>ScreenPorch</th>\n",
       "      <th>PoolArea</th>\n",
       "      <th>MiscVal</th>\n",
       "      <th>YrSold</th>\n",
       "      <th>rate</th>\n",
       "      <th>new_single_family_homes</th>\n",
       "      <th>ThreeSsnPorch</th>\n",
       "      <th>FirstFlrSF</th>\n",
       "      <th>SecondFlrSF</th>\n",
       "    </tr>\n",
       "  </thead>\n",
       "  <tbody>\n",
       "    <tr>\n",
       "      <td>14</td>\n",
       "      <td>0</td>\n",
       "      <td>0</td>\n",
       "      <td>1</td>\n",
       "      <td>1</td>\n",
       "      <td>0</td>\n",
       "      <td>0</td>\n",
       "      <td>1</td>\n",
       "      <td>0</td>\n",
       "      <td>0</td>\n",
       "      <td>0</td>\n",
       "      <td>...</td>\n",
       "      <td>-0.360582</td>\n",
       "      <td>-0.266797</td>\n",
       "      <td>-0.06368</td>\n",
       "      <td>-0.087961</td>\n",
       "      <td>0.140317</td>\n",
       "      <td>-0.389658</td>\n",
       "      <td>-0.698317</td>\n",
       "      <td>-0.116704</td>\n",
       "      <td>-0.402343</td>\n",
       "      <td>1.175895</td>\n",
       "    </tr>\n",
       "    <tr>\n",
       "      <td>172</td>\n",
       "      <td>0</td>\n",
       "      <td>1</td>\n",
       "      <td>0</td>\n",
       "      <td>1</td>\n",
       "      <td>0</td>\n",
       "      <td>0</td>\n",
       "      <td>1</td>\n",
       "      <td>0</td>\n",
       "      <td>0</td>\n",
       "      <td>0</td>\n",
       "      <td>...</td>\n",
       "      <td>-0.360582</td>\n",
       "      <td>-0.266797</td>\n",
       "      <td>-0.06368</td>\n",
       "      <td>-0.087961</td>\n",
       "      <td>-0.613757</td>\n",
       "      <td>1.193836</td>\n",
       "      <td>0.678787</td>\n",
       "      <td>-0.116704</td>\n",
       "      <td>0.335547</td>\n",
       "      <td>1.262006</td>\n",
       "    </tr>\n",
       "    <tr>\n",
       "      <td>476</td>\n",
       "      <td>0</td>\n",
       "      <td>1</td>\n",
       "      <td>0</td>\n",
       "      <td>1</td>\n",
       "      <td>0</td>\n",
       "      <td>0</td>\n",
       "      <td>1</td>\n",
       "      <td>0</td>\n",
       "      <td>1</td>\n",
       "      <td>0</td>\n",
       "      <td>...</td>\n",
       "      <td>-0.360582</td>\n",
       "      <td>0.456223</td>\n",
       "      <td>-0.06368</td>\n",
       "      <td>-0.087961</td>\n",
       "      <td>0.894391</td>\n",
       "      <td>-1.313642</td>\n",
       "      <td>-0.915755</td>\n",
       "      <td>-0.116704</td>\n",
       "      <td>-0.539380</td>\n",
       "      <td>-0.797681</td>\n",
       "    </tr>\n",
       "    <tr>\n",
       "      <td>143</td>\n",
       "      <td>0</td>\n",
       "      <td>1</td>\n",
       "      <td>0</td>\n",
       "      <td>1</td>\n",
       "      <td>0</td>\n",
       "      <td>0</td>\n",
       "      <td>1</td>\n",
       "      <td>0</td>\n",
       "      <td>0</td>\n",
       "      <td>0</td>\n",
       "      <td>...</td>\n",
       "      <td>-0.360582</td>\n",
       "      <td>-0.266797</td>\n",
       "      <td>-0.06368</td>\n",
       "      <td>-0.087961</td>\n",
       "      <td>-0.613757</td>\n",
       "      <td>0.211266</td>\n",
       "      <td>0.678787</td>\n",
       "      <td>-0.116704</td>\n",
       "      <td>-0.028128</td>\n",
       "      <td>-0.797681</td>\n",
       "    </tr>\n",
       "    <tr>\n",
       "      <td>646</td>\n",
       "      <td>0</td>\n",
       "      <td>1</td>\n",
       "      <td>0</td>\n",
       "      <td>1</td>\n",
       "      <td>0</td>\n",
       "      <td>0</td>\n",
       "      <td>1</td>\n",
       "      <td>0</td>\n",
       "      <td>0</td>\n",
       "      <td>0</td>\n",
       "      <td>...</td>\n",
       "      <td>-0.360582</td>\n",
       "      <td>-0.266797</td>\n",
       "      <td>-0.06368</td>\n",
       "      <td>-0.087961</td>\n",
       "      <td>1.648465</td>\n",
       "      <td>-1.442531</td>\n",
       "      <td>-0.988234</td>\n",
       "      <td>-0.116704</td>\n",
       "      <td>1.194662</td>\n",
       "      <td>-0.797681</td>\n",
       "    </tr>\n",
       "    <tr>\n",
       "      <td>...</td>\n",
       "      <td>...</td>\n",
       "      <td>...</td>\n",
       "      <td>...</td>\n",
       "      <td>...</td>\n",
       "      <td>...</td>\n",
       "      <td>...</td>\n",
       "      <td>...</td>\n",
       "      <td>...</td>\n",
       "      <td>...</td>\n",
       "      <td>...</td>\n",
       "      <td>...</td>\n",
       "      <td>...</td>\n",
       "      <td>...</td>\n",
       "      <td>...</td>\n",
       "      <td>...</td>\n",
       "      <td>...</td>\n",
       "      <td>...</td>\n",
       "      <td>...</td>\n",
       "      <td>...</td>\n",
       "      <td>...</td>\n",
       "      <td>...</td>\n",
       "    </tr>\n",
       "    <tr>\n",
       "      <td>669</td>\n",
       "      <td>0</td>\n",
       "      <td>1</td>\n",
       "      <td>0</td>\n",
       "      <td>1</td>\n",
       "      <td>0</td>\n",
       "      <td>0</td>\n",
       "      <td>1</td>\n",
       "      <td>0</td>\n",
       "      <td>0</td>\n",
       "      <td>0</td>\n",
       "      <td>...</td>\n",
       "      <td>-0.360582</td>\n",
       "      <td>-0.266797</td>\n",
       "      <td>-0.06368</td>\n",
       "      <td>-0.087961</td>\n",
       "      <td>1.648465</td>\n",
       "      <td>-1.887785</td>\n",
       "      <td>-0.988234</td>\n",
       "      <td>-0.116704</td>\n",
       "      <td>-0.252130</td>\n",
       "      <td>1.208477</td>\n",
       "    </tr>\n",
       "    <tr>\n",
       "      <td>439</td>\n",
       "      <td>0</td>\n",
       "      <td>1</td>\n",
       "      <td>0</td>\n",
       "      <td>1</td>\n",
       "      <td>0</td>\n",
       "      <td>0</td>\n",
       "      <td>1</td>\n",
       "      <td>0</td>\n",
       "      <td>0</td>\n",
       "      <td>0</td>\n",
       "      <td>...</td>\n",
       "      <td>-0.360582</td>\n",
       "      <td>1.540752</td>\n",
       "      <td>-0.06368</td>\n",
       "      <td>-0.087961</td>\n",
       "      <td>0.894391</td>\n",
       "      <td>-1.434162</td>\n",
       "      <td>-0.915755</td>\n",
       "      <td>-0.116704</td>\n",
       "      <td>0.809905</td>\n",
       "      <td>-0.797681</td>\n",
       "    </tr>\n",
       "    <tr>\n",
       "      <td>605</td>\n",
       "      <td>0</td>\n",
       "      <td>1</td>\n",
       "      <td>0</td>\n",
       "      <td>1</td>\n",
       "      <td>0</td>\n",
       "      <td>0</td>\n",
       "      <td>1</td>\n",
       "      <td>0</td>\n",
       "      <td>0</td>\n",
       "      <td>0</td>\n",
       "      <td>...</td>\n",
       "      <td>-0.360582</td>\n",
       "      <td>-0.266797</td>\n",
       "      <td>-0.06368</td>\n",
       "      <td>-0.087961</td>\n",
       "      <td>1.648465</td>\n",
       "      <td>-1.700310</td>\n",
       "      <td>-0.988234</td>\n",
       "      <td>-0.116704</td>\n",
       "      <td>-0.644793</td>\n",
       "      <td>-0.797681</td>\n",
       "    </tr>\n",
       "    <tr>\n",
       "      <td>525</td>\n",
       "      <td>0</td>\n",
       "      <td>1</td>\n",
       "      <td>0</td>\n",
       "      <td>1</td>\n",
       "      <td>0</td>\n",
       "      <td>0</td>\n",
       "      <td>1</td>\n",
       "      <td>0</td>\n",
       "      <td>0</td>\n",
       "      <td>0</td>\n",
       "      <td>...</td>\n",
       "      <td>-0.360582</td>\n",
       "      <td>-0.266797</td>\n",
       "      <td>-0.06368</td>\n",
       "      <td>-0.087961</td>\n",
       "      <td>0.894391</td>\n",
       "      <td>-0.562069</td>\n",
       "      <td>-0.915755</td>\n",
       "      <td>-0.116704</td>\n",
       "      <td>1.495089</td>\n",
       "      <td>-0.797681</td>\n",
       "    </tr>\n",
       "    <tr>\n",
       "      <td>58</td>\n",
       "      <td>0</td>\n",
       "      <td>1</td>\n",
       "      <td>0</td>\n",
       "      <td>1</td>\n",
       "      <td>0</td>\n",
       "      <td>0</td>\n",
       "      <td>1</td>\n",
       "      <td>0</td>\n",
       "      <td>0</td>\n",
       "      <td>0</td>\n",
       "      <td>...</td>\n",
       "      <td>-0.360582</td>\n",
       "      <td>-0.266797</td>\n",
       "      <td>-0.06368</td>\n",
       "      <td>-0.087961</td>\n",
       "      <td>0.140317</td>\n",
       "      <td>0.525956</td>\n",
       "      <td>-0.698317</td>\n",
       "      <td>-0.116704</td>\n",
       "      <td>-0.513027</td>\n",
       "      <td>1.134003</td>\n",
       "    </tr>\n",
       "  </tbody>\n",
       "</table>\n",
       "<p>503 rows × 208 columns</p>\n",
       "</div>"
      ],
      "text/plain": [
       "     MSZoning_RH  MSZoning_RL  MSZoning_RM  Street_Pave  LandContour_HLS  \\\n",
       "14             0            0            1            1                0   \n",
       "172            0            1            0            1                0   \n",
       "476            0            1            0            1                0   \n",
       "143            0            1            0            1                0   \n",
       "646            0            1            0            1                0   \n",
       "..           ...          ...          ...          ...              ...   \n",
       "669            0            1            0            1                0   \n",
       "439            0            1            0            1                0   \n",
       "605            0            1            0            1                0   \n",
       "525            0            1            0            1                0   \n",
       "58             0            1            0            1                0   \n",
       "\n",
       "     LandContour_Low  LandContour_Lvl  Utilities_NoSeWa  LotConfig_CulDSac  \\\n",
       "14                 0                1                 0                  0   \n",
       "172                0                1                 0                  0   \n",
       "476                0                1                 0                  1   \n",
       "143                0                1                 0                  0   \n",
       "646                0                1                 0                  0   \n",
       "..               ...              ...               ...                ...   \n",
       "669                0                1                 0                  0   \n",
       "439                0                1                 0                  0   \n",
       "605                0                1                 0                  0   \n",
       "525                0                1                 0                  0   \n",
       "58                 0                1                 0                  0   \n",
       "\n",
       "     LotConfig_FR2  ...  EnclosedPorch  ScreenPorch  PoolArea   MiscVal  \\\n",
       "14               0  ...      -0.360582    -0.266797  -0.06368 -0.087961   \n",
       "172              0  ...      -0.360582    -0.266797  -0.06368 -0.087961   \n",
       "476              0  ...      -0.360582     0.456223  -0.06368 -0.087961   \n",
       "143              0  ...      -0.360582    -0.266797  -0.06368 -0.087961   \n",
       "646              0  ...      -0.360582    -0.266797  -0.06368 -0.087961   \n",
       "..             ...  ...            ...          ...       ...       ...   \n",
       "669              0  ...      -0.360582    -0.266797  -0.06368 -0.087961   \n",
       "439              0  ...      -0.360582     1.540752  -0.06368 -0.087961   \n",
       "605              0  ...      -0.360582    -0.266797  -0.06368 -0.087961   \n",
       "525              0  ...      -0.360582    -0.266797  -0.06368 -0.087961   \n",
       "58               0  ...      -0.360582    -0.266797  -0.06368 -0.087961   \n",
       "\n",
       "       YrSold      rate   new_single_family_homes  ThreeSsnPorch  FirstFlrSF  \\\n",
       "14   0.140317 -0.389658                 -0.698317      -0.116704   -0.402343   \n",
       "172 -0.613757  1.193836                  0.678787      -0.116704    0.335547   \n",
       "476  0.894391 -1.313642                 -0.915755      -0.116704   -0.539380   \n",
       "143 -0.613757  0.211266                  0.678787      -0.116704   -0.028128   \n",
       "646  1.648465 -1.442531                 -0.988234      -0.116704    1.194662   \n",
       "..        ...       ...                       ...            ...         ...   \n",
       "669  1.648465 -1.887785                 -0.988234      -0.116704   -0.252130   \n",
       "439  0.894391 -1.434162                 -0.915755      -0.116704    0.809905   \n",
       "605  1.648465 -1.700310                 -0.988234      -0.116704   -0.644793   \n",
       "525  0.894391 -0.562069                 -0.915755      -0.116704    1.495089   \n",
       "58   0.140317  0.525956                 -0.698317      -0.116704   -0.513027   \n",
       "\n",
       "     SecondFlrSF  \n",
       "14      1.175895  \n",
       "172     1.262006  \n",
       "476    -0.797681  \n",
       "143    -0.797681  \n",
       "646    -0.797681  \n",
       "..           ...  \n",
       "669     1.208477  \n",
       "439    -0.797681  \n",
       "605    -0.797681  \n",
       "525    -0.797681  \n",
       "58      1.134003  \n",
       "\n",
       "[503 rows x 208 columns]"
      ]
     },
     "execution_count": 203,
     "metadata": {},
     "output_type": "execute_result"
    }
   ],
   "source": [
    "X_train"
   ]
  },
  {
   "cell_type": "markdown",
   "metadata": {},
   "source": [
    "### Testing the linear regression ---- Too many features ---- Use Lasso or Elastic Net\n"
   ]
  },
  {
   "cell_type": "code",
   "execution_count": 204,
   "metadata": {},
   "outputs": [],
   "source": [
    "lr = LinearRegression()\n",
    "lr.fit(X_train, y_train)\n",
    "y_hat = lr.predict(X_test)"
   ]
  },
  {
   "cell_type": "code",
   "execution_count": 205,
   "metadata": {},
   "outputs": [],
   "source": [
    "y_hatpd = pd.DataFrame(y_hat, columns = ['SalePrice'], index = [i for i in range(len(y_hat))])"
   ]
  },
  {
   "cell_type": "code",
   "execution_count": 206,
   "metadata": {},
   "outputs": [
    {
     "name": "stdout",
     "output_type": "stream",
     "text": [
      "intercept: [1.12875601e+17]\n",
      "r^2: -1.712728046938416e+21\n",
      "rmse: 3155034281930922.0\n"
     ]
    }
   ],
   "source": [
    "from sklearn.metrics import r2_score, mean_squared_error \n",
    "\n",
    "\n",
    "print(f\"intercept: {lr.intercept_}\")\n",
    "print(f\"r^2: {lr.score(X_test,y_test)}\")\n",
    "print(f\"rmse: {np.sqrt(mean_squared_error(y_test, y_hat))}\")"
   ]
  },
  {
   "cell_type": "code",
   "execution_count": 207,
   "metadata": {},
   "outputs": [],
   "source": [
    " ### Previous R^2 values ###\n",
    "\n",
    "\n",
    "### Added Rooms, Car garage, fireplaces and some other continuous/discrete values to the catagorical side of the table... increased features\n",
    "### by approx 30 --- need to check R^2 adj \n",
    "# r^2: 0.898540213574302\n",
    "# rmse: 25772.696681156067\n",
    "\n",
    "### Replaced lot frontage with mean value instead of '0'\n",
    "# r^2: 0.8175929129184736\n",
    "# rmse: 34972.641412123485\n",
    "\n",
    "\n",
    "### Initial R^2 to beat\n",
    "# r^2: 0.6589675323\n",
    "# rmse: 36779.91592177666"
   ]
  },
  {
   "cell_type": "code",
   "execution_count": 208,
   "metadata": {},
   "outputs": [],
   "source": [
    "import statsmodels.formula.api as sm\n",
    "import statsmodels.tools as smtools\n",
    "#train_combined_string = ''\n",
    "#for i in [train_combined.columns[i] for i in range(len(train_combined.columns))]:\n",
    " #   train_combined_string += i + ' + ' \n",
    "#train_combined_string = train_combined_string[0:-3]\n",
    "\n",
    "\n",
    "#train_combined_withc = smtools.add_constant(train_combined)\n",
    "#sm_formula = (\"SalePrice ~ \" + train_combined_string ) \n",
    "#ols_data = pd.merge(targetdf, train_combined_withc, left_index=True, right_index=True)\n",
    "\n",
    "#results = sm.ols(formula = sm_formula,data = ols_data).fit()"
   ]
  },
  {
   "cell_type": "markdown",
   "metadata": {},
   "source": [
    "# Lasso Regression"
   ]
  },
  {
   "cell_type": "code",
   "execution_count": 209,
   "metadata": {},
   "outputs": [],
   "source": [
    "import statsmodels.tools.tools as smtools\n",
    "train_combined_withc = smtools.add_constant(train_combined)"
   ]
  },
  {
   "cell_type": "code",
   "execution_count": 210,
   "metadata": {},
   "outputs": [],
   "source": [
    "from sklearn.model_selection import train_test_split\n",
    "X = train_combined_withc\n",
    "y = targetdf\n",
    "\n",
    "# Train-test split, then \"set aside\" test set\n",
    "X_train, X_test, y_train, y_test = train_test_split(X, y, test_size=.1)"
   ]
  },
  {
   "cell_type": "markdown",
   "metadata": {},
   "source": [
    "### Arbitrary Alpha = .5 Lasso Regression"
   ]
  },
  {
   "cell_type": "code",
   "execution_count": 211,
   "metadata": {},
   "outputs": [
    {
     "name": "stdout",
     "output_type": "stream",
     "text": [
      "R2 on test: 0.5200186917671132,\n",
      "R2 on all: 0.8622472785133917\n"
     ]
    }
   ],
   "source": [
    "Lassoreg = Lasso(alpha= .5, max_iter = 1000000000, normalize = False)\n",
    "Lassoreg.fit(X_train, y_train)\n",
    "L_target_prediction = Lassoreg.predict(X_test)\n",
    "\n",
    "print(f'R2 on test: {Lassoreg.score(X_test, y_test)},\\nR2 on all: {Lassoreg.score(X,y)}')\n"
   ]
  },
  {
   "cell_type": "markdown",
   "metadata": {},
   "source": [
    "The difference in the R2 is not significant enough to warrent overfitting this model decent. \n",
    "\n",
    "Can we optimize alpha?"
   ]
  },
  {
   "cell_type": "markdown",
   "metadata": {},
   "source": [
    "# Optimizing alpha term"
   ]
  },
  {
   "cell_type": "code",
   "execution_count": 212,
   "metadata": {},
   "outputs": [
    {
     "data": {
      "text/plain": [
       "[(0.5, 0.8881264891704683, 0.7309875955524678),\n",
       " (0.5344827586206896, 0.8881237022079507, 0.7309808939885103),\n",
       " (0.5689655172413793, 0.888120730294786, 0.730973747689978),\n",
       " (0.603448275862069, 0.8881184375576054, 0.7316243940578051),\n",
       " (0.6379310344827587, 0.8881163154065708, 0.7316193035535486),\n",
       " (0.6724137931034483, 0.8881140757025409, 0.7316139310693517),\n",
       " (0.7068965517241379, 0.8881117181163385, 0.7316082758156011),\n",
       " (0.7413793103448276, 0.8881091873815359, 0.7312747847573289),\n",
       " (0.7758620689655172, 0.8881057098760561, 0.7315938635649029),\n",
       " (0.8103448275862069, 0.8881020821300522, 0.7315851615186428),\n",
       " (0.8448275862068966, 0.8880983011574507, 0.7319021798563923),\n",
       " (0.8793103448275862, 0.8880943732762734, 0.7318927693077384),\n",
       " (0.9137931034482758, 0.8880902885968942, 0.7318829830967257),\n",
       " (0.9482758620689655, 0.8880860469016314, 0.7318728207018252),\n",
       " (0.9827586206896551, 0.8880816482132221, 0.7318622821775114),\n",
       " (1.0172413793103448, 0.8880770925973632, 0.7318513676811828),\n",
       " (1.0517241379310345, 0.8880723800111716, 0.7318400771100987),\n",
       " (1.0862068965517242, 0.8880675105217967, 0.7318284106251378),\n",
       " (1.1206896551724137, 0.8880624841663655, 0.7318163683152505),\n",
       " (1.1551724137931034, 0.8880573006264618, 0.7318039494175648),\n",
       " (1.1896551724137931, 0.8880519606284333, 0.731791155672288),\n",
       " (1.2241379310344827, 0.8880464634442145, 0.7317779853350972),\n",
       " (1.2586206896551724, 0.8880408091304579, 0.7317644385417221),\n",
       " (1.293103448275862, 0.8880349985456681, 0.7317505173489967),\n",
       " (1.3275862068965516, 0.8880290308136742, 0.7317362196577613),\n",
       " (1.3620689655172413, 0.8880229060042257, 0.7317215456351241),\n",
       " (1.396551724137931, 0.8880166245222108, 0.7317064962511299),\n",
       " (1.4310344827586206, 0.8880101859056267, 0.7316910703988975),\n",
       " (1.4655172413793103, 0.8880035908934284, 0.7316752698488389),\n",
       " (1.5, 0.8879968386662764, 0.7316590926379539)]"
      ]
     },
     "execution_count": 212,
     "metadata": {},
     "output_type": "execute_result"
    },
    {
     "data": {
      "image/png": "[encoded data removed]",
      "text/plain": [
       "<Figure size 432x288 with 1 Axes>"
      ]
     },
     "metadata": {
      "needs_background": "light"
     },
     "output_type": "display_data"
    }
   ],
   "source": [
    "from sklearn.linear_model import Lasso #### try alphas; check adj R^2\n",
    "a = .05\n",
    "results = []\n",
    "\n",
    "for a in np.linspace(.5, 1.5, num=30):\n",
    "    Lassoreg = Lasso(alpha= a, max_iter = 1000000000, normalize = False)\n",
    "    Lassoreg.fit(X, y)\n",
    "    L_target_prediction = Lassoreg.predict(X_test)\n",
    "    lassCoef = Lassoreg.coef_\n",
    "    \n",
    "    count = 0\n",
    "    \n",
    "    for i in Lassoreg.coef_: ### If the coef is significantly small the term is considered removed\n",
    "        if abs(i) < .01:\n",
    "            count += 1       ### Here is the numver of terms removed\n",
    "    \n",
    "    R2 = Lassoreg.score(X, y)\n",
    "    n = len(X)\n",
    "    k = len(X.columns) - count     ### here the original number of terms is subtracted by the insignificant terms\n",
    "    adjR2 = R2 - ((n - 1)/(n - k)) * (1 - R2)\n",
    "    \n",
    "    results.append((a, R2, adjR2))\n",
    "\n",
    "    plt.scatter(x=a, y = adjR2, c='b')\n",
    "    plt.scatter(x=a, y = R2, c='r')\n",
    "    plt.xlabel('Alpha')\n",
    "    plt.ylabel('R2')\n",
    "    plt.title('Optimizing Alpha for Lasso Regression')\n",
    "results   \n",
    "    #print(f'Adjusted R2: {adjR2}')"
   ]
  },
  {
   "cell_type": "markdown",
   "metadata": {},
   "source": [
    "# Final model - Incorperating all the data for the best model"
   ]
  },
  {
   "cell_type": "code",
   "execution_count": 213,
   "metadata": {},
   "outputs": [
    {
     "name": "stdout",
     "output_type": "stream",
     "text": [
      "rmse: 23717.64270306713\n",
      "saleprice mean: 180373.88375558867\n",
      "Adjusted R2: 0.7319021333025424\n",
      "R2: 0.8880982817262786\n"
     ]
    }
   ],
   "source": [
    "Lassoreg = Lasso(alpha= .845, max_iter = 1000000000, normalize = False)\n",
    "Lassoreg.fit(X, y)\n",
    "L_target_prediction = Lassoreg.predict(X)\n",
    "lassCoef = Lassoreg.coef_\n",
    "\n",
    "count = 0\n",
    "for i in Lassoreg.coef_:\n",
    "    if abs(i) < .01:\n",
    "        count += 1\n",
    "    \n",
    "R2 = Lassoreg.score(X, y)\n",
    "n = len(X)\n",
    "k = len(X.columns) - count\n",
    "adjR2 = R2 - ((n - 1)/(n - k)) * (1 - R2)\n",
    "rmse = (mean_squared_error(y, L_target_prediction))**.5\n",
    "\n",
    "print(f'rmse: {rmse}')\n",
    "print(f'saleprice mean: {y.SalePrice.mean()}')\n",
    "print(f'Adjusted R2: {adjR2}') \n",
    "print(f'R2: {Lassoreg.score(X, y)}')"
   ]
  },
  {
   "cell_type": "code",
   "execution_count": 214,
   "metadata": {},
   "outputs": [
    {
     "name": "stdout",
     "output_type": "stream",
     "text": [
      "-98102.18036616991, ThreeSsnPorch\n",
      "-92681.36347041662, BedroomAbvGr_5\n",
      "-85451.04172615249, BedroomAbvGr_6\n",
      "-84565.52365428804, Functional_Sev\n",
      "-83541.69625966609, Condition2_PosN\n",
      "-74601.62838894122, Fireplaces_3\n",
      "-59657.077438151246, LotConfig_FR3\n",
      "-56509.22594031516, BedroomAbvGr_3\n",
      "-52344.241611673344, BedroomAbvGr_4\n",
      "-48749.27273588558, BedroomAbvGr_2\n",
      "-48250.342900427066, BldgType_Twnhs\n",
      "-43545.16675955693, RoofMatl_Membran\n",
      "-37114.898179335825, BedroomAbvGr_1\n",
      "-30444.570153562996, Foundation_Slab\n",
      "-26131.606011770982, Neighborhood_MeadowV\n",
      "-25727.35918239295, BldgType_TwnhsE\n",
      "-24452.181360689385, Condition2_Feedr\n",
      "-22461.00345572984, RoofStyle_Gable\n",
      "-21786.62019741135, Neighborhood_OldTown\n",
      "-21611.28274214255, Exterior1st_Stone\n",
      "-20318.311182195, Neighborhood_IDOTRR\n",
      "-18873.748729960644, SaleType_ConLD\n",
      "-17722.187764906852, HouseStyle_2Story\n",
      "-17700.404117333896, Functional_Maj2\n",
      "-16088.14357640723, Neighborhood_Edwards\n",
      "-15368.64694970797, HouseStyle_2_5Unf\n",
      "-14366.588338821983, RoofStyle_Mansard\n",
      "-14032.576417849046, MSZoning_RL\n",
      "-13927.982464683084, SaleCondition_Alloca\n",
      "-13425.402546596857, MSZoning_RH\n",
      "-13212.166109937492, Condition2_RRNn\n",
      "-12525.476999079545, RoofStyle_Hip\n",
      "-12519.543338681393, Electrical_None\n",
      "-11941.17196343595, HouseStyle_SLvl\n",
      "-11569.156289842975, HalfBath_2\n",
      "-11115.123237529642, HouseStyle_2_5Fin\n",
      "-10745.200878767944, RoofMatl_Roll\n",
      "-9952.386580504153, LotConfig_FR2\n",
      "-9743.083521783927, GarageCars_4\n",
      "-9380.779434645381, Exterior1st_WdShing\n",
      "-9024.753556228141, Electrical_FuseF\n",
      "-8597.855459716482, GarageCars_1\n",
      "-8353.407877962421, Condition1_PosA\n",
      "-8054.666410261004, Neighborhood_Blueste\n",
      "-7639.81903731024, SaleType_Oth\n",
      "-7520.066817680323, Neighborhood_NAmes\n",
      "-7000.247822450056, Neighborhood_Gilbert\n",
      "-6953.388691962262, PavedDrive_P\n",
      "-6892.480091117012, HouseStyle_1_5Unf\n",
      "-6773.996254696173, Neighborhood_BrkSide\n",
      "-6743.33868037652, Neighborhood_Mitchel\n",
      "-6627.16781082228, MoSold_10\n",
      "-6280.987090103681, Fence_MnPrv\n",
      "-5685.0905983761395, LotArea\n",
      "-4978.539848771414, Fence_NoFence\n",
      "-4757.78808047431, Neighborhood_Sawyer\n",
      "-4655.182324257559, Fence_MnWw\n",
      "-4537.480803804368, Fence_GdWo\n",
      "-3268.778120618966, RoofStyle_Gambrel\n",
      "-3151.859726246086, Electrical_SBrkr\n",
      "-3033.3270004667547, BsmtUnfSF\n",
      "-2931.161761099939, MoSold_8\n",
      "-2685.125026123944, Exterior1st_HdBoard\n",
      "-2625.5450897701453, HouseStyle_1Story\n",
      "-2616.4526186369512, FirstFlrSF\n",
      "-2490.2704185181888, MSZoning_RM\n",
      "-2241.0603662804538, Electrical_Mix\n",
      "-2224.588890952786, SaleType_WD\n",
      "-2197.7333921107793, ScreenPorch\n",
      "-2080.684484701801, LotConfig_Inside\n",
      "-2028.8256888234266, SecondFlrSF\n",
      "-1962.2128490236587, LowQualFinSF\n",
      "-1845.7542345836714, GarageArea\n",
      "-1263.265966991983, TotRmsAbvGrd_3\n",
      "-1237.3580424841994, OpenPorchSF\n",
      "-1233.6485564127165, YearBuilt\n",
      "-709.8929651722123, MoSold_7\n",
      "-705.3801745456717, BsmtFinSF1\n",
      "0.0, PoolArea\n",
      "336.1131315744904, OverallCond\n",
      "372.79996164748724, LotFrontage\n",
      "557.787729281903, Neighborhood_NPkVill\n",
      "867.5158365407233, PavedDrive_Y\n",
      "960.9413225736369, MoSold_2\n",
      "1203.6643480613866, EnclosedPorch\n",
      "1203.8148577989555, Condition2_Norm\n",
      "1540.457464844955, WoodDeckSF\n",
      "1548.845384319723, BsmtFinSF2\n",
      "1891.811209554732, LandContour_Lvl\n",
      "1898.4776832458124, SaleCondition_Normal\n",
      "2132.869597463776, HouseStyle_SFoyer\n",
      "2515.457880034942, rate\n",
      "2526.4973263439097, MasVnrArea\n",
      "2531.643772121073, YrSold\n",
      "2584.4325817296635, Neighborhood_Timber\n",
      "2723.588428328496, Neighborhood_BrDale\n",
      "2765.0811068352973, MoSold_11\n",
      "2847.685247822528, Electrical_FuseP\n",
      "3053.848270323255, MiscVal\n",
      "3121.066767058462, MoSold_12\n",
      "3298.256475299657, MoSold_5\n",
      "3742.4604303844812, Exterior1st_Plywood\n",
      "4620.058566350431, LotConfig_CulDSac\n",
      "4913.2232648048075, MoSold_3\n",
      "4934.50490054954,  new_single_family_homes\n",
      "4987.847444788454, SaleCondition_Family\n",
      "5070.012504030061, OverallQual\n",
      "5411.212821059336, Exterior1st_Wd_Sdng\n",
      "6016.709232603197, Foundation_CBlock\n",
      "6236.504009656575, Exterior1st_VinylSd\n",
      "6266.373645030671, Foundation_PConc\n",
      "6407.269031488332, MoSold_6\n",
      "6552.162131929946, MoSold_4\n",
      "6678.775849594548, RoofMatl_WdShngl\n",
      "6742.86485779477, Heating_GasA\n",
      "6924.459821390989, Neighborhood_ClearCr\n",
      "7228.3100323269655, GarageType_NoGarage\n",
      "8132.550334915134, Functional_Min1\n",
      "8275.322441781123, SaleCondition_AdjLand\n",
      "8285.010808100935, MasVnrType_BrkFace\n",
      "8721.359232434697, Exterior1st_MetalSd\n",
      "9099.739143038742, MoSold_9\n",
      "9150.919281030734, Condition1_Feedr\n",
      "9600.696113293552, Condition2_RRAn\n",
      "10994.41815827037, BldgType_Duplex\n",
      "11049.632355585987, Functional_Min2\n",
      "12327.234919052118, LandSlope_Mod\n",
      "12568.17797632872, Exterior1st_Stucco\n",
      "13614.226318576782, Fireplaces_1\n",
      "13707.709526121656, MasVnrType_Stone\n",
      "14612.90730935215, Condition1_RRAe\n",
      "14613.64140049189, Neighborhood_Crawfor\n",
      "15097.006100174192, BsmtHalfBath_1\n",
      "15878.202248950129, Heating_GasW\n",
      "15941.176709697787, RoofMatl_TarGrv\n",
      "16551.996685542897, HalfBath_1\n",
      "16794.4960201631, Heating_OthW\n",
      "16995.094912652996, LandSlope_Sev\n",
      "17030.873280055144, Neighborhood_CollgCr\n",
      "17703.53266196777, Heating_Grav\n",
      "17838.311909060478, LandContour_HLS\n",
      "18024.740181727688, Neighborhood_SawyerW\n",
      "18420.08092274332, CentralAir_Y\n",
      "18704.96491859854, Functional_Typ\n",
      "18821.414420979727, SaleType_ConLw\n",
      "18956.985035689522, Foundation_Stone\n",
      "19204.515385859588, BsmtFullBath_1\n",
      "19245.12011323737, GarageType_Detchd\n",
      "20255.707465464806, LandContour_Low\n",
      "22767.00557921794, Condition2_RRAe\n",
      "23139.887311269922, BldgType_2fmCon\n",
      "23991.173586136552, SaleCondition_Partial\n",
      "25278.382052101082, Exterior1st_CemntBd\n",
      "25773.930122189555, GarageType_Attchd\n",
      "27536.22521151606, Condition1_Norm\n",
      "27680.692348243792, GarageCars_3\n",
      "28162.625844454175, Neighborhood_Somerst\n",
      "29155.3276240338, GarageType_BuiltIn\n",
      "29232.091672599698, Neighborhood_Veenker\n",
      "30730.18732744283, Condition1_RRAn\n",
      "30790.448484366443, Condition1_RRNe\n",
      "31737.473769813718, Exterior1st_BrkFace\n",
      "33154.13914904422, TotRmsAbvGrd_4\n",
      "33317.13915944044, Fireplaces_2\n",
      "33769.521851029705, GarageType_Basment\n",
      "33985.35899316774, Condition1_PosN\n",
      "35019.23122620444, TotRmsAbvGrd_5\n",
      "35064.35862639155, KitchenAbvGr_1\n",
      "40362.20734308835, SaleType_CWD\n",
      "40514.34999481258, TotRmsAbvGrd_6\n",
      "40686.78802363786, BsmtFullBath_2\n",
      "45894.5764759883, RoofMatl_WdShake\n",
      "46664.89897878223, Street_Pave\n",
      "50446.74368100169, Functional_Mod\n",
      "52138.52155723393, TotRmsAbvGrd_7\n",
      "52481.982292913235, GarageType_CarPort\n",
      "58472.52360171839, SaleType_Con\n",
      "61412.94317384035, TotRmsAbvGrd_8\n",
      "64814.46395025854, FullBath_1\n",
      "65243.42058806589, TotRmsAbvGrd_9\n",
      "68667.90242427628, TotRmsAbvGrd_12\n",
      "69168.44076918259, Neighborhood_StoneBr\n",
      "70543.41601054848, Neighborhood_NoRidge\n",
      "74064.68244807485, BedroomAbvGr_8\n",
      "78623.33606565434, BsmtHalfBath_2\n",
      "80874.96179521829, TotRmsAbvGrd_11\n",
      "87438.8688989149, FullBath_2\n",
      "87605.26859185872, Neighborhood_NridgHt\n",
      "95192.30515781688, Condition1_RRNn\n",
      "95760.81959865562, TotRmsAbvGrd_10\n",
      "126063.45812442599, FullBath_3\n",
      "141276.86696800246, Condition2_PosA\n"
     ]
    }
   ],
   "source": [
    "coef_col =  {}\n",
    "\n",
    "for i in range(len(Lassoreg.coef_)):\n",
    "    coef_col[Lassoreg.coef_[i]] =  train_combined.columns[i] \n",
    "for key in sorted(coef_col.keys()):\n",
    "    print(f'{key}, {coef_col[key]}')"
   ]
  },
  {
   "cell_type": "markdown",
   "metadata": {},
   "source": [
    "## Confirming Assumptions are upheld"
   ]
  },
  {
   "cell_type": "markdown",
   "metadata": {},
   "source": [
    "### No Collinearity between features"
   ]
  },
  {
   "cell_type": "code",
   "execution_count": 696,
   "metadata": {},
   "outputs": [
    {
     "data": {
      "text/plain": [
       "[]"
      ]
     },
     "execution_count": 696,
     "metadata": {},
     "output_type": "execute_result"
    }
   ],
   "source": [
    "test_colinear(train_combined)"
   ]
  },
  {
   "cell_type": "code",
   "execution_count": 697,
   "metadata": {},
   "outputs": [
    {
     "data": {
      "text/plain": [
       "{}"
      ]
     },
     "execution_count": 697,
     "metadata": {},
     "output_type": "execute_result"
    }
   ],
   "source": [
    "corr_saleprice = {}\n",
    "for i, k in test_colinear(train_combined):\n",
    "    corr_saleprice[i] = train_combined[f'{i}'].corr(targetdf['SalePrice'])\n",
    "    corr_saleprice[k] = train_combined[f'{k}'].corr(targetdf['SalePrice'])\n",
    "corr_saleprice"
   ]
  },
  {
   "cell_type": "markdown",
   "metadata": {},
   "source": [
    "### Normal distribution of residual: Q-Q plot"
   ]
  },
  {
   "cell_type": "code",
   "execution_count": 699,
   "metadata": {},
   "outputs": [],
   "source": [
    "residuals = L_target_prediction - y.SalePrice"
   ]
  },
  {
   "cell_type": "code",
   "execution_count": 700,
   "metadata": {},
   "outputs": [
    {
     "data": {
      "image/png": "[encoded data removed]",
      "text/plain": [
       "<Figure size 432x288 with 1 Axes>"
      ]
     },
     "metadata": {
      "needs_background": "light"
     },
     "output_type": "display_data"
    }
   ],
   "source": [
    "from statsmodels.graphics.gofplots import qqplot\n",
    "qqplot(residuals, line='q');\n",
    "plt.title('Q-Q Plot');"
   ]
  },
  {
   "cell_type": "markdown",
   "metadata": {},
   "source": [
    "### Homoscedasticity:"
   ]
  },
  {
   "cell_type": "code",
   "execution_count": 701,
   "metadata": {},
   "outputs": [
    {
     "data": {
      "image/png": "[encoded data removed]",
      "text/plain": [
       "<Figure size 432x288 with 1 Axes>"
      ]
     },
     "metadata": {
      "needs_background": "light"
     },
     "output_type": "display_data"
    }
   ],
   "source": [
    "plt.scatter(x = L_target_prediction, y = residuals);"
   ]
  },
  {
   "cell_type": "markdown",
   "metadata": {},
   "source": [
    "### No AutoCorrelation"
   ]
  },
  {
   "cell_type": "markdown",
   "metadata": {},
   "source": [
    "#### Durbin-Watson Test"
   ]
  },
  {
   "cell_type": "code",
   "execution_count": 702,
   "metadata": {},
   "outputs": [
    {
     "data": {
      "text/plain": [
       "2.156403685486642"
      ]
     },
     "execution_count": 702,
     "metadata": {},
     "output_type": "execute_result"
    }
   ],
   "source": [
    "import statsmodels.stats.stattools as stools\n",
    "stools.durbin_watson(residuals)\n"
   ]
  },
  {
   "cell_type": "markdown",
   "metadata": {},
   "source": [
    "Value is extremely close to 2, by definition a value of 2 means there is no auto correlation."
   ]
  },
  {
   "cell_type": "markdown",
   "metadata": {},
   "source": [
    "### Implementation of XGBoost\n"
   ]
  },
  {
   "cell_type": "code",
   "execution_count": 704,
   "metadata": {},
   "outputs": [],
   "source": [
    "import xgboost\n",
    "from xgboost import plot_importance\n",
    "from xgboost import XGBRegressor\n",
    "from sklearn.metrics import accuracy_score\n",
    "from sklearn.metrics import mean_squared_error"
   ]
  },
  {
   "cell_type": "code",
   "execution_count": 718,
   "metadata": {},
   "outputs": [
    {
     "ename": "XGBoostError",
     "evalue": "[19:01:52] src/objective/objective.cc:23: Unknown objective function rmse\nStack trace:\n  [bt] (0) 1   libxgboost.dylib                    0x000000012ec6d579 dmlc::LogMessageFatal::~LogMessageFatal() + 57\n  [bt] (1) 2   libxgboost.dylib                    0x000000012ecf424d xgboost::ObjFunction::Create(std::__1::basic_string<char, std::__1::char_traits<char>, std::__1::allocator<char> > const&) + 541\n  [bt] (2) 3   libxgboost.dylib                    0x000000012ec72b0a xgboost::LearnerImpl::LazyInitModel() + 1402\n  [bt] (3) 4   libxgboost.dylib                    0x000000012ec882fe XGBoosterUpdateOneIter + 158\n  [bt] (4) 5   libffi.6.dylib                      0x0000000106253884 ffi_call_unix64 + 76\n  [bt] (5) 6   ???                                 0x00007ffeeb53d7a0 0x0 + 140732846561184\n\n",
     "output_type": "error",
     "traceback": [
      "\u001b[0;31m---------------------------------------------------------------------------\u001b[0m",
      "\u001b[0;31mXGBoostError\u001b[0m                              Traceback (most recent call last)",
      "\u001b[0;32m<ipython-input-718-edff39299585>\u001b[0m in \u001b[0;36m<module>\u001b[0;34m\u001b[0m\n\u001b[1;32m      1\u001b[0m \u001b[0mXGBoost\u001b[0m \u001b[0;34m=\u001b[0m \u001b[0mXGBRegressor\u001b[0m\u001b[0;34m(\u001b[0m\u001b[0mmax_depth\u001b[0m\u001b[0;34m=\u001b[0m\u001b[0;36m20\u001b[0m\u001b[0;34m,\u001b[0m \u001b[0mobjective\u001b[0m\u001b[0;34m=\u001b[0m\u001b[0;34m'rmse'\u001b[0m\u001b[0;34m)\u001b[0m\u001b[0;34m\u001b[0m\u001b[0;34m\u001b[0m\u001b[0m\n\u001b[0;32m----> 2\u001b[0;31m \u001b[0mXGBoost\u001b[0m\u001b[0;34m.\u001b[0m\u001b[0mfit\u001b[0m\u001b[0;34m(\u001b[0m\u001b[0mX_train\u001b[0m\u001b[0;34m,\u001b[0m \u001b[0my_train\u001b[0m\u001b[0;34m,\u001b[0m\u001b[0;34m)\u001b[0m\u001b[0;34m\u001b[0m\u001b[0;34m\u001b[0m\u001b[0m\n\u001b[0m\u001b[1;32m      3\u001b[0m \u001b[0;34m\u001b[0m\u001b[0m\n\u001b[1;32m      4\u001b[0m \u001b[0my_pred\u001b[0m \u001b[0;34m=\u001b[0m \u001b[0mXGBoost\u001b[0m\u001b[0;34m.\u001b[0m\u001b[0mpredict\u001b[0m\u001b[0;34m(\u001b[0m\u001b[0mX_test\u001b[0m\u001b[0;34m)\u001b[0m\u001b[0;34m\u001b[0m\u001b[0;34m\u001b[0m\u001b[0m\n\u001b[1;32m      5\u001b[0m \u001b[0mXGBoost_mse\u001b[0m \u001b[0;34m=\u001b[0m \u001b[0mmean_squared_error\u001b[0m\u001b[0;34m(\u001b[0m\u001b[0my_test\u001b[0m\u001b[0;34m,\u001b[0m \u001b[0my_pred\u001b[0m\u001b[0;34m)\u001b[0m\u001b[0;34m\u001b[0m\u001b[0;34m\u001b[0m\u001b[0m\n",
      "\u001b[0;32m~/opt/anaconda3/lib/python3.7/site-packages/xgboost/sklearn.py\u001b[0m in \u001b[0;36mfit\u001b[0;34m(self, X, y, sample_weight, eval_set, eval_metric, early_stopping_rounds, verbose, xgb_model, sample_weight_eval_set, callbacks)\u001b[0m\n\u001b[1;32m    394\u001b[0m                               \u001b[0mevals_result\u001b[0m\u001b[0;34m=\u001b[0m\u001b[0mevals_result\u001b[0m\u001b[0;34m,\u001b[0m \u001b[0mobj\u001b[0m\u001b[0;34m=\u001b[0m\u001b[0mobj\u001b[0m\u001b[0;34m,\u001b[0m \u001b[0mfeval\u001b[0m\u001b[0;34m=\u001b[0m\u001b[0mfeval\u001b[0m\u001b[0;34m,\u001b[0m\u001b[0;34m\u001b[0m\u001b[0;34m\u001b[0m\u001b[0m\n\u001b[1;32m    395\u001b[0m                               \u001b[0mverbose_eval\u001b[0m\u001b[0;34m=\u001b[0m\u001b[0mverbose\u001b[0m\u001b[0;34m,\u001b[0m \u001b[0mxgb_model\u001b[0m\u001b[0;34m=\u001b[0m\u001b[0mxgb_model\u001b[0m\u001b[0;34m,\u001b[0m\u001b[0;34m\u001b[0m\u001b[0;34m\u001b[0m\u001b[0m\n\u001b[0;32m--> 396\u001b[0;31m                               callbacks=callbacks)\n\u001b[0m\u001b[1;32m    397\u001b[0m \u001b[0;34m\u001b[0m\u001b[0m\n\u001b[1;32m    398\u001b[0m         \u001b[0;32mif\u001b[0m \u001b[0mevals_result\u001b[0m\u001b[0;34m:\u001b[0m\u001b[0;34m\u001b[0m\u001b[0;34m\u001b[0m\u001b[0m\n",
      "\u001b[0;32m~/opt/anaconda3/lib/python3.7/site-packages/xgboost/training.py\u001b[0m in \u001b[0;36mtrain\u001b[0;34m(params, dtrain, num_boost_round, evals, obj, feval, maximize, early_stopping_rounds, evals_result, verbose_eval, xgb_model, callbacks, learning_rates)\u001b[0m\n\u001b[1;32m    214\u001b[0m                            \u001b[0mevals\u001b[0m\u001b[0;34m=\u001b[0m\u001b[0mevals\u001b[0m\u001b[0;34m,\u001b[0m\u001b[0;34m\u001b[0m\u001b[0;34m\u001b[0m\u001b[0m\n\u001b[1;32m    215\u001b[0m                            \u001b[0mobj\u001b[0m\u001b[0;34m=\u001b[0m\u001b[0mobj\u001b[0m\u001b[0;34m,\u001b[0m \u001b[0mfeval\u001b[0m\u001b[0;34m=\u001b[0m\u001b[0mfeval\u001b[0m\u001b[0;34m,\u001b[0m\u001b[0;34m\u001b[0m\u001b[0;34m\u001b[0m\u001b[0m\n\u001b[0;32m--> 216\u001b[0;31m                            xgb_model=xgb_model, callbacks=callbacks)\n\u001b[0m\u001b[1;32m    217\u001b[0m \u001b[0;34m\u001b[0m\u001b[0m\n\u001b[1;32m    218\u001b[0m \u001b[0;34m\u001b[0m\u001b[0m\n",
      "\u001b[0;32m~/opt/anaconda3/lib/python3.7/site-packages/xgboost/training.py\u001b[0m in \u001b[0;36m_train_internal\u001b[0;34m(params, dtrain, num_boost_round, evals, obj, feval, xgb_model, callbacks)\u001b[0m\n\u001b[1;32m     72\u001b[0m         \u001b[0;31m# Skip the first update if it is a recovery step.\u001b[0m\u001b[0;34m\u001b[0m\u001b[0;34m\u001b[0m\u001b[0;34m\u001b[0m\u001b[0m\n\u001b[1;32m     73\u001b[0m         \u001b[0;32mif\u001b[0m \u001b[0mversion\u001b[0m \u001b[0;34m%\u001b[0m \u001b[0;36m2\u001b[0m \u001b[0;34m==\u001b[0m \u001b[0;36m0\u001b[0m\u001b[0;34m:\u001b[0m\u001b[0;34m\u001b[0m\u001b[0;34m\u001b[0m\u001b[0m\n\u001b[0;32m---> 74\u001b[0;31m             \u001b[0mbst\u001b[0m\u001b[0;34m.\u001b[0m\u001b[0mupdate\u001b[0m\u001b[0;34m(\u001b[0m\u001b[0mdtrain\u001b[0m\u001b[0;34m,\u001b[0m \u001b[0mi\u001b[0m\u001b[0;34m,\u001b[0m \u001b[0mobj\u001b[0m\u001b[0;34m)\u001b[0m\u001b[0;34m\u001b[0m\u001b[0;34m\u001b[0m\u001b[0m\n\u001b[0m\u001b[1;32m     75\u001b[0m             \u001b[0mbst\u001b[0m\u001b[0;34m.\u001b[0m\u001b[0msave_rabit_checkpoint\u001b[0m\u001b[0;34m(\u001b[0m\u001b[0;34m)\u001b[0m\u001b[0;34m\u001b[0m\u001b[0;34m\u001b[0m\u001b[0m\n\u001b[1;32m     76\u001b[0m             \u001b[0mversion\u001b[0m \u001b[0;34m+=\u001b[0m \u001b[0;36m1\u001b[0m\u001b[0;34m\u001b[0m\u001b[0;34m\u001b[0m\u001b[0m\n",
      "\u001b[0;32m~/opt/anaconda3/lib/python3.7/site-packages/xgboost/core.py\u001b[0m in \u001b[0;36mupdate\u001b[0;34m(self, dtrain, iteration, fobj)\u001b[0m\n\u001b[1;32m   1107\u001b[0m         \u001b[0;32mif\u001b[0m \u001b[0mfobj\u001b[0m \u001b[0;32mis\u001b[0m \u001b[0;32mNone\u001b[0m\u001b[0;34m:\u001b[0m\u001b[0;34m\u001b[0m\u001b[0;34m\u001b[0m\u001b[0m\n\u001b[1;32m   1108\u001b[0m             _check_call(_LIB.XGBoosterUpdateOneIter(self.handle, ctypes.c_int(iteration),\n\u001b[0;32m-> 1109\u001b[0;31m                                                     dtrain.handle))\n\u001b[0m\u001b[1;32m   1110\u001b[0m         \u001b[0;32melse\u001b[0m\u001b[0;34m:\u001b[0m\u001b[0;34m\u001b[0m\u001b[0;34m\u001b[0m\u001b[0m\n\u001b[1;32m   1111\u001b[0m             \u001b[0mpred\u001b[0m \u001b[0;34m=\u001b[0m \u001b[0mself\u001b[0m\u001b[0;34m.\u001b[0m\u001b[0mpredict\u001b[0m\u001b[0;34m(\u001b[0m\u001b[0mdtrain\u001b[0m\u001b[0;34m)\u001b[0m\u001b[0;34m\u001b[0m\u001b[0;34m\u001b[0m\u001b[0m\n",
      "\u001b[0;32m~/opt/anaconda3/lib/python3.7/site-packages/xgboost/core.py\u001b[0m in \u001b[0;36m_check_call\u001b[0;34m(ret)\u001b[0m\n\u001b[1;32m    174\u001b[0m     \"\"\"\n\u001b[1;32m    175\u001b[0m     \u001b[0;32mif\u001b[0m \u001b[0mret\u001b[0m \u001b[0;34m!=\u001b[0m \u001b[0;36m0\u001b[0m\u001b[0;34m:\u001b[0m\u001b[0;34m\u001b[0m\u001b[0;34m\u001b[0m\u001b[0m\n\u001b[0;32m--> 176\u001b[0;31m         \u001b[0;32mraise\u001b[0m \u001b[0mXGBoostError\u001b[0m\u001b[0;34m(\u001b[0m\u001b[0mpy_str\u001b[0m\u001b[0;34m(\u001b[0m\u001b[0m_LIB\u001b[0m\u001b[0;34m.\u001b[0m\u001b[0mXGBGetLastError\u001b[0m\u001b[0;34m(\u001b[0m\u001b[0;34m)\u001b[0m\u001b[0;34m)\u001b[0m\u001b[0;34m)\u001b[0m\u001b[0;34m\u001b[0m\u001b[0;34m\u001b[0m\u001b[0m\n\u001b[0m\u001b[1;32m    177\u001b[0m \u001b[0;34m\u001b[0m\u001b[0m\n\u001b[1;32m    178\u001b[0m \u001b[0;34m\u001b[0m\u001b[0m\n",
      "\u001b[0;31mXGBoostError\u001b[0m: [19:01:52] src/objective/objective.cc:23: Unknown objective function rmse\nStack trace:\n  [bt] (0) 1   libxgboost.dylib                    0x000000012ec6d579 dmlc::LogMessageFatal::~LogMessageFatal() + 57\n  [bt] (1) 2   libxgboost.dylib                    0x000000012ecf424d xgboost::ObjFunction::Create(std::__1::basic_string<char, std::__1::char_traits<char>, std::__1::allocator<char> > const&) + 541\n  [bt] (2) 3   libxgboost.dylib                    0x000000012ec72b0a xgboost::LearnerImpl::LazyInitModel() + 1402\n  [bt] (3) 4   libxgboost.dylib                    0x000000012ec882fe XGBoosterUpdateOneIter + 158\n  [bt] (4) 5   libffi.6.dylib                      0x0000000106253884 ffi_call_unix64 + 76\n  [bt] (5) 6   ???                                 0x00007ffeeb53d7a0 0x0 + 140732846561184\n\n"
     ]
    }
   ],
   "source": [
    "XGBoost = XGBRegressor(max_depth=20, )\n",
    "XGBoost.fit(X_train, y_train,)\n",
    "\n",
    "y_pred = XGBoost.predict(X_test)\n",
    "XGBoost_mse = mean_squared_error(y_test, y_pred)\n",
    "print(np.sqrt(XGBoost_mse))"
   ]
  },
  {
   "cell_type": "code",
   "execution_count": null,
   "metadata": {},
   "outputs": [],
   "source": []
  }
 ],
 "metadata": {
  "kernelspec": {
   "display_name": "Python 3",
   "language": "python",
   "name": "python3"
  },
  "language_info": {
   "codemirror_mode": {
    "name": "ipython",
    "version": 3
   },
   "file_extension": ".py",
   "mimetype": "text/x-python",
   "name": "python",
   "nbconvert_exporter": "python",
   "pygments_lexer": "ipython3",
   "version": "3.7.4"
  }
 },
 "nbformat": 4,
 "nbformat_minor": 4
}
